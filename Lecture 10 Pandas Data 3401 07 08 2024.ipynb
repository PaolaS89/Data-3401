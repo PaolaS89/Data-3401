{
 "cells": [
  {
   "cell_type": "code",
   "execution_count": 1,
   "id": "f9228296",
   "metadata": {},
   "outputs": [],
   "source": [
    "import pandas as pd"
   ]
  },
  {
   "cell_type": "code",
   "execution_count": 2,
   "id": "d934d847",
   "metadata": {},
   "outputs": [],
   "source": [
    "df_ufo = pd.read_csv('http://bit.ly/uforeports')"
   ]
  },
  {
   "cell_type": "code",
   "execution_count": 3,
   "id": "af303fef",
   "metadata": {},
   "outputs": [],
   "source": [
    "def clean_column_names(df):\n",
    "    df.columns = [c.lower() for c in df.columns]\n",
    "    df.columns = [c.replace(' ', '_') for c in df.columns]\n",
    "    return None"
   ]
  },
  {
   "cell_type": "code",
   "execution_count": 4,
   "id": "0750aa5a",
   "metadata": {},
   "outputs": [
    {
     "data": {
      "text/html": [
       "<div>\n",
       "<style scoped>\n",
       "    .dataframe tbody tr th:only-of-type {\n",
       "        vertical-align: middle;\n",
       "    }\n",
       "\n",
       "    .dataframe tbody tr th {\n",
       "        vertical-align: top;\n",
       "    }\n",
       "\n",
       "    .dataframe thead th {\n",
       "        text-align: right;\n",
       "    }\n",
       "</style>\n",
       "<table border=\"1\" class=\"dataframe\">\n",
       "  <thead>\n",
       "    <tr style=\"text-align: right;\">\n",
       "      <th></th>\n",
       "      <th>City</th>\n",
       "      <th>Colors Reported</th>\n",
       "      <th>Shape Reported</th>\n",
       "      <th>State</th>\n",
       "      <th>Time</th>\n",
       "    </tr>\n",
       "  </thead>\n",
       "  <tbody>\n",
       "    <tr>\n",
       "      <th>0</th>\n",
       "      <td>Ithaca</td>\n",
       "      <td>NaN</td>\n",
       "      <td>TRIANGLE</td>\n",
       "      <td>NY</td>\n",
       "      <td>6/1/1930 22:00</td>\n",
       "    </tr>\n",
       "    <tr>\n",
       "      <th>1</th>\n",
       "      <td>Willingboro</td>\n",
       "      <td>NaN</td>\n",
       "      <td>OTHER</td>\n",
       "      <td>NJ</td>\n",
       "      <td>6/30/1930 20:00</td>\n",
       "    </tr>\n",
       "    <tr>\n",
       "      <th>2</th>\n",
       "      <td>Holyoke</td>\n",
       "      <td>NaN</td>\n",
       "      <td>OVAL</td>\n",
       "      <td>CO</td>\n",
       "      <td>2/15/1931 14:00</td>\n",
       "    </tr>\n",
       "    <tr>\n",
       "      <th>3</th>\n",
       "      <td>Abilene</td>\n",
       "      <td>NaN</td>\n",
       "      <td>DISK</td>\n",
       "      <td>KS</td>\n",
       "      <td>6/1/1931 13:00</td>\n",
       "    </tr>\n",
       "    <tr>\n",
       "      <th>4</th>\n",
       "      <td>New York Worlds Fair</td>\n",
       "      <td>NaN</td>\n",
       "      <td>LIGHT</td>\n",
       "      <td>NY</td>\n",
       "      <td>4/18/1933 19:00</td>\n",
       "    </tr>\n",
       "  </tbody>\n",
       "</table>\n",
       "</div>"
      ],
      "text/plain": [
       "                   City Colors Reported Shape Reported State             Time\n",
       "0                Ithaca             NaN       TRIANGLE    NY   6/1/1930 22:00\n",
       "1           Willingboro             NaN          OTHER    NJ  6/30/1930 20:00\n",
       "2               Holyoke             NaN           OVAL    CO  2/15/1931 14:00\n",
       "3               Abilene             NaN           DISK    KS   6/1/1931 13:00\n",
       "4  New York Worlds Fair             NaN          LIGHT    NY  4/18/1933 19:00"
      ]
     },
     "execution_count": 4,
     "metadata": {},
     "output_type": "execute_result"
    }
   ],
   "source": [
    "df_ufo.head()"
   ]
  },
  {
   "cell_type": "code",
   "execution_count": 5,
   "id": "baa12df6",
   "metadata": {},
   "outputs": [],
   "source": [
    "clean_column_names(df_ufo)"
   ]
  },
  {
   "cell_type": "code",
   "execution_count": 6,
   "id": "1c480ece",
   "metadata": {},
   "outputs": [
    {
     "data": {
      "text/html": [
       "<div>\n",
       "<style scoped>\n",
       "    .dataframe tbody tr th:only-of-type {\n",
       "        vertical-align: middle;\n",
       "    }\n",
       "\n",
       "    .dataframe tbody tr th {\n",
       "        vertical-align: top;\n",
       "    }\n",
       "\n",
       "    .dataframe thead th {\n",
       "        text-align: right;\n",
       "    }\n",
       "</style>\n",
       "<table border=\"1\" class=\"dataframe\">\n",
       "  <thead>\n",
       "    <tr style=\"text-align: right;\">\n",
       "      <th></th>\n",
       "      <th>city</th>\n",
       "      <th>colors_reported</th>\n",
       "      <th>shape_reported</th>\n",
       "      <th>state</th>\n",
       "      <th>time</th>\n",
       "    </tr>\n",
       "  </thead>\n",
       "  <tbody>\n",
       "    <tr>\n",
       "      <th>0</th>\n",
       "      <td>Ithaca</td>\n",
       "      <td>NaN</td>\n",
       "      <td>TRIANGLE</td>\n",
       "      <td>NY</td>\n",
       "      <td>6/1/1930 22:00</td>\n",
       "    </tr>\n",
       "    <tr>\n",
       "      <th>1</th>\n",
       "      <td>Willingboro</td>\n",
       "      <td>NaN</td>\n",
       "      <td>OTHER</td>\n",
       "      <td>NJ</td>\n",
       "      <td>6/30/1930 20:00</td>\n",
       "    </tr>\n",
       "    <tr>\n",
       "      <th>2</th>\n",
       "      <td>Holyoke</td>\n",
       "      <td>NaN</td>\n",
       "      <td>OVAL</td>\n",
       "      <td>CO</td>\n",
       "      <td>2/15/1931 14:00</td>\n",
       "    </tr>\n",
       "    <tr>\n",
       "      <th>3</th>\n",
       "      <td>Abilene</td>\n",
       "      <td>NaN</td>\n",
       "      <td>DISK</td>\n",
       "      <td>KS</td>\n",
       "      <td>6/1/1931 13:00</td>\n",
       "    </tr>\n",
       "    <tr>\n",
       "      <th>4</th>\n",
       "      <td>New York Worlds Fair</td>\n",
       "      <td>NaN</td>\n",
       "      <td>LIGHT</td>\n",
       "      <td>NY</td>\n",
       "      <td>4/18/1933 19:00</td>\n",
       "    </tr>\n",
       "  </tbody>\n",
       "</table>\n",
       "</div>"
      ],
      "text/plain": [
       "                   city colors_reported shape_reported state             time\n",
       "0                Ithaca             NaN       TRIANGLE    NY   6/1/1930 22:00\n",
       "1           Willingboro             NaN          OTHER    NJ  6/30/1930 20:00\n",
       "2               Holyoke             NaN           OVAL    CO  2/15/1931 14:00\n",
       "3               Abilene             NaN           DISK    KS   6/1/1931 13:00\n",
       "4  New York Worlds Fair             NaN          LIGHT    NY  4/18/1933 19:00"
      ]
     },
     "execution_count": 6,
     "metadata": {},
     "output_type": "execute_result"
    }
   ],
   "source": [
    "df_ufo.head()"
   ]
  },
  {
   "cell_type": "code",
   "execution_count": 7,
   "id": "ebb81639",
   "metadata": {},
   "outputs": [],
   "source": [
    "df_listings = pd.read_csv('listings.csv')"
   ]
  },
  {
   "cell_type": "code",
   "execution_count": 8,
   "id": "5f3abfcb",
   "metadata": {},
   "outputs": [
    {
     "data": {
      "text/html": [
       "<div>\n",
       "<style scoped>\n",
       "    .dataframe tbody tr th:only-of-type {\n",
       "        vertical-align: middle;\n",
       "    }\n",
       "\n",
       "    .dataframe tbody tr th {\n",
       "        vertical-align: top;\n",
       "    }\n",
       "\n",
       "    .dataframe thead th {\n",
       "        text-align: right;\n",
       "    }\n",
       "</style>\n",
       "<table border=\"1\" class=\"dataframe\">\n",
       "  <thead>\n",
       "    <tr style=\"text-align: right;\">\n",
       "      <th></th>\n",
       "      <th>id</th>\n",
       "      <th>name</th>\n",
       "      <th>host_id</th>\n",
       "      <th>host_name</th>\n",
       "      <th>neighbourhood_group</th>\n",
       "      <th>neighbourhood</th>\n",
       "      <th>latitude</th>\n",
       "      <th>longitude</th>\n",
       "      <th>room_type</th>\n",
       "      <th>price</th>\n",
       "      <th>minimum_nights</th>\n",
       "      <th>number_of_reviews</th>\n",
       "      <th>last_review</th>\n",
       "      <th>reviews_per_month</th>\n",
       "      <th>calculated_host_listings_count</th>\n",
       "      <th>availability_365</th>\n",
       "      <th>number_of_reviews_ltm</th>\n",
       "      <th>license</th>\n",
       "    </tr>\n",
       "  </thead>\n",
       "  <tbody>\n",
       "    <tr>\n",
       "      <th>0</th>\n",
       "      <td>5456</td>\n",
       "      <td>Walk to 6th, Rainey St and Convention Ctr</td>\n",
       "      <td>8028</td>\n",
       "      <td>Sylvia</td>\n",
       "      <td>NaN</td>\n",
       "      <td>78702</td>\n",
       "      <td>30.26057</td>\n",
       "      <td>-97.73441</td>\n",
       "      <td>Entire home/apt</td>\n",
       "      <td>107.0</td>\n",
       "      <td>2</td>\n",
       "      <td>671</td>\n",
       "      <td>2024-03-11</td>\n",
       "      <td>3.66</td>\n",
       "      <td>1</td>\n",
       "      <td>310</td>\n",
       "      <td>39</td>\n",
       "      <td>NaN</td>\n",
       "    </tr>\n",
       "    <tr>\n",
       "      <th>1</th>\n",
       "      <td>5769</td>\n",
       "      <td>NW Austin Room</td>\n",
       "      <td>8186</td>\n",
       "      <td>Elizabeth</td>\n",
       "      <td>NaN</td>\n",
       "      <td>78729</td>\n",
       "      <td>30.45697</td>\n",
       "      <td>-97.78422</td>\n",
       "      <td>Private room</td>\n",
       "      <td>45.0</td>\n",
       "      <td>1</td>\n",
       "      <td>295</td>\n",
       "      <td>2024-01-27</td>\n",
       "      <td>1.74</td>\n",
       "      <td>1</td>\n",
       "      <td>2</td>\n",
       "      <td>20</td>\n",
       "      <td>NaN</td>\n",
       "    </tr>\n",
       "    <tr>\n",
       "      <th>2</th>\n",
       "      <td>6413</td>\n",
       "      <td>Gem of a Studio near Downtown</td>\n",
       "      <td>13879</td>\n",
       "      <td>Todd</td>\n",
       "      <td>NaN</td>\n",
       "      <td>78704</td>\n",
       "      <td>30.24885</td>\n",
       "      <td>-97.73587</td>\n",
       "      <td>Entire home/apt</td>\n",
       "      <td>NaN</td>\n",
       "      <td>30</td>\n",
       "      <td>120</td>\n",
       "      <td>2022-10-17</td>\n",
       "      <td>0.69</td>\n",
       "      <td>1</td>\n",
       "      <td>0</td>\n",
       "      <td>0</td>\n",
       "      <td>NaN</td>\n",
       "    </tr>\n",
       "    <tr>\n",
       "      <th>3</th>\n",
       "      <td>6448</td>\n",
       "      <td>Secluded Studio @ Zilker - King Bed, Bright &amp; ...</td>\n",
       "      <td>14156</td>\n",
       "      <td>Amy</td>\n",
       "      <td>NaN</td>\n",
       "      <td>78704</td>\n",
       "      <td>30.26034</td>\n",
       "      <td>-97.76487</td>\n",
       "      <td>Entire home/apt</td>\n",
       "      <td>159.0</td>\n",
       "      <td>3</td>\n",
       "      <td>314</td>\n",
       "      <td>2024-03-13</td>\n",
       "      <td>2.06</td>\n",
       "      <td>1</td>\n",
       "      <td>190</td>\n",
       "      <td>22</td>\n",
       "      <td>NaN</td>\n",
       "    </tr>\n",
       "    <tr>\n",
       "      <th>4</th>\n",
       "      <td>8502</td>\n",
       "      <td>Woodland Studio Lodging</td>\n",
       "      <td>25298</td>\n",
       "      <td>Karen</td>\n",
       "      <td>NaN</td>\n",
       "      <td>78741</td>\n",
       "      <td>30.23466</td>\n",
       "      <td>-97.73682</td>\n",
       "      <td>Entire home/apt</td>\n",
       "      <td>48.0</td>\n",
       "      <td>4</td>\n",
       "      <td>51</td>\n",
       "      <td>2023-05-16</td>\n",
       "      <td>0.30</td>\n",
       "      <td>1</td>\n",
       "      <td>163</td>\n",
       "      <td>3</td>\n",
       "      <td>NaN</td>\n",
       "    </tr>\n",
       "  </tbody>\n",
       "</table>\n",
       "</div>"
      ],
      "text/plain": [
       "     id                                               name  host_id  \\\n",
       "0  5456          Walk to 6th, Rainey St and Convention Ctr     8028   \n",
       "1  5769                                     NW Austin Room     8186   \n",
       "2  6413                      Gem of a Studio near Downtown    13879   \n",
       "3  6448  Secluded Studio @ Zilker - King Bed, Bright & ...    14156   \n",
       "4  8502                            Woodland Studio Lodging    25298   \n",
       "\n",
       "   host_name  neighbourhood_group  neighbourhood  latitude  longitude  \\\n",
       "0     Sylvia                  NaN          78702  30.26057  -97.73441   \n",
       "1  Elizabeth                  NaN          78729  30.45697  -97.78422   \n",
       "2       Todd                  NaN          78704  30.24885  -97.73587   \n",
       "3        Amy                  NaN          78704  30.26034  -97.76487   \n",
       "4      Karen                  NaN          78741  30.23466  -97.73682   \n",
       "\n",
       "         room_type  price  minimum_nights  number_of_reviews last_review  \\\n",
       "0  Entire home/apt  107.0               2                671  2024-03-11   \n",
       "1     Private room   45.0               1                295  2024-01-27   \n",
       "2  Entire home/apt    NaN              30                120  2022-10-17   \n",
       "3  Entire home/apt  159.0               3                314  2024-03-13   \n",
       "4  Entire home/apt   48.0               4                 51  2023-05-16   \n",
       "\n",
       "   reviews_per_month  calculated_host_listings_count  availability_365  \\\n",
       "0               3.66                               1               310   \n",
       "1               1.74                               1                 2   \n",
       "2               0.69                               1                 0   \n",
       "3               2.06                               1               190   \n",
       "4               0.30                               1               163   \n",
       "\n",
       "   number_of_reviews_ltm  license  \n",
       "0                     39      NaN  \n",
       "1                     20      NaN  \n",
       "2                      0      NaN  \n",
       "3                     22      NaN  \n",
       "4                      3      NaN  "
      ]
     },
     "execution_count": 8,
     "metadata": {},
     "output_type": "execute_result"
    }
   ],
   "source": [
    "df_listings.head()"
   ]
  },
  {
   "cell_type": "code",
   "execution_count": 10,
   "id": "a6b50037",
   "metadata": {},
   "outputs": [
    {
     "data": {
      "text/plain": [
       "10654    20000.0\n",
       "7563     20000.0\n",
       "10653    20000.0\n",
       "10648    20000.0\n",
       "14774    15429.0\n",
       "7619     10450.0\n",
       "8151     10309.0\n",
       "8401     10000.0\n",
       "8067     10000.0\n",
       "8233     10000.0\n",
       "Name: price, dtype: float64"
      ]
     },
     "execution_count": 10,
     "metadata": {},
     "output_type": "execute_result"
    }
   ],
   "source": [
    "# Sort the dataframe based on price\n",
    "\n",
    "df_listings['price'].sort_values(ascending=False).head(10)"
   ]
  },
  {
   "cell_type": "code",
   "execution_count": 11,
   "id": "c8835443",
   "metadata": {},
   "outputs": [
    {
     "data": {
      "text/html": [
       "<div>\n",
       "<style scoped>\n",
       "    .dataframe tbody tr th:only-of-type {\n",
       "        vertical-align: middle;\n",
       "    }\n",
       "\n",
       "    .dataframe tbody tr th {\n",
       "        vertical-align: top;\n",
       "    }\n",
       "\n",
       "    .dataframe thead th {\n",
       "        text-align: right;\n",
       "    }\n",
       "</style>\n",
       "<table border=\"1\" class=\"dataframe\">\n",
       "  <thead>\n",
       "    <tr style=\"text-align: right;\">\n",
       "      <th></th>\n",
       "      <th>id</th>\n",
       "      <th>name</th>\n",
       "      <th>host_id</th>\n",
       "      <th>host_name</th>\n",
       "      <th>neighbourhood_group</th>\n",
       "      <th>neighbourhood</th>\n",
       "      <th>latitude</th>\n",
       "      <th>longitude</th>\n",
       "      <th>room_type</th>\n",
       "      <th>price</th>\n",
       "      <th>minimum_nights</th>\n",
       "      <th>number_of_reviews</th>\n",
       "      <th>last_review</th>\n",
       "      <th>reviews_per_month</th>\n",
       "      <th>calculated_host_listings_count</th>\n",
       "      <th>availability_365</th>\n",
       "      <th>number_of_reviews_ltm</th>\n",
       "      <th>license</th>\n",
       "    </tr>\n",
       "  </thead>\n",
       "  <tbody>\n",
       "    <tr>\n",
       "      <th>13163</th>\n",
       "      <td>979771283033082004</td>\n",
       "      <td>Crestview Gem w High Speed Wi-Fi</td>\n",
       "      <td>457325487</td>\n",
       "      <td>Ryan</td>\n",
       "      <td>NaN</td>\n",
       "      <td>78757</td>\n",
       "      <td>30.346889</td>\n",
       "      <td>-97.715564</td>\n",
       "      <td>Entire home/apt</td>\n",
       "      <td>7.0</td>\n",
       "      <td>21</td>\n",
       "      <td>1</td>\n",
       "      <td>2024-01-01</td>\n",
       "      <td>0.36</td>\n",
       "      <td>4</td>\n",
       "      <td>255</td>\n",
       "      <td>1</td>\n",
       "      <td>NaN</td>\n",
       "    </tr>\n",
       "    <tr>\n",
       "      <th>12712</th>\n",
       "      <td>952372919060185144</td>\n",
       "      <td>Crestview Gem w High Speed Wi-Fi</td>\n",
       "      <td>457325487</td>\n",
       "      <td>Ryan</td>\n",
       "      <td>NaN</td>\n",
       "      <td>78757</td>\n",
       "      <td>30.346070</td>\n",
       "      <td>-97.715150</td>\n",
       "      <td>Entire home/apt</td>\n",
       "      <td>8.0</td>\n",
       "      <td>28</td>\n",
       "      <td>1</td>\n",
       "      <td>2023-12-01</td>\n",
       "      <td>0.26</td>\n",
       "      <td>4</td>\n",
       "      <td>255</td>\n",
       "      <td>1</td>\n",
       "      <td>NaN</td>\n",
       "    </tr>\n",
       "    <tr>\n",
       "      <th>8343</th>\n",
       "      <td>599078955769211719</td>\n",
       "      <td>Cheerful Home in The Hills</td>\n",
       "      <td>1209244</td>\n",
       "      <td>Carlos</td>\n",
       "      <td>NaN</td>\n",
       "      <td>78723</td>\n",
       "      <td>30.308050</td>\n",
       "      <td>-97.677430</td>\n",
       "      <td>Entire home/apt</td>\n",
       "      <td>10.0</td>\n",
       "      <td>4</td>\n",
       "      <td>24</td>\n",
       "      <td>2023-12-12</td>\n",
       "      <td>1.02</td>\n",
       "      <td>1</td>\n",
       "      <td>52</td>\n",
       "      <td>11</td>\n",
       "      <td>NaN</td>\n",
       "    </tr>\n",
       "    <tr>\n",
       "      <th>8545</th>\n",
       "      <td>620816808178274196</td>\n",
       "      <td>1br Condo in the heart of Austin, Ideal to WFH</td>\n",
       "      <td>457325487</td>\n",
       "      <td>Ryan</td>\n",
       "      <td>NaN</td>\n",
       "      <td>78704</td>\n",
       "      <td>30.254620</td>\n",
       "      <td>-97.752550</td>\n",
       "      <td>Entire home/apt</td>\n",
       "      <td>18.0</td>\n",
       "      <td>7</td>\n",
       "      <td>7</td>\n",
       "      <td>2023-11-08</td>\n",
       "      <td>0.35</td>\n",
       "      <td>4</td>\n",
       "      <td>52</td>\n",
       "      <td>1</td>\n",
       "      <td>NaN</td>\n",
       "    </tr>\n",
       "    <tr>\n",
       "      <th>11741</th>\n",
       "      <td>874797835227035346</td>\n",
       "      <td>N.Lamar: Economic Female Spot 3</td>\n",
       "      <td>8167447</td>\n",
       "      <td>Martin</td>\n",
       "      <td>NaN</td>\n",
       "      <td>78756</td>\n",
       "      <td>30.318464</td>\n",
       "      <td>-97.731080</td>\n",
       "      <td>Shared room</td>\n",
       "      <td>19.0</td>\n",
       "      <td>30</td>\n",
       "      <td>0</td>\n",
       "      <td>NaN</td>\n",
       "      <td>NaN</td>\n",
       "      <td>93</td>\n",
       "      <td>309</td>\n",
       "      <td>0</td>\n",
       "      <td>NaN</td>\n",
       "    </tr>\n",
       "  </tbody>\n",
       "</table>\n",
       "</div>"
      ],
      "text/plain": [
       "                       id                                            name  \\\n",
       "13163  979771283033082004                Crestview Gem w High Speed Wi-Fi   \n",
       "12712  952372919060185144                Crestview Gem w High Speed Wi-Fi   \n",
       "8343   599078955769211719                      Cheerful Home in The Hills   \n",
       "8545   620816808178274196  1br Condo in the heart of Austin, Ideal to WFH   \n",
       "11741  874797835227035346                 N.Lamar: Economic Female Spot 3   \n",
       "\n",
       "         host_id host_name  neighbourhood_group  neighbourhood   latitude  \\\n",
       "13163  457325487      Ryan                  NaN          78757  30.346889   \n",
       "12712  457325487      Ryan                  NaN          78757  30.346070   \n",
       "8343     1209244    Carlos                  NaN          78723  30.308050   \n",
       "8545   457325487      Ryan                  NaN          78704  30.254620   \n",
       "11741    8167447    Martin                  NaN          78756  30.318464   \n",
       "\n",
       "       longitude        room_type  price  minimum_nights  number_of_reviews  \\\n",
       "13163 -97.715564  Entire home/apt    7.0              21                  1   \n",
       "12712 -97.715150  Entire home/apt    8.0              28                  1   \n",
       "8343  -97.677430  Entire home/apt   10.0               4                 24   \n",
       "8545  -97.752550  Entire home/apt   18.0               7                  7   \n",
       "11741 -97.731080      Shared room   19.0              30                  0   \n",
       "\n",
       "      last_review  reviews_per_month  calculated_host_listings_count  \\\n",
       "13163  2024-01-01               0.36                               4   \n",
       "12712  2023-12-01               0.26                               4   \n",
       "8343   2023-12-12               1.02                               1   \n",
       "8545   2023-11-08               0.35                               4   \n",
       "11741         NaN                NaN                              93   \n",
       "\n",
       "       availability_365  number_of_reviews_ltm  license  \n",
       "13163               255                      1      NaN  \n",
       "12712               255                      1      NaN  \n",
       "8343                 52                     11      NaN  \n",
       "8545                 52                      1      NaN  \n",
       "11741               309                      0      NaN  "
      ]
     },
     "execution_count": 11,
     "metadata": {},
     "output_type": "execute_result"
    }
   ],
   "source": [
    "df_listings.sort_values('price').head()"
   ]
  },
  {
   "cell_type": "code",
   "execution_count": 12,
   "id": "4cfec8ef",
   "metadata": {},
   "outputs": [
    {
     "data": {
      "text/html": [
       "<div>\n",
       "<style scoped>\n",
       "    .dataframe tbody tr th:only-of-type {\n",
       "        vertical-align: middle;\n",
       "    }\n",
       "\n",
       "    .dataframe tbody tr th {\n",
       "        vertical-align: top;\n",
       "    }\n",
       "\n",
       "    .dataframe thead th {\n",
       "        text-align: right;\n",
       "    }\n",
       "</style>\n",
       "<table border=\"1\" class=\"dataframe\">\n",
       "  <thead>\n",
       "    <tr style=\"text-align: right;\">\n",
       "      <th></th>\n",
       "      <th>id</th>\n",
       "      <th>name</th>\n",
       "      <th>host_id</th>\n",
       "      <th>host_name</th>\n",
       "      <th>neighbourhood_group</th>\n",
       "      <th>neighbourhood</th>\n",
       "      <th>latitude</th>\n",
       "      <th>longitude</th>\n",
       "      <th>room_type</th>\n",
       "      <th>price</th>\n",
       "      <th>minimum_nights</th>\n",
       "      <th>number_of_reviews</th>\n",
       "      <th>last_review</th>\n",
       "      <th>reviews_per_month</th>\n",
       "      <th>calculated_host_listings_count</th>\n",
       "      <th>availability_365</th>\n",
       "      <th>number_of_reviews_ltm</th>\n",
       "      <th>license</th>\n",
       "    </tr>\n",
       "  </thead>\n",
       "  <tbody>\n",
       "    <tr>\n",
       "      <th>13163</th>\n",
       "      <td>979771283033082004</td>\n",
       "      <td>Crestview Gem w High Speed Wi-Fi</td>\n",
       "      <td>457325487</td>\n",
       "      <td>Ryan</td>\n",
       "      <td>NaN</td>\n",
       "      <td>78757</td>\n",
       "      <td>30.346889</td>\n",
       "      <td>-97.715564</td>\n",
       "      <td>Entire home/apt</td>\n",
       "      <td>7.0</td>\n",
       "      <td>21</td>\n",
       "      <td>1</td>\n",
       "      <td>2024-01-01</td>\n",
       "      <td>0.36</td>\n",
       "      <td>4</td>\n",
       "      <td>255</td>\n",
       "      <td>1</td>\n",
       "      <td>NaN</td>\n",
       "    </tr>\n",
       "    <tr>\n",
       "      <th>12712</th>\n",
       "      <td>952372919060185144</td>\n",
       "      <td>Crestview Gem w High Speed Wi-Fi</td>\n",
       "      <td>457325487</td>\n",
       "      <td>Ryan</td>\n",
       "      <td>NaN</td>\n",
       "      <td>78757</td>\n",
       "      <td>30.346070</td>\n",
       "      <td>-97.715150</td>\n",
       "      <td>Entire home/apt</td>\n",
       "      <td>8.0</td>\n",
       "      <td>28</td>\n",
       "      <td>1</td>\n",
       "      <td>2023-12-01</td>\n",
       "      <td>0.26</td>\n",
       "      <td>4</td>\n",
       "      <td>255</td>\n",
       "      <td>1</td>\n",
       "      <td>NaN</td>\n",
       "    </tr>\n",
       "    <tr>\n",
       "      <th>8343</th>\n",
       "      <td>599078955769211719</td>\n",
       "      <td>Cheerful Home in The Hills</td>\n",
       "      <td>1209244</td>\n",
       "      <td>Carlos</td>\n",
       "      <td>NaN</td>\n",
       "      <td>78723</td>\n",
       "      <td>30.308050</td>\n",
       "      <td>-97.677430</td>\n",
       "      <td>Entire home/apt</td>\n",
       "      <td>10.0</td>\n",
       "      <td>4</td>\n",
       "      <td>24</td>\n",
       "      <td>2023-12-12</td>\n",
       "      <td>1.02</td>\n",
       "      <td>1</td>\n",
       "      <td>52</td>\n",
       "      <td>11</td>\n",
       "      <td>NaN</td>\n",
       "    </tr>\n",
       "    <tr>\n",
       "      <th>8545</th>\n",
       "      <td>620816808178274196</td>\n",
       "      <td>1br Condo in the heart of Austin, Ideal to WFH</td>\n",
       "      <td>457325487</td>\n",
       "      <td>Ryan</td>\n",
       "      <td>NaN</td>\n",
       "      <td>78704</td>\n",
       "      <td>30.254620</td>\n",
       "      <td>-97.752550</td>\n",
       "      <td>Entire home/apt</td>\n",
       "      <td>18.0</td>\n",
       "      <td>7</td>\n",
       "      <td>7</td>\n",
       "      <td>2023-11-08</td>\n",
       "      <td>0.35</td>\n",
       "      <td>4</td>\n",
       "      <td>52</td>\n",
       "      <td>1</td>\n",
       "      <td>NaN</td>\n",
       "    </tr>\n",
       "    <tr>\n",
       "      <th>3785</th>\n",
       "      <td>27021568</td>\n",
       "      <td>N.Lamar: Economic Spot in Great Community 5</td>\n",
       "      <td>8167447</td>\n",
       "      <td>Martin</td>\n",
       "      <td>NaN</td>\n",
       "      <td>78751</td>\n",
       "      <td>30.320330</td>\n",
       "      <td>-97.729000</td>\n",
       "      <td>Shared room</td>\n",
       "      <td>19.0</td>\n",
       "      <td>30</td>\n",
       "      <td>5</td>\n",
       "      <td>2022-04-15</td>\n",
       "      <td>0.07</td>\n",
       "      <td>93</td>\n",
       "      <td>350</td>\n",
       "      <td>0</td>\n",
       "      <td>NaN</td>\n",
       "    </tr>\n",
       "  </tbody>\n",
       "</table>\n",
       "</div>"
      ],
      "text/plain": [
       "                       id                                            name  \\\n",
       "13163  979771283033082004                Crestview Gem w High Speed Wi-Fi   \n",
       "12712  952372919060185144                Crestview Gem w High Speed Wi-Fi   \n",
       "8343   599078955769211719                      Cheerful Home in The Hills   \n",
       "8545   620816808178274196  1br Condo in the heart of Austin, Ideal to WFH   \n",
       "3785             27021568     N.Lamar: Economic Spot in Great Community 5   \n",
       "\n",
       "         host_id host_name  neighbourhood_group  neighbourhood   latitude  \\\n",
       "13163  457325487      Ryan                  NaN          78757  30.346889   \n",
       "12712  457325487      Ryan                  NaN          78757  30.346070   \n",
       "8343     1209244    Carlos                  NaN          78723  30.308050   \n",
       "8545   457325487      Ryan                  NaN          78704  30.254620   \n",
       "3785     8167447    Martin                  NaN          78751  30.320330   \n",
       "\n",
       "       longitude        room_type  price  minimum_nights  number_of_reviews  \\\n",
       "13163 -97.715564  Entire home/apt    7.0              21                  1   \n",
       "12712 -97.715150  Entire home/apt    8.0              28                  1   \n",
       "8343  -97.677430  Entire home/apt   10.0               4                 24   \n",
       "8545  -97.752550  Entire home/apt   18.0               7                  7   \n",
       "3785  -97.729000      Shared room   19.0              30                  5   \n",
       "\n",
       "      last_review  reviews_per_month  calculated_host_listings_count  \\\n",
       "13163  2024-01-01               0.36                               4   \n",
       "12712  2023-12-01               0.26                               4   \n",
       "8343   2023-12-12               1.02                               1   \n",
       "8545   2023-11-08               0.35                               4   \n",
       "3785   2022-04-15               0.07                              93   \n",
       "\n",
       "       availability_365  number_of_reviews_ltm  license  \n",
       "13163               255                      1      NaN  \n",
       "12712               255                      1      NaN  \n",
       "8343                 52                     11      NaN  \n",
       "8545                 52                      1      NaN  \n",
       "3785                350                      0      NaN  "
      ]
     },
     "execution_count": 12,
     "metadata": {},
     "output_type": "execute_result"
    }
   ],
   "source": [
    "# sort the dataframe first by 'price' then by 'reviews_per_month'\n",
    "df_listings.sort_values(['price','reviews_per_month']).head()"
   ]
  },
  {
   "cell_type": "markdown",
   "id": "69b99860",
   "metadata": {},
   "source": [
    "### Filtering the Dataset"
   ]
  },
  {
   "cell_type": "code",
   "execution_count": 13,
   "id": "853c8953",
   "metadata": {},
   "outputs": [
    {
     "data": {
      "text/plain": [
       "(15421, 18)"
      ]
     },
     "execution_count": 13,
     "metadata": {},
     "output_type": "execute_result"
    }
   ],
   "source": [
    "df_listings.shape"
   ]
  },
  {
   "cell_type": "code",
   "execution_count": 14,
   "id": "96171ff4",
   "metadata": {},
   "outputs": [
    {
     "data": {
      "text/html": [
       "<div>\n",
       "<style scoped>\n",
       "    .dataframe tbody tr th:only-of-type {\n",
       "        vertical-align: middle;\n",
       "    }\n",
       "\n",
       "    .dataframe tbody tr th {\n",
       "        vertical-align: top;\n",
       "    }\n",
       "\n",
       "    .dataframe thead th {\n",
       "        text-align: right;\n",
       "    }\n",
       "</style>\n",
       "<table border=\"1\" class=\"dataframe\">\n",
       "  <thead>\n",
       "    <tr style=\"text-align: right;\">\n",
       "      <th></th>\n",
       "      <th>id</th>\n",
       "      <th>host_id</th>\n",
       "      <th>neighbourhood_group</th>\n",
       "      <th>neighbourhood</th>\n",
       "      <th>latitude</th>\n",
       "      <th>longitude</th>\n",
       "      <th>price</th>\n",
       "      <th>minimum_nights</th>\n",
       "      <th>number_of_reviews</th>\n",
       "      <th>reviews_per_month</th>\n",
       "      <th>calculated_host_listings_count</th>\n",
       "      <th>availability_365</th>\n",
       "      <th>number_of_reviews_ltm</th>\n",
       "      <th>license</th>\n",
       "    </tr>\n",
       "  </thead>\n",
       "  <tbody>\n",
       "    <tr>\n",
       "      <th>count</th>\n",
       "      <td>1.542100e+04</td>\n",
       "      <td>1.542100e+04</td>\n",
       "      <td>0.0</td>\n",
       "      <td>15421.000000</td>\n",
       "      <td>15421.000000</td>\n",
       "      <td>15421.000000</td>\n",
       "      <td>11285.00000</td>\n",
       "      <td>15421.000000</td>\n",
       "      <td>15421.000000</td>\n",
       "      <td>12321.000000</td>\n",
       "      <td>15421.000000</td>\n",
       "      <td>15421.00000</td>\n",
       "      <td>15421.000000</td>\n",
       "      <td>0.0</td>\n",
       "    </tr>\n",
       "    <tr>\n",
       "      <th>mean</th>\n",
       "      <td>4.261120e+17</td>\n",
       "      <td>1.534456e+08</td>\n",
       "      <td>NaN</td>\n",
       "      <td>78724.650477</td>\n",
       "      <td>30.280212</td>\n",
       "      <td>-97.750044</td>\n",
       "      <td>292.90669</td>\n",
       "      <td>7.786071</td>\n",
       "      <td>39.068478</td>\n",
       "      <td>1.498901</td>\n",
       "      <td>11.883341</td>\n",
       "      <td>152.37637</td>\n",
       "      <td>10.115103</td>\n",
       "      <td>NaN</td>\n",
       "    </tr>\n",
       "    <tr>\n",
       "      <th>std</th>\n",
       "      <td>4.435448e+17</td>\n",
       "      <td>1.685043e+08</td>\n",
       "      <td>NaN</td>\n",
       "      <td>20.662689</td>\n",
       "      <td>0.064088</td>\n",
       "      <td>0.063563</td>\n",
       "      <td>780.54194</td>\n",
       "      <td>28.836883</td>\n",
       "      <td>82.019085</td>\n",
       "      <td>1.643735</td>\n",
       "      <td>26.125953</td>\n",
       "      <td>135.08023</td>\n",
       "      <td>16.701039</td>\n",
       "      <td>NaN</td>\n",
       "    </tr>\n",
       "    <tr>\n",
       "      <th>min</th>\n",
       "      <td>5.456000e+03</td>\n",
       "      <td>2.300000e+01</td>\n",
       "      <td>NaN</td>\n",
       "      <td>78701.000000</td>\n",
       "      <td>30.078440</td>\n",
       "      <td>-98.053350</td>\n",
       "      <td>7.00000</td>\n",
       "      <td>1.000000</td>\n",
       "      <td>0.000000</td>\n",
       "      <td>0.010000</td>\n",
       "      <td>1.000000</td>\n",
       "      <td>0.00000</td>\n",
       "      <td>0.000000</td>\n",
       "      <td>NaN</td>\n",
       "    </tr>\n",
       "    <tr>\n",
       "      <th>25%</th>\n",
       "      <td>2.777573e+07</td>\n",
       "      <td>1.757172e+07</td>\n",
       "      <td>NaN</td>\n",
       "      <td>78704.000000</td>\n",
       "      <td>30.241490</td>\n",
       "      <td>-97.768770</td>\n",
       "      <td>96.00000</td>\n",
       "      <td>1.000000</td>\n",
       "      <td>1.000000</td>\n",
       "      <td>0.270000</td>\n",
       "      <td>1.000000</td>\n",
       "      <td>0.00000</td>\n",
       "      <td>0.000000</td>\n",
       "      <td>NaN</td>\n",
       "    </tr>\n",
       "    <tr>\n",
       "      <th>50%</th>\n",
       "      <td>5.434258e+07</td>\n",
       "      <td>7.342485e+07</td>\n",
       "      <td>NaN</td>\n",
       "      <td>78723.000000</td>\n",
       "      <td>30.269022</td>\n",
       "      <td>-97.740600</td>\n",
       "      <td>152.00000</td>\n",
       "      <td>2.000000</td>\n",
       "      <td>9.000000</td>\n",
       "      <td>1.000000</td>\n",
       "      <td>2.000000</td>\n",
       "      <td>136.00000</td>\n",
       "      <td>2.000000</td>\n",
       "      <td>NaN</td>\n",
       "    </tr>\n",
       "    <tr>\n",
       "      <th>75%</th>\n",
       "      <td>8.630319e+17</td>\n",
       "      <td>2.635022e+08</td>\n",
       "      <td>NaN</td>\n",
       "      <td>78745.000000</td>\n",
       "      <td>30.307880</td>\n",
       "      <td>-97.716820</td>\n",
       "      <td>264.00000</td>\n",
       "      <td>3.000000</td>\n",
       "      <td>40.000000</td>\n",
       "      <td>2.170000</td>\n",
       "      <td>7.000000</td>\n",
       "      <td>287.00000</td>\n",
       "      <td>14.000000</td>\n",
       "      <td>NaN</td>\n",
       "    </tr>\n",
       "    <tr>\n",
       "      <th>max</th>\n",
       "      <td>1.118311e+18</td>\n",
       "      <td>5.674496e+08</td>\n",
       "      <td>NaN</td>\n",
       "      <td>78759.000000</td>\n",
       "      <td>30.518350</td>\n",
       "      <td>-97.559300</td>\n",
       "      <td>20000.00000</td>\n",
       "      <td>1124.000000</td>\n",
       "      <td>1193.000000</td>\n",
       "      <td>22.720000</td>\n",
       "      <td>141.000000</td>\n",
       "      <td>365.00000</td>\n",
       "      <td>260.000000</td>\n",
       "      <td>NaN</td>\n",
       "    </tr>\n",
       "  </tbody>\n",
       "</table>\n",
       "</div>"
      ],
      "text/plain": [
       "                 id       host_id  neighbourhood_group  neighbourhood  \\\n",
       "count  1.542100e+04  1.542100e+04                  0.0   15421.000000   \n",
       "mean   4.261120e+17  1.534456e+08                  NaN   78724.650477   \n",
       "std    4.435448e+17  1.685043e+08                  NaN      20.662689   \n",
       "min    5.456000e+03  2.300000e+01                  NaN   78701.000000   \n",
       "25%    2.777573e+07  1.757172e+07                  NaN   78704.000000   \n",
       "50%    5.434258e+07  7.342485e+07                  NaN   78723.000000   \n",
       "75%    8.630319e+17  2.635022e+08                  NaN   78745.000000   \n",
       "max    1.118311e+18  5.674496e+08                  NaN   78759.000000   \n",
       "\n",
       "           latitude     longitude        price  minimum_nights  \\\n",
       "count  15421.000000  15421.000000  11285.00000    15421.000000   \n",
       "mean      30.280212    -97.750044    292.90669        7.786071   \n",
       "std        0.064088      0.063563    780.54194       28.836883   \n",
       "min       30.078440    -98.053350      7.00000        1.000000   \n",
       "25%       30.241490    -97.768770     96.00000        1.000000   \n",
       "50%       30.269022    -97.740600    152.00000        2.000000   \n",
       "75%       30.307880    -97.716820    264.00000        3.000000   \n",
       "max       30.518350    -97.559300  20000.00000     1124.000000   \n",
       "\n",
       "       number_of_reviews  reviews_per_month  calculated_host_listings_count  \\\n",
       "count       15421.000000       12321.000000                    15421.000000   \n",
       "mean           39.068478           1.498901                       11.883341   \n",
       "std            82.019085           1.643735                       26.125953   \n",
       "min             0.000000           0.010000                        1.000000   \n",
       "25%             1.000000           0.270000                        1.000000   \n",
       "50%             9.000000           1.000000                        2.000000   \n",
       "75%            40.000000           2.170000                        7.000000   \n",
       "max          1193.000000          22.720000                      141.000000   \n",
       "\n",
       "       availability_365  number_of_reviews_ltm  license  \n",
       "count       15421.00000           15421.000000      0.0  \n",
       "mean          152.37637              10.115103      NaN  \n",
       "std           135.08023              16.701039      NaN  \n",
       "min             0.00000               0.000000      NaN  \n",
       "25%             0.00000               0.000000      NaN  \n",
       "50%           136.00000               2.000000      NaN  \n",
       "75%           287.00000              14.000000      NaN  \n",
       "max           365.00000             260.000000      NaN  "
      ]
     },
     "execution_count": 14,
     "metadata": {},
     "output_type": "execute_result"
    }
   ],
   "source": [
    "df_listings.describe()"
   ]
  },
  {
   "cell_type": "code",
   "execution_count": null,
   "id": "82b44d8f",
   "metadata": {},
   "outputs": [],
   "source": [
    "# Goal: Filter the df_listings rows to show only observations with a price lower than $96"
   ]
  },
  {
   "cell_type": "code",
   "execution_count": 17,
   "id": "5851a2f4",
   "metadata": {},
   "outputs": [
    {
     "data": {
      "text/plain": [
       "(2755, 18)"
      ]
     },
     "execution_count": 17,
     "metadata": {},
     "output_type": "execute_result"
    }
   ],
   "source": [
    "df_listings[df_listings['price'] < 96].shape"
   ]
  },
  {
   "cell_type": "code",
   "execution_count": null,
   "id": "73554d95",
   "metadata": {},
   "outputs": [],
   "source": [
    "# Apply Multiple filter\n",
    "\n",
    "# and : True only if both sides of the operator are True\n",
    "# or : True if either side of the operator is True"
   ]
  },
  {
   "cell_type": "code",
   "execution_count": 18,
   "id": "c3d8e1ad",
   "metadata": {},
   "outputs": [
    {
     "name": "stdout",
     "output_type": "stream",
     "text": [
      "True\n"
     ]
    }
   ],
   "source": [
    "print(True and True)"
   ]
  },
  {
   "cell_type": "code",
   "execution_count": 19,
   "id": "f6ff3afb",
   "metadata": {},
   "outputs": [
    {
     "name": "stdout",
     "output_type": "stream",
     "text": [
      "False\n"
     ]
    }
   ],
   "source": [
    "print(True and False)"
   ]
  },
  {
   "cell_type": "code",
   "execution_count": 20,
   "id": "52e4659e",
   "metadata": {},
   "outputs": [
    {
     "name": "stdout",
     "output_type": "stream",
     "text": [
      "True\n"
     ]
    }
   ],
   "source": [
    "print(True or False)"
   ]
  },
  {
   "cell_type": "code",
   "execution_count": null,
   "id": "4c597e55",
   "metadata": {},
   "outputs": [],
   "source": [
    "# For and operation, you can use &\n",
    "# for or operatoon, you can use |\n",
    "# add parantheses around each condition to specify evalution order"
   ]
  },
  {
   "cell_type": "code",
   "execution_count": null,
   "id": "2e8d26b3",
   "metadata": {},
   "outputs": [],
   "source": [
    "# Goal : Filter the df_listings rows to show only observations with a price lower than $96\n",
    "# and number_of_reviews are greater than 40"
   ]
  },
  {
   "cell_type": "code",
   "execution_count": 22,
   "id": "3287530d",
   "metadata": {},
   "outputs": [
    {
     "data": {
      "text/html": [
       "<div>\n",
       "<style scoped>\n",
       "    .dataframe tbody tr th:only-of-type {\n",
       "        vertical-align: middle;\n",
       "    }\n",
       "\n",
       "    .dataframe tbody tr th {\n",
       "        vertical-align: top;\n",
       "    }\n",
       "\n",
       "    .dataframe thead th {\n",
       "        text-align: right;\n",
       "    }\n",
       "</style>\n",
       "<table border=\"1\" class=\"dataframe\">\n",
       "  <thead>\n",
       "    <tr style=\"text-align: right;\">\n",
       "      <th></th>\n",
       "      <th>id</th>\n",
       "      <th>name</th>\n",
       "      <th>host_id</th>\n",
       "      <th>host_name</th>\n",
       "      <th>neighbourhood_group</th>\n",
       "      <th>neighbourhood</th>\n",
       "      <th>latitude</th>\n",
       "      <th>longitude</th>\n",
       "      <th>room_type</th>\n",
       "      <th>price</th>\n",
       "      <th>minimum_nights</th>\n",
       "      <th>number_of_reviews</th>\n",
       "      <th>last_review</th>\n",
       "      <th>reviews_per_month</th>\n",
       "      <th>calculated_host_listings_count</th>\n",
       "      <th>availability_365</th>\n",
       "      <th>number_of_reviews_ltm</th>\n",
       "      <th>license</th>\n",
       "    </tr>\n",
       "  </thead>\n",
       "  <tbody>\n",
       "    <tr>\n",
       "      <th>1</th>\n",
       "      <td>5769</td>\n",
       "      <td>NW Austin Room</td>\n",
       "      <td>8186</td>\n",
       "      <td>Elizabeth</td>\n",
       "      <td>NaN</td>\n",
       "      <td>78729</td>\n",
       "      <td>30.45697</td>\n",
       "      <td>-97.78422</td>\n",
       "      <td>Private room</td>\n",
       "      <td>45.0</td>\n",
       "      <td>1</td>\n",
       "      <td>295</td>\n",
       "      <td>2024-01-27</td>\n",
       "      <td>1.74</td>\n",
       "      <td>1</td>\n",
       "      <td>2</td>\n",
       "      <td>20</td>\n",
       "      <td>NaN</td>\n",
       "    </tr>\n",
       "    <tr>\n",
       "      <th>4</th>\n",
       "      <td>8502</td>\n",
       "      <td>Woodland Studio Lodging</td>\n",
       "      <td>25298</td>\n",
       "      <td>Karen</td>\n",
       "      <td>NaN</td>\n",
       "      <td>78741</td>\n",
       "      <td>30.23466</td>\n",
       "      <td>-97.73682</td>\n",
       "      <td>Entire home/apt</td>\n",
       "      <td>48.0</td>\n",
       "      <td>4</td>\n",
       "      <td>51</td>\n",
       "      <td>2023-05-16</td>\n",
       "      <td>0.30</td>\n",
       "      <td>1</td>\n",
       "      <td>163</td>\n",
       "      <td>3</td>\n",
       "      <td>NaN</td>\n",
       "    </tr>\n",
       "    <tr>\n",
       "      <th>6</th>\n",
       "      <td>22828</td>\n",
       "      <td>Garage Apartment central SE Austin</td>\n",
       "      <td>56488</td>\n",
       "      <td>David</td>\n",
       "      <td>NaN</td>\n",
       "      <td>78741</td>\n",
       "      <td>30.23614</td>\n",
       "      <td>-97.73225</td>\n",
       "      <td>Entire home/apt</td>\n",
       "      <td>55.0</td>\n",
       "      <td>30</td>\n",
       "      <td>51</td>\n",
       "      <td>2023-08-15</td>\n",
       "      <td>0.30</td>\n",
       "      <td>1</td>\n",
       "      <td>264</td>\n",
       "      <td>1</td>\n",
       "      <td>NaN</td>\n",
       "    </tr>\n",
       "    <tr>\n",
       "      <th>22</th>\n",
       "      <td>76996</td>\n",
       "      <td>The Travis Heights Tree House</td>\n",
       "      <td>1665428</td>\n",
       "      <td>Krista</td>\n",
       "      <td>NaN</td>\n",
       "      <td>78704</td>\n",
       "      <td>30.23872</td>\n",
       "      <td>-97.74521</td>\n",
       "      <td>Entire home/apt</td>\n",
       "      <td>54.0</td>\n",
       "      <td>365</td>\n",
       "      <td>49</td>\n",
       "      <td>2023-03-31</td>\n",
       "      <td>0.31</td>\n",
       "      <td>2</td>\n",
       "      <td>364</td>\n",
       "      <td>1</td>\n",
       "      <td>NaN</td>\n",
       "    </tr>\n",
       "    <tr>\n",
       "      <th>33</th>\n",
       "      <td>83643</td>\n",
       "      <td>Fun Central Austin Convenience</td>\n",
       "      <td>456230</td>\n",
       "      <td>Michele</td>\n",
       "      <td>NaN</td>\n",
       "      <td>78752</td>\n",
       "      <td>30.32395</td>\n",
       "      <td>-97.71851</td>\n",
       "      <td>Private room</td>\n",
       "      <td>52.0</td>\n",
       "      <td>2</td>\n",
       "      <td>286</td>\n",
       "      <td>2024-02-12</td>\n",
       "      <td>1.88</td>\n",
       "      <td>2</td>\n",
       "      <td>320</td>\n",
       "      <td>26</td>\n",
       "      <td>NaN</td>\n",
       "    </tr>\n",
       "  </tbody>\n",
       "</table>\n",
       "</div>"
      ],
      "text/plain": [
       "       id                                name  host_id  host_name  \\\n",
       "1    5769                      NW Austin Room     8186  Elizabeth   \n",
       "4    8502             Woodland Studio Lodging    25298      Karen   \n",
       "6   22828  Garage Apartment central SE Austin    56488      David   \n",
       "22  76996       The Travis Heights Tree House  1665428     Krista   \n",
       "33  83643      Fun Central Austin Convenience   456230    Michele   \n",
       "\n",
       "    neighbourhood_group  neighbourhood  latitude  longitude        room_type  \\\n",
       "1                   NaN          78729  30.45697  -97.78422     Private room   \n",
       "4                   NaN          78741  30.23466  -97.73682  Entire home/apt   \n",
       "6                   NaN          78741  30.23614  -97.73225  Entire home/apt   \n",
       "22                  NaN          78704  30.23872  -97.74521  Entire home/apt   \n",
       "33                  NaN          78752  30.32395  -97.71851     Private room   \n",
       "\n",
       "    price  minimum_nights  number_of_reviews last_review  reviews_per_month  \\\n",
       "1    45.0               1                295  2024-01-27               1.74   \n",
       "4    48.0               4                 51  2023-05-16               0.30   \n",
       "6    55.0              30                 51  2023-08-15               0.30   \n",
       "22   54.0             365                 49  2023-03-31               0.31   \n",
       "33   52.0               2                286  2024-02-12               1.88   \n",
       "\n",
       "    calculated_host_listings_count  availability_365  number_of_reviews_ltm  \\\n",
       "1                                1                 2                     20   \n",
       "4                                1               163                      3   \n",
       "6                                1               264                      1   \n",
       "22                               2               364                      1   \n",
       "33                               2               320                     26   \n",
       "\n",
       "    license  \n",
       "1       NaN  \n",
       "4       NaN  \n",
       "6       NaN  \n",
       "22      NaN  \n",
       "33      NaN  "
      ]
     },
     "execution_count": 22,
     "metadata": {},
     "output_type": "execute_result"
    }
   ],
   "source": [
    "df_listings[(df_listings['price'] < 96) \n",
    "           &(df_listings['number_of_reviews'] > 40)].head()"
   ]
  },
  {
   "cell_type": "code",
   "execution_count": 23,
   "id": "229f85dc",
   "metadata": {},
   "outputs": [
    {
     "data": {
      "text/plain": [
       "(767, 18)"
      ]
     },
     "execution_count": 23,
     "metadata": {},
     "output_type": "execute_result"
    }
   ],
   "source": [
    "df_listings[(df_listings['price'] < 96) \n",
    "           &(df_listings['number_of_reviews'] > 40)].shape"
   ]
  },
  {
   "cell_type": "code",
   "execution_count": 24,
   "id": "bdb5e9a2",
   "metadata": {},
   "outputs": [
    {
     "name": "stdout",
     "output_type": "stream",
     "text": [
      "<class 'pandas.core.frame.DataFrame'>\n",
      "RangeIndex: 15421 entries, 0 to 15420\n",
      "Data columns (total 18 columns):\n",
      " #   Column                          Non-Null Count  Dtype  \n",
      "---  ------                          --------------  -----  \n",
      " 0   id                              15421 non-null  int64  \n",
      " 1   name                            15421 non-null  object \n",
      " 2   host_id                         15421 non-null  int64  \n",
      " 3   host_name                       15419 non-null  object \n",
      " 4   neighbourhood_group             0 non-null      float64\n",
      " 5   neighbourhood                   15421 non-null  int64  \n",
      " 6   latitude                        15421 non-null  float64\n",
      " 7   longitude                       15421 non-null  float64\n",
      " 8   room_type                       15421 non-null  object \n",
      " 9   price                           11285 non-null  float64\n",
      " 10  minimum_nights                  15421 non-null  int64  \n",
      " 11  number_of_reviews               15421 non-null  int64  \n",
      " 12  last_review                     12321 non-null  object \n",
      " 13  reviews_per_month               12321 non-null  float64\n",
      " 14  calculated_host_listings_count  15421 non-null  int64  \n",
      " 15  availability_365                15421 non-null  int64  \n",
      " 16  number_of_reviews_ltm           15421 non-null  int64  \n",
      " 17  license                         0 non-null      float64\n",
      "dtypes: float64(6), int64(8), object(4)\n",
      "memory usage: 2.1+ MB\n"
     ]
    }
   ],
   "source": [
    "df_listings.info()"
   ]
  },
  {
   "cell_type": "code",
   "execution_count": 26,
   "id": "ea0c3992",
   "metadata": {},
   "outputs": [
    {
     "data": {
      "text/plain": [
       "(141, 18)"
      ]
     },
     "execution_count": 26,
     "metadata": {},
     "output_type": "execute_result"
    }
   ],
   "source": [
    "df_listings[df_listings['host_name'] == 'David'].shape"
   ]
  },
  {
   "cell_type": "code",
   "execution_count": 27,
   "id": "5b82c664",
   "metadata": {},
   "outputs": [
    {
     "data": {
      "text/html": [
       "<div>\n",
       "<style scoped>\n",
       "    .dataframe tbody tr th:only-of-type {\n",
       "        vertical-align: middle;\n",
       "    }\n",
       "\n",
       "    .dataframe tbody tr th {\n",
       "        vertical-align: top;\n",
       "    }\n",
       "\n",
       "    .dataframe thead th {\n",
       "        text-align: right;\n",
       "    }\n",
       "</style>\n",
       "<table border=\"1\" class=\"dataframe\">\n",
       "  <thead>\n",
       "    <tr style=\"text-align: right;\">\n",
       "      <th></th>\n",
       "      <th>name</th>\n",
       "      <th>host_name</th>\n",
       "      <th>room_type</th>\n",
       "      <th>last_review</th>\n",
       "    </tr>\n",
       "  </thead>\n",
       "  <tbody>\n",
       "    <tr>\n",
       "      <th>count</th>\n",
       "      <td>15421</td>\n",
       "      <td>15419</td>\n",
       "      <td>15421</td>\n",
       "      <td>12321</td>\n",
       "    </tr>\n",
       "    <tr>\n",
       "      <th>unique</th>\n",
       "      <td>14806</td>\n",
       "      <td>3473</td>\n",
       "      <td>4</td>\n",
       "      <td>1486</td>\n",
       "    </tr>\n",
       "    <tr>\n",
       "      <th>top</th>\n",
       "      <td>Wyndham Austin Resort|1BR/1BA King Bed w/ Gym&amp;...</td>\n",
       "      <td>Vacasa Texas</td>\n",
       "      <td>Entire home/apt</td>\n",
       "      <td>2024-03-17</td>\n",
       "    </tr>\n",
       "    <tr>\n",
       "      <th>freq</th>\n",
       "      <td>41</td>\n",
       "      <td>192</td>\n",
       "      <td>12543</td>\n",
       "      <td>929</td>\n",
       "    </tr>\n",
       "  </tbody>\n",
       "</table>\n",
       "</div>"
      ],
      "text/plain": [
       "                                                     name     host_name  \\\n",
       "count                                               15421         15419   \n",
       "unique                                              14806          3473   \n",
       "top     Wyndham Austin Resort|1BR/1BA King Bed w/ Gym&...  Vacasa Texas   \n",
       "freq                                                   41           192   \n",
       "\n",
       "              room_type last_review  \n",
       "count             15421       12321  \n",
       "unique                4        1486  \n",
       "top     Entire home/apt  2024-03-17  \n",
       "freq              12543         929  "
      ]
     },
     "execution_count": 27,
     "metadata": {},
     "output_type": "execute_result"
    }
   ],
   "source": [
    "df_listings.describe(include=['object'])"
   ]
  },
  {
   "cell_type": "code",
   "execution_count": 29,
   "id": "7123d68e",
   "metadata": {},
   "outputs": [
    {
     "data": {
      "text/plain": [
       "array(['Sylvia', 'Elizabeth', 'Todd', ..., 'Exemplary',\n",
       "       'Grand Welcome Austin-Hill Country', 'Exemplary'], dtype=object)"
      ]
     },
     "execution_count": 29,
     "metadata": {},
     "output_type": "execute_result"
    }
   ],
   "source": [
    "df_listings['host_name'].values"
   ]
  },
  {
   "cell_type": "code",
   "execution_count": 30,
   "id": "d0288b71",
   "metadata": {},
   "outputs": [
    {
     "data": {
      "text/plain": [
       "Vacasa Texas         192\n",
       "Evonify              141\n",
       "David                141\n",
       "Martin               133\n",
       "Landing              130\n",
       "                    ... \n",
       "Anne Rutt              1\n",
       "Raegan                 1\n",
       "Dorothy And Mac        1\n",
       "Thomas (Morphius)      1\n",
       "Chris & Kosha          1\n",
       "Name: host_name, Length: 3473, dtype: int64"
      ]
     },
     "execution_count": 30,
     "metadata": {},
     "output_type": "execute_result"
    }
   ],
   "source": [
    "df_listings['host_name'].value_counts()"
   ]
  },
  {
   "cell_type": "code",
   "execution_count": 32,
   "id": "98f728b9",
   "metadata": {},
   "outputs": [
    {
     "data": {
      "text/plain": [
       "(274, 18)"
      ]
     },
     "execution_count": 32,
     "metadata": {},
     "output_type": "execute_result"
    }
   ],
   "source": [
    "df_listings[(df_listings['host_name'] == 'David')\n",
    "           |(df_listings['host_name'] == 'Martin')].shape"
   ]
  },
  {
   "cell_type": "code",
   "execution_count": 33,
   "id": "3d6e7c02",
   "metadata": {},
   "outputs": [
    {
     "data": {
      "text/plain": [
       "(0, 18)"
      ]
     },
     "execution_count": 33,
     "metadata": {},
     "output_type": "execute_result"
    }
   ],
   "source": [
    "df_listings[(df_listings['host_name'] == 'David')\n",
    "           &(df_listings['host_name'] == 'Martin')].shape"
   ]
  },
  {
   "cell_type": "code",
   "execution_count": 34,
   "id": "aef5fa21",
   "metadata": {},
   "outputs": [
    {
     "data": {
      "text/plain": [
       "(94, 18)"
      ]
     },
     "execution_count": 34,
     "metadata": {},
     "output_type": "execute_result"
    }
   ],
   "source": [
    "df_listings[((df_listings['host_name'] == 'David')\n",
    "           |(df_listings['host_name'] == 'Martin'))\n",
    "           &(df_listings['price'] < 50)].shape"
   ]
  },
  {
   "cell_type": "code",
   "execution_count": 39,
   "id": "9cd79462",
   "metadata": {},
   "outputs": [
    {
     "data": {
      "text/plain": [
       "array(['Martin'], dtype=object)"
      ]
     },
     "execution_count": 39,
     "metadata": {},
     "output_type": "execute_result"
    }
   ],
   "source": [
    "df_listings[((df_listings['host_name'] == 'David')\n",
    "           | (df_listings['price'] < 50))\n",
    "           & (df_listings['host_name'] == 'Martin')\n",
    "           ]['host_name'].unique()"
   ]
  },
  {
   "cell_type": "code",
   "execution_count": 40,
   "id": "6559fe21",
   "metadata": {},
   "outputs": [
    {
     "data": {
      "text/plain": [
       "1"
      ]
     },
     "execution_count": 40,
     "metadata": {},
     "output_type": "execute_result"
    }
   ],
   "source": [
    "df_listings[((df_listings['host_name'] == 'David')\n",
    "           | (df_listings['price'] < 50))\n",
    "           & (df_listings['host_name'] == 'Martin')\n",
    "           ]['host_name'].nunique()"
   ]
  },
  {
   "cell_type": "markdown",
   "id": "7e9e557e",
   "metadata": {},
   "source": [
    "## How can we use the \"axis\" parameter in pandas?"
   ]
  },
  {
   "cell_type": "code",
   "execution_count": 42,
   "id": "a452fc79",
   "metadata": {},
   "outputs": [
    {
     "data": {
      "text/html": [
       "<div>\n",
       "<style scoped>\n",
       "    .dataframe tbody tr th:only-of-type {\n",
       "        vertical-align: middle;\n",
       "    }\n",
       "\n",
       "    .dataframe tbody tr th {\n",
       "        vertical-align: top;\n",
       "    }\n",
       "\n",
       "    .dataframe thead th {\n",
       "        text-align: right;\n",
       "    }\n",
       "</style>\n",
       "<table border=\"1\" class=\"dataframe\">\n",
       "  <thead>\n",
       "    <tr style=\"text-align: right;\">\n",
       "      <th></th>\n",
       "      <th>id</th>\n",
       "      <th>name</th>\n",
       "      <th>host_id</th>\n",
       "      <th>host_name</th>\n",
       "      <th>neighbourhood</th>\n",
       "      <th>latitude</th>\n",
       "      <th>longitude</th>\n",
       "      <th>room_type</th>\n",
       "      <th>price</th>\n",
       "      <th>minimum_nights</th>\n",
       "      <th>number_of_reviews</th>\n",
       "      <th>last_review</th>\n",
       "      <th>reviews_per_month</th>\n",
       "      <th>calculated_host_listings_count</th>\n",
       "      <th>availability_365</th>\n",
       "      <th>number_of_reviews_ltm</th>\n",
       "      <th>license</th>\n",
       "    </tr>\n",
       "  </thead>\n",
       "  <tbody>\n",
       "    <tr>\n",
       "      <th>0</th>\n",
       "      <td>5456</td>\n",
       "      <td>Walk to 6th, Rainey St and Convention Ctr</td>\n",
       "      <td>8028</td>\n",
       "      <td>Sylvia</td>\n",
       "      <td>78702</td>\n",
       "      <td>30.26057</td>\n",
       "      <td>-97.73441</td>\n",
       "      <td>Entire home/apt</td>\n",
       "      <td>107.0</td>\n",
       "      <td>2</td>\n",
       "      <td>671</td>\n",
       "      <td>2024-03-11</td>\n",
       "      <td>3.66</td>\n",
       "      <td>1</td>\n",
       "      <td>310</td>\n",
       "      <td>39</td>\n",
       "      <td>NaN</td>\n",
       "    </tr>\n",
       "    <tr>\n",
       "      <th>1</th>\n",
       "      <td>5769</td>\n",
       "      <td>NW Austin Room</td>\n",
       "      <td>8186</td>\n",
       "      <td>Elizabeth</td>\n",
       "      <td>78729</td>\n",
       "      <td>30.45697</td>\n",
       "      <td>-97.78422</td>\n",
       "      <td>Private room</td>\n",
       "      <td>45.0</td>\n",
       "      <td>1</td>\n",
       "      <td>295</td>\n",
       "      <td>2024-01-27</td>\n",
       "      <td>1.74</td>\n",
       "      <td>1</td>\n",
       "      <td>2</td>\n",
       "      <td>20</td>\n",
       "      <td>NaN</td>\n",
       "    </tr>\n",
       "  </tbody>\n",
       "</table>\n",
       "</div>"
      ],
      "text/plain": [
       "     id                                       name  host_id  host_name  \\\n",
       "0  5456  Walk to 6th, Rainey St and Convention Ctr     8028     Sylvia   \n",
       "1  5769                             NW Austin Room     8186  Elizabeth   \n",
       "\n",
       "   neighbourhood  latitude  longitude        room_type  price  minimum_nights  \\\n",
       "0          78702  30.26057  -97.73441  Entire home/apt  107.0               2   \n",
       "1          78729  30.45697  -97.78422     Private room   45.0               1   \n",
       "\n",
       "   number_of_reviews last_review  reviews_per_month  \\\n",
       "0                671  2024-03-11               3.66   \n",
       "1                295  2024-01-27               1.74   \n",
       "\n",
       "   calculated_host_listings_count  availability_365  number_of_reviews_ltm  \\\n",
       "0                               1               310                     39   \n",
       "1                               1                 2                     20   \n",
       "\n",
       "   license  \n",
       "0      NaN  \n",
       "1      NaN  "
      ]
     },
     "execution_count": 42,
     "metadata": {},
     "output_type": "execute_result"
    }
   ],
   "source": [
    "#drop a column (temporarily)\n",
    "\n",
    "df_listings.drop('neighbourhood_group', axis=1).head(2)"
   ]
  },
  {
   "cell_type": "code",
   "execution_count": 44,
   "id": "cc4b07ad",
   "metadata": {},
   "outputs": [
    {
     "data": {
      "text/html": [
       "<div>\n",
       "<style scoped>\n",
       "    .dataframe tbody tr th:only-of-type {\n",
       "        vertical-align: middle;\n",
       "    }\n",
       "\n",
       "    .dataframe tbody tr th {\n",
       "        vertical-align: top;\n",
       "    }\n",
       "\n",
       "    .dataframe thead th {\n",
       "        text-align: right;\n",
       "    }\n",
       "</style>\n",
       "<table border=\"1\" class=\"dataframe\">\n",
       "  <thead>\n",
       "    <tr style=\"text-align: right;\">\n",
       "      <th></th>\n",
       "      <th>id</th>\n",
       "      <th>name</th>\n",
       "      <th>host_id</th>\n",
       "      <th>host_name</th>\n",
       "      <th>neighbourhood_group</th>\n",
       "      <th>neighbourhood</th>\n",
       "      <th>latitude</th>\n",
       "      <th>longitude</th>\n",
       "      <th>room_type</th>\n",
       "      <th>price</th>\n",
       "      <th>minimum_nights</th>\n",
       "      <th>number_of_reviews</th>\n",
       "      <th>last_review</th>\n",
       "      <th>reviews_per_month</th>\n",
       "      <th>calculated_host_listings_count</th>\n",
       "      <th>availability_365</th>\n",
       "      <th>number_of_reviews_ltm</th>\n",
       "      <th>license</th>\n",
       "    </tr>\n",
       "  </thead>\n",
       "  <tbody>\n",
       "    <tr>\n",
       "      <th>0</th>\n",
       "      <td>5456</td>\n",
       "      <td>Walk to 6th, Rainey St and Convention Ctr</td>\n",
       "      <td>8028</td>\n",
       "      <td>Sylvia</td>\n",
       "      <td>NaN</td>\n",
       "      <td>78702</td>\n",
       "      <td>30.26057</td>\n",
       "      <td>-97.73441</td>\n",
       "      <td>Entire home/apt</td>\n",
       "      <td>107.0</td>\n",
       "      <td>2</td>\n",
       "      <td>671</td>\n",
       "      <td>2024-03-11</td>\n",
       "      <td>3.66</td>\n",
       "      <td>1</td>\n",
       "      <td>310</td>\n",
       "      <td>39</td>\n",
       "      <td>NaN</td>\n",
       "    </tr>\n",
       "    <tr>\n",
       "      <th>1</th>\n",
       "      <td>5769</td>\n",
       "      <td>NW Austin Room</td>\n",
       "      <td>8186</td>\n",
       "      <td>Elizabeth</td>\n",
       "      <td>NaN</td>\n",
       "      <td>78729</td>\n",
       "      <td>30.45697</td>\n",
       "      <td>-97.78422</td>\n",
       "      <td>Private room</td>\n",
       "      <td>45.0</td>\n",
       "      <td>1</td>\n",
       "      <td>295</td>\n",
       "      <td>2024-01-27</td>\n",
       "      <td>1.74</td>\n",
       "      <td>1</td>\n",
       "      <td>2</td>\n",
       "      <td>20</td>\n",
       "      <td>NaN</td>\n",
       "    </tr>\n",
       "    <tr>\n",
       "      <th>3</th>\n",
       "      <td>6448</td>\n",
       "      <td>Secluded Studio @ Zilker - King Bed, Bright &amp; ...</td>\n",
       "      <td>14156</td>\n",
       "      <td>Amy</td>\n",
       "      <td>NaN</td>\n",
       "      <td>78704</td>\n",
       "      <td>30.26034</td>\n",
       "      <td>-97.76487</td>\n",
       "      <td>Entire home/apt</td>\n",
       "      <td>159.0</td>\n",
       "      <td>3</td>\n",
       "      <td>314</td>\n",
       "      <td>2024-03-13</td>\n",
       "      <td>2.06</td>\n",
       "      <td>1</td>\n",
       "      <td>190</td>\n",
       "      <td>22</td>\n",
       "      <td>NaN</td>\n",
       "    </tr>\n",
       "  </tbody>\n",
       "</table>\n",
       "</div>"
      ],
      "text/plain": [
       "     id                                               name  host_id  \\\n",
       "0  5456          Walk to 6th, Rainey St and Convention Ctr     8028   \n",
       "1  5769                                     NW Austin Room     8186   \n",
       "3  6448  Secluded Studio @ Zilker - King Bed, Bright & ...    14156   \n",
       "\n",
       "   host_name  neighbourhood_group  neighbourhood  latitude  longitude  \\\n",
       "0     Sylvia                  NaN          78702  30.26057  -97.73441   \n",
       "1  Elizabeth                  NaN          78729  30.45697  -97.78422   \n",
       "3        Amy                  NaN          78704  30.26034  -97.76487   \n",
       "\n",
       "         room_type  price  minimum_nights  number_of_reviews last_review  \\\n",
       "0  Entire home/apt  107.0               2                671  2024-03-11   \n",
       "1     Private room   45.0               1                295  2024-01-27   \n",
       "3  Entire home/apt  159.0               3                314  2024-03-13   \n",
       "\n",
       "   reviews_per_month  calculated_host_listings_count  availability_365  \\\n",
       "0               3.66                               1               310   \n",
       "1               1.74                               1                 2   \n",
       "3               2.06                               1               190   \n",
       "\n",
       "   number_of_reviews_ltm  license  \n",
       "0                     39      NaN  \n",
       "1                     20      NaN  \n",
       "3                     22      NaN  "
      ]
     },
     "execution_count": 44,
     "metadata": {},
     "output_type": "execute_result"
    }
   ],
   "source": [
    "# drop a row (temporarily)\n",
    "\n",
    "df_listings.drop(2, axis = 0).head(3)"
   ]
  },
  {
   "cell_type": "code",
   "execution_count": null,
   "id": "90d81c77",
   "metadata": {},
   "outputs": [],
   "source": [
    "# axis = 1 refers to columns\n",
    "# axis = 0 refers to rows"
   ]
  },
  {
   "cell_type": "code",
   "execution_count": 46,
   "id": "4068a9a7",
   "metadata": {},
   "outputs": [
    {
     "data": {
      "text/html": [
       "<div>\n",
       "<style scoped>\n",
       "    .dataframe tbody tr th:only-of-type {\n",
       "        vertical-align: middle;\n",
       "    }\n",
       "\n",
       "    .dataframe tbody tr th {\n",
       "        vertical-align: top;\n",
       "    }\n",
       "\n",
       "    .dataframe thead th {\n",
       "        text-align: right;\n",
       "    }\n",
       "</style>\n",
       "<table border=\"1\" class=\"dataframe\">\n",
       "  <thead>\n",
       "    <tr style=\"text-align: right;\">\n",
       "      <th></th>\n",
       "      <th>id</th>\n",
       "      <th>name</th>\n",
       "      <th>host_id</th>\n",
       "      <th>host_name</th>\n",
       "      <th>neighbourhood_group</th>\n",
       "      <th>neighbourhood</th>\n",
       "      <th>latitude</th>\n",
       "      <th>longitude</th>\n",
       "      <th>room_type</th>\n",
       "      <th>minimum_nights</th>\n",
       "      <th>number_of_reviews</th>\n",
       "      <th>last_review</th>\n",
       "      <th>reviews_per_month</th>\n",
       "      <th>calculated_host_listings_count</th>\n",
       "      <th>availability_365</th>\n",
       "      <th>number_of_reviews_ltm</th>\n",
       "      <th>license</th>\n",
       "    </tr>\n",
       "  </thead>\n",
       "  <tbody>\n",
       "    <tr>\n",
       "      <th>0</th>\n",
       "      <td>5456</td>\n",
       "      <td>Walk to 6th, Rainey St and Convention Ctr</td>\n",
       "      <td>8028</td>\n",
       "      <td>Sylvia</td>\n",
       "      <td>NaN</td>\n",
       "      <td>78702</td>\n",
       "      <td>30.26057</td>\n",
       "      <td>-97.73441</td>\n",
       "      <td>Entire home/apt</td>\n",
       "      <td>2</td>\n",
       "      <td>671</td>\n",
       "      <td>2024-03-11</td>\n",
       "      <td>3.66</td>\n",
       "      <td>1</td>\n",
       "      <td>310</td>\n",
       "      <td>39</td>\n",
       "      <td>NaN</td>\n",
       "    </tr>\n",
       "    <tr>\n",
       "      <th>1</th>\n",
       "      <td>5769</td>\n",
       "      <td>NW Austin Room</td>\n",
       "      <td>8186</td>\n",
       "      <td>Elizabeth</td>\n",
       "      <td>NaN</td>\n",
       "      <td>78729</td>\n",
       "      <td>30.45697</td>\n",
       "      <td>-97.78422</td>\n",
       "      <td>Private room</td>\n",
       "      <td>1</td>\n",
       "      <td>295</td>\n",
       "      <td>2024-01-27</td>\n",
       "      <td>1.74</td>\n",
       "      <td>1</td>\n",
       "      <td>2</td>\n",
       "      <td>20</td>\n",
       "      <td>NaN</td>\n",
       "    </tr>\n",
       "  </tbody>\n",
       "</table>\n",
       "</div>"
      ],
      "text/plain": [
       "     id                                       name  host_id  host_name  \\\n",
       "0  5456  Walk to 6th, Rainey St and Convention Ctr     8028     Sylvia   \n",
       "1  5769                             NW Austin Room     8186  Elizabeth   \n",
       "\n",
       "   neighbourhood_group  neighbourhood  latitude  longitude        room_type  \\\n",
       "0                  NaN          78702  30.26057  -97.73441  Entire home/apt   \n",
       "1                  NaN          78729  30.45697  -97.78422     Private room   \n",
       "\n",
       "   minimum_nights  number_of_reviews last_review  reviews_per_month  \\\n",
       "0               2                671  2024-03-11               3.66   \n",
       "1               1                295  2024-01-27               1.74   \n",
       "\n",
       "   calculated_host_listings_count  availability_365  number_of_reviews_ltm  \\\n",
       "0                               1               310                     39   \n",
       "1                               1                 2                     20   \n",
       "\n",
       "   license  \n",
       "0      NaN  \n",
       "1      NaN  "
      ]
     },
     "execution_count": 46,
     "metadata": {},
     "output_type": "execute_result"
    }
   ],
   "source": [
    "df_listings.drop('price', axis = 'columns').head(2)\n",
    "#axis = 'index' refers to rows"
   ]
  },
  {
   "cell_type": "markdown",
   "id": "0691215b",
   "metadata": {},
   "source": [
    "## String Methods"
   ]
  },
  {
   "cell_type": "code",
   "execution_count": 47,
   "id": "1361cba9",
   "metadata": {},
   "outputs": [
    {
     "data": {
      "text/plain": [
       "0       SYLVIA\n",
       "1    ELIZABETH\n",
       "2         TODD\n",
       "3          AMY\n",
       "4        KAREN\n",
       "Name: host_name, dtype: object"
      ]
     },
     "execution_count": 47,
     "metadata": {},
     "output_type": "execute_result"
    }
   ],
   "source": [
    "df_listings['host_name'].str.upper().head()"
   ]
  },
  {
   "cell_type": "code",
   "execution_count": 48,
   "id": "cce021d4",
   "metadata": {},
   "outputs": [
    {
     "data": {
      "text/html": [
       "<div>\n",
       "<style scoped>\n",
       "    .dataframe tbody tr th:only-of-type {\n",
       "        vertical-align: middle;\n",
       "    }\n",
       "\n",
       "    .dataframe tbody tr th {\n",
       "        vertical-align: top;\n",
       "    }\n",
       "\n",
       "    .dataframe thead th {\n",
       "        text-align: right;\n",
       "    }\n",
       "</style>\n",
       "<table border=\"1\" class=\"dataframe\">\n",
       "  <thead>\n",
       "    <tr style=\"text-align: right;\">\n",
       "      <th></th>\n",
       "      <th>id</th>\n",
       "      <th>name</th>\n",
       "      <th>host_id</th>\n",
       "      <th>host_name</th>\n",
       "      <th>neighbourhood_group</th>\n",
       "      <th>neighbourhood</th>\n",
       "      <th>latitude</th>\n",
       "      <th>longitude</th>\n",
       "      <th>room_type</th>\n",
       "      <th>price</th>\n",
       "      <th>minimum_nights</th>\n",
       "      <th>number_of_reviews</th>\n",
       "      <th>last_review</th>\n",
       "      <th>reviews_per_month</th>\n",
       "      <th>calculated_host_listings_count</th>\n",
       "      <th>availability_365</th>\n",
       "      <th>number_of_reviews_ltm</th>\n",
       "      <th>license</th>\n",
       "    </tr>\n",
       "  </thead>\n",
       "  <tbody>\n",
       "    <tr>\n",
       "      <th>0</th>\n",
       "      <td>5456</td>\n",
       "      <td>Walk to 6th, Rainey St and Convention Ctr</td>\n",
       "      <td>8028</td>\n",
       "      <td>Sylvia</td>\n",
       "      <td>NaN</td>\n",
       "      <td>78702</td>\n",
       "      <td>30.26057</td>\n",
       "      <td>-97.73441</td>\n",
       "      <td>Entire home/apt</td>\n",
       "      <td>107.0</td>\n",
       "      <td>2</td>\n",
       "      <td>671</td>\n",
       "      <td>2024-03-11</td>\n",
       "      <td>3.66</td>\n",
       "      <td>1</td>\n",
       "      <td>310</td>\n",
       "      <td>39</td>\n",
       "      <td>NaN</td>\n",
       "    </tr>\n",
       "    <tr>\n",
       "      <th>1</th>\n",
       "      <td>5769</td>\n",
       "      <td>NW Austin Room</td>\n",
       "      <td>8186</td>\n",
       "      <td>Elizabeth</td>\n",
       "      <td>NaN</td>\n",
       "      <td>78729</td>\n",
       "      <td>30.45697</td>\n",
       "      <td>-97.78422</td>\n",
       "      <td>Private room</td>\n",
       "      <td>45.0</td>\n",
       "      <td>1</td>\n",
       "      <td>295</td>\n",
       "      <td>2024-01-27</td>\n",
       "      <td>1.74</td>\n",
       "      <td>1</td>\n",
       "      <td>2</td>\n",
       "      <td>20</td>\n",
       "      <td>NaN</td>\n",
       "    </tr>\n",
       "    <tr>\n",
       "      <th>2</th>\n",
       "      <td>6413</td>\n",
       "      <td>Gem of a Studio near Downtown</td>\n",
       "      <td>13879</td>\n",
       "      <td>Todd</td>\n",
       "      <td>NaN</td>\n",
       "      <td>78704</td>\n",
       "      <td>30.24885</td>\n",
       "      <td>-97.73587</td>\n",
       "      <td>Entire home/apt</td>\n",
       "      <td>NaN</td>\n",
       "      <td>30</td>\n",
       "      <td>120</td>\n",
       "      <td>2022-10-17</td>\n",
       "      <td>0.69</td>\n",
       "      <td>1</td>\n",
       "      <td>0</td>\n",
       "      <td>0</td>\n",
       "      <td>NaN</td>\n",
       "    </tr>\n",
       "    <tr>\n",
       "      <th>3</th>\n",
       "      <td>6448</td>\n",
       "      <td>Secluded Studio @ Zilker - King Bed, Bright &amp; ...</td>\n",
       "      <td>14156</td>\n",
       "      <td>Amy</td>\n",
       "      <td>NaN</td>\n",
       "      <td>78704</td>\n",
       "      <td>30.26034</td>\n",
       "      <td>-97.76487</td>\n",
       "      <td>Entire home/apt</td>\n",
       "      <td>159.0</td>\n",
       "      <td>3</td>\n",
       "      <td>314</td>\n",
       "      <td>2024-03-13</td>\n",
       "      <td>2.06</td>\n",
       "      <td>1</td>\n",
       "      <td>190</td>\n",
       "      <td>22</td>\n",
       "      <td>NaN</td>\n",
       "    </tr>\n",
       "    <tr>\n",
       "      <th>4</th>\n",
       "      <td>8502</td>\n",
       "      <td>Woodland Studio Lodging</td>\n",
       "      <td>25298</td>\n",
       "      <td>Karen</td>\n",
       "      <td>NaN</td>\n",
       "      <td>78741</td>\n",
       "      <td>30.23466</td>\n",
       "      <td>-97.73682</td>\n",
       "      <td>Entire home/apt</td>\n",
       "      <td>48.0</td>\n",
       "      <td>4</td>\n",
       "      <td>51</td>\n",
       "      <td>2023-05-16</td>\n",
       "      <td>0.30</td>\n",
       "      <td>1</td>\n",
       "      <td>163</td>\n",
       "      <td>3</td>\n",
       "      <td>NaN</td>\n",
       "    </tr>\n",
       "  </tbody>\n",
       "</table>\n",
       "</div>"
      ],
      "text/plain": [
       "     id                                               name  host_id  \\\n",
       "0  5456          Walk to 6th, Rainey St and Convention Ctr     8028   \n",
       "1  5769                                     NW Austin Room     8186   \n",
       "2  6413                      Gem of a Studio near Downtown    13879   \n",
       "3  6448  Secluded Studio @ Zilker - King Bed, Bright & ...    14156   \n",
       "4  8502                            Woodland Studio Lodging    25298   \n",
       "\n",
       "   host_name  neighbourhood_group  neighbourhood  latitude  longitude  \\\n",
       "0     Sylvia                  NaN          78702  30.26057  -97.73441   \n",
       "1  Elizabeth                  NaN          78729  30.45697  -97.78422   \n",
       "2       Todd                  NaN          78704  30.24885  -97.73587   \n",
       "3        Amy                  NaN          78704  30.26034  -97.76487   \n",
       "4      Karen                  NaN          78741  30.23466  -97.73682   \n",
       "\n",
       "         room_type  price  minimum_nights  number_of_reviews last_review  \\\n",
       "0  Entire home/apt  107.0               2                671  2024-03-11   \n",
       "1     Private room   45.0               1                295  2024-01-27   \n",
       "2  Entire home/apt    NaN              30                120  2022-10-17   \n",
       "3  Entire home/apt  159.0               3                314  2024-03-13   \n",
       "4  Entire home/apt   48.0               4                 51  2023-05-16   \n",
       "\n",
       "   reviews_per_month  calculated_host_listings_count  availability_365  \\\n",
       "0               3.66                               1               310   \n",
       "1               1.74                               1                 2   \n",
       "2               0.69                               1                 0   \n",
       "3               2.06                               1               190   \n",
       "4               0.30                               1               163   \n",
       "\n",
       "   number_of_reviews_ltm  license  \n",
       "0                     39      NaN  \n",
       "1                     20      NaN  \n",
       "2                      0      NaN  \n",
       "3                     22      NaN  \n",
       "4                      3      NaN  "
      ]
     },
     "execution_count": 48,
     "metadata": {},
     "output_type": "execute_result"
    }
   ],
   "source": [
    "df_listings.head()"
   ]
  },
  {
   "cell_type": "code",
   "execution_count": 50,
   "id": "678b4ea8",
   "metadata": {},
   "outputs": [
    {
     "data": {
      "text/plain": [
       "1809"
      ]
     },
     "execution_count": 50,
     "metadata": {},
     "output_type": "execute_result"
    }
   ],
   "source": [
    "df_listings['name'].str.contains('Downtown').sum()"
   ]
  },
  {
   "cell_type": "code",
   "execution_count": 53,
   "id": "890c183c",
   "metadata": {},
   "outputs": [
    {
     "data": {
      "text/plain": [
       "2262"
      ]
     },
     "execution_count": 53,
     "metadata": {},
     "output_type": "execute_result"
    }
   ],
   "source": [
    "df_listings['name'].str.upper().str.contains('DOWNTOWN').sum()"
   ]
  },
  {
   "cell_type": "code",
   "execution_count": 54,
   "id": "9434b8c9",
   "metadata": {},
   "outputs": [
    {
     "data": {
      "text/plain": [
       "2262"
      ]
     },
     "execution_count": 54,
     "metadata": {},
     "output_type": "execute_result"
    }
   ],
   "source": [
    "df_listings['name'].str.lower().str.contains('downtown').sum()"
   ]
  },
  {
   "cell_type": "code",
   "execution_count": 55,
   "id": "ac1c3f97",
   "metadata": {},
   "outputs": [
    {
     "data": {
      "text/plain": [
       "0                Walk to 6th, Rainey St and Convention Ctr\n",
       "1                                           NW Austin Room\n",
       "2                            Gem of a Studio near Downtown\n",
       "3        Secluded Studio   Zilker - King Bed, Bright an...\n",
       "4                                  Woodland Studio Lodging\n",
       "                               ...                        \n",
       "15416                      Luxury Suite w/ Pool / King Bed\n",
       "15417                            Prime Spot: Pool, 2 Kings\n",
       "15418                    Gem Location w/ Pool and King Bed\n",
       "15419    Skyline Chic Farmhouse – Designer Home, Walkable!\n",
       "15420                    Ideal Locale | King Bed | Parking\n",
       "Name: name, Length: 15421, dtype: object"
      ]
     },
     "execution_count": 55,
     "metadata": {},
     "output_type": "execute_result"
    }
   ],
   "source": [
    "df_listings['name'].str.replace('@' ,' ').str.replace('&', 'and')"
   ]
  },
  {
   "cell_type": "markdown",
   "id": "7499e773",
   "metadata": {},
   "source": [
    "## Changing the Data Type "
   ]
  },
  {
   "cell_type": "code",
   "execution_count": null,
   "id": "10055139",
   "metadata": {},
   "outputs": [],
   "source": [
    "http://bit.ly/drinksbycountry"
   ]
  },
  {
   "cell_type": "code",
   "execution_count": 56,
   "id": "92fa0525",
   "metadata": {},
   "outputs": [],
   "source": [
    "df_drinks = pd.read_csv('http://bit.ly/drinksbycountry')"
   ]
  },
  {
   "cell_type": "code",
   "execution_count": 57,
   "id": "a32b1a3b",
   "metadata": {},
   "outputs": [
    {
     "data": {
      "text/plain": [
       "(193, 6)"
      ]
     },
     "execution_count": 57,
     "metadata": {},
     "output_type": "execute_result"
    }
   ],
   "source": [
    "df_drinks.shape"
   ]
  },
  {
   "cell_type": "code",
   "execution_count": 58,
   "id": "32bdcfcd",
   "metadata": {},
   "outputs": [
    {
     "data": {
      "text/html": [
       "<div>\n",
       "<style scoped>\n",
       "    .dataframe tbody tr th:only-of-type {\n",
       "        vertical-align: middle;\n",
       "    }\n",
       "\n",
       "    .dataframe tbody tr th {\n",
       "        vertical-align: top;\n",
       "    }\n",
       "\n",
       "    .dataframe thead th {\n",
       "        text-align: right;\n",
       "    }\n",
       "</style>\n",
       "<table border=\"1\" class=\"dataframe\">\n",
       "  <thead>\n",
       "    <tr style=\"text-align: right;\">\n",
       "      <th></th>\n",
       "      <th>country</th>\n",
       "      <th>beer_servings</th>\n",
       "      <th>spirit_servings</th>\n",
       "      <th>wine_servings</th>\n",
       "      <th>total_litres_of_pure_alcohol</th>\n",
       "      <th>continent</th>\n",
       "    </tr>\n",
       "  </thead>\n",
       "  <tbody>\n",
       "    <tr>\n",
       "      <th>0</th>\n",
       "      <td>Afghanistan</td>\n",
       "      <td>0</td>\n",
       "      <td>0</td>\n",
       "      <td>0</td>\n",
       "      <td>0.0</td>\n",
       "      <td>Asia</td>\n",
       "    </tr>\n",
       "    <tr>\n",
       "      <th>1</th>\n",
       "      <td>Albania</td>\n",
       "      <td>89</td>\n",
       "      <td>132</td>\n",
       "      <td>54</td>\n",
       "      <td>4.9</td>\n",
       "      <td>Europe</td>\n",
       "    </tr>\n",
       "    <tr>\n",
       "      <th>2</th>\n",
       "      <td>Algeria</td>\n",
       "      <td>25</td>\n",
       "      <td>0</td>\n",
       "      <td>14</td>\n",
       "      <td>0.7</td>\n",
       "      <td>Africa</td>\n",
       "    </tr>\n",
       "  </tbody>\n",
       "</table>\n",
       "</div>"
      ],
      "text/plain": [
       "       country  beer_servings  spirit_servings  wine_servings  \\\n",
       "0  Afghanistan              0                0              0   \n",
       "1      Albania             89              132             54   \n",
       "2      Algeria             25                0             14   \n",
       "\n",
       "   total_litres_of_pure_alcohol continent  \n",
       "0                           0.0      Asia  \n",
       "1                           4.9    Europe  \n",
       "2                           0.7    Africa  "
      ]
     },
     "execution_count": 58,
     "metadata": {},
     "output_type": "execute_result"
    }
   ],
   "source": [
    "df_drinks.head(3)"
   ]
  },
  {
   "cell_type": "code",
   "execution_count": 59,
   "id": "99deb286",
   "metadata": {},
   "outputs": [
    {
     "data": {
      "text/plain": [
       "country                          object\n",
       "beer_servings                     int64\n",
       "spirit_servings                   int64\n",
       "wine_servings                     int64\n",
       "total_litres_of_pure_alcohol    float64\n",
       "continent                        object\n",
       "dtype: object"
      ]
     },
     "execution_count": 59,
     "metadata": {},
     "output_type": "execute_result"
    }
   ],
   "source": [
    "df_drinks.dtypes"
   ]
  },
  {
   "cell_type": "code",
   "execution_count": 62,
   "id": "e4b7df63",
   "metadata": {},
   "outputs": [],
   "source": [
    "df_drinks['beer_servings'] = df_drinks['beer_servings'].astype(float)"
   ]
  },
  {
   "cell_type": "code",
   "execution_count": 63,
   "id": "f4057b11",
   "metadata": {},
   "outputs": [
    {
     "data": {
      "text/plain": [
       "country                          object\n",
       "beer_servings                   float64\n",
       "spirit_servings                   int64\n",
       "wine_servings                     int64\n",
       "total_litres_of_pure_alcohol    float64\n",
       "continent                        object\n",
       "dtype: object"
      ]
     },
     "execution_count": 63,
     "metadata": {},
     "output_type": "execute_result"
    }
   ],
   "source": [
    "df_drinks.dtypes"
   ]
  },
  {
   "cell_type": "markdown",
   "id": "250502c1",
   "metadata": {},
   "source": [
    "## Group By"
   ]
  },
  {
   "cell_type": "code",
   "execution_count": 64,
   "id": "eb20f7cd",
   "metadata": {},
   "outputs": [
    {
     "data": {
      "text/plain": [
       "106.16062176165804"
      ]
     },
     "execution_count": 64,
     "metadata": {},
     "output_type": "execute_result"
    }
   ],
   "source": [
    "df_drinks.beer_servings.mean()"
   ]
  },
  {
   "cell_type": "code",
   "execution_count": 65,
   "id": "3d8b575e",
   "metadata": {},
   "outputs": [
    {
     "name": "stderr",
     "output_type": "stream",
     "text": [
      "/var/folders/_y/4s2tthkj1931hnkd_gyz26fh0000gn/T/ipykernel_20050/1942813677.py:1: FutureWarning: Dropping of nuisance columns in DataFrame reductions (with 'numeric_only=None') is deprecated; in a future version this will raise TypeError.  Select only valid columns before calling the reduction.\n",
      "  df_drinks[df_drinks['continent'] == 'Asia'].mean()\n"
     ]
    },
    {
     "data": {
      "text/plain": [
       "beer_servings                   37.045455\n",
       "spirit_servings                 60.840909\n",
       "wine_servings                    9.068182\n",
       "total_litres_of_pure_alcohol     2.170455\n",
       "dtype: float64"
      ]
     },
     "execution_count": 65,
     "metadata": {},
     "output_type": "execute_result"
    }
   ],
   "source": [
    "df_drinks[df_drinks['continent'] == 'Asia'].mean()"
   ]
  },
  {
   "cell_type": "code",
   "execution_count": 67,
   "id": "92cff1a5",
   "metadata": {},
   "outputs": [
    {
     "data": {
      "text/plain": [
       "continent\n",
       "Africa            61.471698\n",
       "Asia              37.045455\n",
       "Europe           193.777778\n",
       "North America    145.434783\n",
       "Oceania           89.687500\n",
       "South America    175.083333\n",
       "Name: beer_servings, dtype: float64"
      ]
     },
     "execution_count": 67,
     "metadata": {},
     "output_type": "execute_result"
    }
   ],
   "source": [
    "df_drinks.groupby('continent')['beer_servings'].mean()"
   ]
  },
  {
   "cell_type": "code",
   "execution_count": 69,
   "id": "83718c8c",
   "metadata": {},
   "outputs": [
    {
     "data": {
      "text/plain": [
       "continent\n",
       "Africa           376.0\n",
       "Asia             247.0\n",
       "Europe           361.0\n",
       "North America    285.0\n",
       "Oceania          306.0\n",
       "South America    333.0\n",
       "Name: beer_servings, dtype: float64"
      ]
     },
     "execution_count": 69,
     "metadata": {},
     "output_type": "execute_result"
    }
   ],
   "source": [
    "df_drinks.groupby('continent')['beer_servings'].max()"
   ]
  },
  {
   "cell_type": "code",
   "execution_count": 70,
   "id": "dafc1c40",
   "metadata": {},
   "outputs": [
    {
     "data": {
      "text/html": [
       "<div>\n",
       "<style scoped>\n",
       "    .dataframe tbody tr th:only-of-type {\n",
       "        vertical-align: middle;\n",
       "    }\n",
       "\n",
       "    .dataframe tbody tr th {\n",
       "        vertical-align: top;\n",
       "    }\n",
       "\n",
       "    .dataframe thead th {\n",
       "        text-align: right;\n",
       "    }\n",
       "</style>\n",
       "<table border=\"1\" class=\"dataframe\">\n",
       "  <thead>\n",
       "    <tr style=\"text-align: right;\">\n",
       "      <th></th>\n",
       "      <th>count</th>\n",
       "      <th>mean</th>\n",
       "      <th>min</th>\n",
       "      <th>max</th>\n",
       "    </tr>\n",
       "    <tr>\n",
       "      <th>continent</th>\n",
       "      <th></th>\n",
       "      <th></th>\n",
       "      <th></th>\n",
       "      <th></th>\n",
       "    </tr>\n",
       "  </thead>\n",
       "  <tbody>\n",
       "    <tr>\n",
       "      <th>Africa</th>\n",
       "      <td>53</td>\n",
       "      <td>61.471698</td>\n",
       "      <td>0.0</td>\n",
       "      <td>376.0</td>\n",
       "    </tr>\n",
       "    <tr>\n",
       "      <th>Asia</th>\n",
       "      <td>44</td>\n",
       "      <td>37.045455</td>\n",
       "      <td>0.0</td>\n",
       "      <td>247.0</td>\n",
       "    </tr>\n",
       "    <tr>\n",
       "      <th>Europe</th>\n",
       "      <td>45</td>\n",
       "      <td>193.777778</td>\n",
       "      <td>0.0</td>\n",
       "      <td>361.0</td>\n",
       "    </tr>\n",
       "    <tr>\n",
       "      <th>North America</th>\n",
       "      <td>23</td>\n",
       "      <td>145.434783</td>\n",
       "      <td>1.0</td>\n",
       "      <td>285.0</td>\n",
       "    </tr>\n",
       "    <tr>\n",
       "      <th>Oceania</th>\n",
       "      <td>16</td>\n",
       "      <td>89.687500</td>\n",
       "      <td>0.0</td>\n",
       "      <td>306.0</td>\n",
       "    </tr>\n",
       "    <tr>\n",
       "      <th>South America</th>\n",
       "      <td>12</td>\n",
       "      <td>175.083333</td>\n",
       "      <td>93.0</td>\n",
       "      <td>333.0</td>\n",
       "    </tr>\n",
       "  </tbody>\n",
       "</table>\n",
       "</div>"
      ],
      "text/plain": [
       "               count        mean   min    max\n",
       "continent                                    \n",
       "Africa            53   61.471698   0.0  376.0\n",
       "Asia              44   37.045455   0.0  247.0\n",
       "Europe            45  193.777778   0.0  361.0\n",
       "North America     23  145.434783   1.0  285.0\n",
       "Oceania           16   89.687500   0.0  306.0\n",
       "South America     12  175.083333  93.0  333.0"
      ]
     },
     "execution_count": 70,
     "metadata": {},
     "output_type": "execute_result"
    }
   ],
   "source": [
    "df_drinks.groupby('continent')['beer_servings'].agg(['count', 'mean', 'min', 'max'])"
   ]
  },
  {
   "cell_type": "code",
   "execution_count": 72,
   "id": "413b558f",
   "metadata": {},
   "outputs": [],
   "source": [
    "%matplotlib inline"
   ]
  },
  {
   "cell_type": "code",
   "execution_count": 79,
   "id": "89c56b47",
   "metadata": {},
   "outputs": [
    {
     "data": {
      "text/plain": [
       "<AxesSubplot:xlabel='continent'>"
      ]
     },
     "execution_count": 79,
     "metadata": {},
     "output_type": "execute_result"
    },
    {
     "data": {
      "image/png": "[encoded data removed]",
      "text/plain": [
       "<Figure size 640x480 with 1 Axes>"
      ]
     },
     "metadata": {},
     "output_type": "display_data"
    }
   ],
   "source": [
    "df_drinks.groupby('continent')['beer_servings'].mean().plot(kind = 'bar')"
   ]
  },
  {
   "cell_type": "code",
   "execution_count": null,
   "id": "6c719697",
   "metadata": {},
   "outputs": [],
   "source": []
  },
  {
   "cell_type": "code",
   "execution_count": null,
   "id": "d5ada5ae",
   "metadata": {},
   "outputs": [],
   "source": []
  },
  {
   "cell_type": "code",
   "execution_count": null,
   "id": "0e8698a7",
   "metadata": {},
   "outputs": [],
   "source": []
  }
 ],
 "metadata": {
  "kernelspec": {
   "display_name": "Python 3 (ipykernel)",
   "language": "python",
   "name": "python3"
  },
  "language_info": {
   "codemirror_mode": {
    "name": "ipython",
    "version": 3
   },
   "file_extension": ".py",
   "mimetype": "text/x-python",
   "name": "python",
   "nbconvert_exporter": "python",
   "pygments_lexer": "ipython3",
   "version": "3.11.7"
  }
 },
 "nbformat": 4,
 "nbformat_minor": 5
}
