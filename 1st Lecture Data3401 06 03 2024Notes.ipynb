{
 "cells": [
  {
   "cell_type": "markdown",
   "id": "7d4cd530-d400-45c1-8b03-46933dba9c47",
   "metadata": {},
   "source": [
    "Data 3401"
   ]
  },
  {
   "cell_type": "code",
   "execution_count": 55,
   "id": "e8386579-957c-463a-adb4-ea5efe1cbf97",
   "metadata": {},
   "outputs": [
    {
     "name": "stdout",
     "output_type": "stream",
     "text": [
      "a=1\n"
     ]
    }
   ],
   "source": [
    "print(\"a=1\")"
   ]
  },
  {
   "cell_type": "code",
   "execution_count": 56,
   "id": "bbf97db7-c3b4-4021-af21-cad08ef4f050",
   "metadata": {},
   "outputs": [
    {
     "name": "stdout",
     "output_type": "stream",
     "text": [
      "a=2\n"
     ]
    }
   ],
   "source": [
    "print(\"a=2\")"
   ]
  },
  {
   "cell_type": "code",
   "execution_count": 14,
   "id": "fa09a4eb-61cf-45ec-b6ac-a8b97c2967a7",
   "metadata": {},
   "outputs": [
    {
     "name": "stdout",
     "output_type": "stream",
     "text": [
      "Variable   Type    Data/Info\n",
      "----------------------------\n",
      "a          int     2\n"
     ]
    }
   ],
   "source": [
    "#How to see available variables?\n",
    "%whos"
   ]
  },
  {
   "cell_type": "code",
   "execution_count": 16,
   "id": "258e91b0-9df8-4ead-b40e-f2db557af395",
   "metadata": {},
   "outputs": [],
   "source": [
    "b = 5"
   ]
  },
  {
   "cell_type": "code",
   "execution_count": 17,
   "id": "ad85b901-f8e2-47f6-85a1-8113bb5dd335",
   "metadata": {},
   "outputs": [
    {
     "name": "stdout",
     "output_type": "stream",
     "text": [
      "Variable   Type    Data/Info\n",
      "----------------------------\n",
      "a          int     2\n",
      "b          int     5\n"
     ]
    }
   ],
   "source": [
    "%whos"
   ]
  },
  {
   "cell_type": "code",
   "execution_count": 18,
   "id": "0e2472e8-7698-491e-addc-c9b0dbf70b62",
   "metadata": {},
   "outputs": [
    {
     "name": "stdin",
     "output_type": "stream",
     "text": [
      "Once deleted, variables cannot be recovered. Proceed (y/[n])?  y\n"
     ]
    }
   ],
   "source": [
    "#Resettting \n",
    "%reset"
   ]
  },
  {
   "cell_type": "code",
   "execution_count": 19,
   "id": "4e2123e5-d399-43c5-bb77-4b9675da57b5",
   "metadata": {},
   "outputs": [
    {
     "name": "stdout",
     "output_type": "stream",
     "text": [
      "Interactive namespace is empty.\n"
     ]
    }
   ],
   "source": [
    "%whos"
   ]
  },
  {
   "cell_type": "code",
   "execution_count": 20,
   "id": "e1f42d2e-4ae1-43e2-8676-8679a24e38c3",
   "metadata": {},
   "outputs": [
    {
     "ename": "NameError",
     "evalue": "name 'c' is not defined",
     "output_type": "error",
     "traceback": [
      "\u001b[1;31m---------------------------------------------------------------------------\u001b[0m",
      "\u001b[1;31mNameError\u001b[0m                                 Traceback (most recent call last)",
      "Cell \u001b[1;32mIn[20], line 1\u001b[0m\n\u001b[1;32m----> 1\u001b[0m c\n",
      "\u001b[1;31mNameError\u001b[0m: name 'c' is not defined"
     ]
    }
   ],
   "source": [
    "c"
   ]
  },
  {
   "cell_type": "code",
   "execution_count": 21,
   "id": "f6f2659c-5251-4433-86b1-d70e903fafc3",
   "metadata": {},
   "outputs": [],
   "source": [
    "import os "
   ]
  },
  {
   "cell_type": "code",
   "execution_count": 23,
   "id": "c4f8e8d6-5732-46b6-9363-b54ec98aeac8",
   "metadata": {},
   "outputs": [
    {
     "data": {
      "text/plain": [
       "'C:\\\\Users\\\\draco\\\\Downloads\\\\Data Python 3401'"
      ]
     },
     "execution_count": 23,
     "metadata": {},
     "output_type": "execute_result"
    }
   ],
   "source": [
    "os.getcwd()"
   ]
  },
  {
   "cell_type": "code",
   "execution_count": 24,
   "id": "5bd11bfa-d3f0-41af-90c7-d46792d99e8a",
   "metadata": {},
   "outputs": [],
   "source": [
    "path = os.getcwd()"
   ]
  },
  {
   "cell_type": "code",
   "execution_count": 25,
   "id": "9ddb8bde-c786-47fa-b6f4-bb13d579c096",
   "metadata": {},
   "outputs": [
    {
     "data": {
      "text/plain": [
       "'C:\\\\Users\\\\draco\\\\Downloads\\\\Data Python 3401'"
      ]
     },
     "execution_count": 25,
     "metadata": {},
     "output_type": "execute_result"
    }
   ],
   "source": [
    "path"
   ]
  },
  {
   "cell_type": "code",
   "execution_count": 35,
   "id": "69d93ff7-4ece-4d48-a70d-48289e2bb202",
   "metadata": {},
   "outputs": [],
   "source": [
    "os.chdir('C:\\\\Users\\\\draco\\\\Downloads\\\\data3401')"
   ]
  },
  {
   "cell_type": "code",
   "execution_count": 36,
   "id": "d5d20149-7c10-4a4f-89ca-97f7c99d5c34",
   "metadata": {},
   "outputs": [],
   "source": [
    "path = os.getcwd()"
   ]
  },
  {
   "cell_type": "code",
   "execution_count": 37,
   "id": "15b3cb58-e22d-4bdd-8f95-f9ceeb30f157",
   "metadata": {},
   "outputs": [
    {
     "data": {
      "text/plain": [
       "'C:\\\\Users\\\\draco\\\\Downloads\\\\data3401'"
      ]
     },
     "execution_count": 37,
     "metadata": {},
     "output_type": "execute_result"
    }
   ],
   "source": [
    "path"
   ]
  },
  {
   "cell_type": "code",
   "execution_count": 38,
   "id": "cf2136c8-1f51-430c-a294-78c54497083d",
   "metadata": {},
   "outputs": [],
   "source": [
    "os.chdir('C:\\\\Users\\\\draco\\\\Downloads\\\\Data Python 3401')"
   ]
  },
  {
   "cell_type": "code",
   "execution_count": 39,
   "id": "de120ae3-5c40-4b46-b4e2-e5fb2d3c5ca8",
   "metadata": {},
   "outputs": [],
   "source": [
    "path = os.getcwd()"
   ]
  },
  {
   "cell_type": "code",
   "execution_count": 40,
   "id": "ba991e63-11c9-4db8-9489-29770ab895ff",
   "metadata": {},
   "outputs": [
    {
     "data": {
      "text/plain": [
       "'C:\\\\Users\\\\draco\\\\Downloads\\\\Data Python 3401'"
      ]
     },
     "execution_count": 40,
     "metadata": {},
     "output_type": "execute_result"
    }
   ],
   "source": [
    "path"
   ]
  },
  {
   "cell_type": "code",
   "execution_count": 42,
   "id": "a3c1ba1a-7815-45e4-b553-d1bcde4f9edb",
   "metadata": {},
   "outputs": [
    {
     "name": "stdout",
     "output_type": "stream",
     "text": [
      " Volume in drive C is Windows-SSD\n",
      " Volume Serial Number is F2E1-D40F\n",
      "\n",
      " Directory of C:\\Users\\draco\\Downloads\\Data Python 3401\n",
      "\n",
      "06/03/2024  07:02 PM    <DIR>          .\n",
      "06/03/2024  06:43 PM    <DIR>          ..\n",
      "06/03/2024  06:38 PM    <DIR>          .ipynb_checkpoints\n",
      "06/03/2024  07:02 PM             7,556 1st Lecture Data3401 06 03 2024.ipynb\n",
      "               1 File(s)          7,556 bytes\n",
      "               3 Dir(s)  383,466,524,672 bytes free\n"
     ]
    }
   ],
   "source": [
    "#List directory contents \n",
    "%ls"
   ]
  },
  {
   "cell_type": "code",
   "execution_count": 43,
   "id": "6b548892-b7a7-4f93-b7b5-e4001432b8ec",
   "metadata": {},
   "outputs": [
    {
     "data": {
      "text/plain": [
       "'C:\\\\Users\\\\draco\\\\Downloads\\\\Data Python 3401'"
      ]
     },
     "execution_count": 43,
     "metadata": {},
     "output_type": "execute_result"
    }
   ],
   "source": [
    "os.getcwd()"
   ]
  },
  {
   "cell_type": "code",
   "execution_count": 44,
   "id": "c468439d-86be-4dd8-8f0d-8583ecbfa14f",
   "metadata": {},
   "outputs": [
    {
     "name": "stdout",
     "output_type": "stream",
     "text": [
      " Volume in drive C is Windows-SSD\n",
      " Volume Serial Number is F2E1-D40F\n",
      "\n",
      " Directory of C:\\Users\\draco\\Downloads\\Data Python 3401\n",
      "\n",
      "06/03/2024  07:02 PM    <DIR>          .\n",
      "06/03/2024  06:43 PM    <DIR>          ..\n",
      "06/03/2024  06:38 PM    <DIR>          .ipynb_checkpoints\n",
      "06/03/2024  07:02 PM             7,556 1st Lecture Data3401 06 03 2024.ipynb\n",
      "               1 File(s)          7,556 bytes\n",
      "               3 Dir(s)  383,454,007,296 bytes free\n"
     ]
    }
   ],
   "source": [
    "%ls"
   ]
  },
  {
   "cell_type": "code",
   "execution_count": 45,
   "id": "307f512b-089c-4fbd-9409-a16fe956da8b",
   "metadata": {},
   "outputs": [
    {
     "data": {
      "text/plain": [
       "\u001b[1;31mSignature:\u001b[0m \u001b[0mlen\u001b[0m\u001b[1;33m(\u001b[0m\u001b[0mobj\u001b[0m\u001b[1;33m,\u001b[0m \u001b[1;33m/\u001b[0m\u001b[1;33m)\u001b[0m\u001b[1;33m\u001b[0m\u001b[1;33m\u001b[0m\u001b[0m\n",
       "\u001b[1;31mDocstring:\u001b[0m Return the number of items in a container.\n",
       "\u001b[1;31mType:\u001b[0m      builtin_function_or_method"
      ]
     },
     "metadata": {},
     "output_type": "display_data"
    }
   ],
   "source": [
    "len?"
   ]
  },
  {
   "cell_type": "code",
   "execution_count": 46,
   "id": "b40a70ec-10da-43cd-8f51-d470670b8ccd",
   "metadata": {},
   "outputs": [
    {
     "name": "stdout",
     "output_type": "stream",
     "text": [
      "Object `squeezee` not found.\n"
     ]
    }
   ],
   "source": [
    "squeezee??"
   ]
  },
  {
   "cell_type": "code",
   "execution_count": 47,
   "id": "a299a42e-8742-4974-afd9-085c7f35ebe6",
   "metadata": {},
   "outputs": [
    {
     "data": {
      "text/plain": [
       "\u001b[1;31mSignature:\u001b[0m \u001b[0mprint\u001b[0m\u001b[1;33m(\u001b[0m\u001b[1;33m*\u001b[0m\u001b[0margs\u001b[0m\u001b[1;33m,\u001b[0m \u001b[0msep\u001b[0m\u001b[1;33m=\u001b[0m\u001b[1;34m' '\u001b[0m\u001b[1;33m,\u001b[0m \u001b[0mend\u001b[0m\u001b[1;33m=\u001b[0m\u001b[1;34m'\\n'\u001b[0m\u001b[1;33m,\u001b[0m \u001b[0mfile\u001b[0m\u001b[1;33m=\u001b[0m\u001b[1;32mNone\u001b[0m\u001b[1;33m,\u001b[0m \u001b[0mflush\u001b[0m\u001b[1;33m=\u001b[0m\u001b[1;32mFalse\u001b[0m\u001b[1;33m)\u001b[0m\u001b[1;33m\u001b[0m\u001b[1;33m\u001b[0m\u001b[0m\n",
       "\u001b[1;31mDocstring:\u001b[0m\n",
       "Prints the values to a stream, or to sys.stdout by default.\n",
       "\n",
       "sep\n",
       "  string inserted between values, default a space.\n",
       "end\n",
       "  string appended after the last value, default a newline.\n",
       "file\n",
       "  a file-like object (stream); defaults to the current sys.stdout.\n",
       "flush\n",
       "  whether to forcibly flush the stream.\n",
       "\u001b[1;31mType:\u001b[0m      builtin_function_or_method"
      ]
     },
     "metadata": {},
     "output_type": "display_data"
    }
   ],
   "source": [
    "print?"
   ]
  },
  {
   "cell_type": "code",
   "execution_count": 48,
   "id": "58a73aa4-8df0-4684-b9c6-e39570c554e9",
   "metadata": {},
   "outputs": [
    {
     "name": "stdout",
     "output_type": "stream",
     "text": [
      "Object `loop` not found.\n"
     ]
    }
   ],
   "source": [
    "loop?"
   ]
  },
  {
   "cell_type": "code",
   "execution_count": 49,
   "id": "601e6d87-9335-47e3-9478-2054f6998dd5",
   "metadata": {},
   "outputs": [
    {
     "name": "stdout",
     "output_type": "stream",
     "text": [
      "Object `squeeze` not found.\n"
     ]
    }
   ],
   "source": [
    "squeeze??"
   ]
  },
  {
   "cell_type": "code",
   "execution_count": 50,
   "id": "8af8cd45-b1ba-45fa-8096-cb538f0b8a7a",
   "metadata": {},
   "outputs": [
    {
     "name": "stdout",
     "output_type": "stream",
     "text": [
      "Dinosaurs\n",
      "Data 3401\n",
      "a=2\n",
      "a=2\n",
      "a=2\n",
      "a=2\n",
      "a=2\n",
      "a=2\n",
      "a=1\n",
      "a=1\n",
      "a=1\n",
      "a=1\n",
      "a=2\n",
      "#How to see available variables?\n",
      "%whos\n",
      "a=2\n",
      "b = 5\n",
      "%whos\n",
      "#Resettting \n",
      "%reset\n",
      "%whos\n",
      "c\n",
      "import os\n",
      "os.getcwd\n",
      "os.getcwd()\n",
      "path = os.getcwd()\n",
      "path\n",
      "os.chdir(C:\\\\Users\\\\draco\\\\Downloads\\\\data3401)\n",
      "os.chdir(C:\\\\Users\\\\draco\\\\Downloads\\\\data 3401)\n",
      "os.chdir('C:\\\\Users\\\\draco\\\\Downloads\\\\data 3401')\n",
      "os.chdir('C:\\\\Users\\\\draco\\\\Downloads\\\\data3401')\n",
      "path = os.chdir()\n",
      "os.chdir('C:\\\\Users\\\\draco\\\\Downloads\\\\data3401')\n",
      "os.chdir('C:\\\\Users\\\\draco\\\\Downloads\\\\data3401')\n",
      "path\n",
      "os.chdir('C:\\\\Users\\\\draco\\\\Downloads\\\\data3401')\n",
      "os.chdir('C:\\\\Users\\\\draco\\\\Downloads\\\\data3401')\n",
      "path = os.getcwd()\n",
      "path\n",
      "os.chdir('C:\\\\Users\\\\draco\\\\Downloads\\\\Data Python 3401')\n",
      "path = os.getcwd()\n",
      "path\n",
      "#List directory contents \n",
      "ls\n",
      "#List directory contents \n",
      "%ls\n",
      "os.getcwd()\n",
      "%ls\n",
      "len?\n",
      "squeezee??\n",
      "print?\n",
      "loop?\n",
      "squeeze??\n",
      "%hist\n"
     ]
    }
   ],
   "source": [
    "%hist"
   ]
  },
  {
   "cell_type": "code",
   "execution_count": 51,
   "id": "91c92ae6-a8ff-44ee-aad9-630285fe018e",
   "metadata": {},
   "outputs": [
    {
     "ename": "TypeError",
     "evalue": "unsupported operand type(s) for +: 'int' and 'str'",
     "output_type": "error",
     "traceback": [
      "\u001b[1;31m---------------------------------------------------------------------------\u001b[0m",
      "\u001b[1;31mTypeError\u001b[0m                                 Traceback (most recent call last)",
      "Cell \u001b[1;32mIn[51], line 1\u001b[0m\n\u001b[1;32m----> 1\u001b[0m \u001b[38;5;241m1\u001b[39m \u001b[38;5;241m+\u001b[39m \u001b[38;5;124m'\u001b[39m\u001b[38;5;124mhello\u001b[39m\u001b[38;5;124m'\u001b[39m\n",
      "\u001b[1;31mTypeError\u001b[0m: unsupported operand type(s) for +: 'int' and 'str'"
     ]
    }
   ],
   "source": [
    "1 + 'hello'"
   ]
  },
  {
   "cell_type": "code",
   "execution_count": 52,
   "id": "af083815-4611-4ead-8330-18d7991ec666",
   "metadata": {},
   "outputs": [
    {
     "ename": "NameError",
     "evalue": "name 'd' is not defined",
     "output_type": "error",
     "traceback": [
      "\u001b[1;31m---------------------------------------------------------------------------\u001b[0m",
      "\u001b[1;31mNameError\u001b[0m                                 Traceback (most recent call last)",
      "Cell \u001b[1;32mIn[52], line 1\u001b[0m\n\u001b[1;32m----> 1\u001b[0m d\n",
      "\u001b[1;31mNameError\u001b[0m: name 'd' is not defined"
     ]
    }
   ],
   "source": [
    "d"
   ]
  },
  {
   "cell_type": "code",
   "execution_count": 54,
   "id": "fe52153a-9317-4b3c-a5ce-ad8dc76df4c5",
   "metadata": {},
   "outputs": [
    {
     "name": "stdout",
     "output_type": "stream",
     "text": [
      "Hello\n"
     ]
    }
   ],
   "source": [
    "print(\"Hello\")"
   ]
  },
  {
   "cell_type": "code",
   "execution_count": 57,
   "id": "ad7248a3-ae18-4be3-b7af-ff6154a628e7",
   "metadata": {},
   "outputs": [],
   "source": [
    "#Writing down equations that we would write down while using Latex(lab systems) \n",
    "# Writing Math Functions\n",
    "from IPython.display import Latex"
   ]
  },
  {
   "cell_type": "code",
   "execution_count": 60,
   "id": "01bdfe5c-7fbf-4ab9-9d37-04547a8f92fb",
   "metadata": {},
   "outputs": [
    {
     "data": {
      "text/latex": [
       "$\\int_{a}^{b}f(x) dx$"
      ],
      "text/plain": [
       "<IPython.core.display.Latex object>"
      ]
     },
     "execution_count": 60,
     "metadata": {},
     "output_type": "execute_result"
    }
   ],
   "source": [
    "Latex(\"$\\int_{a}^{b}f(x) dx$\")"
   ]
  },
  {
   "cell_type": "markdown",
   "id": "c824b98a-088c-45e0-a837-3ccf2c17e8ed",
   "metadata": {},
   "source": [
    "## Interactive Calculator"
   ]
  },
  {
   "cell_type": "code",
   "execution_count": 61,
   "id": "bba47dde-e7bf-4ddb-8bd9-6a32bcb40f1a",
   "metadata": {},
   "outputs": [
    {
     "data": {
      "text/plain": [
       "2"
      ]
     },
     "execution_count": 61,
     "metadata": {},
     "output_type": "execute_result"
    }
   ],
   "source": [
    "# add two values \n",
    "1+1"
   ]
  },
  {
   "cell_type": "code",
   "execution_count": 62,
   "id": "713a0be0-a390-431a-ac95-9e5a15a321a0",
   "metadata": {},
   "outputs": [
    {
     "data": {
      "text/plain": [
       "1"
      ]
     },
     "execution_count": 62,
     "metadata": {},
     "output_type": "execute_result"
    }
   ],
   "source": [
    "# setting a variable\n",
    "a = 1\n",
    "a "
   ]
  },
  {
   "cell_type": "code",
   "execution_count": 63,
   "id": "5986c3fe-4e1b-433b-85ed-cd92e214f457",
   "metadata": {},
   "outputs": [
    {
     "data": {
      "text/plain": [
       "int"
      ]
     },
     "execution_count": 63,
     "metadata": {},
     "output_type": "execute_result"
    }
   ],
   "source": [
    "# checking type of variable \n",
    "type(a)"
   ]
  },
  {
   "cell_type": "code",
   "execution_count": 64,
   "id": "2abd2562-dab4-4dfb-94b2-dd969738f927",
   "metadata": {},
   "outputs": [
    {
     "data": {
      "text/plain": [
       "int"
      ]
     },
     "execution_count": 64,
     "metadata": {},
     "output_type": "execute_result"
    }
   ],
   "source": [
    "b = 245638295629374628183646383765293\n",
    "type (b)"
   ]
  },
  {
   "cell_type": "code",
   "execution_count": 65,
   "id": "f1902e41-f7c5-44a1-a2a2-c94563e698f8",
   "metadata": {},
   "outputs": [],
   "source": [
    "#Deleting specific objects \n",
    "del b"
   ]
  },
  {
   "cell_type": "code",
   "execution_count": 66,
   "id": "a4503724-f00b-4079-9f4a-3c13d5f4a79e",
   "metadata": {},
   "outputs": [
    {
     "ename": "NameError",
     "evalue": "name 'b' is not defined",
     "output_type": "error",
     "traceback": [
      "\u001b[1;31m---------------------------------------------------------------------------\u001b[0m",
      "\u001b[1;31mNameError\u001b[0m                                 Traceback (most recent call last)",
      "Cell \u001b[1;32mIn[66], line 1\u001b[0m\n\u001b[1;32m----> 1\u001b[0m b\n",
      "\u001b[1;31mNameError\u001b[0m: name 'b' is not defined"
     ]
    }
   ],
   "source": [
    "b"
   ]
  },
  {
   "cell_type": "code",
   "execution_count": 67,
   "id": "0a2bb28b-a835-40e2-92f1-321b32eaadb4",
   "metadata": {},
   "outputs": [
    {
     "data": {
      "text/plain": [
       "3.6999999999999997"
      ]
     },
     "execution_count": 67,
     "metadata": {},
     "output_type": "execute_result"
    }
   ],
   "source": [
    "# real numbers \n",
    "b = 1.4+ 2.3\n",
    "b"
   ]
  },
  {
   "cell_type": "code",
   "execution_count": 68,
   "id": "440a7c9d-3cbe-4a01-8cf2-c24dd5b6d30c",
   "metadata": {},
   "outputs": [
    {
     "name": "stdout",
     "output_type": "stream",
     "text": [
      "3.6999999999999997\n"
     ]
    }
   ],
   "source": [
    "print(b)"
   ]
  },
  {
   "cell_type": "code",
   "execution_count": 69,
   "id": "31d510b0-4b65-4253-b85a-a8b0185e959d",
   "metadata": {},
   "outputs": [
    {
     "data": {
      "text/plain": [
       "float"
      ]
     },
     "execution_count": 69,
     "metadata": {},
     "output_type": "execute_result"
    }
   ],
   "source": [
    "type(b)"
   ]
  },
  {
   "cell_type": "code",
   "execution_count": 70,
   "id": "3279f999-3c8f-4b28-a11c-5e4aa8621a35",
   "metadata": {},
   "outputs": [
    {
     "data": {
      "text/plain": [
       "1.4"
      ]
     },
     "execution_count": 70,
     "metadata": {},
     "output_type": "execute_result"
    }
   ],
   "source": [
    "c = 1.4 \n",
    "c"
   ]
  },
  {
   "cell_type": "code",
   "execution_count": 71,
   "id": "0eab2a74-36f0-4350-b88e-44080d7e7014",
   "metadata": {},
   "outputs": [
    {
     "data": {
      "text/plain": [
       "float"
      ]
     },
     "execution_count": 71,
     "metadata": {},
     "output_type": "execute_result"
    }
   ],
   "source": [
    "type (c)"
   ]
  },
  {
   "cell_type": "code",
   "execution_count": 72,
   "id": "67552dae-4ba4-49dc-b6e5-f8a8551d8fdc",
   "metadata": {},
   "outputs": [
    {
     "data": {
      "text/plain": [
       "(2+1.5j)"
      ]
     },
     "execution_count": 72,
     "metadata": {},
     "output_type": "execute_result"
    }
   ],
   "source": [
    "# complex numbers \n",
    "C = 2 + 1.5j\n",
    "C"
   ]
  },
  {
   "cell_type": "code",
   "execution_count": 73,
   "id": "215a0f6b-753d-4ab6-8ae3-8ba3a1b0c723",
   "metadata": {},
   "outputs": [
    {
     "data": {
      "text/plain": [
       "complex"
      ]
     },
     "execution_count": 73,
     "metadata": {},
     "output_type": "execute_result"
    }
   ],
   "source": [
    "type (C)"
   ]
  },
  {
   "cell_type": "code",
   "execution_count": 74,
   "id": "43b967fd-35e4-42bb-9aa7-40aceb02d2df",
   "metadata": {},
   "outputs": [
    {
     "ename": "SyntaxError",
     "evalue": "invalid decimal literal (324015156.py, line 1)",
     "output_type": "error",
     "traceback": [
      "\u001b[1;36m  Cell \u001b[1;32mIn[74], line 1\u001b[1;36m\u001b[0m\n\u001b[1;33m    e = 2 + 4.5i\u001b[0m\n\u001b[1;37m              ^\u001b[0m\n\u001b[1;31mSyntaxError\u001b[0m\u001b[1;31m:\u001b[0m invalid decimal literal\n"
     ]
    }
   ],
   "source": [
    "e = 2 + 4.5i\n",
    "e\n",
    "#only j is seen as a complex number ( engineering standard)"
   ]
  },
  {
   "cell_type": "markdown",
   "id": "ce9e6206-ae02-4840-9dd2-4a3403d75799",
   "metadata": {},
   "source": [
    "## More Interactive Calculations"
   ]
  },
  {
   "cell_type": "code",
   "execution_count": 75,
   "id": "57eb1033-9473-443c-88df-fc35f38a93a2",
   "metadata": {},
   "outputs": [
    {
     "data": {
      "text/plain": [
       "-24.0"
      ]
     },
     "execution_count": 75,
     "metadata": {},
     "output_type": "execute_result"
    }
   ],
   "source": [
    "# Arithmetic Operations\n",
    "1 + 2 -(3*4/6)**5 + (7-2)"
   ]
  },
  {
   "cell_type": "code",
   "execution_count": 76,
   "id": "c8b85f8a-500a-43c6-8cfd-9bdec004665a",
   "metadata": {},
   "outputs": [
    {
     "data": {
      "text/plain": [
       "25"
      ]
     },
     "execution_count": 76,
     "metadata": {},
     "output_type": "execute_result"
    }
   ],
   "source": [
    "5**2"
   ]
  },
  {
   "cell_type": "code",
   "execution_count": 77,
   "id": "1937a02a-c50e-4764-9e39-6ff95c4b0f96",
   "metadata": {},
   "outputs": [
    {
     "data": {
      "text/plain": [
       "1"
      ]
     },
     "execution_count": 77,
     "metadata": {},
     "output_type": "execute_result"
    }
   ],
   "source": [
    "# Simple Math Function \n",
    "abs(-1) "
   ]
  },
  {
   "cell_type": "code",
   "execution_count": 78,
   "id": "08459fab-1c72-4eae-99c5-73d1ff0e15e9",
   "metadata": {},
   "outputs": [
    {
     "data": {
      "text/plain": [
       "5"
      ]
     },
     "execution_count": 78,
     "metadata": {},
     "output_type": "execute_result"
    }
   ],
   "source": [
    "max(0,5)"
   ]
  },
  {
   "cell_type": "code",
   "execution_count": 79,
   "id": "c7fa3184-7f1e-4113-ae7d-ba9c14f3a013",
   "metadata": {},
   "outputs": [
    {
     "data": {
      "text/plain": [
       "5"
      ]
     },
     "execution_count": 79,
     "metadata": {},
     "output_type": "execute_result"
    }
   ],
   "source": [
    "#Nested things\n",
    "max(5, min(10,3,5,-5))"
   ]
  },
  {
   "cell_type": "code",
   "execution_count": 80,
   "id": "ed1f13f2-37ae-4627-95d6-0f6baf3eabd8",
   "metadata": {},
   "outputs": [
    {
     "data": {
      "text/plain": [
       "10"
      ]
     },
     "execution_count": 80,
     "metadata": {},
     "output_type": "execute_result"
    }
   ],
   "source": [
    "max(10, min(2,6,-9))"
   ]
  },
  {
   "cell_type": "code",
   "execution_count": 81,
   "id": "0351ad83-89fe-42f2-aa0e-78b9636d9211",
   "metadata": {},
   "outputs": [],
   "source": [
    "#Overwritting Functions !!!!!\n",
    "# don't do this!!\n",
    "max = 100 "
   ]
  },
  {
   "cell_type": "code",
   "execution_count": 82,
   "id": "78085221-9113-4b07-be5c-d9d0ce65cfef",
   "metadata": {},
   "outputs": [
    {
     "data": {
      "text/plain": [
       "100"
      ]
     },
     "execution_count": 82,
     "metadata": {},
     "output_type": "execute_result"
    }
   ],
   "source": [
    "max"
   ]
  },
  {
   "cell_type": "code",
   "execution_count": 83,
   "id": "e8460a9f-8067-4505-a822-c51ec410d69d",
   "metadata": {},
   "outputs": [
    {
     "ename": "TypeError",
     "evalue": "'int' object is not callable",
     "output_type": "error",
     "traceback": [
      "\u001b[1;31m---------------------------------------------------------------------------\u001b[0m",
      "\u001b[1;31mTypeError\u001b[0m                                 Traceback (most recent call last)",
      "Cell \u001b[1;32mIn[83], line 2\u001b[0m\n\u001b[0;32m      1\u001b[0m \u001b[38;5;66;03m# some time later....\u001b[39;00m\n\u001b[1;32m----> 2\u001b[0m x \u001b[38;5;241m=\u001b[39m \u001b[38;5;28mmax\u001b[39m (\u001b[38;5;241m4\u001b[39m, \u001b[38;5;241m5\u001b[39m)\n\u001b[0;32m      3\u001b[0m x\n",
      "\u001b[1;31mTypeError\u001b[0m: 'int' object is not callable"
     ]
    }
   ],
   "source": [
    "# some time later....\n",
    "x = max (4, 5)\n",
    "x"
   ]
  },
  {
   "cell_type": "code",
   "execution_count": null,
   "id": "b175fefe-ab27-45d4-8177-94eb0c93398f",
   "metadata": {},
   "outputs": [],
   "source": [
    "# the max becomes an interger and because it becomes an interger you are trying to call it but it won't work."
   ]
  },
  {
   "cell_type": "code",
   "execution_count": 84,
   "id": "ec3d3ba8-61fb-4499-9aaf-50b1fc1a136b",
   "metadata": {},
   "outputs": [],
   "source": [
    "del max"
   ]
  },
  {
   "cell_type": "code",
   "execution_count": 86,
   "id": "dee767ce-c435-4437-96e6-7a4b8b100c7f",
   "metadata": {},
   "outputs": [
    {
     "data": {
      "text/plain": [
       "5"
      ]
     },
     "execution_count": 86,
     "metadata": {},
     "output_type": "execute_result"
    }
   ],
   "source": [
    "x = max (4,5)\n",
    "x"
   ]
  },
  {
   "cell_type": "code",
   "execution_count": 88,
   "id": "ee487cfa-17e5-47b5-87eb-280eaedb126f",
   "metadata": {},
   "outputs": [
    {
     "data": {
      "text/plain": [
       "2"
      ]
     },
     "execution_count": 88,
     "metadata": {},
     "output_type": "execute_result"
    }
   ],
   "source": [
    "# Type Conversions\n",
    "int(2.715) "
   ]
  },
  {
   "cell_type": "code",
   "execution_count": 89,
   "id": "484f5d2c-1f51-469d-bcc3-621aefe48204",
   "metadata": {},
   "outputs": [
    {
     "data": {
      "text/plain": [
       "2.0"
      ]
     },
     "execution_count": 89,
     "metadata": {},
     "output_type": "execute_result"
    }
   ],
   "source": [
    "float(2)"
   ]
  },
  {
   "cell_type": "code",
   "execution_count": 90,
   "id": "efe3b07d-b8ca-4e2c-94cc-ed9dab8f8176",
   "metadata": {},
   "outputs": [
    {
     "data": {
      "text/plain": [
       "3.0"
      ]
     },
     "execution_count": 90,
     "metadata": {},
     "output_type": "execute_result"
    }
   ],
   "source": [
    "float(3)"
   ]
  },
  {
   "cell_type": "code",
   "execution_count": 91,
   "id": "a12e39cc-9ffb-4fc6-b3b2-b370af2587fa",
   "metadata": {},
   "outputs": [],
   "source": [
    "# In place operations, increnment by 0.5\n",
    "b = 2.5\n",
    "b += 0.5"
   ]
  },
  {
   "cell_type": "code",
   "execution_count": 92,
   "id": "6c2739c7-9c21-4a1e-a38e-8846778d1c67",
   "metadata": {},
   "outputs": [
    {
     "data": {
      "text/plain": [
       "3.0"
      ]
     },
     "execution_count": 92,
     "metadata": {},
     "output_type": "execute_result"
    }
   ],
   "source": [
    "b"
   ]
  },
  {
   "cell_type": "code",
   "execution_count": 93,
   "id": "95117332-6fb7-4261-8211-354a2542c6d5",
   "metadata": {},
   "outputs": [],
   "source": [
    "c = 3.4\n",
    "c -=0.6"
   ]
  },
  {
   "cell_type": "code",
   "execution_count": 94,
   "id": "4a9e4718-31ad-4997-b69e-ef4be73ba0e3",
   "metadata": {},
   "outputs": [
    {
     "data": {
      "text/plain": [
       "2.8"
      ]
     },
     "execution_count": 94,
     "metadata": {},
     "output_type": "execute_result"
    }
   ],
   "source": [
    "c"
   ]
  },
  {
   "cell_type": "code",
   "execution_count": 95,
   "id": "7f1d4658-9250-446f-b7f1-941771f1034e",
   "metadata": {},
   "outputs": [],
   "source": [
    "y = 2**0.5"
   ]
  },
  {
   "cell_type": "code",
   "execution_count": 96,
   "id": "73fb3da6-5b46-4de3-944f-9cfaab5c0695",
   "metadata": {},
   "outputs": [
    {
     "data": {
      "text/plain": [
       "1.4142135623730951"
      ]
     },
     "execution_count": 96,
     "metadata": {},
     "output_type": "execute_result"
    }
   ],
   "source": [
    "y"
   ]
  },
  {
   "cell_type": "code",
   "execution_count": 97,
   "id": "fa9e8b40-40b1-4b0b-b4ce-3a16286f4954",
   "metadata": {},
   "outputs": [
    {
     "name": "stderr",
     "output_type": "stream",
     "text": [
      "<>:1: SyntaxWarning: 'int' object is not callable; perhaps you missed a comma?\n",
      "<>:1: SyntaxWarning: 'int' object is not callable; perhaps you missed a comma?\n",
      "<>:1: SyntaxWarning: 'int' object is not callable; perhaps you missed a comma?\n",
      "<>:1: SyntaxWarning: 'int' object is not callable; perhaps you missed a comma?\n",
      "C:\\Users\\draco\\AppData\\Local\\Temp\\ipykernel_24436\\1750969781.py:1: SyntaxWarning: 'int' object is not callable; perhaps you missed a comma?\n",
      "  z = -3.0 + ((((3.0)**2)-4(-1.0)(5.0))**0.5)/2(-1.0)\n",
      "C:\\Users\\draco\\AppData\\Local\\Temp\\ipykernel_24436\\1750969781.py:1: SyntaxWarning: 'int' object is not callable; perhaps you missed a comma?\n",
      "  z = -3.0 + ((((3.0)**2)-4(-1.0)(5.0))**0.5)/2(-1.0)\n"
     ]
    },
    {
     "ename": "TypeError",
     "evalue": "'int' object is not callable",
     "output_type": "error",
     "traceback": [
      "\u001b[1;31m---------------------------------------------------------------------------\u001b[0m",
      "\u001b[1;31mTypeError\u001b[0m                                 Traceback (most recent call last)",
      "Cell \u001b[1;32mIn[97], line 1\u001b[0m\n\u001b[1;32m----> 1\u001b[0m z \u001b[38;5;241m=\u001b[39m \u001b[38;5;241m-\u001b[39m\u001b[38;5;241m3.0\u001b[39m \u001b[38;5;241m+\u001b[39m ((((\u001b[38;5;241m3.0\u001b[39m)\u001b[38;5;241m*\u001b[39m\u001b[38;5;241m*\u001b[39m\u001b[38;5;241m2\u001b[39m)\u001b[38;5;241m-\u001b[39m\u001b[38;5;241m4\u001b[39m(\u001b[38;5;241m-\u001b[39m\u001b[38;5;241m1.0\u001b[39m)(\u001b[38;5;241m5.0\u001b[39m))\u001b[38;5;241m*\u001b[39m\u001b[38;5;241m*\u001b[39m\u001b[38;5;241m0.5\u001b[39m)\u001b[38;5;241m/\u001b[39m\u001b[38;5;241m2\u001b[39m(\u001b[38;5;241m-\u001b[39m\u001b[38;5;241m1.0\u001b[39m)\n",
      "\u001b[1;31mTypeError\u001b[0m: 'int' object is not callable"
     ]
    }
   ],
   "source": [
    "z = -3.0 + ((((3.0)**2)-4(-1.0)(5.0))**0.5)/2(-1.0)"
   ]
  },
  {
   "cell_type": "code",
   "execution_count": 98,
   "id": "83ee5943-8598-4726-9f5e-0df0f86510fe",
   "metadata": {},
   "outputs": [
    {
     "data": {
      "text/plain": [
       "3.0"
      ]
     },
     "execution_count": 98,
     "metadata": {},
     "output_type": "execute_result"
    }
   ],
   "source": [
    "b"
   ]
  },
  {
   "cell_type": "code",
   "execution_count": 99,
   "id": "63e3b2dc-5337-4e76-a86c-d41b319545f3",
   "metadata": {},
   "outputs": [
    {
     "data": {
      "text/plain": [
       "2.8"
      ]
     },
     "execution_count": 99,
     "metadata": {},
     "output_type": "execute_result"
    }
   ],
   "source": [
    "c"
   ]
  },
  {
   "cell_type": "code",
   "execution_count": 100,
   "id": "fa9c9538-88ed-4253-ae7a-8506e1e726f0",
   "metadata": {},
   "outputs": [],
   "source": [
    "del c"
   ]
  },
  {
   "cell_type": "code",
   "execution_count": 101,
   "id": "a4ee6126-5b03-4045-82e3-ebcb23ae6843",
   "metadata": {},
   "outputs": [
    {
     "ename": "NameError",
     "evalue": "name 'c' is not defined",
     "output_type": "error",
     "traceback": [
      "\u001b[1;31m---------------------------------------------------------------------------\u001b[0m",
      "\u001b[1;31mNameError\u001b[0m                                 Traceback (most recent call last)",
      "Cell \u001b[1;32mIn[101], line 1\u001b[0m\n\u001b[1;32m----> 1\u001b[0m c\n",
      "\u001b[1;31mNameError\u001b[0m: name 'c' is not defined"
     ]
    }
   ],
   "source": [
    "c"
   ]
  },
  {
   "cell_type": "code",
   "execution_count": 102,
   "id": "23d5956d-aba4-4c33-8c2c-3225fa42717d",
   "metadata": {},
   "outputs": [
    {
     "data": {
      "text/plain": [
       "1"
      ]
     },
     "execution_count": 102,
     "metadata": {},
     "output_type": "execute_result"
    }
   ],
   "source": [
    "a"
   ]
  },
  {
   "cell_type": "code",
   "execution_count": 103,
   "id": "702a262d-093b-474d-a751-e3c42d293ebb",
   "metadata": {},
   "outputs": [],
   "source": [
    "del a"
   ]
  },
  {
   "cell_type": "code",
   "execution_count": 104,
   "id": "2748c0cf-38e6-4cf6-bb3d-298d2517d97c",
   "metadata": {},
   "outputs": [
    {
     "ename": "NameError",
     "evalue": "name 'a' is not defined",
     "output_type": "error",
     "traceback": [
      "\u001b[1;31m---------------------------------------------------------------------------\u001b[0m",
      "\u001b[1;31mNameError\u001b[0m                                 Traceback (most recent call last)",
      "Cell \u001b[1;32mIn[104], line 1\u001b[0m\n\u001b[1;32m----> 1\u001b[0m a\n",
      "\u001b[1;31mNameError\u001b[0m: name 'a' is not defined"
     ]
    }
   ],
   "source": [
    "a"
   ]
  },
  {
   "cell_type": "code",
   "execution_count": 105,
   "id": "44d0e9af-7125-4660-90e7-e0f5d2515446",
   "metadata": {},
   "outputs": [],
   "source": [
    "a = -1.0 "
   ]
  },
  {
   "cell_type": "code",
   "execution_count": 106,
   "id": "6ab0f276-2048-472d-934f-865dc0da2a5f",
   "metadata": {},
   "outputs": [
    {
     "data": {
      "text/plain": [
       "3.0"
      ]
     },
     "execution_count": 106,
     "metadata": {},
     "output_type": "execute_result"
    }
   ],
   "source": [
    "b"
   ]
  },
  {
   "cell_type": "code",
   "execution_count": 107,
   "id": "c8044135-ea49-43d3-b961-92d636a48c89",
   "metadata": {},
   "outputs": [],
   "source": [
    "c = 5.0"
   ]
  },
  {
   "cell_type": "code",
   "execution_count": 118,
   "id": "97f44d53-bd0c-495b-82ab-9d03e225baec",
   "metadata": {},
   "outputs": [
    {
     "data": {
      "text/plain": [
       "-1.1925824035672519"
      ]
     },
     "execution_count": 118,
     "metadata": {},
     "output_type": "execute_result"
    }
   ],
   "source": [
    "z =( -b + (((b**2)-4*a*c))**0.5)/(2*a)\n",
    "z"
   ]
  },
  {
   "cell_type": "code",
   "execution_count": 116,
   "id": "7b74e963-65e4-4e84-8987-26b5e2ffc396",
   "metadata": {},
   "outputs": [
    {
     "data": {
      "text/plain": [
       "32"
      ]
     },
     "execution_count": 116,
     "metadata": {},
     "output_type": "execute_result"
    }
   ],
   "source": [
    "4*8"
   ]
  },
  {
   "cell_type": "code",
   "execution_count": null,
   "id": "52e7ba7b-c51e-4409-aacd-164097c7432f",
   "metadata": {},
   "outputs": [],
   "source": []
  }
 ],
 "metadata": {
  "kernelspec": {
   "display_name": "Python 3 (ipykernel)",
   "language": "python",
   "name": "python3"
  },
  "language_info": {
   "codemirror_mode": {
    "name": "ipython",
    "version": 3
   },
   "file_extension": ".py",
   "mimetype": "text/x-python",
   "name": "python",
   "nbconvert_exporter": "python",
   "pygments_lexer": "ipython3",
   "version": "3.11.7"
  }
 },
 "nbformat": 4,
 "nbformat_minor": 5
}
