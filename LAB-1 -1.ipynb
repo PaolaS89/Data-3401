{
 "cells": [
  {
   "cell_type": "markdown",
   "id": "7c804eff",
   "metadata": {},
   "source": [
    "LAB-1 3401 PYTHON FOR DATA SCIENCE 1"
   ]
  },
  {
   "cell_type": "markdown",
   "id": "51769c3a",
   "metadata": {},
   "source": [
    "Name: Paola Santos Perez"
   ]
  },
  {
   "cell_type": "markdown",
   "id": "d950dfa0",
   "metadata": {},
   "source": [
    "Id : 1001810057"
   ]
  },
  {
   "cell_type": "code",
   "execution_count": 3,
   "id": "61986fbe",
   "metadata": {},
   "outputs": [],
   "source": [
    "# Question 1: create 10 integer variables and assign them to random values\n",
    "# Example: a = 10\n",
    "\n",
    "a = 8\n",
    "b = 90\n",
    "c = 78\n",
    "d = 88 \n",
    "e = 5\n",
    "f = 0 \n",
    "g = 67 \n",
    "triceratops = 65 \n",
    "ankylosaurus = 102 \n",
    "pachiosaurus = 99\n"
   ]
  },
  {
   "cell_type": "code",
   "execution_count": 4,
   "id": "3eaea26d",
   "metadata": {},
   "outputs": [
    {
     "name": "stdout",
     "output_type": "stream",
     "text": [
      "[8, 90, 78, 88, 5, 67, 65, 102, 99]\n"
     ]
    }
   ],
   "source": [
    "# Question 2: Create an empty list. \n",
    "# Append the created 10 variables from Question 1\n",
    "branch = list()\n",
    "branch.append(a)\n",
    "branch.append(b)\n",
    "branch.append(c)\n",
    "branch.append(d)\n",
    "branch.append(e)\n",
    "branch.append(g)\n",
    "branch.append(triceratops)\n",
    "branch.append(ankylosaurus)\n",
    "branch.append(pachiosaurus)\n",
    "print(branch)"
   ]
  },
  {
   "cell_type": "code",
   "execution_count": 13,
   "id": "c8bcfe81-e5fd-4183-8034-a4174feea684",
   "metadata": {},
   "outputs": [
    {
     "name": "stdout",
     "output_type": "stream",
     "text": [
      "[[8, 90, 78, 88, 5, 67, 65, 102, 99]]\n"
     ]
    },
    {
     "data": {
      "text/plain": [
       "list"
      ]
     },
     "execution_count": 13,
     "metadata": {},
     "output_type": "execute_result"
    }
   ],
   "source": [
    "# Another way of doing question 2\n",
    "u = list()\n",
    "u.append([a, b, c, d, e, g, triceratops, ankylosaurus, pachiosaurus])\n",
    "print(u)\n",
    "type(u)"
   ]
  },
  {
   "cell_type": "code",
   "execution_count": 38,
   "id": "75dbc042-2172-4cc5-a7c3-fad8e8d0a0df",
   "metadata": {},
   "outputs": [
    {
     "name": "stdout",
     "output_type": "stream",
     "text": [
      "[6, 7, -3, 88, 5, 67, 65, 102, 99]\n"
     ]
    },
    {
     "data": {
      "text/plain": [
       "list"
      ]
     },
     "execution_count": 38,
     "metadata": {},
     "output_type": "execute_result"
    }
   ],
   "source": [
    "# Another way of doing question 2 with extend. \n",
    "i = list()\n",
    "i.extend([a, b, c, d, e, g, triceratops, ankylosaurus, pachiosaurus])\n",
    "print(i)\n",
    "type(i)"
   ]
  },
  {
   "cell_type": "code",
   "execution_count": 19,
   "id": "bb7bf432",
   "metadata": {},
   "outputs": [
    {
     "data": {
      "text/plain": [
       "[8, 90, 78]"
      ]
     },
     "execution_count": 19,
     "metadata": {},
     "output_type": "execute_result"
    }
   ],
   "source": [
    "# Question 3:  Slice the first 3 elements of the list created from question 2. \n",
    "# Hint: Index elements 0,1,2\n",
    "branch[:3]\n",
    "\n"
   ]
  },
  {
   "cell_type": "code",
   "execution_count": 21,
   "id": "33ba1dd3",
   "metadata": {},
   "outputs": [
    {
     "data": {
      "text/plain": [
       "[65, 102, 99]"
      ]
     },
     "execution_count": 21,
     "metadata": {},
     "output_type": "execute_result"
    }
   ],
   "source": [
    "# Question 4: Slice last 3 elements using negative indexing.\n",
    "# Hint: last element in the list stands for -1\n",
    "\n",
    "branch[-3:]\n"
   ]
  },
  {
   "cell_type": "code",
   "execution_count": 46,
   "id": "9701ff97",
   "metadata": {},
   "outputs": [
    {
     "name": "stdout",
     "output_type": "stream",
     "text": [
      "[8, 90, 78, 65, [8, 90, 78], 102, 99, [65, 102, 99]]\n"
     ]
    }
   ],
   "source": [
    "# Question 5: Create the new lists from question 3 and 4.\n",
    "# Add the list from question 3 at position 4 index 3\n",
    "# Add the list from question 4 at position 7 index 6\n",
    "# Example: list [2,3,4,5,6,7,8,9,1,0]\n",
    "# After insertion list [2,3,4,[2,3,4],5,6,7,8,9,0]\n",
    "\n",
    "list = [8, 90, 78, 65, 102, 99] \n",
    "list.insert(4, [8, 90, 78]) \n",
    "list.insert(7, [65, 102, 99])\n",
    "print(list)"
   ]
  },
  {
   "cell_type": "code",
   "execution_count": 47,
   "id": "f7fb6c71",
   "metadata": {},
   "outputs": [
    {
     "data": {
      "text/plain": [
       "str"
      ]
     },
     "execution_count": 47,
     "metadata": {},
     "output_type": "execute_result"
    }
   ],
   "source": [
    "# Question 6: Create a String of of your choice. And print the datatype of the variable. The string should contain atleast 4 words in it.\n",
    "# Example string 'Jon is a great leader'\n",
    "\n",
    "o = 'My favorite dinosaurs are the Triceratops and the Ankylosaurus' \n",
    "type(o)\n",
    "\n",
    "\n",
    "\n"
   ]
  },
  {
   "cell_type": "code",
   "execution_count": 48,
   "id": "cea50130",
   "metadata": {},
   "outputs": [
    {
     "data": {
      "text/plain": [
       "'My favorite dinosaurs are the Triceratops and the AnkylosaurusMy favorite dinosaurs are the Triceratops and the AnkylosaurusMy favorite dinosaurs are the Triceratops and the AnkylosaurusMy favorite dinosaurs are the Triceratops and the AnkylosaurusMy favorite dinosaurs are the Triceratops and the AnkylosaurusMy favorite dinosaurs are the Triceratops and the AnkylosaurusMy favorite dinosaurs are the Triceratops and the AnkylosaurusMy favorite dinosaurs are the Triceratops and the AnkylosaurusMy favorite dinosaurs are the Triceratops and the AnkylosaurusMy favorite dinosaurs are the Triceratops and the Ankylosaurus'"
      ]
     },
     "execution_count": 48,
     "metadata": {},
     "output_type": "execute_result"
    }
   ],
   "source": [
    "# Question 7: Print the above created string 10 times. \n",
    "# NOTE: Donot use print statement.\n",
    "\n",
    "o*10\n",
    "\n"
   ]
  },
  {
   "cell_type": "code",
   "execution_count": 56,
   "id": "72bd1256",
   "metadata": {},
   "outputs": [
    {
     "name": "stdout",
     "output_type": "stream",
     "text": [
      "['My', 'favorite', 'dinosaurs', 'are', 'the', 'Triceratops', 'and', 'the', 'Ankylosaurus']\n"
     ]
    }
   ],
   "source": [
    "# Question 8: From the string created in question 5 split the each word and create a list consisting of the words.\n",
    "# HINT: Use 'split' function.\n",
    "# Example output: ['Jon', 'is', 'a', 'great', 'leader']\n",
    "t = o.split()\n",
    "print(t)"
   ]
  },
  {
   "cell_type": "code",
   "execution_count": 64,
   "id": "b1fcfd04",
   "metadata": {},
   "outputs": [
    {
     "name": "stdout",
     "output_type": "stream",
     "text": [
      "Get input from user\n"
     ]
    },
    {
     "name": "stdin",
     "output_type": "stream",
     "text": [
      " 102\n"
     ]
    },
    {
     "data": {
      "text/plain": [
       "True"
      ]
     },
     "execution_count": 64,
     "metadata": {},
     "output_type": "execute_result"
    }
   ],
   "source": [
    "# Question 9: Create a variable and get the input from user. \n",
    "# From the list created in question 2 try to find the presence of variable in the list and return true if present in list else false.\n",
    "# NOTE: Donot forget to type cast the variable.\n",
    "print('Get input from user')\n",
    "l = int(input())\n",
    "l in branch\n",
    "\n",
    "\n"
   ]
  },
  {
   "cell_type": "code",
   "execution_count": 68,
   "id": "cd9e0f19",
   "metadata": {},
   "outputs": [
    {
     "name": "stdout",
     "output_type": "stream",
     "text": [
      "Variable       Type        Data/Info\n",
      "------------------------------------\n",
      "Steg           list        n=6\n",
      "Y              int         6\n",
      "a              int         8\n",
      "ankylosaurus   int         102\n",
      "b              int         90\n",
      "branch         list        n=11\n",
      "c              int         78\n",
      "d              int         88\n",
      "e              int         5\n",
      "f              int         0\n",
      "g              int         67\n",
      "l              int         102\n",
      "list           list        n=8\n",
      "o              str         My favorite dinosaurs are<...>tops and the Ankylosaurus\n",
      "pachiosaurus   int         99\n",
      "t              list        n=9\n",
      "triceratops    int         65\n",
      "v              NoneType    None\n",
      "z              NoneType    None\n"
     ]
    }
   ],
   "source": [
    "# Question 10: Get the List of variables that you have created so far.\n",
    "%whos"
   ]
  },
  {
   "cell_type": "code",
   "execution_count": 73,
   "id": "b8da6895",
   "metadata": {},
   "outputs": [
    {
     "data": {
      "text/latex": [
       "$\\int xsin(x)dx $"
      ],
      "text/plain": [
       "<IPython.core.display.Latex object>"
      ]
     },
     "execution_count": 73,
     "metadata": {},
     "output_type": "execute_result"
    }
   ],
   "source": [
    "# Question 11: Display the integral xsin(x) using LATEX function.\n",
    "# Refer to the Lecture materials.\n",
    "from IPython.display import Latex\n",
    "Latex('$\\int xsin(x)dx $')\n",
    "\n",
    "\n"
   ]
  },
  {
   "cell_type": "code",
   "execution_count": 27,
   "id": "0904f358",
   "metadata": {},
   "outputs": [
    {
     "name": "stdout",
     "output_type": "stream",
     "text": [
      "(0.33333333333333337, 3.700743415417189e-15)\n"
     ]
    }
   ],
   "source": [
    "# Question 12: Evaluate the definite integral x**2 dx \n",
    "# Lower Bound = 0 Upper Bound = 1\n",
    "from scipy.integrate import quad \n",
    "def integrand(x):\n",
    "    return x**2\n",
    "print(quad(integrand, 0, 1))\n"
   ]
  },
  {
   "cell_type": "code",
   "execution_count": 36,
   "id": "2059a84f",
   "metadata": {},
   "outputs": [
    {
     "name": "stdin",
     "output_type": "stream",
     "text": [
      "what is the value of a? 6\n",
      "what is the value of b? 7\n",
      "what is the value of c? -3\n"
     ]
    },
    {
     "name": "stdout",
     "output_type": "stream",
     "text": [
      "-6.083333333333333\n"
     ]
    }
   ],
   "source": [
    "# BONUS QUESTION:\n",
    "# Get the roots of the equation 6x^2+7^x-3=0. Write the program in a way such that the user can input the values a, b, c. \n",
    "# In  the above equation a = 6, b = 7, c = -3.\n",
    "# Refer to class lectures you can find the equation.\n",
    "\n",
    "a = int(input(\"what is the value of a?\"))\n",
    "b = int(input(\"what is the value of b?\"))\n",
    "c = int(input(\"what is the value of c?\"))\n",
    "x = -b + ((b**2) - 4*a*c)**0.5/(2*a)\n",
    "print(x)"
   ]
  },
  {
   "cell_type": "code",
   "execution_count": 35,
   "id": "e062f491-ed7c-4f77-a640-7cc806b829ca",
   "metadata": {},
   "outputs": [
    {
     "name": "stdout",
     "output_type": "stream",
     "text": [
      "-6.083333333333333\n"
     ]
    }
   ],
   "source": [
    "print(x)"
   ]
  },
  {
   "cell_type": "code",
   "execution_count": null,
   "id": "d461b994-1468-43b9-b796-d782b889b53d",
   "metadata": {},
   "outputs": [],
   "source": []
  }
 ],
 "metadata": {
  "kernelspec": {
   "display_name": "Python 3 (ipykernel)",
   "language": "python",
   "name": "python3"
  },
  "language_info": {
   "codemirror_mode": {
    "name": "ipython",
    "version": 3
   },
   "file_extension": ".py",
   "mimetype": "text/x-python",
   "name": "python",
   "nbconvert_exporter": "python",
   "pygments_lexer": "ipython3",
   "version": "3.11.7"
  }
 },
 "nbformat": 4,
 "nbformat_minor": 5
}
