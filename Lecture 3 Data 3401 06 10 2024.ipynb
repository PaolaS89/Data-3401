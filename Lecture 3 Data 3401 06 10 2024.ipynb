{
 "cells": [
  {
   "cell_type": "code",
   "execution_count": 6,
   "id": "fd8c26de",
   "metadata": {},
   "outputs": [],
   "source": [
    "a = [10, 11, 12, 13, 14, 11]"
   ]
  },
  {
   "cell_type": "code",
   "execution_count": 2,
   "id": "b72d9974",
   "metadata": {},
   "outputs": [
    {
     "data": {
      "text/plain": [
       "13"
      ]
     },
     "execution_count": 2,
     "metadata": {},
     "output_type": "execute_result"
    }
   ],
   "source": [
    "a.pop(3)"
   ]
  },
  {
   "cell_type": "code",
   "execution_count": 7,
   "id": "25e91598",
   "metadata": {},
   "outputs": [],
   "source": [
    "#remove >>> remove the first 11\n",
    "a.remove(11)"
   ]
  },
  {
   "cell_type": "code",
   "execution_count": 8,
   "id": "c4debe6f",
   "metadata": {},
   "outputs": [
    {
     "name": "stdout",
     "output_type": "stream",
     "text": [
      "[10, 12, 13, 14, 11]\n"
     ]
    }
   ],
   "source": [
    "print(a)"
   ]
  },
  {
   "cell_type": "code",
   "execution_count": 10,
   "id": "e3e06bb4",
   "metadata": {},
   "outputs": [],
   "source": [
    "# sorting the list\n",
    "a.sort()"
   ]
  },
  {
   "cell_type": "code",
   "execution_count": 11,
   "id": "cf58c356",
   "metadata": {},
   "outputs": [
    {
     "data": {
      "text/plain": [
       "[10, 11, 12, 13, 14]"
      ]
     },
     "execution_count": 11,
     "metadata": {},
     "output_type": "execute_result"
    }
   ],
   "source": [
    "a"
   ]
  },
  {
   "cell_type": "code",
   "execution_count": 12,
   "id": "ed4d62de",
   "metadata": {},
   "outputs": [],
   "source": [
    "# reverse the list\n",
    "a.reverse()"
   ]
  },
  {
   "cell_type": "code",
   "execution_count": 13,
   "id": "83bf49f8",
   "metadata": {},
   "outputs": [
    {
     "data": {
      "text/plain": [
       "[14, 13, 12, 11, 10]"
      ]
     },
     "execution_count": 13,
     "metadata": {},
     "output_type": "execute_result"
    }
   ],
   "source": [
    "a"
   ]
  },
  {
   "cell_type": "code",
   "execution_count": 14,
   "id": "f94f1f98",
   "metadata": {},
   "outputs": [
    {
     "data": {
      "text/plain": [
       "[14, 13, 12, 11, 10]"
      ]
     },
     "execution_count": 14,
     "metadata": {},
     "output_type": "execute_result"
    }
   ],
   "source": [
    "# Mutable vs. Immmutable\n",
    "# Lists can be changed in place\n",
    "a"
   ]
  },
  {
   "cell_type": "code",
   "execution_count": 15,
   "id": "a230fd8f",
   "metadata": {},
   "outputs": [],
   "source": [
    "a[1:3] = [5,6]"
   ]
  },
  {
   "cell_type": "code",
   "execution_count": 16,
   "id": "b622e92f",
   "metadata": {},
   "outputs": [
    {
     "data": {
      "text/plain": [
       "[14, 5, 6, 11, 10]"
      ]
     },
     "execution_count": 16,
     "metadata": {},
     "output_type": "execute_result"
    }
   ],
   "source": [
    "a"
   ]
  },
  {
   "cell_type": "code",
   "execution_count": 17,
   "id": "284e9bc7",
   "metadata": {},
   "outputs": [
    {
     "ename": "TypeError",
     "evalue": "'str' object does not support item assignment",
     "output_type": "error",
     "traceback": [
      "\u001b[0;31m---------------------------------------------------------------------------\u001b[0m",
      "\u001b[0;31mTypeError\u001b[0m                                 Traceback (most recent call last)",
      "\u001b[0;32m/var/folders/_y/4s2tthkj1931hnkd_gyz26fh0000gn/T/ipykernel_17609/852477401.py\u001b[0m in \u001b[0;36m<module>\u001b[0;34m\u001b[0m\n\u001b[1;32m      2\u001b[0m \u001b[0;34m\u001b[0m\u001b[0m\n\u001b[1;32m      3\u001b[0m \u001b[0ms\u001b[0m \u001b[0;34m=\u001b[0m \u001b[0;34m'abcde'\u001b[0m\u001b[0;34m\u001b[0m\u001b[0;34m\u001b[0m\u001b[0m\n\u001b[0;32m----> 4\u001b[0;31m \u001b[0ms\u001b[0m\u001b[0;34m[\u001b[0m\u001b[0;36m1\u001b[0m\u001b[0;34m:\u001b[0m\u001b[0;36m3\u001b[0m\u001b[0;34m]\u001b[0m \u001b[0;34m=\u001b[0m \u001b[0;34m'xy'\u001b[0m\u001b[0;34m\u001b[0m\u001b[0;34m\u001b[0m\u001b[0m\n\u001b[0m",
      "\u001b[0;31mTypeError\u001b[0m: 'str' object does not support item assignment"
     ]
    }
   ],
   "source": [
    "# Immutable such as integers and strings, cannot be changed in place\n",
    "\n",
    "s = 'abcde'\n",
    "s[1:3] = 'xy'"
   ]
  },
  {
   "cell_type": "code",
   "execution_count": 18,
   "id": "95b3aa37",
   "metadata": {},
   "outputs": [
    {
     "data": {
      "text/plain": [
       "'bc'"
      ]
     },
     "execution_count": 18,
     "metadata": {},
     "output_type": "execute_result"
    }
   ],
   "source": [
    "s[1:3]"
   ]
  },
  {
   "cell_type": "code",
   "execution_count": 19,
   "id": "fc00ed31",
   "metadata": {},
   "outputs": [
    {
     "data": {
      "text/plain": [
       "'axyde'"
      ]
     },
     "execution_count": 19,
     "metadata": {},
     "output_type": "execute_result"
    }
   ],
   "source": [
    "s.replace('bc', 'xy')"
   ]
  },
  {
   "cell_type": "code",
   "execution_count": 20,
   "id": "d4a288f0",
   "metadata": {},
   "outputs": [
    {
     "data": {
      "text/plain": [
       "'a'"
      ]
     },
     "execution_count": 20,
     "metadata": {},
     "output_type": "execute_result"
    }
   ],
   "source": [
    "s[:1]"
   ]
  },
  {
   "cell_type": "code",
   "execution_count": 21,
   "id": "9bb4612b",
   "metadata": {},
   "outputs": [
    {
     "data": {
      "text/plain": [
       "'de'"
      ]
     },
     "execution_count": 21,
     "metadata": {},
     "output_type": "execute_result"
    }
   ],
   "source": [
    "s[3:]"
   ]
  },
  {
   "cell_type": "code",
   "execution_count": 22,
   "id": "7fe1b221",
   "metadata": {},
   "outputs": [],
   "source": [
    "s = s[:1] + 'xy' + s[3:]"
   ]
  },
  {
   "cell_type": "code",
   "execution_count": 23,
   "id": "b4e452dc",
   "metadata": {},
   "outputs": [
    {
     "data": {
      "text/plain": [
       "'axyde'"
      ]
     },
     "execution_count": 23,
     "metadata": {},
     "output_type": "execute_result"
    }
   ],
   "source": [
    "s"
   ]
  },
  {
   "cell_type": "markdown",
   "id": "c4d47567",
   "metadata": {},
   "source": [
    "## Tuple - Immutable Sequence"
   ]
  },
  {
   "cell_type": "code",
   "execution_count": 24,
   "id": "866eb870",
   "metadata": {},
   "outputs": [],
   "source": [
    "# Tuple Creation\n",
    "a = (10, 11, 12, 13, 14)"
   ]
  },
  {
   "cell_type": "code",
   "execution_count": 25,
   "id": "04e60fd3",
   "metadata": {},
   "outputs": [
    {
     "data": {
      "text/plain": [
       "(10, 11, 12, 13, 14)"
      ]
     },
     "execution_count": 25,
     "metadata": {},
     "output_type": "execute_result"
    }
   ],
   "source": [
    "a"
   ]
  },
  {
   "cell_type": "code",
   "execution_count": 26,
   "id": "b679bec4",
   "metadata": {},
   "outputs": [],
   "source": [
    "# Parantheses are optional\n",
    "\n",
    "a = 10, 11, 12, 13, 14"
   ]
  },
  {
   "cell_type": "code",
   "execution_count": 27,
   "id": "66eca8c0",
   "metadata": {},
   "outputs": [
    {
     "data": {
      "text/plain": [
       "(10, 11, 12, 13, 14)"
      ]
     },
     "execution_count": 27,
     "metadata": {},
     "output_type": "execute_result"
    }
   ],
   "source": [
    "a"
   ]
  },
  {
   "cell_type": "code",
   "execution_count": 28,
   "id": "3448afbd",
   "metadata": {},
   "outputs": [
    {
     "data": {
      "text/plain": [
       "tuple"
      ]
     },
     "execution_count": 28,
     "metadata": {},
     "output_type": "execute_result"
    }
   ],
   "source": [
    "type(a)"
   ]
  },
  {
   "cell_type": "code",
   "execution_count": 29,
   "id": "9ae79129",
   "metadata": {},
   "outputs": [],
   "source": [
    "# Tuples are immutable\n",
    "\n",
    "a = list(range(10, 15))"
   ]
  },
  {
   "cell_type": "code",
   "execution_count": 30,
   "id": "81136d86",
   "metadata": {},
   "outputs": [
    {
     "data": {
      "text/plain": [
       "[10, 11, 12, 13, 14]"
      ]
     },
     "execution_count": 30,
     "metadata": {},
     "output_type": "execute_result"
    }
   ],
   "source": [
    "a"
   ]
  },
  {
   "cell_type": "code",
   "execution_count": 31,
   "id": "e2883756",
   "metadata": {},
   "outputs": [],
   "source": [
    "b = tuple(a)"
   ]
  },
  {
   "cell_type": "code",
   "execution_count": 32,
   "id": "4b9f9f99",
   "metadata": {},
   "outputs": [
    {
     "data": {
      "text/plain": [
       "(10, 11, 12, 13, 14)"
      ]
     },
     "execution_count": 32,
     "metadata": {},
     "output_type": "execute_result"
    }
   ],
   "source": [
    "b"
   ]
  },
  {
   "cell_type": "code",
   "execution_count": 33,
   "id": "e96ecc16",
   "metadata": {},
   "outputs": [
    {
     "ename": "TypeError",
     "evalue": "'tuple' object does not support item assignment",
     "output_type": "error",
     "traceback": [
      "\u001b[0;31m---------------------------------------------------------------------------\u001b[0m",
      "\u001b[0;31mTypeError\u001b[0m                                 Traceback (most recent call last)",
      "\u001b[0;32m/var/folders/_y/4s2tthkj1931hnkd_gyz26fh0000gn/T/ipykernel_17609/510128614.py\u001b[0m in \u001b[0;36m<module>\u001b[0;34m\u001b[0m\n\u001b[0;32m----> 1\u001b[0;31m \u001b[0mb\u001b[0m\u001b[0;34m[\u001b[0m\u001b[0;36m3\u001b[0m\u001b[0;34m]\u001b[0m \u001b[0;34m=\u001b[0m \u001b[0;36m25\u001b[0m\u001b[0;34m\u001b[0m\u001b[0;34m\u001b[0m\u001b[0m\n\u001b[0m",
      "\u001b[0;31mTypeError\u001b[0m: 'tuple' object does not support item assignment"
     ]
    }
   ],
   "source": [
    "b[3] = 25"
   ]
  },
  {
   "cell_type": "markdown",
   "id": "37f73e2b",
   "metadata": {},
   "source": [
    "## Tuple (un)packing"
   ]
  },
  {
   "cell_type": "code",
   "execution_count": 34,
   "id": "76bd8638",
   "metadata": {},
   "outputs": [],
   "source": [
    "d = 1, 2, 3"
   ]
  },
  {
   "cell_type": "code",
   "execution_count": 35,
   "id": "5c2082c6",
   "metadata": {},
   "outputs": [
    {
     "data": {
      "text/plain": [
       "(1, 2, 3)"
      ]
     },
     "execution_count": 35,
     "metadata": {},
     "output_type": "execute_result"
    }
   ],
   "source": [
    "d"
   ]
  },
  {
   "cell_type": "code",
   "execution_count": 36,
   "id": "27d11e18",
   "metadata": {},
   "outputs": [],
   "source": [
    "# Multiple asssignments from a tuple\n",
    "a, b, c = d"
   ]
  },
  {
   "cell_type": "code",
   "execution_count": 37,
   "id": "c4754cfd",
   "metadata": {},
   "outputs": [
    {
     "data": {
      "text/plain": [
       "2"
      ]
     },
     "execution_count": 37,
     "metadata": {},
     "output_type": "execute_result"
    }
   ],
   "source": [
    "b"
   ]
  },
  {
   "cell_type": "code",
   "execution_count": 38,
   "id": "12ab71e4",
   "metadata": {},
   "outputs": [
    {
     "data": {
      "text/plain": [
       "1"
      ]
     },
     "execution_count": 38,
     "metadata": {},
     "output_type": "execute_result"
    }
   ],
   "source": [
    "a"
   ]
  },
  {
   "cell_type": "code",
   "execution_count": 39,
   "id": "b8aed28d",
   "metadata": {},
   "outputs": [],
   "source": [
    "a, b, c = 1, 2, 3"
   ]
  },
  {
   "cell_type": "code",
   "execution_count": 40,
   "id": "37efff0e",
   "metadata": {},
   "outputs": [],
   "source": [
    "# Why is it useful?\n",
    "#We will see later on that this feature is very common in Python. For example:\n",
    "\n",
    "friends = [('Andrew', 28),\n",
    "           ('Mario', 51),\n",
    "           ('Jack', 30)\n",
    "          ]"
   ]
  },
  {
   "cell_type": "code",
   "execution_count": 41,
   "id": "6207be66",
   "metadata": {},
   "outputs": [
    {
     "data": {
      "text/plain": [
       "[('Andrew', 28), ('Mario', 51), ('Jack', 30)]"
      ]
     },
     "execution_count": 41,
     "metadata": {},
     "output_type": "execute_result"
    }
   ],
   "source": [
    "friends"
   ]
  },
  {
   "cell_type": "code",
   "execution_count": 42,
   "id": "642c7e30",
   "metadata": {},
   "outputs": [
    {
     "name": "stdout",
     "output_type": "stream",
     "text": [
      "Andrew is 28 years old\n",
      "Mario is 51 years old\n",
      "Jack is 30 years old\n"
     ]
    }
   ],
   "source": [
    "for name, age in friends:\n",
    "    txt = \"{} is {} years old\"\n",
    "    print(txt.format(name, age))"
   ]
  },
  {
   "cell_type": "markdown",
   "id": "bb9ab2e0",
   "metadata": {},
   "source": [
    "## Dictionaries"
   ]
  },
  {
   "cell_type": "code",
   "execution_count": null,
   "id": "6bcb5bbb",
   "metadata": {},
   "outputs": [],
   "source": [
    "# Dictionaries store key/value pairs. Indexing a dictionary by a key returns the value\n",
    "# associated with it. !! The key value must be immutable !!"
   ]
  },
  {
   "cell_type": "code",
   "execution_count": 43,
   "id": "6c6f3187",
   "metadata": {},
   "outputs": [],
   "source": [
    "# Create an empty dictionary using curly brackets\n",
    "record = {}"
   ]
  },
  {
   "cell_type": "code",
   "execution_count": 44,
   "id": "bcc6d53b",
   "metadata": {},
   "outputs": [
    {
     "data": {
      "text/plain": [
       "dict"
      ]
     },
     "execution_count": 44,
     "metadata": {},
     "output_type": "execute_result"
    }
   ],
   "source": [
    "type(record)"
   ]
  },
  {
   "cell_type": "code",
   "execution_count": 45,
   "id": "1cb457ee",
   "metadata": {},
   "outputs": [],
   "source": [
    "# Each indexed assingment creates a key/value pair\n",
    "record['first'] = 'James'\n",
    "record['last'] = 'Maxwell'\n",
    "record['born'] = 1831"
   ]
  },
  {
   "cell_type": "code",
   "execution_count": 46,
   "id": "1590b8f5",
   "metadata": {},
   "outputs": [
    {
     "data": {
      "text/plain": [
       "{'first': 'James', 'last': 'Maxwell', 'born': 1831}"
      ]
     },
     "execution_count": 46,
     "metadata": {},
     "output_type": "execute_result"
    }
   ],
   "source": [
    "record"
   ]
  },
  {
   "cell_type": "code",
   "execution_count": 48,
   "id": "fcd1572f",
   "metadata": {},
   "outputs": [],
   "source": [
    "# Create another dictionary with initial entiries\n",
    "new_record = {'first' : 'James', 'middle' : 'Clerk'}"
   ]
  },
  {
   "cell_type": "code",
   "execution_count": 49,
   "id": "563cec1c",
   "metadata": {},
   "outputs": [],
   "source": [
    "# Updating a dictionary\n",
    "record.update(new_record)"
   ]
  },
  {
   "cell_type": "code",
   "execution_count": 50,
   "id": "fd909e2f",
   "metadata": {},
   "outputs": [
    {
     "data": {
      "text/plain": [
       "{'first': 'James', 'last': 'Maxwell', 'born': 1831, 'middle': 'Clerk'}"
      ]
     },
     "execution_count": 50,
     "metadata": {},
     "output_type": "execute_result"
    }
   ],
   "source": [
    "record"
   ]
  },
  {
   "cell_type": "code",
   "execution_count": 51,
   "id": "6755d1ae",
   "metadata": {},
   "outputs": [
    {
     "data": {
      "text/plain": [
       "'James'"
      ]
     },
     "execution_count": 51,
     "metadata": {},
     "output_type": "execute_result"
    }
   ],
   "source": [
    "# Accesing with index Notation\n",
    "record['first']"
   ]
  },
  {
   "cell_type": "code",
   "execution_count": 52,
   "id": "f46c152a",
   "metadata": {},
   "outputs": [
    {
     "data": {
      "text/plain": [
       "1831"
      ]
     },
     "execution_count": 52,
     "metadata": {},
     "output_type": "execute_result"
    }
   ],
   "source": [
    "# Access with get(key, default)\n",
    "#The get () method returns the value asscoiated with a key ; the optional second argument\n",
    "# is return value if the key is not in the dictionary\n",
    "\n",
    "record.get('born', 0)"
   ]
  },
  {
   "cell_type": "code",
   "execution_count": 54,
   "id": "195ccb63",
   "metadata": {},
   "outputs": [
    {
     "data": {
      "text/plain": [
       "'NA'"
      ]
     },
     "execution_count": 54,
     "metadata": {},
     "output_type": "execute_result"
    }
   ],
   "source": [
    "record.get('home', 'NA')"
   ]
  },
  {
   "cell_type": "code",
   "execution_count": null,
   "id": "53ea8289",
   "metadata": {},
   "outputs": [],
   "source": [
    "# Remove an entry with DEL"
   ]
  },
  {
   "cell_type": "code",
   "execution_count": 55,
   "id": "00827968",
   "metadata": {},
   "outputs": [],
   "source": [
    "del record['middle']"
   ]
  },
  {
   "cell_type": "code",
   "execution_count": 56,
   "id": "79cb2fd5",
   "metadata": {},
   "outputs": [
    {
     "data": {
      "text/plain": [
       "{'first': 'James', 'last': 'Maxwell', 'born': 1831}"
      ]
     },
     "execution_count": 56,
     "metadata": {},
     "output_type": "execute_result"
    }
   ],
   "source": [
    "record"
   ]
  },
  {
   "cell_type": "markdown",
   "id": "53836632",
   "metadata": {},
   "source": [
    "## Dictionaries in actions"
   ]
  },
  {
   "cell_type": "code",
   "execution_count": 57,
   "id": "ecea8e5b",
   "metadata": {},
   "outputs": [],
   "source": [
    "barn = {'cows' : 1,\n",
    "        'dogs' : 5,\n",
    "        'cats' : 3\n",
    "       }"
   ]
  },
  {
   "cell_type": "code",
   "execution_count": 58,
   "id": "42aa094c",
   "metadata": {},
   "outputs": [
    {
     "data": {
      "text/plain": [
       "False"
      ]
     },
     "execution_count": 58,
     "metadata": {},
     "output_type": "execute_result"
    }
   ],
   "source": [
    "# Test for chickens\n",
    "'chickens' in barn"
   ]
  },
  {
   "cell_type": "code",
   "execution_count": 59,
   "id": "d7ed3b4f",
   "metadata": {},
   "outputs": [
    {
     "data": {
      "text/plain": [
       "True"
      ]
     },
     "execution_count": 59,
     "metadata": {},
     "output_type": "execute_result"
    }
   ],
   "source": [
    "'cats' in barn"
   ]
  },
  {
   "cell_type": "code",
   "execution_count": 60,
   "id": "dcaac801",
   "metadata": {},
   "outputs": [
    {
     "data": {
      "text/plain": [
       "dict_keys(['cows', 'dogs', 'cats'])"
      ]
     },
     "execution_count": 60,
     "metadata": {},
     "output_type": "execute_result"
    }
   ],
   "source": [
    "# get a list of all keys\n",
    "barn.keys()"
   ]
  },
  {
   "cell_type": "code",
   "execution_count": 61,
   "id": "7110bcaa",
   "metadata": {},
   "outputs": [
    {
     "data": {
      "text/plain": [
       "dict_values([1, 5, 3])"
      ]
     },
     "execution_count": 61,
     "metadata": {},
     "output_type": "execute_result"
    }
   ],
   "source": [
    "# get a list of all values\n",
    "barn.values()"
   ]
  },
  {
   "cell_type": "code",
   "execution_count": 62,
   "id": "74ee5b44",
   "metadata": {},
   "outputs": [
    {
     "data": {
      "text/plain": [
       "dict_items([('cows', 1), ('dogs', 5), ('cats', 3)])"
      ]
     },
     "execution_count": 62,
     "metadata": {},
     "output_type": "execute_result"
    }
   ],
   "source": [
    "# return key/value tuples\n",
    "barn.items()"
   ]
  },
  {
   "cell_type": "code",
   "execution_count": 65,
   "id": "1978c060",
   "metadata": {},
   "outputs": [],
   "source": [
    "# Question:\n",
    "\n",
    "grades_dict = {'Physics' : 82,\n",
    "               'Math' : 65,\n",
    "               'History' : 75\n",
    "              }"
   ]
  },
  {
   "cell_type": "code",
   "execution_count": 66,
   "id": "f5fe3a49",
   "metadata": {},
   "outputs": [
    {
     "data": {
      "text/plain": [
       "{'Physics': 82, 'Math': 65, 'History': 75}"
      ]
     },
     "execution_count": 66,
     "metadata": {},
     "output_type": "execute_result"
    }
   ],
   "source": [
    "grades_dict"
   ]
  },
  {
   "cell_type": "code",
   "execution_count": 68,
   "id": "6c0c1cfe",
   "metadata": {},
   "outputs": [],
   "source": [
    "min_grade = min(grades_dict.values())"
   ]
  },
  {
   "cell_type": "code",
   "execution_count": 69,
   "id": "b6be2eb3",
   "metadata": {},
   "outputs": [
    {
     "data": {
      "text/plain": [
       "65"
      ]
     },
     "execution_count": 69,
     "metadata": {},
     "output_type": "execute_result"
    }
   ],
   "source": [
    "min_grade"
   ]
  },
  {
   "cell_type": "code",
   "execution_count": 70,
   "id": "4a44ebbc",
   "metadata": {},
   "outputs": [],
   "source": [
    "max_grade = max(grades_dict.values())"
   ]
  },
  {
   "cell_type": "code",
   "execution_count": 71,
   "id": "ee856882",
   "metadata": {},
   "outputs": [
    {
     "data": {
      "text/plain": [
       "82"
      ]
     },
     "execution_count": 71,
     "metadata": {},
     "output_type": "execute_result"
    }
   ],
   "source": [
    "max_grade"
   ]
  },
  {
   "cell_type": "code",
   "execution_count": 72,
   "id": "b01d682d",
   "metadata": {},
   "outputs": [],
   "source": [
    "# Standard deviation\n",
    "import statistics as st"
   ]
  },
  {
   "cell_type": "code",
   "execution_count": 73,
   "id": "e3920ced",
   "metadata": {},
   "outputs": [],
   "source": [
    "std_grade = st.stdev(grades_dict.values())"
   ]
  },
  {
   "cell_type": "code",
   "execution_count": 74,
   "id": "e170a435",
   "metadata": {},
   "outputs": [
    {
     "data": {
      "text/plain": [
       "8.54400374531753"
      ]
     },
     "execution_count": 74,
     "metadata": {},
     "output_type": "execute_result"
    }
   ],
   "source": [
    "std_grade"
   ]
  },
  {
   "cell_type": "code",
   "execution_count": 77,
   "id": "7d93aa1c",
   "metadata": {},
   "outputs": [],
   "source": [
    "# Zip function\n",
    "\n",
    "keys = ['Ten', 'Twenty', 'Thirty']\n",
    "values = [10, 20, 30]"
   ]
  },
  {
   "cell_type": "code",
   "execution_count": 78,
   "id": "4cbbdd21",
   "metadata": {},
   "outputs": [],
   "source": [
    "my_dict = dict(zip(keys, values))"
   ]
  },
  {
   "cell_type": "code",
   "execution_count": 80,
   "id": "f27c113a",
   "metadata": {},
   "outputs": [
    {
     "data": {
      "text/plain": [
       "zip"
      ]
     },
     "execution_count": 80,
     "metadata": {},
     "output_type": "execute_result"
    }
   ],
   "source": [
    "type(zip(keys, values))"
   ]
  },
  {
   "cell_type": "code",
   "execution_count": 79,
   "id": "b1707f30",
   "metadata": {},
   "outputs": [
    {
     "data": {
      "text/plain": [
       "{'Ten': 10, 'Twenty': 20, 'Thirty': 30}"
      ]
     },
     "execution_count": 79,
     "metadata": {},
     "output_type": "execute_result"
    }
   ],
   "source": [
    "my_dict"
   ]
  },
  {
   "cell_type": "code",
   "execution_count": 82,
   "id": "4ead5cda",
   "metadata": {},
   "outputs": [],
   "source": [
    "# Nested dictionary\n",
    "\n",
    "sampleDict = {\n",
    "    \"class\": {\n",
    "        \"student\": {\n",
    "            \"name\": \"Mike\",\n",
    "            \"marks\": {\n",
    "                \"physics\": 70,\n",
    "                \"history\": 80\n",
    "            }\n",
    "        }\n",
    "    }\n",
    "}"
   ]
  },
  {
   "cell_type": "code",
   "execution_count": 83,
   "id": "13b3fa77",
   "metadata": {},
   "outputs": [
    {
     "data": {
      "text/plain": [
       "{'class': {'student': {'name': 'Mike',\n",
       "   'marks': {'physics': 70, 'history': 80}}}}"
      ]
     },
     "execution_count": 83,
     "metadata": {},
     "output_type": "execute_result"
    }
   ],
   "source": [
    "sampleDict"
   ]
  },
  {
   "cell_type": "code",
   "execution_count": 84,
   "id": "373b32af",
   "metadata": {},
   "outputs": [
    {
     "name": "stdout",
     "output_type": "stream",
     "text": [
      "80\n"
     ]
    }
   ],
   "source": [
    "print(sampleDict['class']['student']['marks']['history'])"
   ]
  },
  {
   "cell_type": "markdown",
   "id": "7041574d",
   "metadata": {},
   "source": [
    "## Set Objects"
   ]
  },
  {
   "cell_type": "markdown",
   "id": "04dbb143",
   "metadata": {},
   "source": [
    "# Definition :  A set is an unordered collection of **unique**, immutable objects."
   ]
  },
  {
   "cell_type": "code",
   "execution_count": 85,
   "id": "cea1c35b",
   "metadata": {},
   "outputs": [],
   "source": [
    "# an empty set\n",
    "\n",
    "s = set()"
   ]
  },
  {
   "cell_type": "code",
   "execution_count": 86,
   "id": "084d30c9",
   "metadata": {},
   "outputs": [
    {
     "data": {
      "text/plain": [
       "set()"
      ]
     },
     "execution_count": 86,
     "metadata": {},
     "output_type": "execute_result"
    }
   ],
   "source": [
    "s"
   ]
  },
  {
   "cell_type": "code",
   "execution_count": 87,
   "id": "bb01bc9e",
   "metadata": {},
   "outputs": [],
   "source": [
    "# Convert a sequence to a set\n",
    "\n",
    "t = set([1,2,3,4,1])"
   ]
  },
  {
   "cell_type": "code",
   "execution_count": 88,
   "id": "db3cf207",
   "metadata": {},
   "outputs": [
    {
     "data": {
      "text/plain": [
       "{1, 2, 3, 4}"
      ]
     },
     "execution_count": 88,
     "metadata": {},
     "output_type": "execute_result"
    }
   ],
   "source": [
    "t"
   ]
  },
  {
   "cell_type": "code",
   "execution_count": 89,
   "id": "94ec87f7",
   "metadata": {},
   "outputs": [
    {
     "data": {
      "text/plain": [
       "set"
      ]
     },
     "execution_count": 89,
     "metadata": {},
     "output_type": "execute_result"
    }
   ],
   "source": [
    "type(t)"
   ]
  },
  {
   "cell_type": "code",
   "execution_count": 90,
   "id": "e79af2f2",
   "metadata": {},
   "outputs": [],
   "source": [
    "# Add function, update function , remove function\n",
    "-----"
   ]
  },
  {
   "cell_type": "code",
   "execution_count": 91,
   "id": "4417c919",
   "metadata": {},
   "outputs": [],
   "source": [
    "# Set operations \n",
    "\n",
    "a = set([1, 2, 3, 4])\n",
    "b = set([3, 4, 5, 6])"
   ]
  },
  {
   "cell_type": "code",
   "execution_count": 92,
   "id": "8c7a17c0",
   "metadata": {},
   "outputs": [
    {
     "data": {
      "text/plain": [
       "{1, 2, 3, 4, 5, 6}"
      ]
     },
     "execution_count": 92,
     "metadata": {},
     "output_type": "execute_result"
    }
   ],
   "source": [
    "a.union(b)"
   ]
  },
  {
   "cell_type": "code",
   "execution_count": 93,
   "id": "61324db0",
   "metadata": {},
   "outputs": [
    {
     "data": {
      "text/plain": [
       "{1, 2, 3, 4, 5, 6}"
      ]
     },
     "execution_count": 93,
     "metadata": {},
     "output_type": "execute_result"
    }
   ],
   "source": [
    "b.union(a)"
   ]
  },
  {
   "cell_type": "code",
   "execution_count": 94,
   "id": "743071a8",
   "metadata": {},
   "outputs": [
    {
     "data": {
      "text/plain": [
       "{3, 4}"
      ]
     },
     "execution_count": 94,
     "metadata": {},
     "output_type": "execute_result"
    }
   ],
   "source": [
    "a.intersection(b)"
   ]
  },
  {
   "cell_type": "code",
   "execution_count": 95,
   "id": "0d9e90f4",
   "metadata": {},
   "outputs": [
    {
     "data": {
      "text/plain": [
       "{3, 4}"
      ]
     },
     "execution_count": 95,
     "metadata": {},
     "output_type": "execute_result"
    }
   ],
   "source": [
    "b.intersection(a)"
   ]
  },
  {
   "cell_type": "code",
   "execution_count": 96,
   "id": "b88f9bb9",
   "metadata": {},
   "outputs": [
    {
     "data": {
      "text/plain": [
       "{1, 2}"
      ]
     },
     "execution_count": 96,
     "metadata": {},
     "output_type": "execute_result"
    }
   ],
   "source": [
    "a.difference(b)"
   ]
  },
  {
   "cell_type": "code",
   "execution_count": 97,
   "id": "87118655",
   "metadata": {},
   "outputs": [
    {
     "data": {
      "text/plain": [
       "{5, 6}"
      ]
     },
     "execution_count": 97,
     "metadata": {},
     "output_type": "execute_result"
    }
   ],
   "source": [
    "b.difference(a)"
   ]
  },
  {
   "cell_type": "code",
   "execution_count": 98,
   "id": "c11217ed",
   "metadata": {},
   "outputs": [
    {
     "data": {
      "text/plain": [
       "{1, 2, 5, 6}"
      ]
     },
     "execution_count": 98,
     "metadata": {},
     "output_type": "execute_result"
    }
   ],
   "source": [
    "a.symmetric_difference(b)"
   ]
  },
  {
   "cell_type": "markdown",
   "id": "80ef18ad",
   "metadata": {},
   "source": [
    "## Control Statements "
   ]
  },
  {
   "cell_type": "code",
   "execution_count": 99,
   "id": "7c21938c",
   "metadata": {},
   "outputs": [],
   "source": [
    "# If statements\n",
    "# While statements\n",
    "# For loops\n",
    " #-List comprehension\n",
    " #-Looping patterns"
   ]
  },
  {
   "cell_type": "markdown",
   "id": "f79ae942",
   "metadata": {},
   "source": [
    "## IF Statements"
   ]
  },
  {
   "cell_type": "code",
   "execution_count": null,
   "id": "d797c684",
   "metadata": {},
   "outputs": [],
   "source": []
  }
 ],
 "metadata": {
  "kernelspec": {
   "display_name": "Python 3 (ipykernel)",
   "language": "python",
   "name": "python3"
  },
  "language_info": {
   "codemirror_mode": {
    "name": "ipython",
    "version": 3
   },
   "file_extension": ".py",
   "mimetype": "text/x-python",
   "name": "python",
   "nbconvert_exporter": "python",
   "pygments_lexer": "ipython3",
   "version": "3.11.7"
  }
 },
 "nbformat": 4,
 "nbformat_minor": 5
}
