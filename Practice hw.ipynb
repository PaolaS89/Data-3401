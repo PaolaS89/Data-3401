{
 "cells": [
  {
   "cell_type": "code",
   "execution_count": 26,
   "id": "8ae9d87c-a704-45df-b409-aee1ad4245cb",
   "metadata": {},
   "outputs": [],
   "source": [
    "a = [2,3,4,5,6]\n",
    "y = [9,8,7,6]"
   ]
  },
  {
   "cell_type": "code",
   "execution_count": 8,
   "id": "9c911f72-ed65-4e35-bc54-b27cfe6fb4ac",
   "metadata": {},
   "outputs": [],
   "source": [
    "x = list1.append(list2)"
   ]
  },
  {
   "cell_type": "code",
   "execution_count": 12,
   "id": "7fdfff6c-b91a-4ebe-abf7-fb2f2b78c4c2",
   "metadata": {},
   "outputs": [],
   "source": [
    "x"
   ]
  },
  {
   "cell_type": "code",
   "execution_count": 40,
   "id": "de7f361e-534d-4f11-9840-63868df200b7",
   "metadata": {},
   "outputs": [
    {
     "data": {
      "text/plain": [
       "[2, 3, 4, 5, 6, [9, 8, 7, 6], [9, 8, 7, 6]]"
      ]
     },
     "execution_count": 40,
     "metadata": {},
     "output_type": "execute_result"
    }
   ],
   "source": [
    "a"
   ]
  },
  {
   "cell_type": "code",
   "execution_count": 28,
   "id": "b0e05c04-2b74-4dbd-831d-4673eba5a06e",
   "metadata": {},
   "outputs": [
    {
     "data": {
      "text/plain": [
       "[9, 8, 7, 6]"
      ]
     },
     "execution_count": 28,
     "metadata": {},
     "output_type": "execute_result"
    }
   ],
   "source": [
    "y"
   ]
  },
  {
   "cell_type": "code",
   "execution_count": 36,
   "id": "ed86fcb6-ec30-46d1-b710-3b6ff75742e5",
   "metadata": {},
   "outputs": [],
   "source": [
    "a.append(y)"
   ]
  },
  {
   "cell_type": "code",
   "execution_count": 42,
   "id": "58db8d51-aa66-4a9d-8940-c9ae1dfbf930",
   "metadata": {},
   "outputs": [],
   "source": [
    "v = list(range(4))"
   ]
  },
  {
   "cell_type": "code",
   "execution_count": 44,
   "id": "68b12a7d-98ec-4a9d-a3ca-48d37de5ad4a",
   "metadata": {},
   "outputs": [
    {
     "data": {
      "text/plain": [
       "[0, 1, 2, 3]"
      ]
     },
     "execution_count": 44,
     "metadata": {},
     "output_type": "execute_result"
    }
   ],
   "source": [
    "v"
   ]
  },
  {
   "cell_type": "code",
   "execution_count": 46,
   "id": "f1903f51-66ee-4fd4-979e-32c7bade6d93",
   "metadata": {},
   "outputs": [
    {
     "name": "stdin",
     "output_type": "stream",
     "text": [
      "write list1: 23456\n"
     ]
    }
   ],
   "source": [
    "a = list(input(\"write list1:\"))"
   ]
  },
  {
   "cell_type": "code",
   "execution_count": 48,
   "id": "02706ddc-b7d8-4f23-b851-862dae73cfb9",
   "metadata": {},
   "outputs": [
    {
     "name": "stdin",
     "output_type": "stream",
     "text": [
      "write list2: 9876\n"
     ]
    }
   ],
   "source": [
    "b = list(input(\"write list2:\"))"
   ]
  },
  {
   "cell_type": "code",
   "execution_count": 54,
   "id": "168e833c-3c1a-40f6-a96f-59bd39584de8",
   "metadata": {},
   "outputs": [],
   "source": [
    "a.extend(b)"
   ]
  },
  {
   "cell_type": "code",
   "execution_count": 58,
   "id": "35508717-903c-4e1b-bdd9-eb5951ca2d9f",
   "metadata": {},
   "outputs": [
    {
     "name": "stdout",
     "output_type": "stream",
     "text": [
      "['2', '3', '4', '5', '6', ['9', '8', '7', '6'], '9', '8', '7', '6']\n"
     ]
    }
   ],
   "source": [
    "print(a)"
   ]
  },
  {
   "cell_type": "code",
   "execution_count": 60,
   "id": "737d391c-1f2a-455d-b28b-7aecf93a24d7",
   "metadata": {},
   "outputs": [],
   "source": [
    "c = [1, 2, 3, 4, 5]\n",
    "d = [8, 9, 5, 4, 3]"
   ]
  },
  {
   "cell_type": "code",
   "execution_count": 64,
   "id": "6dc2bb02-65ac-4979-a5c2-f96e5ff122b8",
   "metadata": {},
   "outputs": [],
   "source": [
    "c.append(d)"
   ]
  },
  {
   "cell_type": "code",
   "execution_count": 66,
   "id": "f1407de1-4b25-427b-af5f-819825096f3b",
   "metadata": {},
   "outputs": [
    {
     "data": {
      "text/plain": [
       "[1, 2, 3, 4, 5, [8, 9, 5, 4, 3]]"
      ]
     },
     "execution_count": 66,
     "metadata": {},
     "output_type": "execute_result"
    }
   ],
   "source": [
    "c"
   ]
  },
  {
   "cell_type": "code",
   "execution_count": 68,
   "id": "77bc7634-918e-434d-adba-e3515cf0e49b",
   "metadata": {},
   "outputs": [],
   "source": [
    "u = [2, 3, 4, 5, 6]"
   ]
  },
  {
   "cell_type": "code",
   "execution_count": 70,
   "id": "13ccf134-7a24-41c4-a6c0-a2bcc70d1f64",
   "metadata": {},
   "outputs": [],
   "source": [
    "v = [9,8,7,6]"
   ]
  },
  {
   "cell_type": "code",
   "execution_count": 72,
   "id": "c6d4d926-9356-4fdc-9838-dbb1c4421a4d",
   "metadata": {},
   "outputs": [],
   "source": [
    "u.extend(v)"
   ]
  },
  {
   "cell_type": "code",
   "execution_count": 74,
   "id": "d4db76e1-272b-4fcd-80c5-042b9e5b90a9",
   "metadata": {},
   "outputs": [
    {
     "data": {
      "text/plain": [
       "[2, 3, 4, 5, 6, 9, 8, 7, 6]"
      ]
     },
     "execution_count": 74,
     "metadata": {},
     "output_type": "execute_result"
    }
   ],
   "source": [
    "u"
   ]
  },
  {
   "cell_type": "code",
   "execution_count": 76,
   "id": "8eab556d-750c-421e-be51-23e56ca2d383",
   "metadata": {},
   "outputs": [
    {
     "data": {
      "text/plain": [
       "[2, 3, 4, 5, 6, 9, 8, 7, 6, 9, 8, 7, 6]"
      ]
     },
     "execution_count": 76,
     "metadata": {},
     "output_type": "execute_result"
    }
   ],
   "source": [
    "u + v "
   ]
  },
  {
   "cell_type": "code",
   "execution_count": 78,
   "id": "2af7ab47-8b1a-48b2-9284-82d953c702e1",
   "metadata": {},
   "outputs": [],
   "source": [
    "n = [2, 3, 4, 5, 6]"
   ]
  },
  {
   "cell_type": "code",
   "execution_count": 80,
   "id": "03f0eaf8-9144-48e3-883a-33bdbd0d7c22",
   "metadata": {},
   "outputs": [],
   "source": [
    "m = [9, 8, 7, 6]"
   ]
  },
  {
   "cell_type": "code",
   "execution_count": null,
   "id": "b01b41e9-6e06-42c8-93b7-18b15388ed1c",
   "metadata": {},
   "outputs": [],
   "source": [
    "def merged_list(x,y):\n",
    "    for i in y: \n",
    "        if 10 < len(x) < 100:\n",
    "            x.extend(i)\n",
    "            for x in range(len(x)):\n",
    "                return [ item for pair in zip(x, y + [0]) for item in pair]\n",
    "                print(x)"
   ]
  },
  {
   "cell_type": "code",
   "execution_count": null,
   "id": "f88a003d-f1a7-487e-9c24-6d7ff2d94786",
   "metadata": {},
   "outputs": [],
   "source": []
  },
  {
   "cell_type": "code",
   "execution_count": 94,
   "id": "2a7002b0-6963-42a1-9fc2-9558eefa77e0",
   "metadata": {},
   "outputs": [
    {
     "name": "stdin",
     "output_type": "stream",
     "text": [
      "write list1 here: 23456\n",
      "write list2 here: 9876\n"
     ]
    }
   ],
   "source": [
    "o = list(input(\"write list1 here:\"))\n",
    "p = list(input(\"write list2 here:\"))"
   ]
  },
  {
   "cell_type": "code",
   "execution_count": 96,
   "id": "9e5e254a-5e2e-41fb-932e-80f454e2432c",
   "metadata": {},
   "outputs": [],
   "source": [
    "o.extend(p)"
   ]
  },
  {
   "cell_type": "code",
   "execution_count": 98,
   "id": "f52c592a-c024-4276-8be6-45308ff57703",
   "metadata": {},
   "outputs": [
    {
     "data": {
      "text/plain": [
       "['2', '3', '4', '5', '6', '9', '8', '7', '6']"
      ]
     },
     "execution_count": 98,
     "metadata": {},
     "output_type": "execute_result"
    }
   ],
   "source": [
    "o"
   ]
  },
  {
   "cell_type": "code",
   "execution_count": 100,
   "id": "43a300db-dc8b-4755-b437-139b1158eb97",
   "metadata": {},
   "outputs": [
    {
     "name": "stdout",
     "output_type": "stream",
     "text": [
      "[1, 'a', 2, 'b', 3, 'c']\n"
     ]
    }
   ],
   "source": [
    "lst1 = [1, 2, 3]\n",
    "lst2 = ['a', 'b', 'c']\n",
    " \n",
    "merged_lst = []\n",
    "min_len = min(len(lst1), len(lst2))\n",
    " \n",
    "for i in range(min_len):\n",
    "    merged_lst.append(lst1[i])\n",
    "    merged_lst.append(lst2[i])\n",
    " \n",
    "merged_lst += lst1[min_len:] + lst2[min_len:]\n",
    " \n",
    "print(merged_lst)"
   ]
  },
  {
   "cell_type": "code",
   "execution_count": 13,
   "id": "8ab5aebb-7d73-4052-98eb-16116fc7a7ef",
   "metadata": {},
   "outputs": [],
   "source": [
    "def add_phone():\n",
    "    a = input(\"Write down the phone number here:\")\n",
    "    while len(a) > 1:\n",
    "        print(a)"
   ]
  },
  {
   "cell_type": "code",
   "execution_count": null,
   "id": "67e8e115-23ab-4ceb-b8b5-12deace611bd",
   "metadata": {},
   "outputs": [],
   "source": []
  },
  {
   "cell_type": "code",
   "execution_count": 9,
   "id": "5add63bf-e9e2-449f-a200-b6ee4f2414c3",
   "metadata": {},
   "outputs": [],
   "source": [
    "def phonenumber_add(): \n",
    "    a = input(\"Write down the phone number here:\")"
   ]
  },
  {
   "cell_type": "code",
   "execution_count": null,
   "id": "a2031a8f-a333-4ff8-9530-98c33cd9d8c3",
   "metadata": {},
   "outputs": [],
   "source": [
    "def phonenumber_add(): \n",
    "    a = input(\"Write down the phone number here:\")\n",
    "while len(a) > 1:\n",
    "    print(a)"
   ]
  },
  {
   "cell_type": "code",
   "execution_count": 1,
   "id": "59ba0721-4363-46fd-a46e-115f026289c5",
   "metadata": {},
   "outputs": [
    {
     "name": "stdin",
     "output_type": "stream",
     "text": [
      "Input an integer: 6463532852\n"
     ]
    },
    {
     "name": "stdout",
     "output_type": "stream",
     "text": [
      "2 + 5 + 8 + 2 + 3 + 5 + 3 + 6 + 4 + 6 = 44\n"
     ]
    }
   ],
   "source": [
    "n = int(input(\"Input an integer:\"))\n",
    "sum_int=0  \n",
    "while float(n)/10 >= .1:   \n",
    "    r= n%10\n",
    "    sum_int += r\n",
    "    n= n//10   \n",
    "    if float(n)/10 > .1: print(r,  end= \" + \") \n",
    "    else: print(r,\"=\",sum_int)"
   ]
  },
  {
   "cell_type": "code",
   "execution_count": 3,
   "id": "2c7bde1a-9c35-4514-b01c-1a3ff0392d6c",
   "metadata": {},
   "outputs": [
    {
     "ename": "SyntaxError",
     "evalue": "invalid syntax (1377870452.py, line 1)",
     "output_type": "error",
     "traceback": [
      "\u001b[1;36m  Cell \u001b[1;32mIn[3], line 1\u001b[1;36m\u001b[0m\n\u001b[1;33m    The string \"PAYPALISHIRING\" is written in a zigzag pattern on a given number of rows like this: (you may want to display this pattern in a fixed font for better legibility)\u001b[0m\n\u001b[1;37m        ^\u001b[0m\n\u001b[1;31mSyntaxError\u001b[0m\u001b[1;31m:\u001b[0m invalid syntax\n"
     ]
    }
   ],
   "source": [
    "The string \"PAYPALISHIRING\" is written in a zigzag pattern on a given number of rows like this: (you may want to display this pattern in a fixed font for better legibility)"
   ]
  },
  {
   "cell_type": "code",
   "execution_count": 14,
   "id": "718199ed-4df3-48db-9a70-090f095d61b7",
   "metadata": {},
   "outputs": [
    {
     "ename": "IndentationError",
     "evalue": "unindent does not match any outer indentation level (<tokenize>, line 14)",
     "output_type": "error",
     "traceback": [
      "\u001b[1;36m  File \u001b[1;32m<tokenize>:14\u001b[1;36m\u001b[0m\n\u001b[1;33m    if down:\u001b[0m\n\u001b[1;37m    ^\u001b[0m\n\u001b[1;31mIndentationError\u001b[0m\u001b[1;31m:\u001b[0m unindent does not match any outer indentation level\n"
     ]
    }
   ],
   "source": [
    "def printZigZagConcat(str, n):\n",
    "    if n == 1:\n",
    "        print(str)\n",
    "        return\n",
    "l = len(str)\n",
    "  arr = [\"\" for x in range(l)]\n",
    "    row = 0\n",
    "    for i in range(l):\n",
    "        arr[row] += str[i]\n",
    "    if row == n - 1:\n",
    "        down = False\n",
    "    elif row == 0:\n",
    "        down = True\n",
    "    if down:\n",
    "        row += 1\n",
    "    else:\n",
    "        row -= 1\n",
    "    for i in range(n):\n",
    "        print(arr[i], end=\"\")\n",
    "\n",
    "str = \"PAYPALISHIRING\"\n",
    "N = 3\n",
    "printZigZagConcat(str, N)"
   ]
  },
  {
   "cell_type": "code",
   "execution_count": 16,
   "id": "dd296569-b074-486e-b6c9-24400e4df6b0",
   "metadata": {},
   "outputs": [
    {
     "ename": "TypeError",
     "evalue": "object of type 'type' has no len()",
     "output_type": "error",
     "traceback": [
      "\u001b[1;31m---------------------------------------------------------------------------\u001b[0m",
      "\u001b[1;31mTypeError\u001b[0m                                 Traceback (most recent call last)",
      "Cell \u001b[1;32mIn[16], line 5\u001b[0m\n\u001b[0;32m      3\u001b[0m         \u001b[38;5;28mprint\u001b[39m(\u001b[38;5;28mstr\u001b[39m)\n\u001b[0;32m      4\u001b[0m         \u001b[38;5;28;01mreturn\u001b[39;00m \n\u001b[1;32m----> 5\u001b[0m l \u001b[38;5;241m=\u001b[39m \u001b[38;5;28mlen\u001b[39m(\u001b[38;5;28mstr\u001b[39m)\n\u001b[0;32m      6\u001b[0m arr \u001b[38;5;241m=\u001b[39m [\u001b[38;5;124m\"\u001b[39m\u001b[38;5;124m\"\u001b[39m \u001b[38;5;28;01mfor\u001b[39;00m x \u001b[38;5;129;01min\u001b[39;00m \u001b[38;5;28mrange\u001b[39m(l)]\n\u001b[0;32m      7\u001b[0m row \u001b[38;5;241m=\u001b[39m \u001b[38;5;241m0\u001b[39m\n",
      "\u001b[1;31mTypeError\u001b[0m: object of type 'type' has no len()"
     ]
    }
   ],
   "source": [
    "def printZigZagConcat(str, n):\n",
    "    if n ==1: \n",
    "        print(str)\n",
    "        return \n",
    "l = len(str)\n",
    "arr = [\"\" for x in range(l)]\n",
    "row = 0\n",
    "for i in range(l):\n",
    "    arr[row] += str[i]\n",
    "if row == n - 1:\n",
    "    down = False \n",
    "elif row == 0:\n",
    "    down = True\n",
    "if down:\n",
    "    row += 1\n",
    "else: \n",
    "    row -= 1\n",
    "for i in range(n):\n",
    "    print(arr[i], end=\"\")\n",
    "\n",
    "str = \"PAYPALISHIRING\" \n",
    "N = 3\n",
    "printZigZagConcat(str, N)\n",
    "        "
   ]
  },
  {
   "cell_type": "code",
   "execution_count": null,
   "id": "87670557-68ce-4087-97d3-9e873e779519",
   "metadata": {},
   "outputs": [],
   "source": []
  }
 ],
 "metadata": {
  "kernelspec": {
   "display_name": "Python 3 (ipykernel)",
   "language": "python",
   "name": "python3"
  },
  "language_info": {
   "codemirror_mode": {
    "name": "ipython",
    "version": 3
   },
   "file_extension": ".py",
   "mimetype": "text/x-python",
   "name": "python",
   "nbconvert_exporter": "python",
   "pygments_lexer": "ipython3",
   "version": "3.11.7"
  }
 },
 "nbformat": 4,
 "nbformat_minor": 5
}
