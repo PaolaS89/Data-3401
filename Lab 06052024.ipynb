{
 "cells": [
  {
   "cell_type": "markdown",
   "id": "b11c5d92-2fa1-473f-934c-71c4eb063cb3",
   "metadata": {},
   "source": [
    "##  Harvey has 16 chocolates, Mike has 12 chocolates,. Harvey gave 6 chocolates to Donna and Mike gave 3 chocolates to Donna.\n",
    "## Print the output of cholates Harvey, Mike and Donna have. "
   ]
  },
  {
   "cell_type": "code",
   "execution_count": 5,
   "id": "dd66ada3-4dd7-4cc1-983c-c23809f30a9b",
   "metadata": {},
   "outputs": [
    {
     "name": "stdin",
     "output_type": "stream",
     "text": [
      "how many chocolates does harvey 16\n"
     ]
    }
   ],
   "source": [
    "H = int(input(\"how many chocolates does harvey\"))"
   ]
  },
  {
   "cell_type": "code",
   "execution_count": 8,
   "id": "20509ed6-912c-4e3d-8e3d-5c04dcf383bf",
   "metadata": {},
   "outputs": [
    {
     "data": {
      "text/plain": [
       "10"
      ]
     },
     "execution_count": 8,
     "metadata": {},
     "output_type": "execute_result"
    }
   ],
   "source": [
    "h = H-6\n",
    "h"
   ]
  },
  {
   "cell_type": "code",
   "execution_count": 10,
   "id": "57c8e4fe-ad2b-4339-add6-8d012c720b6d",
   "metadata": {},
   "outputs": [
    {
     "data": {
      "text/plain": [
       "10"
      ]
     },
     "execution_count": 10,
     "metadata": {},
     "output_type": "execute_result"
    }
   ],
   "source": [
    "h"
   ]
  },
  {
   "cell_type": "code",
   "execution_count": 6,
   "id": "bf41a230-9113-4abb-80c9-e32b6f951d5e",
   "metadata": {},
   "outputs": [
    {
     "name": "stdin",
     "output_type": "stream",
     "text": [
      "how many chocolates does Mike 12\n"
     ]
    }
   ],
   "source": [
    "M = int(input(\"how many chocolates does Mike\"))"
   ]
  },
  {
   "cell_type": "code",
   "execution_count": 7,
   "id": "e559944d-1bd6-4c7c-9860-a364d5295e00",
   "metadata": {},
   "outputs": [
    {
     "data": {
      "text/plain": [
       "9"
      ]
     },
     "execution_count": 7,
     "metadata": {},
     "output_type": "execute_result"
    }
   ],
   "source": [
    "m = M-3\n",
    "m"
   ]
  },
  {
   "cell_type": "code",
   "execution_count": 11,
   "id": "56790cac-9674-4b39-89dd-bbb7a81ecdfd",
   "metadata": {},
   "outputs": [
    {
     "name": "stdin",
     "output_type": "stream",
     "text": [
      "how many chocolates does Donna 0\n"
     ]
    }
   ],
   "source": [
    "D = int(input(\"how many chocolates does Donna\")) "
   ]
  },
  {
   "cell_type": "code",
   "execution_count": 12,
   "id": "206d0442-92a6-4e39-8fd7-ee7d0d75341c",
   "metadata": {},
   "outputs": [
    {
     "data": {
      "text/plain": [
       "9"
      ]
     },
     "execution_count": 12,
     "metadata": {},
     "output_type": "execute_result"
    }
   ],
   "source": [
    "d = D + 3 + 6 \n",
    "d"
   ]
  },
  {
   "cell_type": "code",
   "execution_count": 13,
   "id": "3c18a5d7-28f3-40ea-b633-141bcd1b994c",
   "metadata": {},
   "outputs": [],
   "source": [
    "result = h, m, d"
   ]
  },
  {
   "cell_type": "code",
   "execution_count": 15,
   "id": "894564c1-f2c4-4e5b-a6df-a5f622dc60bf",
   "metadata": {},
   "outputs": [
    {
     "data": {
      "text/plain": [
       "(10, 9, 9)"
      ]
     },
     "execution_count": 15,
     "metadata": {},
     "output_type": "execute_result"
    }
   ],
   "source": [
    "result"
   ]
  },
  {
   "cell_type": "markdown",
   "id": "0e77d9a6-99a4-406b-8591-fd181b67cac1",
   "metadata": {},
   "source": [
    "## Generalizing with the squareroot equation"
   ]
  },
  {
   "cell_type": "code",
   "execution_count": 35,
   "id": "f942d20f-f644-4453-b047-0324b22e255f",
   "metadata": {},
   "outputs": [
    {
     "name": "stdin",
     "output_type": "stream",
     "text": [
      "what is the value 1\n"
     ]
    }
   ],
   "source": [
    "a = int(input(\"what is the value\"))"
   ]
  },
  {
   "cell_type": "code",
   "execution_count": 41,
   "id": "4b1c524a-6abf-4a66-9dc2-4278455e48ed",
   "metadata": {},
   "outputs": [
    {
     "name": "stdin",
     "output_type": "stream",
     "text": [
      "what is the value 55\n"
     ]
    }
   ],
   "source": [
    "b = int(input(\"what is the value\"))"
   ]
  },
  {
   "cell_type": "code",
   "execution_count": 40,
   "id": "f439c643-20f1-4b4d-8839-b1eb770681a6",
   "metadata": {},
   "outputs": [
    {
     "name": "stdin",
     "output_type": "stream",
     "text": [
      "what is the value 1\n"
     ]
    }
   ],
   "source": [
    "c = int(input(\"what is the value\"))"
   ]
  },
  {
   "cell_type": "code",
   "execution_count": 42,
   "id": "01f194e3-f2e8-4948-aaca-43035244c40d",
   "metadata": {},
   "outputs": [],
   "source": [
    "y = -b + ((b**2)-4*a*c)**0.5/(2*a)"
   ]
  },
  {
   "cell_type": "code",
   "execution_count": 43,
   "id": "64447da3-626a-4b82-8ea7-0056d360d45c",
   "metadata": {},
   "outputs": [
    {
     "data": {
      "text/plain": [
       "-27.51818783267741"
      ]
     },
     "execution_count": 43,
     "metadata": {},
     "output_type": "execute_result"
    }
   ],
   "source": [
    "y"
   ]
  },
  {
   "cell_type": "markdown",
   "id": "fe2c4afe-6fcc-4a03-bbca-6027ee28e9a5",
   "metadata": {},
   "source": [
    "## Generalizing with F=ma"
   ]
  },
  {
   "cell_type": "code",
   "execution_count": 44,
   "id": "3d66db1d-5c7c-41ef-b4a8-0907448f64af",
   "metadata": {},
   "outputs": [
    {
     "name": "stdin",
     "output_type": "stream",
     "text": [
      "what is the mass 8\n"
     ]
    }
   ],
   "source": [
    "m = int(input(\"what is the mass\"))"
   ]
  },
  {
   "cell_type": "code",
   "execution_count": 50,
   "id": "9bfa6554-28ba-457f-8b88-d74258faabbe",
   "metadata": {},
   "outputs": [
    {
     "name": "stdin",
     "output_type": "stream",
     "text": [
      "what is the acceleration 9.8\n"
     ]
    }
   ],
   "source": [
    "e = float(input(\"what is the acceleration\"))"
   ]
  },
  {
   "cell_type": "code",
   "execution_count": 53,
   "id": "f6af151d-5df9-4eb0-b83d-5b04221a9553",
   "metadata": {},
   "outputs": [],
   "source": [
    "F = m*e"
   ]
  },
  {
   "cell_type": "code",
   "execution_count": 54,
   "id": "27d41cb9-bcd6-4477-98ef-af98e1a8c180",
   "metadata": {},
   "outputs": [
    {
     "data": {
      "text/plain": [
       "78.4"
      ]
     },
     "execution_count": 54,
     "metadata": {},
     "output_type": "execute_result"
    }
   ],
   "source": [
    "F"
   ]
  },
  {
   "cell_type": "code",
   "execution_count": null,
   "id": "a1bb5c59-a7ee-4a7e-93f0-86721044f0c9",
   "metadata": {},
   "outputs": [],
   "source": [
    "# Above we can see that we can use float in order to \n",
    "# have the decimal and fractionals in the input \n",
    "# instead of the integer"
   ]
  },
  {
   "cell_type": "markdown",
   "id": "735e1274-495d-4863-b07e-8be570e363bd",
   "metadata": {},
   "source": [
    "## An airplane accelerates down a runway at 3.20 m/s^2\n",
    "## for 32.8s untilis finally lifts off the ground. \n",
    "## Determine the distance traveled before takeoff. "
   ]
  },
  {
   "cell_type": "code",
   "execution_count": 55,
   "id": "3ae5ecb7-35f0-4630-a948-c92a28b5b62d",
   "metadata": {},
   "outputs": [
    {
     "name": "stdin",
     "output_type": "stream",
     "text": [
      "what is the acceleration of the airplane 3.20\n"
     ]
    }
   ],
   "source": [
    "p = float(input(\"what is the acceleration of the airplane\"))"
   ]
  },
  {
   "cell_type": "code",
   "execution_count": 56,
   "id": "8b24f40d-4fd4-41bc-b61f-4ec123cd013b",
   "metadata": {},
   "outputs": [
    {
     "name": "stdin",
     "output_type": "stream",
     "text": [
      "how long does it take on the ground 32.8\n"
     ]
    }
   ],
   "source": [
    "s = float(input(\"how long does it take on the ground\"))"
   ]
  },
  {
   "cell_type": "code",
   "execution_count": 57,
   "id": "a00a011d-a293-4e68-a421-d22136f48fc3",
   "metadata": {},
   "outputs": [],
   "source": [
    "x = 0.5*p*(s)**2"
   ]
  },
  {
   "cell_type": "code",
   "execution_count": 58,
   "id": "5f2b9d27-f86e-4e25-b01f-7e93dec13b05",
   "metadata": {},
   "outputs": [
    {
     "data": {
      "text/plain": [
       "1721.344"
      ]
     },
     "execution_count": 58,
     "metadata": {},
     "output_type": "execute_result"
    }
   ],
   "source": [
    "x"
   ]
  },
  {
   "cell_type": "markdown",
   "id": "edbeba15-4f01-424d-8dea-792747f1abc2",
   "metadata": {},
   "source": [
    "## A car starts from rest and accelerates uniformly over a time \n",
    "## of 5.21 seconds for a distance of 110m. \n",
    "## Determine the acceleration of the car. "
   ]
  },
  {
   "cell_type": "code",
   "execution_count": 60,
   "id": "b9db6a1c-695d-4111-a8b4-885a7c0a68ba",
   "metadata": {},
   "outputs": [
    {
     "name": "stdin",
     "output_type": "stream",
     "text": [
      "how long is the distance 110\n"
     ]
    }
   ],
   "source": [
    "y = int(input(\"how long is the distance\"))"
   ]
  },
  {
   "cell_type": "code",
   "execution_count": 61,
   "id": "d6097aaa-f36b-4255-a354-3f0761ccf1bf",
   "metadata": {},
   "outputs": [
    {
     "name": "stdin",
     "output_type": "stream",
     "text": [
      "what is the times frame 5.21\n"
     ]
    }
   ],
   "source": [
    "t = float(input(\"what is the times frame\"))"
   ]
  },
  {
   "cell_type": "code",
   "execution_count": 63,
   "id": "17de16f4-889a-4dbe-9baf-122b858ecf2e",
   "metadata": {},
   "outputs": [],
   "source": [
    "n = (y-0)*2/t**2"
   ]
  },
  {
   "cell_type": "code",
   "execution_count": 64,
   "id": "da99018d-5d1b-4630-a94b-a026d16fd423",
   "metadata": {},
   "outputs": [
    {
     "data": {
      "text/plain": [
       "8.104892039153997"
      ]
     },
     "execution_count": 64,
     "metadata": {},
     "output_type": "execute_result"
    }
   ],
   "source": [
    "n"
   ]
  },
  {
   "cell_type": "markdown",
   "id": "d73a10e6-a7b4-4f72-b173-a00d4a87578f",
   "metadata": {},
   "source": [
    "## Upton Chuck is riding the Giant Drop at Great America. \n",
    "## If Upton free falls for 2.60 seconds, what will be his final \n",
    "## velocity and how far will he fall?"
   ]
  },
  {
   "cell_type": "code",
   "execution_count": 65,
   "id": "a7ea3638-3138-4055-94e1-d94d95329e6b",
   "metadata": {},
   "outputs": [
    {
     "name": "stdin",
     "output_type": "stream",
     "text": [
      "what is the number of seconds 2.60\n"
     ]
    }
   ],
   "source": [
    "uc = float(input(\"what is the number of seconds\"))"
   ]
  },
  {
   "cell_type": "code",
   "execution_count": 66,
   "id": "7896bfc5-b86b-4aa6-aa53-8865e703974c",
   "metadata": {},
   "outputs": [
    {
     "name": "stdin",
     "output_type": "stream",
     "text": [
      "what is the initial velocity 0\n"
     ]
    }
   ],
   "source": [
    "v = int(input(\"what is the initial velocity\"))"
   ]
  },
  {
   "cell_type": "code",
   "execution_count": 74,
   "id": "ebe10291-c9af-4c83-892a-7d9a95de9bc4",
   "metadata": {},
   "outputs": [
    {
     "name": "stdin",
     "output_type": "stream",
     "text": [
      "what is the gravity -9.80\n"
     ]
    }
   ],
   "source": [
    "g = float(input(\"what is the gravity\"))"
   ]
  },
  {
   "cell_type": "code",
   "execution_count": 75,
   "id": "7b2827a0-b3b2-44de-80d6-6fba94a32f58",
   "metadata": {},
   "outputs": [],
   "source": [
    "y = v*uc + 0.5*g*uc**2"
   ]
  },
  {
   "cell_type": "code",
   "execution_count": 76,
   "id": "687743c0-91ba-4f6b-856f-63300f5f233e",
   "metadata": {},
   "outputs": [
    {
     "data": {
      "text/plain": [
       "-33.124"
      ]
     },
     "execution_count": 76,
     "metadata": {},
     "output_type": "execute_result"
    }
   ],
   "source": [
    "y\n",
    "#how far he will fall. "
   ]
  },
  {
   "cell_type": "code",
   "execution_count": 77,
   "id": "a30bd7f5-5dcb-4c1b-b97b-3e2f05cb9505",
   "metadata": {},
   "outputs": [],
   "source": [
    "#What is the final velocity?\n",
    "b = v + g*uc"
   ]
  },
  {
   "cell_type": "code",
   "execution_count": 78,
   "id": "7bbd3aca-5a3d-47ae-983d-c92aa7e9218b",
   "metadata": {},
   "outputs": [
    {
     "data": {
      "text/plain": [
       "-25.480000000000004"
      ]
     },
     "execution_count": 78,
     "metadata": {},
     "output_type": "execute_result"
    }
   ],
   "source": [
    "b"
   ]
  },
  {
   "cell_type": "markdown",
   "id": "3286c445-b89d-46e8-8b63-69730571daa5",
   "metadata": {},
   "source": [
    "## An engineer is designing the runway for an airport. \n",
    "## Of the planes that will use the airport, the lowest accelearation rate is \n",
    "## likely to be 3m/s^2. The takeoff speed for this plane will be 65 m/s. \n",
    "## Assuming this minimum acceleration, what is the minimum allowed length for the runway?"
   ]
  },
  {
   "cell_type": "code",
   "execution_count": null,
   "id": "79ea5101-4acf-42f3-8352-2f97baef6dc9",
   "metadata": {},
   "outputs": [],
   "source": []
  },
  {
   "cell_type": "code",
   "execution_count": null,
   "id": "b41718a1-63ba-4fda-99cf-08177d208401",
   "metadata": {},
   "outputs": [],
   "source": []
  },
  {
   "cell_type": "code",
   "execution_count": null,
   "id": "4483e2d8-b8cc-4107-8872-b14c5a81b88a",
   "metadata": {},
   "outputs": [],
   "source": []
  },
  {
   "cell_type": "code",
   "execution_count": null,
   "id": "4b97c7b8-53fe-4bca-8c80-56b52246f464",
   "metadata": {},
   "outputs": [],
   "source": []
  },
  {
   "cell_type": "code",
   "execution_count": null,
   "id": "f270aab6-c5e2-440e-b80e-d3deff1ad1a7",
   "metadata": {},
   "outputs": [],
   "source": []
  },
  {
   "cell_type": "code",
   "execution_count": null,
   "id": "04194183-8795-4337-b886-4ce07899a439",
   "metadata": {},
   "outputs": [],
   "source": []
  },
  {
   "cell_type": "code",
   "execution_count": null,
   "id": "a0d96a4b-42c4-4511-a8ce-fe3801edad38",
   "metadata": {},
   "outputs": [],
   "source": []
  },
  {
   "cell_type": "code",
   "execution_count": null,
   "id": "5938346f-a921-4d74-910b-897450adb2c4",
   "metadata": {},
   "outputs": [],
   "source": []
  }
 ],
 "metadata": {
  "kernelspec": {
   "display_name": "Python 3 (ipykernel)",
   "language": "python",
   "name": "python3"
  },
  "language_info": {
   "codemirror_mode": {
    "name": "ipython",
    "version": 3
   },
   "file_extension": ".py",
   "mimetype": "text/x-python",
   "name": "python",
   "nbconvert_exporter": "python",
   "pygments_lexer": "ipython3",
   "version": "3.11.7"
  }
 },
 "nbformat": 4,
 "nbformat_minor": 5
}
