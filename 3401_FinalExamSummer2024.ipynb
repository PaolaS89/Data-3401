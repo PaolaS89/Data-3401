{
 "cells": [
  {
   "cell_type": "markdown",
   "id": "6b15cca1",
   "metadata": {},
   "source": [
    " # <center>Final Exam &ndash; DATA 3401 (Summer 2024)</center>\n",
    "\n",
    "## Start Date: 08/06\n",
    "## Due Date: 08/09 (at 11:59pm) &ndash; this is a hard deadline so don't miss it!\n",
    "\n",
    "## Final Exam Rules\n",
    "This final exam is similar to the midterm exam. Please work the exercises below **on your own**.  When you have completed the exam, you should submit your completed jupyter notebook to Canvas.\n",
    "\n",
    "You may not discuss the problems with **anyone else**, including persons on an online internet forum. Consulting an outside source like this will be considered an academic integrity violation. **Any questions should be referred to me or TAs.**\n",
    "\n",
    "You may use all class resources including previous labs and lectures.\n",
    "\n",
    "Each problem below will be worth approximately 25 points, and the Bonus will be worth 10. Achieving over 100 on this exam is possible if the Bonus is completed."
   ]
  },
  {
   "cell_type": "markdown",
   "id": "6a8e04e0",
   "metadata": {},
   "source": [
    "## Question 1\n",
    "In this exercise you will be working with the files abalone.names and abalone.data uploaded to the Canvas. You need to figure out how to import the dataset to your notebook by yourself. Please make sure while we are checking your code, everything is working as intended!\n",
    "\n",
    "1. Open the abalone.names file in your notebook. Using the information there, in a new cell briefly describe the data set and relevant features.\n",
    "1. Load the abalone.data file into a dataframe using pandas. Print the .head() of the dataframe\n",
    "1. Using the .names file, **add** a header line(column names) to your dataframe describing each column of data\n",
    "1. Take the last column and make a new dataframe called `labels`\n",
    "    1. Print out the value counts of each label.\n",
    "    1. What do you notice about the distribution of the labels?\n",
    "    1. Based on your observations, propose a way to modify the labels to consolidate some of the classes, and do this modification (you should describe in comments in your code what change you are making)\n",
    "    1. After making your modification, show the value counts of the new labels again\n",
    "1. Make a scatterplot of each feature against the others (it should be a single plot)\n",
    "    1. Describe any trends or correlations that you see."
   ]
  },
  {
   "cell_type": "code",
   "execution_count": 1,
   "id": "93582ab2",
   "metadata": {},
   "outputs": [],
   "source": [
    "## Write your code here\n",
    "import pandas as pd\n",
    "import numpy as np \n",
    "import matplotlib.pyplot as plt\n",
    "import seaborn as sns"
   ]
  },
  {
   "cell_type": "code",
   "execution_count": 4,
   "id": "d02518b8-4871-458d-83b2-f41085bbc972",
   "metadata": {},
   "outputs": [],
   "source": [
    "#1: Open the abalone.names file in a notebook: "
   ]
  },
  {
   "cell_type": "markdown",
   "id": "0f9a66ea-f920-4d05-8cd8-2a824a6df5c8",
   "metadata": {},
   "source": [
    "# Describe dataset and relevant features. \n",
    "## The abalone. names file gives us the title of the abalone. data file \n",
    "## which is called Abalone data. \n",
    "## After giving us the title it gives us the sources for this dataset.\n",
    "## Giving us the original owners and the donors of the dataset. \n",
    "## The third column tells us the past usage; which tells us the kind of correlation \n",
    "## and which kind of analysis that was made. The third column or subset also shows \n",
    "## us that there were two different experiments with different percentages of correlation\n",
    "## column four gives us the paragraphs that describe how to find the age of the abalone \n",
    "## Also how the values were ranged by dividing by 200.\n",
    "## The fifth subset gives us the number of instances \n",
    "## The sixth subset gives us the number of attributions\n",
    "## The 7th subset gives us the attribute information which, if we look at the data\n",
    "## uses the title for each column from sex, length, diameter, height, etc... \n",
    "## (This will be useful for naming the columns of the dataset and all.) \n",
    "## It also gives us the numeric domains which show us by category with shell, diameter,\n",
    "## rings, etc..\n",
    "## Subset 8 tells us that no values are missing.\n",
    "## Subset 9 gives us the class distribution and the total of the class distribution \n"
   ]
  },
  {
   "cell_type": "code",
   "execution_count": 3,
   "id": "748045fa-4af3-4478-a031-da64d523e9ed",
   "metadata": {},
   "outputs": [],
   "source": [
    "#2: Load the abalone.data file into a dataframe using pandas:\n",
    "df_data = pd.read_csv(\"abalone.data\", header = None)"
   ]
  },
  {
   "cell_type": "code",
   "execution_count": 5,
   "id": "c5db3546-214f-4856-8c06-7e7cca7b0fe4",
   "metadata": {},
   "outputs": [
    {
     "data": {
      "text/html": [
       "<div>\n",
       "<style scoped>\n",
       "    .dataframe tbody tr th:only-of-type {\n",
       "        vertical-align: middle;\n",
       "    }\n",
       "\n",
       "    .dataframe tbody tr th {\n",
       "        vertical-align: top;\n",
       "    }\n",
       "\n",
       "    .dataframe thead th {\n",
       "        text-align: right;\n",
       "    }\n",
       "</style>\n",
       "<table border=\"1\" class=\"dataframe\">\n",
       "  <thead>\n",
       "    <tr style=\"text-align: right;\">\n",
       "      <th></th>\n",
       "      <th>0</th>\n",
       "      <th>1</th>\n",
       "      <th>2</th>\n",
       "      <th>3</th>\n",
       "      <th>4</th>\n",
       "      <th>5</th>\n",
       "      <th>6</th>\n",
       "      <th>7</th>\n",
       "      <th>8</th>\n",
       "    </tr>\n",
       "  </thead>\n",
       "  <tbody>\n",
       "    <tr>\n",
       "      <th>0</th>\n",
       "      <td>M</td>\n",
       "      <td>0.455</td>\n",
       "      <td>0.365</td>\n",
       "      <td>0.095</td>\n",
       "      <td>0.5140</td>\n",
       "      <td>0.2245</td>\n",
       "      <td>0.1010</td>\n",
       "      <td>0.150</td>\n",
       "      <td>15</td>\n",
       "    </tr>\n",
       "    <tr>\n",
       "      <th>1</th>\n",
       "      <td>M</td>\n",
       "      <td>0.350</td>\n",
       "      <td>0.265</td>\n",
       "      <td>0.090</td>\n",
       "      <td>0.2255</td>\n",
       "      <td>0.0995</td>\n",
       "      <td>0.0485</td>\n",
       "      <td>0.070</td>\n",
       "      <td>7</td>\n",
       "    </tr>\n",
       "    <tr>\n",
       "      <th>2</th>\n",
       "      <td>F</td>\n",
       "      <td>0.530</td>\n",
       "      <td>0.420</td>\n",
       "      <td>0.135</td>\n",
       "      <td>0.6770</td>\n",
       "      <td>0.2565</td>\n",
       "      <td>0.1415</td>\n",
       "      <td>0.210</td>\n",
       "      <td>9</td>\n",
       "    </tr>\n",
       "    <tr>\n",
       "      <th>3</th>\n",
       "      <td>M</td>\n",
       "      <td>0.440</td>\n",
       "      <td>0.365</td>\n",
       "      <td>0.125</td>\n",
       "      <td>0.5160</td>\n",
       "      <td>0.2155</td>\n",
       "      <td>0.1140</td>\n",
       "      <td>0.155</td>\n",
       "      <td>10</td>\n",
       "    </tr>\n",
       "    <tr>\n",
       "      <th>4</th>\n",
       "      <td>I</td>\n",
       "      <td>0.330</td>\n",
       "      <td>0.255</td>\n",
       "      <td>0.080</td>\n",
       "      <td>0.2050</td>\n",
       "      <td>0.0895</td>\n",
       "      <td>0.0395</td>\n",
       "      <td>0.055</td>\n",
       "      <td>7</td>\n",
       "    </tr>\n",
       "  </tbody>\n",
       "</table>\n",
       "</div>"
      ],
      "text/plain": [
       "   0      1      2      3       4       5       6      7   8\n",
       "0  M  0.455  0.365  0.095  0.5140  0.2245  0.1010  0.150  15\n",
       "1  M  0.350  0.265  0.090  0.2255  0.0995  0.0485  0.070   7\n",
       "2  F  0.530  0.420  0.135  0.6770  0.2565  0.1415  0.210   9\n",
       "3  M  0.440  0.365  0.125  0.5160  0.2155  0.1140  0.155  10\n",
       "4  I  0.330  0.255  0.080  0.2050  0.0895  0.0395  0.055   7"
      ]
     },
     "execution_count": 5,
     "metadata": {},
     "output_type": "execute_result"
    }
   ],
   "source": [
    "df_data.head()"
   ]
  },
  {
   "cell_type": "code",
   "execution_count": 7,
   "id": "ba2af678-2b0c-4656-861d-23d19041a787",
   "metadata": {},
   "outputs": [],
   "source": [
    "#3: Using the .names file, add a header line(collumn) to your \n",
    "#dataframe describing each column data\n",
    "names_cols = [\"Sex\",\n",
    "              \"Length\",\n",
    "              \"Diameter\",\n",
    "              \"Height\",\n",
    "              \"Whole_weight\",\n",
    "              \"Shucked_weight\",\n",
    "              \"Viscera_weight\",\n",
    "              \"Shell_weight\",\n",
    "              \"Rings\"]\n"
   ]
  },
  {
   "cell_type": "code",
   "execution_count": 9,
   "id": "6570cf09-0b8a-4e6d-84c3-d6702d897ed6",
   "metadata": {},
   "outputs": [],
   "source": [
    "df_data = pd.read_csv('abalone.data',\n",
    "                      header = None,\n",
    "                      names = names_cols)"
   ]
  },
  {
   "cell_type": "code",
   "execution_count": 11,
   "id": "cdcb875e-7b4d-4e62-bb6f-5c85fff3dda4",
   "metadata": {},
   "outputs": [
    {
     "data": {
      "text/html": [
       "<div>\n",
       "<style scoped>\n",
       "    .dataframe tbody tr th:only-of-type {\n",
       "        vertical-align: middle;\n",
       "    }\n",
       "\n",
       "    .dataframe tbody tr th {\n",
       "        vertical-align: top;\n",
       "    }\n",
       "\n",
       "    .dataframe thead th {\n",
       "        text-align: right;\n",
       "    }\n",
       "</style>\n",
       "<table border=\"1\" class=\"dataframe\">\n",
       "  <thead>\n",
       "    <tr style=\"text-align: right;\">\n",
       "      <th></th>\n",
       "      <th>Sex</th>\n",
       "      <th>Length</th>\n",
       "      <th>Diameter</th>\n",
       "      <th>Height</th>\n",
       "      <th>Whole_weight</th>\n",
       "      <th>Shucked_weight</th>\n",
       "      <th>Viscera_weight</th>\n",
       "      <th>Shell_weight</th>\n",
       "      <th>Rings</th>\n",
       "    </tr>\n",
       "  </thead>\n",
       "  <tbody>\n",
       "    <tr>\n",
       "      <th>0</th>\n",
       "      <td>M</td>\n",
       "      <td>0.455</td>\n",
       "      <td>0.365</td>\n",
       "      <td>0.095</td>\n",
       "      <td>0.5140</td>\n",
       "      <td>0.2245</td>\n",
       "      <td>0.1010</td>\n",
       "      <td>0.1500</td>\n",
       "      <td>15</td>\n",
       "    </tr>\n",
       "    <tr>\n",
       "      <th>1</th>\n",
       "      <td>M</td>\n",
       "      <td>0.350</td>\n",
       "      <td>0.265</td>\n",
       "      <td>0.090</td>\n",
       "      <td>0.2255</td>\n",
       "      <td>0.0995</td>\n",
       "      <td>0.0485</td>\n",
       "      <td>0.0700</td>\n",
       "      <td>7</td>\n",
       "    </tr>\n",
       "    <tr>\n",
       "      <th>2</th>\n",
       "      <td>F</td>\n",
       "      <td>0.530</td>\n",
       "      <td>0.420</td>\n",
       "      <td>0.135</td>\n",
       "      <td>0.6770</td>\n",
       "      <td>0.2565</td>\n",
       "      <td>0.1415</td>\n",
       "      <td>0.2100</td>\n",
       "      <td>9</td>\n",
       "    </tr>\n",
       "    <tr>\n",
       "      <th>3</th>\n",
       "      <td>M</td>\n",
       "      <td>0.440</td>\n",
       "      <td>0.365</td>\n",
       "      <td>0.125</td>\n",
       "      <td>0.5160</td>\n",
       "      <td>0.2155</td>\n",
       "      <td>0.1140</td>\n",
       "      <td>0.1550</td>\n",
       "      <td>10</td>\n",
       "    </tr>\n",
       "    <tr>\n",
       "      <th>4</th>\n",
       "      <td>I</td>\n",
       "      <td>0.330</td>\n",
       "      <td>0.255</td>\n",
       "      <td>0.080</td>\n",
       "      <td>0.2050</td>\n",
       "      <td>0.0895</td>\n",
       "      <td>0.0395</td>\n",
       "      <td>0.0550</td>\n",
       "      <td>7</td>\n",
       "    </tr>\n",
       "    <tr>\n",
       "      <th>...</th>\n",
       "      <td>...</td>\n",
       "      <td>...</td>\n",
       "      <td>...</td>\n",
       "      <td>...</td>\n",
       "      <td>...</td>\n",
       "      <td>...</td>\n",
       "      <td>...</td>\n",
       "      <td>...</td>\n",
       "      <td>...</td>\n",
       "    </tr>\n",
       "    <tr>\n",
       "      <th>4172</th>\n",
       "      <td>F</td>\n",
       "      <td>0.565</td>\n",
       "      <td>0.450</td>\n",
       "      <td>0.165</td>\n",
       "      <td>0.8870</td>\n",
       "      <td>0.3700</td>\n",
       "      <td>0.2390</td>\n",
       "      <td>0.2490</td>\n",
       "      <td>11</td>\n",
       "    </tr>\n",
       "    <tr>\n",
       "      <th>4173</th>\n",
       "      <td>M</td>\n",
       "      <td>0.590</td>\n",
       "      <td>0.440</td>\n",
       "      <td>0.135</td>\n",
       "      <td>0.9660</td>\n",
       "      <td>0.4390</td>\n",
       "      <td>0.2145</td>\n",
       "      <td>0.2605</td>\n",
       "      <td>10</td>\n",
       "    </tr>\n",
       "    <tr>\n",
       "      <th>4174</th>\n",
       "      <td>M</td>\n",
       "      <td>0.600</td>\n",
       "      <td>0.475</td>\n",
       "      <td>0.205</td>\n",
       "      <td>1.1760</td>\n",
       "      <td>0.5255</td>\n",
       "      <td>0.2875</td>\n",
       "      <td>0.3080</td>\n",
       "      <td>9</td>\n",
       "    </tr>\n",
       "    <tr>\n",
       "      <th>4175</th>\n",
       "      <td>F</td>\n",
       "      <td>0.625</td>\n",
       "      <td>0.485</td>\n",
       "      <td>0.150</td>\n",
       "      <td>1.0945</td>\n",
       "      <td>0.5310</td>\n",
       "      <td>0.2610</td>\n",
       "      <td>0.2960</td>\n",
       "      <td>10</td>\n",
       "    </tr>\n",
       "    <tr>\n",
       "      <th>4176</th>\n",
       "      <td>M</td>\n",
       "      <td>0.710</td>\n",
       "      <td>0.555</td>\n",
       "      <td>0.195</td>\n",
       "      <td>1.9485</td>\n",
       "      <td>0.9455</td>\n",
       "      <td>0.3765</td>\n",
       "      <td>0.4950</td>\n",
       "      <td>12</td>\n",
       "    </tr>\n",
       "  </tbody>\n",
       "</table>\n",
       "<p>4177 rows × 9 columns</p>\n",
       "</div>"
      ],
      "text/plain": [
       "     Sex  Length  Diameter  Height  Whole_weight  Shucked_weight  \\\n",
       "0      M   0.455     0.365   0.095        0.5140          0.2245   \n",
       "1      M   0.350     0.265   0.090        0.2255          0.0995   \n",
       "2      F   0.530     0.420   0.135        0.6770          0.2565   \n",
       "3      M   0.440     0.365   0.125        0.5160          0.2155   \n",
       "4      I   0.330     0.255   0.080        0.2050          0.0895   \n",
       "...   ..     ...       ...     ...           ...             ...   \n",
       "4172   F   0.565     0.450   0.165        0.8870          0.3700   \n",
       "4173   M   0.590     0.440   0.135        0.9660          0.4390   \n",
       "4174   M   0.600     0.475   0.205        1.1760          0.5255   \n",
       "4175   F   0.625     0.485   0.150        1.0945          0.5310   \n",
       "4176   M   0.710     0.555   0.195        1.9485          0.9455   \n",
       "\n",
       "      Viscera_weight  Shell_weight  Rings  \n",
       "0             0.1010        0.1500     15  \n",
       "1             0.0485        0.0700      7  \n",
       "2             0.1415        0.2100      9  \n",
       "3             0.1140        0.1550     10  \n",
       "4             0.0395        0.0550      7  \n",
       "...              ...           ...    ...  \n",
       "4172          0.2390        0.2490     11  \n",
       "4173          0.2145        0.2605     10  \n",
       "4174          0.2875        0.3080      9  \n",
       "4175          0.2610        0.2960     10  \n",
       "4176          0.3765        0.4950     12  \n",
       "\n",
       "[4177 rows x 9 columns]"
      ]
     },
     "execution_count": 11,
     "metadata": {},
     "output_type": "execute_result"
    }
   ],
   "source": [
    "df_data"
   ]
  },
  {
   "cell_type": "code",
   "execution_count": 15,
   "id": "2b24fceb-5f1a-4be0-9458-f5cce6800b4f",
   "metadata": {},
   "outputs": [
    {
     "data": {
      "text/html": [
       "<div>\n",
       "<style scoped>\n",
       "    .dataframe tbody tr th:only-of-type {\n",
       "        vertical-align: middle;\n",
       "    }\n",
       "\n",
       "    .dataframe tbody tr th {\n",
       "        vertical-align: top;\n",
       "    }\n",
       "\n",
       "    .dataframe thead th {\n",
       "        text-align: right;\n",
       "    }\n",
       "</style>\n",
       "<table border=\"1\" class=\"dataframe\">\n",
       "  <thead>\n",
       "    <tr style=\"text-align: right;\">\n",
       "      <th></th>\n",
       "      <th>Rings</th>\n",
       "    </tr>\n",
       "  </thead>\n",
       "  <tbody>\n",
       "    <tr>\n",
       "      <th>0</th>\n",
       "      <td>15</td>\n",
       "    </tr>\n",
       "    <tr>\n",
       "      <th>1</th>\n",
       "      <td>7</td>\n",
       "    </tr>\n",
       "    <tr>\n",
       "      <th>2</th>\n",
       "      <td>9</td>\n",
       "    </tr>\n",
       "    <tr>\n",
       "      <th>3</th>\n",
       "      <td>10</td>\n",
       "    </tr>\n",
       "    <tr>\n",
       "      <th>4</th>\n",
       "      <td>7</td>\n",
       "    </tr>\n",
       "    <tr>\n",
       "      <th>...</th>\n",
       "      <td>...</td>\n",
       "    </tr>\n",
       "    <tr>\n",
       "      <th>4172</th>\n",
       "      <td>11</td>\n",
       "    </tr>\n",
       "    <tr>\n",
       "      <th>4173</th>\n",
       "      <td>10</td>\n",
       "    </tr>\n",
       "    <tr>\n",
       "      <th>4174</th>\n",
       "      <td>9</td>\n",
       "    </tr>\n",
       "    <tr>\n",
       "      <th>4175</th>\n",
       "      <td>10</td>\n",
       "    </tr>\n",
       "    <tr>\n",
       "      <th>4176</th>\n",
       "      <td>12</td>\n",
       "    </tr>\n",
       "  </tbody>\n",
       "</table>\n",
       "<p>4177 rows × 1 columns</p>\n",
       "</div>"
      ],
      "text/plain": [
       "      Rings\n",
       "0        15\n",
       "1         7\n",
       "2         9\n",
       "3        10\n",
       "4         7\n",
       "...     ...\n",
       "4172     11\n",
       "4173     10\n",
       "4174      9\n",
       "4175     10\n",
       "4176     12\n",
       "\n",
       "[4177 rows x 1 columns]"
      ]
     },
     "execution_count": 15,
     "metadata": {},
     "output_type": "execute_result"
    }
   ],
   "source": [
    "# Taking the last column and making it into a new dataframe. \n",
    "df_labels = df_data[\"Rings\"]\n",
    "df_labels = df_labels.to_frame()\n",
    "df_labels"
   ]
  },
  {
   "cell_type": "code",
   "execution_count": 17,
   "id": "fbfbf0ad-1028-4220-9715-3e1109b913ce",
   "metadata": {},
   "outputs": [
    {
     "data": {
      "text/plain": [
       "Index(['Rings'], dtype='object')"
      ]
     },
     "execution_count": 17,
     "metadata": {},
     "output_type": "execute_result"
    }
   ],
   "source": [
    "df_labels.columns"
   ]
  },
  {
   "cell_type": "code",
   "execution_count": 19,
   "id": "944b3e10-5b1d-4218-95d7-222d18935140",
   "metadata": {},
   "outputs": [
    {
     "data": {
      "text/plain": [
       "Rings\n",
       "1       1\n",
       "2       1\n",
       "3      15\n",
       "4      57\n",
       "5     115\n",
       "6     259\n",
       "7     391\n",
       "8     568\n",
       "9     689\n",
       "10    634\n",
       "11    487\n",
       "12    267\n",
       "13    203\n",
       "14    126\n",
       "15    103\n",
       "16     67\n",
       "17     58\n",
       "18     42\n",
       "19     32\n",
       "20     26\n",
       "21     14\n",
       "22      6\n",
       "23      9\n",
       "24      2\n",
       "25      1\n",
       "26      1\n",
       "27      2\n",
       "29      1\n",
       "Name: count, dtype: int64"
      ]
     },
     "execution_count": 19,
     "metadata": {},
     "output_type": "execute_result"
    }
   ],
   "source": [
    "# we take the new dataframe and find the value count of each\n",
    "# the number of rings is on the left and therefore the \n",
    "# value counts are on the left. \n",
    "value_counts1 = df_labels[\"Rings\"].value_counts().sort_index()\n",
    "value_counts1"
   ]
  },
  {
   "cell_type": "code",
   "execution_count": null,
   "id": "d0ece67d-834b-4058-b273-2fdfe6a8c651",
   "metadata": {},
   "outputs": [],
   "source": [
    "# 1. What do you notice about the distribution of the label?\n",
    "# First, we have outliers with the count value depending on the number of rings.\n",
    "# Second, it will  be a right-skewed distribution if put on a plot.\n",
    "# Thirdly, maybe we can put all the value_counts that are the same into the same\n",
    "# classification.... like the multiple 2's and multiple 1's. Therefore eliminating \n",
    "# the outliers since they are not needed. "
   ]
  },
  {
   "cell_type": "code",
   "execution_count": 21,
   "id": "e27cc093-3c57-4493-bc88-4f04c7456ece",
   "metadata": {},
   "outputs": [
    {
     "data": {
      "text/html": [
       "<div>\n",
       "<style scoped>\n",
       "    .dataframe tbody tr th:only-of-type {\n",
       "        vertical-align: middle;\n",
       "    }\n",
       "\n",
       "    .dataframe tbody tr th {\n",
       "        vertical-align: top;\n",
       "    }\n",
       "\n",
       "    .dataframe thead th {\n",
       "        text-align: right;\n",
       "    }\n",
       "</style>\n",
       "<table border=\"1\" class=\"dataframe\">\n",
       "  <thead>\n",
       "    <tr style=\"text-align: right;\">\n",
       "      <th></th>\n",
       "      <th>count</th>\n",
       "    </tr>\n",
       "    <tr>\n",
       "      <th>Rings</th>\n",
       "      <th></th>\n",
       "    </tr>\n",
       "  </thead>\n",
       "  <tbody>\n",
       "    <tr>\n",
       "      <th>1</th>\n",
       "      <td>1</td>\n",
       "    </tr>\n",
       "    <tr>\n",
       "      <th>2</th>\n",
       "      <td>1</td>\n",
       "    </tr>\n",
       "    <tr>\n",
       "      <th>3</th>\n",
       "      <td>15</td>\n",
       "    </tr>\n",
       "    <tr>\n",
       "      <th>4</th>\n",
       "      <td>57</td>\n",
       "    </tr>\n",
       "    <tr>\n",
       "      <th>5</th>\n",
       "      <td>115</td>\n",
       "    </tr>\n",
       "    <tr>\n",
       "      <th>6</th>\n",
       "      <td>259</td>\n",
       "    </tr>\n",
       "    <tr>\n",
       "      <th>7</th>\n",
       "      <td>391</td>\n",
       "    </tr>\n",
       "    <tr>\n",
       "      <th>8</th>\n",
       "      <td>568</td>\n",
       "    </tr>\n",
       "    <tr>\n",
       "      <th>9</th>\n",
       "      <td>689</td>\n",
       "    </tr>\n",
       "    <tr>\n",
       "      <th>10</th>\n",
       "      <td>634</td>\n",
       "    </tr>\n",
       "    <tr>\n",
       "      <th>11</th>\n",
       "      <td>487</td>\n",
       "    </tr>\n",
       "    <tr>\n",
       "      <th>12</th>\n",
       "      <td>267</td>\n",
       "    </tr>\n",
       "    <tr>\n",
       "      <th>13</th>\n",
       "      <td>203</td>\n",
       "    </tr>\n",
       "    <tr>\n",
       "      <th>14</th>\n",
       "      <td>126</td>\n",
       "    </tr>\n",
       "    <tr>\n",
       "      <th>15</th>\n",
       "      <td>103</td>\n",
       "    </tr>\n",
       "    <tr>\n",
       "      <th>16</th>\n",
       "      <td>67</td>\n",
       "    </tr>\n",
       "    <tr>\n",
       "      <th>17</th>\n",
       "      <td>58</td>\n",
       "    </tr>\n",
       "    <tr>\n",
       "      <th>18</th>\n",
       "      <td>42</td>\n",
       "    </tr>\n",
       "    <tr>\n",
       "      <th>19</th>\n",
       "      <td>32</td>\n",
       "    </tr>\n",
       "    <tr>\n",
       "      <th>20</th>\n",
       "      <td>26</td>\n",
       "    </tr>\n",
       "    <tr>\n",
       "      <th>21</th>\n",
       "      <td>14</td>\n",
       "    </tr>\n",
       "    <tr>\n",
       "      <th>22</th>\n",
       "      <td>6</td>\n",
       "    </tr>\n",
       "    <tr>\n",
       "      <th>23</th>\n",
       "      <td>9</td>\n",
       "    </tr>\n",
       "    <tr>\n",
       "      <th>24</th>\n",
       "      <td>2</td>\n",
       "    </tr>\n",
       "    <tr>\n",
       "      <th>25</th>\n",
       "      <td>1</td>\n",
       "    </tr>\n",
       "    <tr>\n",
       "      <th>26</th>\n",
       "      <td>1</td>\n",
       "    </tr>\n",
       "    <tr>\n",
       "      <th>27</th>\n",
       "      <td>2</td>\n",
       "    </tr>\n",
       "    <tr>\n",
       "      <th>29</th>\n",
       "      <td>1</td>\n",
       "    </tr>\n",
       "  </tbody>\n",
       "</table>\n",
       "</div>"
      ],
      "text/plain": [
       "       count\n",
       "Rings       \n",
       "1          1\n",
       "2          1\n",
       "3         15\n",
       "4         57\n",
       "5        115\n",
       "6        259\n",
       "7        391\n",
       "8        568\n",
       "9        689\n",
       "10       634\n",
       "11       487\n",
       "12       267\n",
       "13       203\n",
       "14       126\n",
       "15       103\n",
       "16        67\n",
       "17        58\n",
       "18        42\n",
       "19        32\n",
       "20        26\n",
       "21        14\n",
       "22         6\n",
       "23         9\n",
       "24         2\n",
       "25         1\n",
       "26         1\n",
       "27         2\n",
       "29         1"
      ]
     },
     "execution_count": 21,
     "metadata": {},
     "output_type": "execute_result"
    }
   ],
   "source": [
    "# dropping the outliers: \n",
    "# first I'm going to make it into a dataframe\n",
    "value_counts1 =value_counts1.to_frame()\n",
    "value_counts1"
   ]
  },
  {
   "cell_type": "code",
   "execution_count": 23,
   "id": "13400e25-a2c0-4ae1-9410-40dd86946a8b",
   "metadata": {
    "scrolled": true
   },
   "outputs": [],
   "source": [
    "# second, I'm going to take the count row and drop the ones that are outliers\n",
    "value_counts1['count']= value_counts1['count'].drop(1)\n",
    "value_counts1['count']= value_counts1['count'].drop(2)\n",
    "value_counts1['count']= value_counts1['count'].drop(29)\n",
    "value_counts1['count']= value_counts1['count'].drop(27)\n",
    "value_counts1['count']= value_counts1['count'].drop(26)\n",
    "value_counts1['count']= value_counts1['count'].drop(24)\n",
    "value_counts1['count']= value_counts1['count'].drop(25)\n",
    "value_counts1['count']= value_counts1['count'].drop(22)\n",
    "value_counts1['count']= value_counts1['count'].drop(23)"
   ]
  },
  {
   "cell_type": "code",
   "execution_count": 25,
   "id": "4b58b07f-fd07-4f8a-b164-0a648437e97a",
   "metadata": {},
   "outputs": [],
   "source": [
    "# As you can see above we have null values now so we can drop them.\n",
    "# I dropped all the ones that were outliers because they had no values left.\n",
    "value_counts1 = value_counts1.dropna()"
   ]
  },
  {
   "cell_type": "code",
   "execution_count": 27,
   "id": "81fd2471-0b8e-4eb7-9f98-18a827a14fae",
   "metadata": {
    "scrolled": true
   },
   "outputs": [
    {
     "data": {
      "text/html": [
       "<div>\n",
       "<style scoped>\n",
       "    .dataframe tbody tr th:only-of-type {\n",
       "        vertical-align: middle;\n",
       "    }\n",
       "\n",
       "    .dataframe tbody tr th {\n",
       "        vertical-align: top;\n",
       "    }\n",
       "\n",
       "    .dataframe thead th {\n",
       "        text-align: right;\n",
       "    }\n",
       "</style>\n",
       "<table border=\"1\" class=\"dataframe\">\n",
       "  <thead>\n",
       "    <tr style=\"text-align: right;\">\n",
       "      <th></th>\n",
       "      <th>count</th>\n",
       "    </tr>\n",
       "    <tr>\n",
       "      <th>Rings</th>\n",
       "      <th></th>\n",
       "    </tr>\n",
       "  </thead>\n",
       "  <tbody>\n",
       "    <tr>\n",
       "      <th>3</th>\n",
       "      <td>15.0</td>\n",
       "    </tr>\n",
       "    <tr>\n",
       "      <th>4</th>\n",
       "      <td>57.0</td>\n",
       "    </tr>\n",
       "    <tr>\n",
       "      <th>5</th>\n",
       "      <td>115.0</td>\n",
       "    </tr>\n",
       "    <tr>\n",
       "      <th>6</th>\n",
       "      <td>259.0</td>\n",
       "    </tr>\n",
       "    <tr>\n",
       "      <th>7</th>\n",
       "      <td>391.0</td>\n",
       "    </tr>\n",
       "    <tr>\n",
       "      <th>8</th>\n",
       "      <td>568.0</td>\n",
       "    </tr>\n",
       "    <tr>\n",
       "      <th>9</th>\n",
       "      <td>689.0</td>\n",
       "    </tr>\n",
       "    <tr>\n",
       "      <th>10</th>\n",
       "      <td>634.0</td>\n",
       "    </tr>\n",
       "    <tr>\n",
       "      <th>11</th>\n",
       "      <td>487.0</td>\n",
       "    </tr>\n",
       "    <tr>\n",
       "      <th>12</th>\n",
       "      <td>267.0</td>\n",
       "    </tr>\n",
       "    <tr>\n",
       "      <th>13</th>\n",
       "      <td>203.0</td>\n",
       "    </tr>\n",
       "    <tr>\n",
       "      <th>14</th>\n",
       "      <td>126.0</td>\n",
       "    </tr>\n",
       "    <tr>\n",
       "      <th>15</th>\n",
       "      <td>103.0</td>\n",
       "    </tr>\n",
       "    <tr>\n",
       "      <th>16</th>\n",
       "      <td>67.0</td>\n",
       "    </tr>\n",
       "    <tr>\n",
       "      <th>17</th>\n",
       "      <td>58.0</td>\n",
       "    </tr>\n",
       "    <tr>\n",
       "      <th>18</th>\n",
       "      <td>42.0</td>\n",
       "    </tr>\n",
       "    <tr>\n",
       "      <th>19</th>\n",
       "      <td>32.0</td>\n",
       "    </tr>\n",
       "    <tr>\n",
       "      <th>20</th>\n",
       "      <td>26.0</td>\n",
       "    </tr>\n",
       "    <tr>\n",
       "      <th>21</th>\n",
       "      <td>14.0</td>\n",
       "    </tr>\n",
       "  </tbody>\n",
       "</table>\n",
       "</div>"
      ],
      "text/plain": [
       "       count\n",
       "Rings       \n",
       "3       15.0\n",
       "4       57.0\n",
       "5      115.0\n",
       "6      259.0\n",
       "7      391.0\n",
       "8      568.0\n",
       "9      689.0\n",
       "10     634.0\n",
       "11     487.0\n",
       "12     267.0\n",
       "13     203.0\n",
       "14     126.0\n",
       "15     103.0\n",
       "16      67.0\n",
       "17      58.0\n",
       "18      42.0\n",
       "19      32.0\n",
       "20      26.0\n",
       "21      14.0"
      ]
     },
     "execution_count": 27,
     "metadata": {},
     "output_type": "execute_result"
    }
   ],
   "source": [
    "# 3.After making your modification, show the value counts of the new labels again\n",
    "# Showing the value counts after the modification \n",
    "value_counts1"
   ]
  },
  {
   "cell_type": "code",
   "execution_count": null,
   "id": "9f7a7d13-7bba-407a-82d3-93c5bf52c6e3",
   "metadata": {},
   "outputs": [],
   "source": [
    "# 4. Make a scatterplot of each feature against the others (it should be a single plot)\n",
    "#Describe any trends or correlations that you see"
   ]
  },
  {
   "cell_type": "code",
   "execution_count": 29,
   "id": "3f689969-ebb2-4c0b-be87-348e64db1eed",
   "metadata": {},
   "outputs": [
    {
     "data": {
      "image/png": "[encoded data removed]",
      "text/plain": [
       "<Figure size 640x480 with 1 Axes>"
      ]
     },
     "metadata": {},
     "output_type": "display_data"
    }
   ],
   "source": [
    "sns.scatterplot(value_counts1)\n",
    "plt.title(\"Dist. of Value Counts of Rings\")\n",
    "plt.xlabel(\"Num. of Rings\")\n",
    "plt.ylabel(\"Value Counts\")\n",
    "plt.show()\n",
    "# The scatterplot is more compact than it would have been\n",
    "# it is the right-skewed correlation \n",
    "# The mode is around 700 and it happens when there is 10 rings"
   ]
  },
  {
   "cell_type": "markdown",
   "id": "ad0e2e8e",
   "metadata": {},
   "source": [
    "## Question 2\n",
    "If you invest a principal value of $P$ at time 0, and interest is continuously compounded at a rate $r$ (between 0 and 1), then the amount of money you would have after $t$ years is\n",
    "$$M(t) = Pe^{rt}.$$\n",
    "Fry has \\\\$0.01 in his bank account, but is accidentally transported 1,000 years into the future. He returns to his bank (which luckily still exists) to see how much money he now has. Assume Fry's account earns continuously compounded interest at a rate of 5\\% (or $r=0.05$).\n",
    "1. Create a numpy array of time from 0 to 1,000 years increasing by 1 year\n",
    "1. Create a new numpy array that calculates how much money Fry's account has at each year\n",
    "1. Plot Fry's money over the given timeframe\n",
    "\n",
    "Now if Fry only earned simple interest, the amount of money he would have after $t$ years would be\n",
    "$$ S(t) = P(1+rt).$$\n",
    "\n",
    "1. Perform the same procedure as steps 1-3 above assuming Fry earns 5\\% simple interest.\n",
    "1. To illustrate the difference, also plot $M(t)-S(t)$ over the timeframe.\n",
    "1. What do you conclude?"
   ]
  },
  {
   "cell_type": "code",
   "execution_count": 31,
   "id": "33135bac",
   "metadata": {},
   "outputs": [],
   "source": [
    "# Write your code here\n",
    "time= np.arange(0,1001)"
   ]
  },
  {
   "cell_type": "code",
   "execution_count": 33,
   "id": "a59a7554-97b7-4573-99df-c4670ced1a04",
   "metadata": {},
   "outputs": [
    {
     "data": {
      "text/plain": [
       "array([   0,    1,    2, ...,  998,  999, 1000])"
      ]
     },
     "execution_count": 33,
     "metadata": {},
     "output_type": "execute_result"
    }
   ],
   "source": [
    "time"
   ]
  },
  {
   "cell_type": "code",
   "execution_count": 35,
   "id": "4f2ae94f-8736-4b28-88d4-cd8e201e73bb",
   "metadata": {},
   "outputs": [
    {
     "data": {
      "text/plain": [
       "array([1.00000000e-02, 1.05127110e-02, 1.10517092e-02, ...,\n",
       "       4.69131556e+19, 4.93184446e+19, 5.18470553e+19])"
      ]
     },
     "execution_count": 35,
     "metadata": {},
     "output_type": "execute_result"
    }
   ],
   "source": [
    "# For creating the second arange; first I'm gonna create the equation\n",
    "# and make it equal to M. \n",
    "P = 0.01\n",
    "r = 0.05\n",
    "M = P * np.exp(r * time)\n",
    "M"
   ]
  },
  {
   "cell_type": "code",
   "execution_count": 37,
   "id": "60cc46b7-fdd8-4075-ab6c-190a1de1cb27",
   "metadata": {},
   "outputs": [
    {
     "data": {
      "image/png": "[encoded data removed]",
      "text/plain": [
       "<Figure size 640x480 with 1 Axes>"
      ]
     },
     "metadata": {},
     "output_type": "display_data"
    }
   ],
   "source": [
    "plt.plot(time, M)\n",
    "plt.xlabel('Time (years)')\n",
    "plt.ylabel('Money')\n",
    "plt.title(\"Continuous Compounding Interest\")\n",
    "plt.show()"
   ]
  },
  {
   "cell_type": "code",
   "execution_count": 39,
   "id": "05136473-e7ea-4a88-a2dc-baf4b6380779",
   "metadata": {},
   "outputs": [
    {
     "name": "stdin",
     "output_type": "stream",
     "text": [
      "What is P? 0.01\n",
      "What is r? 0.05\n"
     ]
    },
    {
     "data": {
      "text/plain": [
       "array([0.01  , 0.0105, 0.011 , ..., 0.509 , 0.5095, 0.51  ])"
      ]
     },
     "execution_count": 39,
     "metadata": {},
     "output_type": "execute_result"
    }
   ],
   "source": [
    "# Now Fry's money after simple interest: \n",
    "#1. Creating an array for the timeframe of 1,000 year:\n",
    "t = np.arange(0,1001)\n",
    "\n",
    "#2. Creating an array for the simple interest rate\n",
    "    # Create an input math function for it:\n",
    "P = float(input(\"What is P?\"))\n",
    "r = float(input(\"What is r?\"))\n",
    "#S = the simple interest rate \n",
    "S = (P*(1 + (r*t)))\n",
    "S"
   ]
  },
  {
   "cell_type": "code",
   "execution_count": 41,
   "id": "7e38f63d-c662-4e31-b595-93fa57248f05",
   "metadata": {},
   "outputs": [
    {
     "data": {
      "text/plain": [
       "array([0.00000000e+00, 1.27109638e-05, 5.17091808e-05, ...,\n",
       "       4.69131556e+19, 4.93184446e+19, 5.18470553e+19])"
      ]
     },
     "execution_count": 41,
     "metadata": {},
     "output_type": "execute_result"
    }
   ],
   "source": [
    "# Now let's take the difference of the second arrays\n",
    "h = M - S\n",
    "h"
   ]
  },
  {
   "cell_type": "code",
   "execution_count": 43,
   "id": "36273997-1a6e-4426-9fd1-4a6a066c063f",
   "metadata": {},
   "outputs": [
    {
     "data": {
      "image/png": "[encoded data removed]",
      "text/plain": [
       "<Figure size 640x480 with 1 Axes>"
      ]
     },
     "metadata": {},
     "output_type": "display_data"
    }
   ],
   "source": [
    "# Now le'ts create the plot over the timeframe\n",
    "plt.plot(t, h)\n",
    "plt.title(\"Difference Over Time Frame\")\n",
    "plt.xlabel(\"Difference\")\n",
    "plt.ylabel(\"Time\")\n",
    "plt.show()"
   ]
  },
  {
   "cell_type": "markdown",
   "id": "2729664f-02d7-470b-a1d7-a2a6c1aa7632",
   "metadata": {},
   "source": [
    "# Conclusion: \n",
    "--- Both graphs exponentially increase therefore the money in Fry's account increases \n",
    "\n",
    "--- the more time it has passed and so does the difference between the compound rate and simple interest rate. "
   ]
  },
  {
   "cell_type": "markdown",
   "id": "a99ee9c5-23bb-4eff-9a0f-f184259b91c1",
   "metadata": {},
   "source": [
    "## Question 3\n",
    "\n",
    "**Part 1:** Customer Information\n",
    "\n",
    "Create a Pandas DataFrame called customer_info with the following columns:\n",
    "\n",
    "Customer ID (integer values)\n",
    "Name (strings - be creative with names!)\n",
    "Email (strings - use a realistic email format)\n",
    "Populate the DataFrame with at least 10 rows of data. Think of a variety of customer names and make sure the Customer IDs are unique.\n",
    "\n",
    "Introduce 3 null values strategically within this DataFrame. For instance, you might have a missing email for one customer, a missing name for another, and maybe a missing Customer ID (though this is less common in real-world scenarios)."
   ]
  },
  {
   "cell_type": "code",
   "execution_count": 45,
   "id": "03b56e2f-20ba-4684-a744-44e3f71c9bfd",
   "metadata": {},
   "outputs": [],
   "source": [
    "# Write your code here:\n",
    "#1. Creating the series in order to create the dataframes; \n",
    "s1 = ({ 1: 101,\n",
    "        2: 102,\n",
    "        3: 103,\n",
    "        4: 104, \n",
    "        5: 105, \n",
    "        6: 106,\n",
    "        7: 107,\n",
    "        8: 108, \n",
    "        9: 109,\n",
    "        10: 110, \n",
    "        11: 111, \n",
    "        12: 112, \n",
    "        13: 113})\n",
    "s2 = ({ 1: \"Pachy Saury\", \n",
    "        2: \"Dan Fukuyama\",\n",
    "        3: \"Ella Tanon\",\n",
    "        4: \"Cece Perez\", \n",
    "        5: \"Rose Rodriguez\", \n",
    "        6: \"Paolo Santos\",\n",
    "        7: \"Jay Almonte\",\n",
    "        8: \"Penny Golden\", \n",
    "        9: \"Agustine Hansley\",\n",
    "        10: \"Antonio Lopez\", \n",
    "        11: \"Kelly Keller\", \n",
    "        12: \"Pria Jenkins\", \n",
    "        13: \"Luis Raven\"})\n",
    "s3 = ({ 1: \"Pachy12@gmail.com\", \n",
    "        2: \"Dan25@gmail.com\",\n",
    "        3: \"Ella56@gmail.com\",\n",
    "        4: \"Cece89@gmail.com\", \n",
    "        5: \"Rose990@gmail.com\", \n",
    "        6: \"Paolo78@gmail.com\",\n",
    "        7: \"Jay34@gmail.com\",\n",
    "        8: \"Penny21@gmail.com\", \n",
    "        9: \"Agustine890@gmail.com\",\n",
    "        10: \"Antonio67@gmail.com\", \n",
    "        11: \"Kelly693@gmail.com\", \n",
    "        12: \"Pria892@gmail.com\", \n",
    "        13: \"Luis887@gmail.com\"})"
   ]
  },
  {
   "cell_type": "code",
   "execution_count": 47,
   "id": "639cb7bf-02ec-4e7f-bd20-7b856bbe0ca1",
   "metadata": {},
   "outputs": [
    {
     "data": {
      "text/plain": [
       "{1: 101,\n",
       " 2: 102,\n",
       " 3: 103,\n",
       " 4: 104,\n",
       " 5: 105,\n",
       " 6: 106,\n",
       " 7: 107,\n",
       " 8: 108,\n",
       " 9: 109,\n",
       " 10: 110,\n",
       " 11: 111,\n",
       " 12: 112,\n",
       " 13: 113}"
      ]
     },
     "execution_count": 47,
     "metadata": {},
     "output_type": "execute_result"
    }
   ],
   "source": [
    "# Checking if the series work:\n",
    "s1"
   ]
  },
  {
   "cell_type": "code",
   "execution_count": 49,
   "id": "114b0389-77f2-423f-9e6d-ef6ab09b9423",
   "metadata": {},
   "outputs": [
    {
     "data": {
      "text/plain": [
       "{1: 'Pachy Saury',\n",
       " 2: 'Dan Fukuyama',\n",
       " 3: 'Ella Tanon',\n",
       " 4: 'Cece Perez',\n",
       " 5: 'Rose Rodriguez',\n",
       " 6: 'Paolo Santos',\n",
       " 7: 'Jay Almonte',\n",
       " 8: 'Penny Golden',\n",
       " 9: 'Agustine Hansley',\n",
       " 10: 'Antonio Lopez',\n",
       " 11: 'Kelly Keller',\n",
       " 12: 'Pria Jenkins',\n",
       " 13: 'Luis Raven'}"
      ]
     },
     "execution_count": 49,
     "metadata": {},
     "output_type": "execute_result"
    }
   ],
   "source": [
    "s2"
   ]
  },
  {
   "cell_type": "code",
   "execution_count": 51,
   "id": "bded54be-e29a-49d0-8ae1-211f0b45356d",
   "metadata": {},
   "outputs": [
    {
     "data": {
      "text/plain": [
       "{1: 'Pachy12@gmail.com',\n",
       " 2: 'Dan25@gmail.com',\n",
       " 3: 'Ella56@gmail.com',\n",
       " 4: 'Cece89@gmail.com',\n",
       " 5: 'Rose990@gmail.com',\n",
       " 6: 'Paolo78@gmail.com',\n",
       " 7: 'Jay34@gmail.com',\n",
       " 8: 'Penny21@gmail.com',\n",
       " 9: 'Agustine890@gmail.com',\n",
       " 10: 'Antonio67@gmail.com',\n",
       " 11: 'Kelly693@gmail.com',\n",
       " 12: 'Pria892@gmail.com',\n",
       " 13: 'Luis887@gmail.com'}"
      ]
     },
     "execution_count": 51,
     "metadata": {},
     "output_type": "execute_result"
    }
   ],
   "source": [
    "s3"
   ]
  },
  {
   "cell_type": "code",
   "execution_count": 53,
   "id": "46d84471-4ce1-4e1e-8a0c-f8a731fe9da3",
   "metadata": {},
   "outputs": [
    {
     "data": {
      "text/html": [
       "<div>\n",
       "<style scoped>\n",
       "    .dataframe tbody tr th:only-of-type {\n",
       "        vertical-align: middle;\n",
       "    }\n",
       "\n",
       "    .dataframe tbody tr th {\n",
       "        vertical-align: top;\n",
       "    }\n",
       "\n",
       "    .dataframe thead th {\n",
       "        text-align: right;\n",
       "    }\n",
       "</style>\n",
       "<table border=\"1\" class=\"dataframe\">\n",
       "  <thead>\n",
       "    <tr style=\"text-align: right;\">\n",
       "      <th></th>\n",
       "      <th>CustomerID</th>\n",
       "      <th>Name</th>\n",
       "      <th>Email</th>\n",
       "    </tr>\n",
       "  </thead>\n",
       "  <tbody>\n",
       "    <tr>\n",
       "      <th>1</th>\n",
       "      <td>101</td>\n",
       "      <td>Pachy Saury</td>\n",
       "      <td>Pachy12@gmail.com</td>\n",
       "    </tr>\n",
       "    <tr>\n",
       "      <th>2</th>\n",
       "      <td>102</td>\n",
       "      <td>Dan Fukuyama</td>\n",
       "      <td>Dan25@gmail.com</td>\n",
       "    </tr>\n",
       "    <tr>\n",
       "      <th>3</th>\n",
       "      <td>103</td>\n",
       "      <td>Ella Tanon</td>\n",
       "      <td>Ella56@gmail.com</td>\n",
       "    </tr>\n",
       "    <tr>\n",
       "      <th>4</th>\n",
       "      <td>104</td>\n",
       "      <td>Cece Perez</td>\n",
       "      <td>Cece89@gmail.com</td>\n",
       "    </tr>\n",
       "    <tr>\n",
       "      <th>5</th>\n",
       "      <td>105</td>\n",
       "      <td>Rose Rodriguez</td>\n",
       "      <td>Rose990@gmail.com</td>\n",
       "    </tr>\n",
       "    <tr>\n",
       "      <th>6</th>\n",
       "      <td>106</td>\n",
       "      <td>Paolo Santos</td>\n",
       "      <td>Paolo78@gmail.com</td>\n",
       "    </tr>\n",
       "    <tr>\n",
       "      <th>7</th>\n",
       "      <td>107</td>\n",
       "      <td>Jay Almonte</td>\n",
       "      <td>Jay34@gmail.com</td>\n",
       "    </tr>\n",
       "    <tr>\n",
       "      <th>8</th>\n",
       "      <td>108</td>\n",
       "      <td>Penny Golden</td>\n",
       "      <td>Penny21@gmail.com</td>\n",
       "    </tr>\n",
       "    <tr>\n",
       "      <th>9</th>\n",
       "      <td>109</td>\n",
       "      <td>Agustine Hansley</td>\n",
       "      <td>Agustine890@gmail.com</td>\n",
       "    </tr>\n",
       "    <tr>\n",
       "      <th>10</th>\n",
       "      <td>110</td>\n",
       "      <td>Antonio Lopez</td>\n",
       "      <td>Antonio67@gmail.com</td>\n",
       "    </tr>\n",
       "    <tr>\n",
       "      <th>11</th>\n",
       "      <td>111</td>\n",
       "      <td>Kelly Keller</td>\n",
       "      <td>Kelly693@gmail.com</td>\n",
       "    </tr>\n",
       "    <tr>\n",
       "      <th>12</th>\n",
       "      <td>112</td>\n",
       "      <td>Pria Jenkins</td>\n",
       "      <td>Pria892@gmail.com</td>\n",
       "    </tr>\n",
       "    <tr>\n",
       "      <th>13</th>\n",
       "      <td>113</td>\n",
       "      <td>Luis Raven</td>\n",
       "      <td>Luis887@gmail.com</td>\n",
       "    </tr>\n",
       "  </tbody>\n",
       "</table>\n",
       "</div>"
      ],
      "text/plain": [
       "    CustomerID              Name                  Email\n",
       "1          101       Pachy Saury      Pachy12@gmail.com\n",
       "2          102      Dan Fukuyama        Dan25@gmail.com\n",
       "3          103        Ella Tanon       Ella56@gmail.com\n",
       "4          104        Cece Perez       Cece89@gmail.com\n",
       "5          105    Rose Rodriguez      Rose990@gmail.com\n",
       "6          106      Paolo Santos      Paolo78@gmail.com\n",
       "7          107       Jay Almonte        Jay34@gmail.com\n",
       "8          108      Penny Golden      Penny21@gmail.com\n",
       "9          109  Agustine Hansley  Agustine890@gmail.com\n",
       "10         110     Antonio Lopez    Antonio67@gmail.com\n",
       "11         111      Kelly Keller     Kelly693@gmail.com\n",
       "12         112      Pria Jenkins      Pria892@gmail.com\n",
       "13         113        Luis Raven      Luis887@gmail.com"
      ]
     },
     "execution_count": 53,
     "metadata": {},
     "output_type": "execute_result"
    }
   ],
   "source": [
    "#2. Now we are creating the dataframe out of the series. \n",
    "# we put the pd because we did not import everything from the Pandas package\n",
    "df_customerinfo = pd.DataFrame({\"CustomerID\":s1,\n",
    "                             \"Name\":s2,\n",
    "                             \"Email\":s3})\n",
    "df_customerinfo"
   ]
  },
  {
   "cell_type": "code",
   "execution_count": 55,
   "id": "eea3885d-d4df-4abc-a58e-21d6631fc715",
   "metadata": {},
   "outputs": [],
   "source": [
    "# Now we are going to introduce 3 null values within \n",
    "# the dataframe that we already have. \n",
    "df_customerinfo[\"Name\"] = df_customerinfo[\"Name\"].replace(\"Cece Perez\", None)"
   ]
  },
  {
   "cell_type": "code",
   "execution_count": 57,
   "id": "6cdd1418-62b9-4563-a8f1-b6834c1e755d",
   "metadata": {},
   "outputs": [],
   "source": [
    "df_customerinfo[\"Email\"]= df_customerinfo['Email'].replace(\"Penny21@gmail.com\", None)"
   ]
  },
  {
   "cell_type": "code",
   "execution_count": 59,
   "id": "df710c72-8dfe-44fb-ad76-ce9dcfb0fe5c",
   "metadata": {},
   "outputs": [],
   "source": [
    "df_customerinfo['CustomerID']= df_customerinfo[\"CustomerID\"].replace(109,None)"
   ]
  },
  {
   "cell_type": "code",
   "execution_count": 61,
   "id": "096f71a9-7611-4e20-ba12-247bcf248ee9",
   "metadata": {},
   "outputs": [
    {
     "data": {
      "text/html": [
       "<div>\n",
       "<style scoped>\n",
       "    .dataframe tbody tr th:only-of-type {\n",
       "        vertical-align: middle;\n",
       "    }\n",
       "\n",
       "    .dataframe tbody tr th {\n",
       "        vertical-align: top;\n",
       "    }\n",
       "\n",
       "    .dataframe thead th {\n",
       "        text-align: right;\n",
       "    }\n",
       "</style>\n",
       "<table border=\"1\" class=\"dataframe\">\n",
       "  <thead>\n",
       "    <tr style=\"text-align: right;\">\n",
       "      <th></th>\n",
       "      <th>CustomerID</th>\n",
       "      <th>Name</th>\n",
       "      <th>Email</th>\n",
       "    </tr>\n",
       "  </thead>\n",
       "  <tbody>\n",
       "    <tr>\n",
       "      <th>1</th>\n",
       "      <td>101</td>\n",
       "      <td>Pachy Saury</td>\n",
       "      <td>Pachy12@gmail.com</td>\n",
       "    </tr>\n",
       "    <tr>\n",
       "      <th>2</th>\n",
       "      <td>102</td>\n",
       "      <td>Dan Fukuyama</td>\n",
       "      <td>Dan25@gmail.com</td>\n",
       "    </tr>\n",
       "    <tr>\n",
       "      <th>3</th>\n",
       "      <td>103</td>\n",
       "      <td>Ella Tanon</td>\n",
       "      <td>Ella56@gmail.com</td>\n",
       "    </tr>\n",
       "    <tr>\n",
       "      <th>4</th>\n",
       "      <td>104</td>\n",
       "      <td>None</td>\n",
       "      <td>Cece89@gmail.com</td>\n",
       "    </tr>\n",
       "    <tr>\n",
       "      <th>5</th>\n",
       "      <td>105</td>\n",
       "      <td>Rose Rodriguez</td>\n",
       "      <td>Rose990@gmail.com</td>\n",
       "    </tr>\n",
       "    <tr>\n",
       "      <th>6</th>\n",
       "      <td>106</td>\n",
       "      <td>Paolo Santos</td>\n",
       "      <td>Paolo78@gmail.com</td>\n",
       "    </tr>\n",
       "    <tr>\n",
       "      <th>7</th>\n",
       "      <td>107</td>\n",
       "      <td>Jay Almonte</td>\n",
       "      <td>Jay34@gmail.com</td>\n",
       "    </tr>\n",
       "    <tr>\n",
       "      <th>8</th>\n",
       "      <td>108</td>\n",
       "      <td>Penny Golden</td>\n",
       "      <td>None</td>\n",
       "    </tr>\n",
       "    <tr>\n",
       "      <th>9</th>\n",
       "      <td>None</td>\n",
       "      <td>Agustine Hansley</td>\n",
       "      <td>Agustine890@gmail.com</td>\n",
       "    </tr>\n",
       "    <tr>\n",
       "      <th>10</th>\n",
       "      <td>110</td>\n",
       "      <td>Antonio Lopez</td>\n",
       "      <td>Antonio67@gmail.com</td>\n",
       "    </tr>\n",
       "    <tr>\n",
       "      <th>11</th>\n",
       "      <td>111</td>\n",
       "      <td>Kelly Keller</td>\n",
       "      <td>Kelly693@gmail.com</td>\n",
       "    </tr>\n",
       "    <tr>\n",
       "      <th>12</th>\n",
       "      <td>112</td>\n",
       "      <td>Pria Jenkins</td>\n",
       "      <td>Pria892@gmail.com</td>\n",
       "    </tr>\n",
       "    <tr>\n",
       "      <th>13</th>\n",
       "      <td>113</td>\n",
       "      <td>Luis Raven</td>\n",
       "      <td>Luis887@gmail.com</td>\n",
       "    </tr>\n",
       "  </tbody>\n",
       "</table>\n",
       "</div>"
      ],
      "text/plain": [
       "   CustomerID              Name                  Email\n",
       "1         101       Pachy Saury      Pachy12@gmail.com\n",
       "2         102      Dan Fukuyama        Dan25@gmail.com\n",
       "3         103        Ella Tanon       Ella56@gmail.com\n",
       "4         104              None       Cece89@gmail.com\n",
       "5         105    Rose Rodriguez      Rose990@gmail.com\n",
       "6         106      Paolo Santos      Paolo78@gmail.com\n",
       "7         107       Jay Almonte        Jay34@gmail.com\n",
       "8         108      Penny Golden                   None\n",
       "9        None  Agustine Hansley  Agustine890@gmail.com\n",
       "10        110     Antonio Lopez    Antonio67@gmail.com\n",
       "11        111      Kelly Keller     Kelly693@gmail.com\n",
       "12        112      Pria Jenkins      Pria892@gmail.com\n",
       "13        113        Luis Raven      Luis887@gmail.com"
      ]
     },
     "execution_count": 61,
     "metadata": {},
     "output_type": "execute_result"
    }
   ],
   "source": [
    "df_customerinfo"
   ]
  },
  {
   "cell_type": "code",
   "execution_count": 63,
   "id": "f1843a25-a18d-4f08-bb2a-08feac145984",
   "metadata": {},
   "outputs": [
    {
     "name": "stdout",
     "output_type": "stream",
     "text": [
      "<class 'pandas.core.frame.DataFrame'>\n",
      "Index: 13 entries, 1 to 13\n",
      "Data columns (total 3 columns):\n",
      " #   Column      Non-Null Count  Dtype \n",
      "---  ------      --------------  ----- \n",
      " 0   CustomerID  12 non-null     object\n",
      " 1   Name        12 non-null     object\n",
      " 2   Email       12 non-null     object\n",
      "dtypes: object(3)\n",
      "memory usage: 416.0+ bytes\n"
     ]
    }
   ],
   "source": [
    "df_customerinfo.info()"
   ]
  },
  {
   "cell_type": "markdown",
   "id": "dfae80d3-6bd6-4a2c-b079-47405a64f15c",
   "metadata": {},
   "source": [
    "**Part 2:** Purchase History\n",
    "\n",
    "Create a second Pandas DataFrame named purchase_history with these columns:\n",
    "\n",
    "Customer ID (integer values, matching some from customer_info)\n",
    "Purchase History (a list of strings representing items purchased)\n",
    "Fill this DataFrame with at least 10 rows. Ensure that some Customer IDs appear in both DataFrames to allow for merging.\n",
    "\n",
    "Include 2 null values in this DataFrame. You could have a missing Customer ID or a missing purchase history for a couple of entries."
   ]
  },
  {
   "cell_type": "code",
   "execution_count": 65,
   "id": "f924261a-31c2-4995-b7ac-b818a2a5e622",
   "metadata": {},
   "outputs": [],
   "source": [
    "# Write your code here:\n",
    "#1. Creating the customer ID series again\n",
    "s4 = ({ 1: 101,\n",
    "        2: 102,\n",
    "        3: 103,\n",
    "        4: 104, \n",
    "        5: 105, \n",
    "        6: 106,\n",
    "        7: 107,\n",
    "        8: 108, \n",
    "        9: 109,\n",
    "        10: 110, \n",
    "        11: 111, \n",
    "        12: 112, \n",
    "        13: 113})\n",
    "#1.Creating a Purchase History\n",
    "s5 = ({ 1: \"Galaxy S12\",\n",
    "        2: \"The Mistborn Trilogy\",\n",
    "        3: \"Printer\",\n",
    "        4: \"The Wheel of Time\", \n",
    "        5: \"The Sword of Truth\", \n",
    "        6: \"Flame gun\",\n",
    "        7: \"N64\",\n",
    "        8: \"The First Confessor\", \n",
    "        9: \"Sketchbook\",\n",
    "        10: \"Charcoal\", \n",
    "        11: \"To Kill a Mockingbird\", \n",
    "        12: \"Discworld\", \n",
    "        13: \"3d Printer\"})"
   ]
  },
  {
   "cell_type": "code",
   "execution_count": 67,
   "id": "32ba0567-9f60-4238-bd47-d3381e88b5f3",
   "metadata": {},
   "outputs": [
    {
     "data": {
      "text/plain": [
       "{1: 101,\n",
       " 2: 102,\n",
       " 3: 103,\n",
       " 4: 104,\n",
       " 5: 105,\n",
       " 6: 106,\n",
       " 7: 107,\n",
       " 8: 108,\n",
       " 9: 109,\n",
       " 10: 110,\n",
       " 11: 111,\n",
       " 12: 112,\n",
       " 13: 113}"
      ]
     },
     "execution_count": 67,
     "metadata": {},
     "output_type": "execute_result"
    }
   ],
   "source": [
    "# Checking if the sereis \n",
    "s4"
   ]
  },
  {
   "cell_type": "code",
   "execution_count": 69,
   "id": "c887df2c-e2de-4fc1-b917-7bdb3b511dbe",
   "metadata": {},
   "outputs": [
    {
     "data": {
      "text/plain": [
       "{1: 'Galaxy S12',\n",
       " 2: 'The Mistborn Trilogy',\n",
       " 3: 'Printer',\n",
       " 4: 'The Wheel of Time',\n",
       " 5: 'The Sword of Truth',\n",
       " 6: 'Flame gun',\n",
       " 7: 'N64',\n",
       " 8: 'The First Confessor',\n",
       " 9: 'Sketchbook',\n",
       " 10: 'Charcoal',\n",
       " 11: 'To Kill a Mockingbird',\n",
       " 12: 'Discworld',\n",
       " 13: '3d Printer'}"
      ]
     },
     "execution_count": 69,
     "metadata": {},
     "output_type": "execute_result"
    }
   ],
   "source": [
    "s5"
   ]
  },
  {
   "cell_type": "code",
   "execution_count": 71,
   "id": "fbf844db-e093-4166-89df-a458efec6f80",
   "metadata": {},
   "outputs": [
    {
     "data": {
      "text/html": [
       "<div>\n",
       "<style scoped>\n",
       "    .dataframe tbody tr th:only-of-type {\n",
       "        vertical-align: middle;\n",
       "    }\n",
       "\n",
       "    .dataframe tbody tr th {\n",
       "        vertical-align: top;\n",
       "    }\n",
       "\n",
       "    .dataframe thead th {\n",
       "        text-align: right;\n",
       "    }\n",
       "</style>\n",
       "<table border=\"1\" class=\"dataframe\">\n",
       "  <thead>\n",
       "    <tr style=\"text-align: right;\">\n",
       "      <th></th>\n",
       "      <th>CustomerID</th>\n",
       "      <th>Purchase History</th>\n",
       "    </tr>\n",
       "  </thead>\n",
       "  <tbody>\n",
       "    <tr>\n",
       "      <th>1</th>\n",
       "      <td>101</td>\n",
       "      <td>Galaxy S12</td>\n",
       "    </tr>\n",
       "    <tr>\n",
       "      <th>2</th>\n",
       "      <td>102</td>\n",
       "      <td>The Mistborn Trilogy</td>\n",
       "    </tr>\n",
       "    <tr>\n",
       "      <th>3</th>\n",
       "      <td>103</td>\n",
       "      <td>Printer</td>\n",
       "    </tr>\n",
       "    <tr>\n",
       "      <th>4</th>\n",
       "      <td>104</td>\n",
       "      <td>The Wheel of Time</td>\n",
       "    </tr>\n",
       "    <tr>\n",
       "      <th>5</th>\n",
       "      <td>105</td>\n",
       "      <td>The Sword of Truth</td>\n",
       "    </tr>\n",
       "    <tr>\n",
       "      <th>6</th>\n",
       "      <td>106</td>\n",
       "      <td>Flame gun</td>\n",
       "    </tr>\n",
       "    <tr>\n",
       "      <th>7</th>\n",
       "      <td>107</td>\n",
       "      <td>N64</td>\n",
       "    </tr>\n",
       "    <tr>\n",
       "      <th>8</th>\n",
       "      <td>108</td>\n",
       "      <td>The First Confessor</td>\n",
       "    </tr>\n",
       "    <tr>\n",
       "      <th>9</th>\n",
       "      <td>109</td>\n",
       "      <td>Sketchbook</td>\n",
       "    </tr>\n",
       "    <tr>\n",
       "      <th>10</th>\n",
       "      <td>110</td>\n",
       "      <td>Charcoal</td>\n",
       "    </tr>\n",
       "    <tr>\n",
       "      <th>11</th>\n",
       "      <td>111</td>\n",
       "      <td>To Kill a Mockingbird</td>\n",
       "    </tr>\n",
       "    <tr>\n",
       "      <th>12</th>\n",
       "      <td>112</td>\n",
       "      <td>Discworld</td>\n",
       "    </tr>\n",
       "    <tr>\n",
       "      <th>13</th>\n",
       "      <td>113</td>\n",
       "      <td>3d Printer</td>\n",
       "    </tr>\n",
       "  </tbody>\n",
       "</table>\n",
       "</div>"
      ],
      "text/plain": [
       "    CustomerID       Purchase History\n",
       "1          101             Galaxy S12\n",
       "2          102   The Mistborn Trilogy\n",
       "3          103                Printer\n",
       "4          104      The Wheel of Time\n",
       "5          105     The Sword of Truth\n",
       "6          106              Flame gun\n",
       "7          107                    N64\n",
       "8          108    The First Confessor\n",
       "9          109             Sketchbook\n",
       "10         110               Charcoal\n",
       "11         111  To Kill a Mockingbird\n",
       "12         112              Discworld\n",
       "13         113             3d Printer"
      ]
     },
     "execution_count": 71,
     "metadata": {},
     "output_type": "execute_result"
    }
   ],
   "source": [
    "# Now we are creating the data frame\n",
    "df_purchasehistory = pd.DataFrame({\"CustomerID\":s4,\n",
    "                                   \"Purchase History\":s5})\n",
    "df_purchasehistory"
   ]
  },
  {
   "cell_type": "code",
   "execution_count": 73,
   "id": "a6815b4f-fd51-411a-a7c3-daa42cee0435",
   "metadata": {},
   "outputs": [],
   "source": [
    "# Including the 2 missing values: \n",
    "df_purchasehistory[\"Purchase History\"] = df_purchasehistory[\"Purchase History\"].replace(\"Galaxy S12\", None)\n"
   ]
  },
  {
   "cell_type": "code",
   "execution_count": 75,
   "id": "47042f8a-2f46-4eea-a6aa-b3e4a611fd12",
   "metadata": {},
   "outputs": [],
   "source": [
    "df_purchasehistory['Purchase History']= df_purchasehistory[\"Purchase History\"].replace('Flame gun',None)"
   ]
  },
  {
   "cell_type": "code",
   "execution_count": 77,
   "id": "43993f60-f97a-4673-8b9d-6a95b8dc6c58",
   "metadata": {},
   "outputs": [
    {
     "data": {
      "text/html": [
       "<div>\n",
       "<style scoped>\n",
       "    .dataframe tbody tr th:only-of-type {\n",
       "        vertical-align: middle;\n",
       "    }\n",
       "\n",
       "    .dataframe tbody tr th {\n",
       "        vertical-align: top;\n",
       "    }\n",
       "\n",
       "    .dataframe thead th {\n",
       "        text-align: right;\n",
       "    }\n",
       "</style>\n",
       "<table border=\"1\" class=\"dataframe\">\n",
       "  <thead>\n",
       "    <tr style=\"text-align: right;\">\n",
       "      <th></th>\n",
       "      <th>CustomerID</th>\n",
       "      <th>Purchase History</th>\n",
       "    </tr>\n",
       "  </thead>\n",
       "  <tbody>\n",
       "    <tr>\n",
       "      <th>1</th>\n",
       "      <td>101</td>\n",
       "      <td>None</td>\n",
       "    </tr>\n",
       "    <tr>\n",
       "      <th>2</th>\n",
       "      <td>102</td>\n",
       "      <td>The Mistborn Trilogy</td>\n",
       "    </tr>\n",
       "    <tr>\n",
       "      <th>3</th>\n",
       "      <td>103</td>\n",
       "      <td>Printer</td>\n",
       "    </tr>\n",
       "    <tr>\n",
       "      <th>4</th>\n",
       "      <td>104</td>\n",
       "      <td>The Wheel of Time</td>\n",
       "    </tr>\n",
       "    <tr>\n",
       "      <th>5</th>\n",
       "      <td>105</td>\n",
       "      <td>The Sword of Truth</td>\n",
       "    </tr>\n",
       "    <tr>\n",
       "      <th>6</th>\n",
       "      <td>106</td>\n",
       "      <td>None</td>\n",
       "    </tr>\n",
       "    <tr>\n",
       "      <th>7</th>\n",
       "      <td>107</td>\n",
       "      <td>N64</td>\n",
       "    </tr>\n",
       "    <tr>\n",
       "      <th>8</th>\n",
       "      <td>108</td>\n",
       "      <td>The First Confessor</td>\n",
       "    </tr>\n",
       "    <tr>\n",
       "      <th>9</th>\n",
       "      <td>109</td>\n",
       "      <td>Sketchbook</td>\n",
       "    </tr>\n",
       "    <tr>\n",
       "      <th>10</th>\n",
       "      <td>110</td>\n",
       "      <td>Charcoal</td>\n",
       "    </tr>\n",
       "    <tr>\n",
       "      <th>11</th>\n",
       "      <td>111</td>\n",
       "      <td>To Kill a Mockingbird</td>\n",
       "    </tr>\n",
       "    <tr>\n",
       "      <th>12</th>\n",
       "      <td>112</td>\n",
       "      <td>Discworld</td>\n",
       "    </tr>\n",
       "    <tr>\n",
       "      <th>13</th>\n",
       "      <td>113</td>\n",
       "      <td>3d Printer</td>\n",
       "    </tr>\n",
       "  </tbody>\n",
       "</table>\n",
       "</div>"
      ],
      "text/plain": [
       "    CustomerID       Purchase History\n",
       "1          101                   None\n",
       "2          102   The Mistborn Trilogy\n",
       "3          103                Printer\n",
       "4          104      The Wheel of Time\n",
       "5          105     The Sword of Truth\n",
       "6          106                   None\n",
       "7          107                    N64\n",
       "8          108    The First Confessor\n",
       "9          109             Sketchbook\n",
       "10         110               Charcoal\n",
       "11         111  To Kill a Mockingbird\n",
       "12         112              Discworld\n",
       "13         113             3d Printer"
      ]
     },
     "execution_count": 77,
     "metadata": {},
     "output_type": "execute_result"
    }
   ],
   "source": [
    "#checking to make sure the new dataframe has the null values\n",
    "df_purchasehistory"
   ]
  },
  {
   "cell_type": "code",
   "execution_count": 79,
   "id": "afde3184-4d9a-4685-b215-1c8e577d5fb6",
   "metadata": {},
   "outputs": [
    {
     "name": "stdout",
     "output_type": "stream",
     "text": [
      "<class 'pandas.core.frame.DataFrame'>\n",
      "Index: 13 entries, 1 to 13\n",
      "Data columns (total 2 columns):\n",
      " #   Column            Non-Null Count  Dtype \n",
      "---  ------            --------------  ----- \n",
      " 0   CustomerID        13 non-null     int64 \n",
      " 1   Purchase History  11 non-null     object\n",
      "dtypes: int64(1), object(1)\n",
      "memory usage: 312.0+ bytes\n"
     ]
    }
   ],
   "source": [
    "df_purchasehistory.info()"
   ]
  },
  {
   "cell_type": "markdown",
   "id": "8f3040a6-0f49-40f3-9a72-be2acc3849bf",
   "metadata": {},
   "source": [
    "**Part 3:** The Merge\n",
    "\n",
    "Use the Pandas merge function to combine customer_info and purchase_history based on the common 'Customer ID' column.\n",
    "\n",
    "Choose the appropriate merge type (inner, outer, left, or right) depending on how you want to handle non-matching entries. Consider what kind of result you'd like to see - do you want to keep all customers, even those without purchase history? Or only those with both customer info and purchase history?\n",
    "\n",
    "Display the final merged DataFrame and explain your methodology."
   ]
  },
  {
   "cell_type": "code",
   "execution_count": 81,
   "id": "690b961b-1670-4a60-80d5-26d9c7b66ea8",
   "metadata": {},
   "outputs": [
    {
     "data": {
      "text/html": [
       "<div>\n",
       "<style scoped>\n",
       "    .dataframe tbody tr th:only-of-type {\n",
       "        vertical-align: middle;\n",
       "    }\n",
       "\n",
       "    .dataframe tbody tr th {\n",
       "        vertical-align: top;\n",
       "    }\n",
       "\n",
       "    .dataframe thead th {\n",
       "        text-align: right;\n",
       "    }\n",
       "</style>\n",
       "<table border=\"1\" class=\"dataframe\">\n",
       "  <thead>\n",
       "    <tr style=\"text-align: right;\">\n",
       "      <th></th>\n",
       "      <th>CustomerID</th>\n",
       "      <th>Name</th>\n",
       "      <th>Email</th>\n",
       "      <th>Purchase History</th>\n",
       "    </tr>\n",
       "  </thead>\n",
       "  <tbody>\n",
       "    <tr>\n",
       "      <th>1</th>\n",
       "      <td>102</td>\n",
       "      <td>Dan Fukuyama</td>\n",
       "      <td>Dan25@gmail.com</td>\n",
       "      <td>The Mistborn Trilogy</td>\n",
       "    </tr>\n",
       "    <tr>\n",
       "      <th>2</th>\n",
       "      <td>103</td>\n",
       "      <td>Ella Tanon</td>\n",
       "      <td>Ella56@gmail.com</td>\n",
       "      <td>Printer</td>\n",
       "    </tr>\n",
       "    <tr>\n",
       "      <th>4</th>\n",
       "      <td>105</td>\n",
       "      <td>Rose Rodriguez</td>\n",
       "      <td>Rose990@gmail.com</td>\n",
       "      <td>The Sword of Truth</td>\n",
       "    </tr>\n",
       "    <tr>\n",
       "      <th>6</th>\n",
       "      <td>107</td>\n",
       "      <td>Jay Almonte</td>\n",
       "      <td>Jay34@gmail.com</td>\n",
       "      <td>N64</td>\n",
       "    </tr>\n",
       "    <tr>\n",
       "      <th>8</th>\n",
       "      <td>110</td>\n",
       "      <td>Antonio Lopez</td>\n",
       "      <td>Antonio67@gmail.com</td>\n",
       "      <td>Charcoal</td>\n",
       "    </tr>\n",
       "    <tr>\n",
       "      <th>9</th>\n",
       "      <td>111</td>\n",
       "      <td>Kelly Keller</td>\n",
       "      <td>Kelly693@gmail.com</td>\n",
       "      <td>To Kill a Mockingbird</td>\n",
       "    </tr>\n",
       "    <tr>\n",
       "      <th>10</th>\n",
       "      <td>112</td>\n",
       "      <td>Pria Jenkins</td>\n",
       "      <td>Pria892@gmail.com</td>\n",
       "      <td>Discworld</td>\n",
       "    </tr>\n",
       "    <tr>\n",
       "      <th>11</th>\n",
       "      <td>113</td>\n",
       "      <td>Luis Raven</td>\n",
       "      <td>Luis887@gmail.com</td>\n",
       "      <td>3d Printer</td>\n",
       "    </tr>\n",
       "  </tbody>\n",
       "</table>\n",
       "</div>"
      ],
      "text/plain": [
       "   CustomerID            Name                Email       Purchase History\n",
       "1         102    Dan Fukuyama      Dan25@gmail.com   The Mistborn Trilogy\n",
       "2         103      Ella Tanon     Ella56@gmail.com                Printer\n",
       "4         105  Rose Rodriguez    Rose990@gmail.com     The Sword of Truth\n",
       "6         107     Jay Almonte      Jay34@gmail.com                    N64\n",
       "8         110   Antonio Lopez  Antonio67@gmail.com               Charcoal\n",
       "9         111    Kelly Keller   Kelly693@gmail.com  To Kill a Mockingbird\n",
       "10        112    Pria Jenkins    Pria892@gmail.com              Discworld\n",
       "11        113      Luis Raven    Luis887@gmail.com             3d Printer"
      ]
     },
     "execution_count": 81,
     "metadata": {},
     "output_type": "execute_result"
    }
   ],
   "source": [
    "# Write your code here:\n",
    "# Methodology: \n",
    "    # I want to merge the two data frames where the customer info and the purchase history \n",
    "    # therefore I merged with the inner where in both dataframes the things that \n",
    "    # are the same and dropping the null values like the emails, purchase history, etc... \n",
    "    # that have no values. \n",
    "Merge = pd.merge(df_customerinfo, df_purchasehistory, \"inner\")\n",
    "kl = Merge.dropna()\n",
    "kl"
   ]
  },
  {
   "cell_type": "markdown",
   "id": "b7cfd5aa-2875-4319-81cd-8aa9548791b0",
   "metadata": {},
   "source": [
    "\n",
    "\n",
    "\n",
    "\n",
    "\n"
   ]
  },
  {
   "cell_type": "markdown",
   "id": "85d3c1c1-58bf-4323-90e4-c44dbafab909",
   "metadata": {},
   "source": [
    "## Question 4\n",
    "\n",
    "You are tasked with creating a simple inventory management system for a small store. The inventory is stored as a list of dictionaries, where each dictionary represents an item with its name, quantity, and price.\n",
    "\n",
    "**Step 1:** Define the Inventory\n",
    "\n",
    "Create a list named inventory that contains at least 10 items, each represented as a dictionary with the keys \"name\", \"quantity\", and \"price\".\n"
   ]
  },
  {
   "cell_type": "code",
   "execution_count": 83,
   "id": "f9f84843",
   "metadata": {},
   "outputs": [],
   "source": [
    "# Write your code here\n",
    "#1. First I am going to create the different dictionaries;\n",
    "inventory =[{\"name\":\"Triceratops\", \"quantity\":10, \"price\":100},\n",
    "            {\"name\": \"Orange\", \"quantity\":89, \"price\":97},\n",
    "            {\"name\":\"Lenovo\", \"quantity\":58, \"price\":287},\n",
    "            {\"name\": \"Pilot G-2\", \"quantity\": 90, \"price\":35},\n",
    "            {'name':'Sketchbook', 'quantity':1, 'price':7},\n",
    "            {'name':'lamp', 'quantity':7, 'price':70},\n",
    "            {'name':'eraser','quantity':9,'price':10},\n",
    "            {'name':'pan','quantity':2,'price':60},\n",
    "            {'name':'spatula', 'quantity':8,'price': 120},\n",
    "            {'name':'pijamas','quantity':9,'price':30}]"
   ]
  },
  {
   "cell_type": "code",
   "execution_count": 85,
   "id": "2f7f15a0-e70a-46c5-8102-09bfe324cf42",
   "metadata": {},
   "outputs": [
    {
     "data": {
      "text/plain": [
       "[{'name': 'Triceratops', 'quantity': 10, 'price': 100},\n",
       " {'name': 'Orange', 'quantity': 89, 'price': 97},\n",
       " {'name': 'Lenovo', 'quantity': 58, 'price': 287},\n",
       " {'name': 'Pilot G-2', 'quantity': 90, 'price': 35},\n",
       " {'name': 'Sketchbook', 'quantity': 1, 'price': 7},\n",
       " {'name': 'lamp', 'quantity': 7, 'price': 70},\n",
       " {'name': 'eraser', 'quantity': 9, 'price': 10},\n",
       " {'name': 'pan', 'quantity': 2, 'price': 60},\n",
       " {'name': 'spatula', 'quantity': 8, 'price': 120},\n",
       " {'name': 'pijamas', 'quantity': 9, 'price': 30}]"
      ]
     },
     "execution_count": 85,
     "metadata": {},
     "output_type": "execute_result"
    }
   ],
   "source": [
    "inventory"
   ]
  },
  {
   "cell_type": "code",
   "execution_count": 87,
   "id": "72a772b2-1005-44ce-9245-f3b9cda8830e",
   "metadata": {},
   "outputs": [
    {
     "data": {
      "text/plain": [
       "list"
      ]
     },
     "execution_count": 87,
     "metadata": {},
     "output_type": "execute_result"
    }
   ],
   "source": [
    "type(inventory)"
   ]
  },
  {
   "cell_type": "markdown",
   "id": "58d6f5e1-1121-4e29-8412-e8a80a98d47e",
   "metadata": {},
   "source": [
    "**Step 2:** Create a Function to Calculate Total Inventory Value\r\n",
    "\r\n",
    "Write a function called calculate_total_value that takes the inventory list as input and calculates the total value of all items in the inventory. The total value is calculated by multiplying the quantity of each item by its price and summing up the values for all items."
   ]
  },
  {
   "cell_type": "code",
   "execution_count": 89,
   "id": "8c569b68-23a1-4b71-8e68-9370b238cd59",
   "metadata": {},
   "outputs": [
    {
     "data": {
      "text/plain": [
       "31366"
      ]
     },
     "execution_count": 89,
     "metadata": {},
     "output_type": "execute_result"
    }
   ],
   "source": [
    "#Write your code here:\n",
    "\n",
    "# I couldn't find an automatic way of doing this, so instead \n",
    "# I used the index method of listing which then leads to going \n",
    "# inside the list into the dictionary and doing a big for loop\n",
    "# were we go into each index and the price and quantity of that index \n",
    "# then we add them all and we get the total of the multiplications and we add them all.\n",
    "\n",
    "def calculate_total_value(*input):\n",
    "    total = 0\n",
    "    for items in inventory:\n",
    "        total1 = inventory[0]['price']*inventory[0]['quantity']\n",
    "        for items in inventory:\n",
    "            total2 = inventory[1]['price']*inventory[1]['quantity']\n",
    "            for items in inventory:\n",
    "                total3 = inventory[2]['price']*inventory[2]['quantity']\n",
    "                for items in inventory:\n",
    "                    total4 = inventory[3]['price']*inventory[3]['quantity']\n",
    "                    for items in inventory:\n",
    "                        total5 = inventory[4]['price']*inventory[4]['quantity']\n",
    "                        for items in inventory:\n",
    "                            total6 = inventory[5]['price']*inventory[5]['quantity']\n",
    "                            for items in inventory:\n",
    "                                total7 = inventory[6]['price']*inventory[6]['quantity']\n",
    "                                for items in inventory:\n",
    "                                    total8 = inventory[7]['price']*inventory[7]['quantity']\n",
    "                                    for items in inventory:\n",
    "                                        total9 = inventory[8]['price']*inventory[8]['quantity']\n",
    "                                        for items in inventory:\n",
    "                                            total10 = inventory[9]['price']*inventory[9]['quantity']\n",
    "                                            return total1+total2+total3+total4+total5+total6+total7+total8+total9+total10\n",
    "\n",
    "\n",
    "\n",
    "    \n",
    "    \n",
    "\n",
    "\n",
    "\n",
    "\n",
    "    \n",
    "        \n",
    "        \n",
    "        \n",
    "calculate_total_value(inventory)     "
   ]
  },
  {
   "cell_type": "markdown",
   "id": "9f4046ef-fed3-4066-9064-f9015461f5cc",
   "metadata": {},
   "source": [
    "**Step 3:** Create a Function to Update Item Quantity\r\n",
    "\r\n",
    "Write a function called update_quantity that takes the inventory list, an item name, and a quantity change as input. This function should find the item with the given name in the inventory and update its quantity by the given amount. If the item is not found, print an error message."
   ]
  },
  {
   "cell_type": "code",
   "execution_count": 91,
   "id": "6e8d462b-e624-4864-b6eb-9b48dbc3f350",
   "metadata": {},
   "outputs": [
    {
     "name": "stdin",
     "output_type": "stream",
     "text": [
      "number 8\n"
     ]
    },
    {
     "data": {
      "text/plain": [
       "18"
      ]
     },
     "execution_count": 91,
     "metadata": {},
     "output_type": "execute_result"
    }
   ],
   "source": [
    "# Write your code here\n",
    "# Since the else statement was not working for some reason I changed it to \n",
    "# if name != \"Triceratops\" to give an error message\n",
    "\n",
    "def update_quantity(name, quantity):\n",
    "    number = int(input('number'))\n",
    "    for items in inventory:\n",
    "        if items['name'] == name:\n",
    "            c = quantity + number\n",
    "            return c\n",
    "            if items['name'] != name:\n",
    "                return \"Error\"\n",
    "    \n",
    "\n",
    "update_quantity(inventory[0]['name'], inventory[0]['quantity'])"
   ]
  },
  {
   "cell_type": "markdown",
   "id": "9c178bcf-83b3-40c8-82c0-3a7739429d50",
   "metadata": {},
   "source": [
    "**Step 4:** Test Your Functions\r\n",
    "\r\n",
    "Call the calculate_total_value function to calculate the initial total value of the inventory. Then, call the update_quantity function to update the quantity of a few items. Finally, call the calculate_total_value function again to see how the total value has changed."
   ]
  },
  {
   "cell_type": "code",
   "execution_count": 93,
   "id": "4d9a1761-a62c-404b-9206-a8450a8c0ec7",
   "metadata": {},
   "outputs": [
    {
     "data": {
      "text/plain": [
       "31366"
      ]
     },
     "execution_count": 93,
     "metadata": {},
     "output_type": "execute_result"
    }
   ],
   "source": [
    "# Write your code here:\n",
    "#1. Calculating the total value of the inventory\n",
    "calculate_total_value(inventory)"
   ]
  },
  {
   "cell_type": "code",
   "execution_count": 95,
   "id": "0a037601-43d4-4a43-986b-a85dfaa3edcd",
   "metadata": {},
   "outputs": [
    {
     "name": "stdin",
     "output_type": "stream",
     "text": [
      "number 8\n"
     ]
    }
   ],
   "source": [
    "#2. Updating the quantity of a few items:\n",
    "inventory[0]['quantity'] = update_quantity(inventory[0]['name'], inventory[0]['quantity'])"
   ]
  },
  {
   "cell_type": "code",
   "execution_count": 97,
   "id": "0c6407ac-4205-429c-aec9-718aa524b0b3",
   "metadata": {},
   "outputs": [
    {
     "name": "stdin",
     "output_type": "stream",
     "text": [
      "number 5\n"
     ]
    }
   ],
   "source": [
    "inventory[4]['quantity'] = update_quantity(inventory[4]['name'], inventory[4]['quantity'])"
   ]
  },
  {
   "cell_type": "code",
   "execution_count": 103,
   "id": "1a1d527f-7486-437a-947a-cfd1bde0a7d0",
   "metadata": {},
   "outputs": [
    {
     "name": "stdin",
     "output_type": "stream",
     "text": [
      "number 9\n"
     ]
    }
   ],
   "source": [
    "inventory[9]['quantity'] = update_quantity(inventory[9]['name'], inventory[9]['quantity'])"
   ]
  },
  {
   "cell_type": "code",
   "execution_count": 105,
   "id": "c93ec872-3324-4338-b69f-bef1b8398fae",
   "metadata": {},
   "outputs": [
    {
     "data": {
      "text/plain": [
       "32591"
      ]
     },
     "execution_count": 105,
     "metadata": {},
     "output_type": "execute_result"
    }
   ],
   "source": [
    "# now calculating the total value of the inventory againg:\n",
    "calculate_total_value(inventory)"
   ]
  },
  {
   "cell_type": "code",
   "execution_count": null,
   "id": "6df10abc-275c-45d3-b240-71334adbbdd9",
   "metadata": {},
   "outputs": [],
   "source": [
    "#As you can see the total value changed by increasing the total value since in my function you add the quantity by the number \n",
    "# you input. "
   ]
  },
  {
   "cell_type": "markdown",
   "id": "4ecbd688",
   "metadata": {},
   "source": [
    "## Bonus (10 points)\n",
    "\n",
    "Using the abalone data set from Exercise 1, implement a simple classifier  to try to classify the data.\n",
    "1. You should split the data into a training set that has labels and a testing set that does not. You may use about 80% of the data as training and 20% as testing.\n",
    "1. You should report the accuracy of your classifier on both the training and testing sets.\n",
    "1. Write a brief description about how the classifer you choose works to do the classification.\n",
    "1. Discuss your results."
   ]
  },
  {
   "cell_type": "code",
   "execution_count": 107,
   "id": "38a78af9",
   "metadata": {},
   "outputs": [],
   "source": [
    "# Write your code here:\n",
    "#1. We are going to import and then split the data:\n",
    "import pandas as pd\n",
    "import numpy as np\n",
    "import matplotlib.pyplot as plt\n",
    "import seaborn as sns "
   ]
  },
  {
   "cell_type": "code",
   "execution_count": 109,
   "id": "1bf9527f-8907-459a-b7b4-59d62e768518",
   "metadata": {},
   "outputs": [],
   "source": [
    " df_data['Rings'] = (((df_data['Rings'] - min(df_data[\"Rings\"]))) / (max(df_data['Rings']) - min(df_data['Rings'])))"
   ]
  },
  {
   "cell_type": "code",
   "execution_count": 111,
   "id": "4db8b677-ad1a-4728-a7aa-5bb30a866966",
   "metadata": {},
   "outputs": [],
   "source": [
    "df_data['Sex'] = df_data['Sex'].map({'F':0, 'M':1, 'I':2})"
   ]
  },
  {
   "cell_type": "code",
   "execution_count": 113,
   "id": "21778d90-7093-4382-9833-8137f05690a6",
   "metadata": {},
   "outputs": [
    {
     "data": {
      "text/html": [
       "<div>\n",
       "<style scoped>\n",
       "    .dataframe tbody tr th:only-of-type {\n",
       "        vertical-align: middle;\n",
       "    }\n",
       "\n",
       "    .dataframe tbody tr th {\n",
       "        vertical-align: top;\n",
       "    }\n",
       "\n",
       "    .dataframe thead th {\n",
       "        text-align: right;\n",
       "    }\n",
       "</style>\n",
       "<table border=\"1\" class=\"dataframe\">\n",
       "  <thead>\n",
       "    <tr style=\"text-align: right;\">\n",
       "      <th></th>\n",
       "      <th>Sex</th>\n",
       "      <th>Length</th>\n",
       "      <th>Diameter</th>\n",
       "      <th>Height</th>\n",
       "      <th>Whole_weight</th>\n",
       "      <th>Shucked_weight</th>\n",
       "      <th>Viscera_weight</th>\n",
       "      <th>Shell_weight</th>\n",
       "      <th>Rings</th>\n",
       "    </tr>\n",
       "  </thead>\n",
       "  <tbody>\n",
       "    <tr>\n",
       "      <th>0</th>\n",
       "      <td>1</td>\n",
       "      <td>0.455</td>\n",
       "      <td>0.365</td>\n",
       "      <td>0.095</td>\n",
       "      <td>0.5140</td>\n",
       "      <td>0.2245</td>\n",
       "      <td>0.1010</td>\n",
       "      <td>0.1500</td>\n",
       "      <td>0.500000</td>\n",
       "    </tr>\n",
       "    <tr>\n",
       "      <th>1</th>\n",
       "      <td>1</td>\n",
       "      <td>0.350</td>\n",
       "      <td>0.265</td>\n",
       "      <td>0.090</td>\n",
       "      <td>0.2255</td>\n",
       "      <td>0.0995</td>\n",
       "      <td>0.0485</td>\n",
       "      <td>0.0700</td>\n",
       "      <td>0.214286</td>\n",
       "    </tr>\n",
       "    <tr>\n",
       "      <th>2</th>\n",
       "      <td>0</td>\n",
       "      <td>0.530</td>\n",
       "      <td>0.420</td>\n",
       "      <td>0.135</td>\n",
       "      <td>0.6770</td>\n",
       "      <td>0.2565</td>\n",
       "      <td>0.1415</td>\n",
       "      <td>0.2100</td>\n",
       "      <td>0.285714</td>\n",
       "    </tr>\n",
       "    <tr>\n",
       "      <th>3</th>\n",
       "      <td>1</td>\n",
       "      <td>0.440</td>\n",
       "      <td>0.365</td>\n",
       "      <td>0.125</td>\n",
       "      <td>0.5160</td>\n",
       "      <td>0.2155</td>\n",
       "      <td>0.1140</td>\n",
       "      <td>0.1550</td>\n",
       "      <td>0.321429</td>\n",
       "    </tr>\n",
       "    <tr>\n",
       "      <th>4</th>\n",
       "      <td>2</td>\n",
       "      <td>0.330</td>\n",
       "      <td>0.255</td>\n",
       "      <td>0.080</td>\n",
       "      <td>0.2050</td>\n",
       "      <td>0.0895</td>\n",
       "      <td>0.0395</td>\n",
       "      <td>0.0550</td>\n",
       "      <td>0.214286</td>\n",
       "    </tr>\n",
       "    <tr>\n",
       "      <th>...</th>\n",
       "      <td>...</td>\n",
       "      <td>...</td>\n",
       "      <td>...</td>\n",
       "      <td>...</td>\n",
       "      <td>...</td>\n",
       "      <td>...</td>\n",
       "      <td>...</td>\n",
       "      <td>...</td>\n",
       "      <td>...</td>\n",
       "    </tr>\n",
       "    <tr>\n",
       "      <th>4172</th>\n",
       "      <td>0</td>\n",
       "      <td>0.565</td>\n",
       "      <td>0.450</td>\n",
       "      <td>0.165</td>\n",
       "      <td>0.8870</td>\n",
       "      <td>0.3700</td>\n",
       "      <td>0.2390</td>\n",
       "      <td>0.2490</td>\n",
       "      <td>0.357143</td>\n",
       "    </tr>\n",
       "    <tr>\n",
       "      <th>4173</th>\n",
       "      <td>1</td>\n",
       "      <td>0.590</td>\n",
       "      <td>0.440</td>\n",
       "      <td>0.135</td>\n",
       "      <td>0.9660</td>\n",
       "      <td>0.4390</td>\n",
       "      <td>0.2145</td>\n",
       "      <td>0.2605</td>\n",
       "      <td>0.321429</td>\n",
       "    </tr>\n",
       "    <tr>\n",
       "      <th>4174</th>\n",
       "      <td>1</td>\n",
       "      <td>0.600</td>\n",
       "      <td>0.475</td>\n",
       "      <td>0.205</td>\n",
       "      <td>1.1760</td>\n",
       "      <td>0.5255</td>\n",
       "      <td>0.2875</td>\n",
       "      <td>0.3080</td>\n",
       "      <td>0.285714</td>\n",
       "    </tr>\n",
       "    <tr>\n",
       "      <th>4175</th>\n",
       "      <td>0</td>\n",
       "      <td>0.625</td>\n",
       "      <td>0.485</td>\n",
       "      <td>0.150</td>\n",
       "      <td>1.0945</td>\n",
       "      <td>0.5310</td>\n",
       "      <td>0.2610</td>\n",
       "      <td>0.2960</td>\n",
       "      <td>0.321429</td>\n",
       "    </tr>\n",
       "    <tr>\n",
       "      <th>4176</th>\n",
       "      <td>1</td>\n",
       "      <td>0.710</td>\n",
       "      <td>0.555</td>\n",
       "      <td>0.195</td>\n",
       "      <td>1.9485</td>\n",
       "      <td>0.9455</td>\n",
       "      <td>0.3765</td>\n",
       "      <td>0.4950</td>\n",
       "      <td>0.392857</td>\n",
       "    </tr>\n",
       "  </tbody>\n",
       "</table>\n",
       "<p>4177 rows × 9 columns</p>\n",
       "</div>"
      ],
      "text/plain": [
       "      Sex  Length  Diameter  Height  Whole_weight  Shucked_weight  \\\n",
       "0       1   0.455     0.365   0.095        0.5140          0.2245   \n",
       "1       1   0.350     0.265   0.090        0.2255          0.0995   \n",
       "2       0   0.530     0.420   0.135        0.6770          0.2565   \n",
       "3       1   0.440     0.365   0.125        0.5160          0.2155   \n",
       "4       2   0.330     0.255   0.080        0.2050          0.0895   \n",
       "...   ...     ...       ...     ...           ...             ...   \n",
       "4172    0   0.565     0.450   0.165        0.8870          0.3700   \n",
       "4173    1   0.590     0.440   0.135        0.9660          0.4390   \n",
       "4174    1   0.600     0.475   0.205        1.1760          0.5255   \n",
       "4175    0   0.625     0.485   0.150        1.0945          0.5310   \n",
       "4176    1   0.710     0.555   0.195        1.9485          0.9455   \n",
       "\n",
       "      Viscera_weight  Shell_weight     Rings  \n",
       "0             0.1010        0.1500  0.500000  \n",
       "1             0.0485        0.0700  0.214286  \n",
       "2             0.1415        0.2100  0.285714  \n",
       "3             0.1140        0.1550  0.321429  \n",
       "4             0.0395        0.0550  0.214286  \n",
       "...              ...           ...       ...  \n",
       "4172          0.2390        0.2490  0.357143  \n",
       "4173          0.2145        0.2605  0.321429  \n",
       "4174          0.2875        0.3080  0.285714  \n",
       "4175          0.2610        0.2960  0.321429  \n",
       "4176          0.3765        0.4950  0.392857  \n",
       "\n",
       "[4177 rows x 9 columns]"
      ]
     },
     "execution_count": 113,
     "metadata": {},
     "output_type": "execute_result"
    }
   ],
   "source": [
    "df_data"
   ]
  },
  {
   "cell_type": "code",
   "execution_count": 115,
   "id": "bf0f98f5-1d6d-48d4-98c5-059945adac4e",
   "metadata": {},
   "outputs": [],
   "source": [
    "# now we are going to use sklearn for train_test split:\n",
    "from sklearn.model_selection import train_test_split\n",
    "X_train,X_test, y_train, y_test= train_test_split(df_data.drop([\"Sex\"],axis = 1),\n",
    "                                                     df_data['Sex'],\n",
    "                                                     test_size = 0.8,\n",
    "                                                     random_state = 3)\n",
    "                                                    "
   ]
  },
  {
   "cell_type": "code",
   "execution_count": 117,
   "id": "81ca1d66-b472-42b1-a2ed-30d9cd89d523",
   "metadata": {},
   "outputs": [
    {
     "data": {
      "text/html": [
       "<div>\n",
       "<style scoped>\n",
       "    .dataframe tbody tr th:only-of-type {\n",
       "        vertical-align: middle;\n",
       "    }\n",
       "\n",
       "    .dataframe tbody tr th {\n",
       "        vertical-align: top;\n",
       "    }\n",
       "\n",
       "    .dataframe thead th {\n",
       "        text-align: right;\n",
       "    }\n",
       "</style>\n",
       "<table border=\"1\" class=\"dataframe\">\n",
       "  <thead>\n",
       "    <tr style=\"text-align: right;\">\n",
       "      <th></th>\n",
       "      <th>Length</th>\n",
       "      <th>Diameter</th>\n",
       "      <th>Height</th>\n",
       "      <th>Whole_weight</th>\n",
       "      <th>Shucked_weight</th>\n",
       "      <th>Viscera_weight</th>\n",
       "      <th>Shell_weight</th>\n",
       "      <th>Rings</th>\n",
       "    </tr>\n",
       "  </thead>\n",
       "  <tbody>\n",
       "    <tr>\n",
       "      <th>3235</th>\n",
       "      <td>0.665</td>\n",
       "      <td>0.535</td>\n",
       "      <td>0.155</td>\n",
       "      <td>1.3830</td>\n",
       "      <td>0.5960</td>\n",
       "      <td>0.2565</td>\n",
       "      <td>0.4850</td>\n",
       "      <td>0.464286</td>\n",
       "    </tr>\n",
       "    <tr>\n",
       "      <th>4105</th>\n",
       "      <td>0.715</td>\n",
       "      <td>0.565</td>\n",
       "      <td>0.180</td>\n",
       "      <td>1.7900</td>\n",
       "      <td>0.8440</td>\n",
       "      <td>0.3535</td>\n",
       "      <td>0.5385</td>\n",
       "      <td>0.285714</td>\n",
       "    </tr>\n",
       "    <tr>\n",
       "      <th>1558</th>\n",
       "      <td>0.425</td>\n",
       "      <td>0.315</td>\n",
       "      <td>0.080</td>\n",
       "      <td>0.3030</td>\n",
       "      <td>0.1310</td>\n",
       "      <td>0.0585</td>\n",
       "      <td>0.0950</td>\n",
       "      <td>0.214286</td>\n",
       "    </tr>\n",
       "    <tr>\n",
       "      <th>461</th>\n",
       "      <td>0.585</td>\n",
       "      <td>0.465</td>\n",
       "      <td>0.170</td>\n",
       "      <td>0.9915</td>\n",
       "      <td>0.3865</td>\n",
       "      <td>0.2240</td>\n",
       "      <td>0.2650</td>\n",
       "      <td>0.392857</td>\n",
       "    </tr>\n",
       "    <tr>\n",
       "      <th>2432</th>\n",
       "      <td>0.610</td>\n",
       "      <td>0.485</td>\n",
       "      <td>0.165</td>\n",
       "      <td>1.0870</td>\n",
       "      <td>0.4255</td>\n",
       "      <td>0.2320</td>\n",
       "      <td>0.3800</td>\n",
       "      <td>0.357143</td>\n",
       "    </tr>\n",
       "    <tr>\n",
       "      <th>...</th>\n",
       "      <td>...</td>\n",
       "      <td>...</td>\n",
       "      <td>...</td>\n",
       "      <td>...</td>\n",
       "      <td>...</td>\n",
       "      <td>...</td>\n",
       "      <td>...</td>\n",
       "      <td>...</td>\n",
       "    </tr>\n",
       "    <tr>\n",
       "      <th>789</th>\n",
       "      <td>0.600</td>\n",
       "      <td>0.465</td>\n",
       "      <td>0.165</td>\n",
       "      <td>0.8875</td>\n",
       "      <td>0.3090</td>\n",
       "      <td>0.2460</td>\n",
       "      <td>0.2620</td>\n",
       "      <td>0.392857</td>\n",
       "    </tr>\n",
       "    <tr>\n",
       "      <th>968</th>\n",
       "      <td>0.510</td>\n",
       "      <td>0.405</td>\n",
       "      <td>0.150</td>\n",
       "      <td>0.7035</td>\n",
       "      <td>0.3470</td>\n",
       "      <td>0.1340</td>\n",
       "      <td>0.1885</td>\n",
       "      <td>0.250000</td>\n",
       "    </tr>\n",
       "    <tr>\n",
       "      <th>1667</th>\n",
       "      <td>0.605</td>\n",
       "      <td>0.505</td>\n",
       "      <td>0.180</td>\n",
       "      <td>1.4340</td>\n",
       "      <td>0.7285</td>\n",
       "      <td>0.2640</td>\n",
       "      <td>0.4310</td>\n",
       "      <td>0.357143</td>\n",
       "    </tr>\n",
       "    <tr>\n",
       "      <th>3321</th>\n",
       "      <td>0.490</td>\n",
       "      <td>0.385</td>\n",
       "      <td>0.140</td>\n",
       "      <td>0.5425</td>\n",
       "      <td>0.1980</td>\n",
       "      <td>0.1270</td>\n",
       "      <td>0.1750</td>\n",
       "      <td>0.357143</td>\n",
       "    </tr>\n",
       "    <tr>\n",
       "      <th>1688</th>\n",
       "      <td>0.625</td>\n",
       "      <td>0.490</td>\n",
       "      <td>0.165</td>\n",
       "      <td>1.1165</td>\n",
       "      <td>0.4895</td>\n",
       "      <td>0.2615</td>\n",
       "      <td>0.3325</td>\n",
       "      <td>0.357143</td>\n",
       "    </tr>\n",
       "  </tbody>\n",
       "</table>\n",
       "<p>835 rows × 8 columns</p>\n",
       "</div>"
      ],
      "text/plain": [
       "      Length  Diameter  Height  Whole_weight  Shucked_weight  Viscera_weight  \\\n",
       "3235   0.665     0.535   0.155        1.3830          0.5960          0.2565   \n",
       "4105   0.715     0.565   0.180        1.7900          0.8440          0.3535   \n",
       "1558   0.425     0.315   0.080        0.3030          0.1310          0.0585   \n",
       "461    0.585     0.465   0.170        0.9915          0.3865          0.2240   \n",
       "2432   0.610     0.485   0.165        1.0870          0.4255          0.2320   \n",
       "...      ...       ...     ...           ...             ...             ...   \n",
       "789    0.600     0.465   0.165        0.8875          0.3090          0.2460   \n",
       "968    0.510     0.405   0.150        0.7035          0.3470          0.1340   \n",
       "1667   0.605     0.505   0.180        1.4340          0.7285          0.2640   \n",
       "3321   0.490     0.385   0.140        0.5425          0.1980          0.1270   \n",
       "1688   0.625     0.490   0.165        1.1165          0.4895          0.2615   \n",
       "\n",
       "      Shell_weight     Rings  \n",
       "3235        0.4850  0.464286  \n",
       "4105        0.5385  0.285714  \n",
       "1558        0.0950  0.214286  \n",
       "461         0.2650  0.392857  \n",
       "2432        0.3800  0.357143  \n",
       "...            ...       ...  \n",
       "789         0.2620  0.392857  \n",
       "968         0.1885  0.250000  \n",
       "1667        0.4310  0.357143  \n",
       "3321        0.1750  0.357143  \n",
       "1688        0.3325  0.357143  \n",
       "\n",
       "[835 rows x 8 columns]"
      ]
     },
     "execution_count": 117,
     "metadata": {},
     "output_type": "execute_result"
    }
   ],
   "source": [
    "X_train"
   ]
  },
  {
   "cell_type": "code",
   "execution_count": 119,
   "id": "e1bc33c8-7888-4289-b5aa-f6d48d0898bb",
   "metadata": {},
   "outputs": [
    {
     "data": {
      "text/html": [
       "<div>\n",
       "<style scoped>\n",
       "    .dataframe tbody tr th:only-of-type {\n",
       "        vertical-align: middle;\n",
       "    }\n",
       "\n",
       "    .dataframe tbody tr th {\n",
       "        vertical-align: top;\n",
       "    }\n",
       "\n",
       "    .dataframe thead th {\n",
       "        text-align: right;\n",
       "    }\n",
       "</style>\n",
       "<table border=\"1\" class=\"dataframe\">\n",
       "  <thead>\n",
       "    <tr style=\"text-align: right;\">\n",
       "      <th></th>\n",
       "      <th>Length</th>\n",
       "      <th>Diameter</th>\n",
       "      <th>Height</th>\n",
       "      <th>Whole_weight</th>\n",
       "      <th>Shucked_weight</th>\n",
       "      <th>Viscera_weight</th>\n",
       "      <th>Shell_weight</th>\n",
       "      <th>Rings</th>\n",
       "    </tr>\n",
       "  </thead>\n",
       "  <tbody>\n",
       "    <tr>\n",
       "      <th>2686</th>\n",
       "      <td>0.630</td>\n",
       "      <td>0.505</td>\n",
       "      <td>0.150</td>\n",
       "      <td>1.3165</td>\n",
       "      <td>0.6325</td>\n",
       "      <td>0.2465</td>\n",
       "      <td>0.3700</td>\n",
       "      <td>0.357143</td>\n",
       "    </tr>\n",
       "    <tr>\n",
       "      <th>202</th>\n",
       "      <td>0.500</td>\n",
       "      <td>0.400</td>\n",
       "      <td>0.145</td>\n",
       "      <td>0.6300</td>\n",
       "      <td>0.2340</td>\n",
       "      <td>0.1465</td>\n",
       "      <td>0.2300</td>\n",
       "      <td>0.392857</td>\n",
       "    </tr>\n",
       "    <tr>\n",
       "      <th>1200</th>\n",
       "      <td>0.720</td>\n",
       "      <td>0.550</td>\n",
       "      <td>0.200</td>\n",
       "      <td>1.9965</td>\n",
       "      <td>0.9035</td>\n",
       "      <td>0.4690</td>\n",
       "      <td>0.5215</td>\n",
       "      <td>0.321429</td>\n",
       "    </tr>\n",
       "    <tr>\n",
       "      <th>2840</th>\n",
       "      <td>0.590</td>\n",
       "      <td>0.485</td>\n",
       "      <td>0.155</td>\n",
       "      <td>1.0785</td>\n",
       "      <td>0.4535</td>\n",
       "      <td>0.2435</td>\n",
       "      <td>0.3100</td>\n",
       "      <td>0.285714</td>\n",
       "    </tr>\n",
       "    <tr>\n",
       "      <th>3760</th>\n",
       "      <td>0.530</td>\n",
       "      <td>0.425</td>\n",
       "      <td>0.130</td>\n",
       "      <td>0.7020</td>\n",
       "      <td>0.2975</td>\n",
       "      <td>0.1395</td>\n",
       "      <td>0.2200</td>\n",
       "      <td>0.285714</td>\n",
       "    </tr>\n",
       "    <tr>\n",
       "      <th>...</th>\n",
       "      <td>...</td>\n",
       "      <td>...</td>\n",
       "      <td>...</td>\n",
       "      <td>...</td>\n",
       "      <td>...</td>\n",
       "      <td>...</td>\n",
       "      <td>...</td>\n",
       "      <td>...</td>\n",
       "    </tr>\n",
       "    <tr>\n",
       "      <th>950</th>\n",
       "      <td>0.480</td>\n",
       "      <td>0.385</td>\n",
       "      <td>0.145</td>\n",
       "      <td>0.6400</td>\n",
       "      <td>0.2925</td>\n",
       "      <td>0.1405</td>\n",
       "      <td>0.1575</td>\n",
       "      <td>0.178571</td>\n",
       "    </tr>\n",
       "    <tr>\n",
       "      <th>3127</th>\n",
       "      <td>0.620</td>\n",
       "      <td>0.485</td>\n",
       "      <td>0.155</td>\n",
       "      <td>1.1945</td>\n",
       "      <td>0.5105</td>\n",
       "      <td>0.2710</td>\n",
       "      <td>0.3520</td>\n",
       "      <td>0.285714</td>\n",
       "    </tr>\n",
       "    <tr>\n",
       "      <th>2817</th>\n",
       "      <td>0.330</td>\n",
       "      <td>0.225</td>\n",
       "      <td>0.075</td>\n",
       "      <td>0.1870</td>\n",
       "      <td>0.0945</td>\n",
       "      <td>0.0395</td>\n",
       "      <td>0.0425</td>\n",
       "      <td>0.214286</td>\n",
       "    </tr>\n",
       "    <tr>\n",
       "      <th>2122</th>\n",
       "      <td>0.435</td>\n",
       "      <td>0.350</td>\n",
       "      <td>0.120</td>\n",
       "      <td>0.4585</td>\n",
       "      <td>0.1920</td>\n",
       "      <td>0.1000</td>\n",
       "      <td>0.1300</td>\n",
       "      <td>0.357143</td>\n",
       "    </tr>\n",
       "    <tr>\n",
       "      <th>1129</th>\n",
       "      <td>0.560</td>\n",
       "      <td>0.415</td>\n",
       "      <td>0.145</td>\n",
       "      <td>0.8520</td>\n",
       "      <td>0.4300</td>\n",
       "      <td>0.1885</td>\n",
       "      <td>0.2050</td>\n",
       "      <td>0.250000</td>\n",
       "    </tr>\n",
       "  </tbody>\n",
       "</table>\n",
       "<p>3342 rows × 8 columns</p>\n",
       "</div>"
      ],
      "text/plain": [
       "      Length  Diameter  Height  Whole_weight  Shucked_weight  Viscera_weight  \\\n",
       "2686   0.630     0.505   0.150        1.3165          0.6325          0.2465   \n",
       "202    0.500     0.400   0.145        0.6300          0.2340          0.1465   \n",
       "1200   0.720     0.550   0.200        1.9965          0.9035          0.4690   \n",
       "2840   0.590     0.485   0.155        1.0785          0.4535          0.2435   \n",
       "3760   0.530     0.425   0.130        0.7020          0.2975          0.1395   \n",
       "...      ...       ...     ...           ...             ...             ...   \n",
       "950    0.480     0.385   0.145        0.6400          0.2925          0.1405   \n",
       "3127   0.620     0.485   0.155        1.1945          0.5105          0.2710   \n",
       "2817   0.330     0.225   0.075        0.1870          0.0945          0.0395   \n",
       "2122   0.435     0.350   0.120        0.4585          0.1920          0.1000   \n",
       "1129   0.560     0.415   0.145        0.8520          0.4300          0.1885   \n",
       "\n",
       "      Shell_weight     Rings  \n",
       "2686        0.3700  0.357143  \n",
       "202         0.2300  0.392857  \n",
       "1200        0.5215  0.321429  \n",
       "2840        0.3100  0.285714  \n",
       "3760        0.2200  0.285714  \n",
       "...            ...       ...  \n",
       "950         0.1575  0.178571  \n",
       "3127        0.3520  0.285714  \n",
       "2817        0.0425  0.214286  \n",
       "2122        0.1300  0.357143  \n",
       "1129        0.2050  0.250000  \n",
       "\n",
       "[3342 rows x 8 columns]"
      ]
     },
     "execution_count": 119,
     "metadata": {},
     "output_type": "execute_result"
    }
   ],
   "source": [
    "X_test"
   ]
  },
  {
   "cell_type": "code",
   "execution_count": 121,
   "id": "5db2e3e5-d983-4512-98ba-63477e8299af",
   "metadata": {},
   "outputs": [
    {
     "data": {
      "text/plain": [
       "3235    1\n",
       "4105    0\n",
       "1558    2\n",
       "461     0\n",
       "2432    0\n",
       "       ..\n",
       "789     0\n",
       "968     1\n",
       "1667    0\n",
       "3321    2\n",
       "1688    1\n",
       "Name: Sex, Length: 835, dtype: int64"
      ]
     },
     "execution_count": 121,
     "metadata": {},
     "output_type": "execute_result"
    }
   ],
   "source": [
    "y_train"
   ]
  },
  {
   "cell_type": "code",
   "execution_count": 123,
   "id": "217d726f-d8c1-4561-b72c-837333e30482",
   "metadata": {},
   "outputs": [
    {
     "data": {
      "text/plain": [
       "2686    1\n",
       "202     0\n",
       "1200    0\n",
       "2840    1\n",
       "3760    1\n",
       "       ..\n",
       "950     1\n",
       "3127    0\n",
       "2817    2\n",
       "2122    0\n",
       "1129    1\n",
       "Name: Sex, Length: 3342, dtype: int64"
      ]
     },
     "execution_count": 123,
     "metadata": {},
     "output_type": "execute_result"
    }
   ],
   "source": [
    "y_test"
   ]
  },
  {
   "cell_type": "code",
   "execution_count": 125,
   "id": "c138b7ee-ebc4-469b-8e93-f42e23976547",
   "metadata": {},
   "outputs": [
    {
     "data": {
      "text/html": [
       "<style>#sk-container-id-1 {color: black;background-color: white;}#sk-container-id-1 pre{padding: 0;}#sk-container-id-1 div.sk-toggleable {background-color: white;}#sk-container-id-1 label.sk-toggleable__label {cursor: pointer;display: block;width: 100%;margin-bottom: 0;padding: 0.3em;box-sizing: border-box;text-align: center;}#sk-container-id-1 label.sk-toggleable__label-arrow:before {content: \"▸\";float: left;margin-right: 0.25em;color: #696969;}#sk-container-id-1 label.sk-toggleable__label-arrow:hover:before {color: black;}#sk-container-id-1 div.sk-estimator:hover label.sk-toggleable__label-arrow:before {color: black;}#sk-container-id-1 div.sk-toggleable__content {max-height: 0;max-width: 0;overflow: hidden;text-align: left;background-color: #f0f8ff;}#sk-container-id-1 div.sk-toggleable__content pre {margin: 0.2em;color: black;border-radius: 0.25em;background-color: #f0f8ff;}#sk-container-id-1 input.sk-toggleable__control:checked~div.sk-toggleable__content {max-height: 200px;max-width: 100%;overflow: auto;}#sk-container-id-1 input.sk-toggleable__control:checked~label.sk-toggleable__label-arrow:before {content: \"▾\";}#sk-container-id-1 div.sk-estimator input.sk-toggleable__control:checked~label.sk-toggleable__label {background-color: #d4ebff;}#sk-container-id-1 div.sk-label input.sk-toggleable__control:checked~label.sk-toggleable__label {background-color: #d4ebff;}#sk-container-id-1 input.sk-hidden--visually {border: 0;clip: rect(1px 1px 1px 1px);clip: rect(1px, 1px, 1px, 1px);height: 1px;margin: -1px;overflow: hidden;padding: 0;position: absolute;width: 1px;}#sk-container-id-1 div.sk-estimator {font-family: monospace;background-color: #f0f8ff;border: 1px dotted black;border-radius: 0.25em;box-sizing: border-box;margin-bottom: 0.5em;}#sk-container-id-1 div.sk-estimator:hover {background-color: #d4ebff;}#sk-container-id-1 div.sk-parallel-item::after {content: \"\";width: 100%;border-bottom: 1px solid gray;flex-grow: 1;}#sk-container-id-1 div.sk-label:hover label.sk-toggleable__label {background-color: #d4ebff;}#sk-container-id-1 div.sk-serial::before {content: \"\";position: absolute;border-left: 1px solid gray;box-sizing: border-box;top: 0;bottom: 0;left: 50%;z-index: 0;}#sk-container-id-1 div.sk-serial {display: flex;flex-direction: column;align-items: center;background-color: white;padding-right: 0.2em;padding-left: 0.2em;position: relative;}#sk-container-id-1 div.sk-item {position: relative;z-index: 1;}#sk-container-id-1 div.sk-parallel {display: flex;align-items: stretch;justify-content: center;background-color: white;position: relative;}#sk-container-id-1 div.sk-item::before, #sk-container-id-1 div.sk-parallel-item::before {content: \"\";position: absolute;border-left: 1px solid gray;box-sizing: border-box;top: 0;bottom: 0;left: 50%;z-index: -1;}#sk-container-id-1 div.sk-parallel-item {display: flex;flex-direction: column;z-index: 1;position: relative;background-color: white;}#sk-container-id-1 div.sk-parallel-item:first-child::after {align-self: flex-end;width: 50%;}#sk-container-id-1 div.sk-parallel-item:last-child::after {align-self: flex-start;width: 50%;}#sk-container-id-1 div.sk-parallel-item:only-child::after {width: 0;}#sk-container-id-1 div.sk-dashed-wrapped {border: 1px dashed gray;margin: 0 0.4em 0.5em 0.4em;box-sizing: border-box;padding-bottom: 0.4em;background-color: white;}#sk-container-id-1 div.sk-label label {font-family: monospace;font-weight: bold;display: inline-block;line-height: 1.2em;}#sk-container-id-1 div.sk-label-container {text-align: center;}#sk-container-id-1 div.sk-container {/* jupyter's `normalize.less` sets `[hidden] { display: none; }` but bootstrap.min.css set `[hidden] { display: none !important; }` so we also need the `!important` here to be able to override the default hidden behavior on the sphinx rendered scikit-learn.org. See: https://github.com/scikit-learn/scikit-learn/issues/21755 */display: inline-block !important;position: relative;}#sk-container-id-1 div.sk-text-repr-fallback {display: none;}</style><div id=\"sk-container-id-1\" class=\"sk-top-container\"><div class=\"sk-text-repr-fallback\"><pre>LogisticRegression()</pre><b>In a Jupyter environment, please rerun this cell to show the HTML representation or trust the notebook. <br />On GitHub, the HTML representation is unable to render, please try loading this page with nbviewer.org.</b></div><div class=\"sk-container\" hidden><div class=\"sk-item\"><div class=\"sk-estimator sk-toggleable\"><input class=\"sk-toggleable__control sk-hidden--visually\" id=\"sk-estimator-id-1\" type=\"checkbox\" checked><label for=\"sk-estimator-id-1\" class=\"sk-toggleable__label sk-toggleable__label-arrow\">LogisticRegression</label><div class=\"sk-toggleable__content\"><pre>LogisticRegression()</pre></div></div></div></div></div>"
      ],
      "text/plain": [
       "LogisticRegression()"
      ]
     },
     "execution_count": 125,
     "metadata": {},
     "output_type": "execute_result"
    }
   ],
   "source": [
    "from sklearn.linear_model import LogisticRegression\n",
    "log_model = LogisticRegression()\n",
    "log_model.fit(X_train, y_train)"
   ]
  },
  {
   "cell_type": "code",
   "execution_count": 127,
   "id": "bf6bbb3c-8b11-4bc3-9881-da3d18f315bb",
   "metadata": {},
   "outputs": [
    {
     "data": {
      "text/plain": [
       "array([1, 1, 1, ..., 2, 2, 1], dtype=int64)"
      ]
     },
     "execution_count": 127,
     "metadata": {},
     "output_type": "execute_result"
    }
   ],
   "source": [
    "from sklearn.metrics import confusion_matrix\n",
    "from sklearn.metrics import accuracy_score\n",
    "y_predict = log_model.predict(X_test)\n",
    "y_predict"
   ]
  },
  {
   "cell_type": "code",
   "execution_count": 129,
   "id": "bf888dfd-0bf6-49a9-b3e6-a14165c90a4e",
   "metadata": {},
   "outputs": [
    {
     "data": {
      "text/plain": [
       "array([0, 1, 2, 1, 1, 1, 2, 1, 2, 0, 1, 2, 1, 1, 1, 1, 2, 2, 1, 1, 1, 2,\n",
       "       2, 2, 1, 1, 1, 1, 2, 1, 1, 2, 2, 1, 2, 2, 1, 1, 0, 1, 2, 1, 1, 2,\n",
       "       0, 2, 0, 2, 2, 0, 2, 2, 1, 2, 1, 1, 0, 2, 2, 2, 1, 2, 2, 2, 1, 1,\n",
       "       1, 2, 2, 2, 1, 2, 2, 0, 0, 1, 1, 2, 1, 1, 2, 1, 2, 2, 1, 1, 2, 1,\n",
       "       1, 1, 2, 1, 1, 2, 1, 0, 1, 2, 2, 1, 2, 2, 2, 2, 0, 2, 2, 2, 1, 2,\n",
       "       2, 1, 2, 2, 1, 1, 1, 1, 1, 2, 2, 1, 2, 0, 1, 2, 2, 1, 1, 1, 0, 0,\n",
       "       1, 2, 2, 2, 1, 0, 2, 1, 1, 1, 2, 1, 0, 2, 2, 2, 2, 2, 1, 1, 1, 2,\n",
       "       2, 1, 1, 2, 1, 1, 2, 1, 1, 1, 1, 2, 1, 1, 0, 0, 2, 1, 1, 2, 1, 2,\n",
       "       1, 1, 2, 2, 1, 1, 1, 1, 1, 1, 2, 1, 1, 2, 2, 1, 1, 2, 1, 2, 1, 2,\n",
       "       2, 1, 1, 1, 0, 1, 1, 2, 1, 2, 2, 1, 1, 2, 1, 2, 1, 1, 0, 2, 2, 1,\n",
       "       2, 1, 1, 2, 2, 0, 2, 2, 1, 1, 1, 2, 0, 1, 0, 1, 1, 2, 1, 1, 2, 1,\n",
       "       1, 1, 2, 2, 1, 1, 1, 1, 1, 1, 1, 1, 2, 2, 1, 1, 2, 1, 2, 1, 1, 0,\n",
       "       1, 2, 1, 1, 2, 1, 1, 1, 1, 1, 1, 0, 1, 1, 2, 1, 1, 1, 1, 1, 1, 2,\n",
       "       0, 2, 2, 1, 0, 2, 2, 1, 1, 2, 2, 1, 2, 1, 2, 1, 1, 1, 1, 0, 1, 2,\n",
       "       1, 2, 2, 1, 1, 0, 1, 2, 1, 1, 1, 1, 1, 1, 1, 0, 1, 1, 2, 1, 1, 2,\n",
       "       2, 2, 2, 1, 1, 2, 0, 1, 1, 0, 2, 0, 1, 1, 2, 2, 1, 1, 1, 1, 2, 1,\n",
       "       1, 2, 2, 2, 1, 1, 2, 0, 2, 2, 1, 1, 2, 2, 2, 2, 1, 2, 1, 1, 1, 1,\n",
       "       1, 1, 0, 2, 2, 1, 1, 2, 2, 2, 1, 1, 1, 2, 1, 1, 1, 1, 2, 1, 1, 2,\n",
       "       1, 1, 2, 1, 1, 0, 1, 2, 1, 2, 1, 2, 1, 1, 1, 1, 1, 2, 0, 1, 1, 1,\n",
       "       1, 2, 1, 0, 1, 1, 1, 1, 1, 1, 2, 1, 2, 1, 1, 1, 1, 2, 2, 1, 0, 2,\n",
       "       2, 0, 0, 1, 2, 2, 2, 2, 2, 2, 2, 2, 1, 2, 0, 2, 2, 2, 2, 2, 2, 1,\n",
       "       1, 2, 1, 2, 1, 1, 1, 1, 1, 1, 2, 2, 2, 2, 2, 2, 0, 1, 1, 1, 1, 2,\n",
       "       2, 1, 0, 1, 1, 1, 2, 2, 1, 1, 1, 2, 2, 0, 0, 0, 0, 2, 1, 2, 1, 1,\n",
       "       1, 1, 2, 2, 1, 1, 1, 2, 2, 1, 2, 1, 2, 1, 1, 2, 2, 1, 0, 1, 2, 2,\n",
       "       1, 1, 2, 1, 0, 2, 2, 2, 1, 1, 1, 1, 1, 1, 0, 2, 0, 2, 2, 2, 1, 2,\n",
       "       1, 0, 2, 2, 1, 2, 1, 2, 2, 2, 2, 1, 1, 0, 0, 1, 1, 1, 1, 1, 1, 1,\n",
       "       1, 1, 2, 1, 1, 1, 1, 1, 1, 0, 1, 2, 1, 1, 2, 0, 1, 2, 2, 0, 2, 1,\n",
       "       1, 2, 0, 0, 1, 1, 2, 0, 2, 2, 1, 1, 1, 2, 0, 2, 1, 0, 2, 1, 1, 1,\n",
       "       1, 2, 1, 1, 2, 1, 0, 1, 1, 1, 0, 2, 0, 1, 2, 1, 0, 1, 2, 1, 2, 2,\n",
       "       2, 1, 2, 1, 2, 2, 1, 2, 1, 2, 2, 1, 2, 1, 1, 1, 2, 2, 1, 0, 0, 1,\n",
       "       1, 2, 1, 2, 1, 1, 1, 0, 2, 1, 0, 2, 2, 2, 2, 1, 2, 2, 1, 1, 1, 1,\n",
       "       1, 2, 2, 2, 1, 1, 1, 2, 1, 1, 1, 1, 2, 1, 0, 0, 0, 1, 1, 2, 1, 2,\n",
       "       2, 1, 2, 1, 2, 1, 1, 2, 2, 2, 1, 1, 0, 2, 2, 1, 1, 0, 1, 2, 0, 1,\n",
       "       1, 2, 2, 2, 1, 1, 1, 1, 1, 2, 1, 1, 1, 1, 2, 1, 2, 1, 2, 1, 1, 1,\n",
       "       1, 1, 2, 1, 2, 1, 1, 1, 1, 2, 1, 1, 2, 2, 1, 1, 1, 2, 1, 1, 1, 1,\n",
       "       2, 1, 1, 1, 2, 2, 1, 1, 1, 0, 1, 1, 2, 2, 0, 2, 2, 2, 2, 2, 1, 1,\n",
       "       1, 1, 2, 1, 1, 0, 1, 0, 0, 2, 1, 0, 1, 1, 1, 0, 2, 1, 1, 1, 0, 2,\n",
       "       1, 1, 1, 0, 0, 2, 1, 1, 1, 1, 2, 1, 1, 1, 1, 1, 0, 2, 1, 2, 1],\n",
       "      dtype=int64)"
      ]
     },
     "execution_count": 129,
     "metadata": {},
     "output_type": "execute_result"
    }
   ],
   "source": [
    "y_predict_train = log_model.predict(X_train)\n",
    "y_predict_train"
   ]
  },
  {
   "cell_type": "code",
   "execution_count": 131,
   "id": "bdcaee85-a3bc-4898-99a9-1416b199b22d",
   "metadata": {},
   "outputs": [
    {
     "data": {
      "text/plain": [
       "0.5529622980251346"
      ]
     },
     "execution_count": 131,
     "metadata": {},
     "output_type": "execute_result"
    }
   ],
   "source": [
    "# Now we are predicting the accuracy for the test and the \n",
    "# training \n",
    "\n",
    "accuracy_score(y_test, y_predict)"
   ]
  },
  {
   "cell_type": "code",
   "execution_count": 133,
   "id": "b8ca820b-e01e-4367-ad83-a6e646c4dd56",
   "metadata": {},
   "outputs": [
    {
     "data": {
      "text/plain": [
       "0.5520958083832336"
      ]
     },
     "execution_count": 133,
     "metadata": {},
     "output_type": "execute_result"
    }
   ],
   "source": [
    "accuracy_score(y_train, y_predict_train)"
   ]
  },
  {
   "cell_type": "code",
   "execution_count": 59,
   "id": "b2e42934-a72f-453a-bc05-2501bf3cd993",
   "metadata": {},
   "outputs": [],
   "source": [
    "#3. Writing a discusion on my classifier works to do the classification. \n",
    "\n",
    "## My classifier works by taking the sex from the data because that is the one that \n",
    "## is a full integer and it would make sense to classify by sex, because of physical things\n",
    "## like the height, diameter, length, and the different kinds of weights. \n"
   ]
  },
  {
   "cell_type": "code",
   "execution_count": 135,
   "id": "430462a8-54a1-42b8-b66b-8ed49c060bba",
   "metadata": {},
   "outputs": [],
   "source": [
    "#4. Discussing results and using a heatmap to better visualize\n",
    "# what happens? \n",
    "## Above you can see the score of the y_test and the y_predict that gives around 55 percent\n",
    "## of it getting the correct prediction. \n",
    "## While from taking the y_predict_train from the X_train we can see it has a lower \n",
    "## percentage of getting things right which probably led to a similar percentage leading\n",
    "## up to the test and such.\n",
    "## Let's visualize the data by creating a heatmap so we can talk more about it.\n",
    "a = confusion_matrix(y_test, y_predict)"
   ]
  },
  {
   "cell_type": "code",
   "execution_count": 137,
   "id": "86272d22-a9c3-4fdd-b318-018bb9a796fd",
   "metadata": {},
   "outputs": [
    {
     "data": {
      "text/plain": [
       "array([[179, 696, 178],\n",
       "       [134, 807, 271],\n",
       "       [  8, 207, 862]], dtype=int64)"
      ]
     },
     "execution_count": 137,
     "metadata": {},
     "output_type": "execute_result"
    }
   ],
   "source": [
    "a"
   ]
  },
  {
   "cell_type": "code",
   "execution_count": 139,
   "id": "a69ecc48-adcb-4952-9326-3ee1428ba9de",
   "metadata": {},
   "outputs": [],
   "source": [
    "## As you can see above we get 179 of females correct. \n",
    "## It gets 807 of the males correct and 862 of the infants correct \n",
    "## While it confuses 134 males for females and 271 males for infants \n",
    "## It also confuses 8 infants for females, and 207 infants for males \n",
    "## according to the matrix."
   ]
  },
  {
   "cell_type": "code",
   "execution_count": 141,
   "id": "d953a6be-d0cc-4b6b-9abb-e2f3e8c08bb0",
   "metadata": {},
   "outputs": [
    {
     "data": {
      "text/plain": [
       "<Axes: >"
      ]
     },
     "execution_count": 141,
     "metadata": {},
     "output_type": "execute_result"
    },
    {
     "data": {
      "image/png": "[encoded data removed]",
      "text/plain": [
       "<Figure size 640x480 with 2 Axes>"
      ]
     },
     "metadata": {},
     "output_type": "display_data"
    }
   ],
   "source": [
    "sns.heatmap(a, annot = True)"
   ]
  },
  {
   "cell_type": "code",
   "execution_count": 143,
   "id": "dbcc9642-d936-4f68-b33b-66f8f040661c",
   "metadata": {},
   "outputs": [
    {
     "data": {
      "text/plain": [
       "array([[ 48, 171,  35],\n",
       "       [ 38, 210,  68],\n",
       "       [  2,  60, 203]], dtype=int64)"
      ]
     },
     "execution_count": 143,
     "metadata": {},
     "output_type": "execute_result"
    }
   ],
   "source": [
    "## Now let's do a heatmap for the y_train and y_predict_train \n",
    "## to see how good it does in the training sections. \n",
    "b = confusion_matrix(y_train, y_predict_train)\n",
    "b\n"
   ]
  },
  {
   "cell_type": "code",
   "execution_count": 145,
   "id": "674008a6-c13b-4fda-b861-516040f483e2",
   "metadata": {},
   "outputs": [],
   "source": [
    "## Acording to the heatmap above in the training section\n",
    "## it gets 48 females correctly, 210 males correctly, \n",
    "## and 203 infants correctly established.\n",
    "## It gets 38 males confused with females, 68 males confused with infants\n",
    "## and 60 infants confused with males and 2 infants confused with females."
   ]
  },
  {
   "cell_type": "code",
   "execution_count": 147,
   "id": "d4310461-b0a1-4652-9d1e-604d0d3aa465",
   "metadata": {},
   "outputs": [
    {
     "data": {
      "text/plain": [
       "<Axes: >"
      ]
     },
     "execution_count": 147,
     "metadata": {},
     "output_type": "execute_result"
    },
    {
     "data": {
      "image/png": "[encoded data removed]",
      "text/plain": [
       "<Figure size 640x480 with 2 Axes>"
      ]
     },
     "metadata": {},
     "output_type": "display_data"
    }
   ],
   "source": [
    "sns.heatmap(b, annot = True)"
   ]
  },
  {
   "cell_type": "code",
   "execution_count": null,
   "id": "65b17fc7-0f39-4a76-b3c4-a3488342eb3f",
   "metadata": {},
   "outputs": [],
   "source": []
  }
 ],
 "metadata": {
  "kernelspec": {
   "display_name": "Python 3 (ipykernel)",
   "language": "python",
   "name": "python3"
  },
  "language_info": {
   "codemirror_mode": {
    "name": "ipython",
    "version": 3
   },
   "file_extension": ".py",
   "mimetype": "text/x-python",
   "name": "python",
   "nbconvert_exporter": "python",
   "pygments_lexer": "ipython3",
   "version": "3.11.7"
  }
 },
 "nbformat": 4,
 "nbformat_minor": 5
}
