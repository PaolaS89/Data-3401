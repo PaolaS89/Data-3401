{
 "cells": [
  {
   "cell_type": "markdown",
   "metadata": {
    "id": "UgNMRT1siGsJ"
   },
   "source": [
    "# **<center>Midterm Exam &ndash; DATA 3401 (Summer 2024)</center>**\n",
    "\n",
    "## Start Date: **7/9** (at 9:00 pm)\n",
    "## Due Date: **7/11** (at 11:00 pm)\n",
    "## There will be **no Lecture and Lab on Wednesday 7/10**\n",
    "\n",
    "#### If anyone submits the solutions late, there will be a 20% deduction from the final grade. Submissions more than 24 hours late will not be accepted. ####\n",
    "\n",
    "\n",
    "---\n",
    "\n",
    "\n",
    "\n",
    "## **Midterm Rules**\n",
    "This midterm exam is essentially like a short-term lab. Please work the exercises below **on your own**.  When you have completed the exam, you should upload your completed python file in the Canvas.\n",
    "\n",
    "You should not use **ChatGPT** and not discuss the problems with **anyone else**, including persons on an online internet forum. Consulting an outside source like this will be considered an academic integrity violation. All your answer will be carefully assessed.\n",
    "\n",
    "You may use all class resources including previous labs and lectures, and anything posted on Teams.\n"
   ]
  },
  {
   "cell_type": "markdown",
   "metadata": {
    "id": "87u3MYZInfSO"
   },
   "source": [
    "\n",
    "\n",
    "---\n",
    "\n",
    "\n",
    "\n",
    "---\n",
    "\n",
    "\n",
    "\n",
    "---\n",
    "\n"
   ]
  },
  {
   "cell_type": "markdown",
   "metadata": {
    "id": "5GW2KHKtZPir"
   },
   "source": [
    "## **Question 1:**\n",
    "\n",
    "### - Given a list **numbers = [4, 2, 2, 8, 3, 2, 4, 4, 3, 1, 9,12]**\n",
    "\n",
    "\n",
    "- Your task is to write a Python program that extracts and prints the unique numbers from the list in the order of their first occurrence\n",
    "\n",
    "**Tip:**\n",
    "- Consider using a for loop and a conditional statement as one approach to solve this question.\n",
    "- Your python code should generate a list containing unique numbers."
   ]
  },
  {
   "cell_type": "code",
   "execution_count": 41,
   "metadata": {
    "id": "R1Ucwp1TTZE9"
   },
   "outputs": [
    {
     "name": "stdout",
     "output_type": "stream",
     "text": [
      "[4, 2, 8, 3, 1, 9, 12]\n"
     ]
    }
   ],
   "source": [
    "\n",
    "list1 = [4, 2, 2, 8, 3, 2, 4, 4, 3, 1, 9, 12]\n",
    "list2 = []\n",
    "\n",
    "for a in list1:\n",
    "    if a not in list2:\n",
    "        list2.append(a)\n",
    "print(list2)\n",
    "\n",
    "\n",
    "\n",
    "\n",
    "\n"
   ]
  },
  {
   "cell_type": "markdown",
   "metadata": {
    "id": "nh0EHvhDoB00"
   },
   "source": [
    "\n",
    "\n",
    "---\n",
    "\n",
    "\n",
    "\n",
    "---\n",
    "\n",
    "\n",
    "\n",
    "---\n",
    "\n"
   ]
  },
  {
   "cell_type": "markdown",
   "metadata": {
    "id": "mDuU1H81YXDR"
   },
   "source": [
    "## **Question 2:**"
   ]
  },
  {
   "cell_type": "markdown",
   "metadata": {
    "id": "eTExPxEMasYE"
   },
   "source": [
    "#### Python Median Finder\n",
    "\n",
    "You have three numbers: `a=5`, `b=9`, and `c=2`. Your task is to determine the median (the middle value) of these three numbers without sorting them, using nested conditional statements. Implement a Python program that follows these steps:\n",
    "\n",
    "1. **First, compare `a` and `b`:**\n",
    "   - If `a` is greater than `b`, then `a` could either be the largest or the median. Next, compare `a` and `c`:\n",
    "     - If `a` is less than `c`, then `a` is the median.\n",
    "     - Else, compare `b` and `c`:\n",
    "       - If `b` is greater than `c`, then `b` is the median.\n",
    "       - Otherwise, `c` is the median.\n",
    "\n",
    "2. **If `a` is not greater than `b` (meaning `a` is less than or equal to `b`), then `b` could either be the largest or the median. Next, compare `a` and `c`:**\n",
    "   - If `a` is greater than `c`, then `a` is the median.\n",
    "   - Else, compare `b` and `c`:\n",
    "     - If `b` is less than `c`, then `b` is the median.\n",
    "     - Otherwise, `c` is the median.\n",
    "\n"
   ]
  },
  {
   "cell_type": "code",
   "execution_count": 107,
   "metadata": {
    "id": "71P5ifeAZHxO"
   },
   "outputs": [
    {
     "name": "stdout",
     "output_type": "stream",
     "text": [
      "a is the median\n"
     ]
    }
   ],
   "source": [
    "a = 5\n",
    "b = 9 \n",
    "c = 2\n",
    "\n",
    "if a > b:\n",
    "    print(\"a could be the largest or the median\")\n",
    "elif a > c:\n",
    "    print(\"a is the median\")\n",
    "elif b < c:\n",
    "    print(\"b is the median\")\n",
    "else:\n",
    "    print(\"c is the median\")\n",
    "    if a <= b:\n",
    "        print(\"b could either be the large or the median\")\n",
    "    elif a > c:\n",
    "        print(\"a is the median\")\n",
    "    elif b < c:\n",
    "        print(\"b is the median\")\n",
    "    else:\n",
    "        print(\"c is the median\")\n",
    "\n",
    "\n",
    "\n",
    "\n",
    "\n",
    "\n",
    "\n",
    "\n"
   ]
  },
  {
   "cell_type": "markdown",
   "metadata": {
    "id": "6v6PxUFSewdW"
   },
   "source": [
    "\n",
    "\n",
    "---\n",
    "\n",
    "\n",
    "\n",
    "---\n",
    "\n",
    "\n",
    "\n",
    "---\n",
    "\n"
   ]
  },
  {
   "cell_type": "markdown",
   "metadata": {
    "id": "BMsd2xiFgbNa"
   },
   "source": [
    "### **Question 3:**\n",
    "\n",
    "* Checking the Type of Triangle (Equilateral Triangle; Isosceles Triangle;   Scalene Triangle) based on Side Lengths:\n",
    "\n",
    "side1 = 3\n",
    "\n",
    "side2 = 4\n",
    "\n",
    "side3 = 5\n",
    "\n",
    "Note : \n",
    "**Equilateral Triangle:** All three sides are equal. \n",
    "\n",
    "**Isosceles Triangle:** Exactly two sides are equal. \n",
    "\n",
    "**Scalene Triangle:** All three sides are different.\n"
   ]
  },
  {
   "cell_type": "code",
   "execution_count": 65,
   "metadata": {
    "id": "nB99O68cZH2I"
   },
   "outputs": [
    {
     "name": "stdout",
     "output_type": "stream",
     "text": [
      "Scalene Triangle\n"
     ]
    }
   ],
   "source": [
    "side1 = 3\n",
    "side2 = 4\n",
    "side3 = 5\n",
    "\n",
    "if side1==side2==side3:\n",
    "    print(\"Equilateral Triangle\")\n",
    "elif side1!=side2!=side3:\n",
    "    print(\"Scalene Triangle\")\n",
    "else:\n",
    "    print(\"Isosceles Triangle\")\n",
    "\n",
    "\n",
    "\n",
    "\n",
    "\n",
    "\n",
    "\n",
    "\n",
    "\n",
    "\n",
    "\n",
    "\n",
    "\n",
    "\n",
    "\n",
    "\n"
   ]
  },
  {
   "cell_type": "markdown",
   "metadata": {
    "id": "wtxbXcRCmcf1"
   },
   "source": [
    "\n",
    "\n",
    "---\n",
    "\n",
    "\n",
    "\n",
    "---\n",
    "\n",
    "\n",
    "\n",
    "---\n",
    "\n"
   ]
  },
  {
   "cell_type": "markdown",
   "metadata": {
    "id": "QxGD7uCQo5j1"
   },
   "source": [
    "\n",
    "\n",
    "---\n",
    "\n",
    "\n",
    "\n",
    "---\n",
    "\n",
    "\n",
    "\n",
    "---\n",
    "\n"
   ]
  },
  {
   "cell_type": "markdown",
   "metadata": {
    "id": "kGo6pvjtXMUG"
   },
   "source": [
    "## **Question 4:**\n",
    "\n",
    "Implement a function named **apply_discoun**t that takes the original price of an item and its category as inputs. If the category is \"electronics\", give a 10% discount. If it's \"clothes\", give a 5% discount. For all other categories, give a 2% discount.\n",
    "\n",
    "Test your function with 3 examples."
   ]
  },
  {
   "cell_type": "code",
   "execution_count": 262,
   "metadata": {
    "id": "MuBxQeOzW42y"
   },
   "outputs": [
    {
     "name": "stdin",
     "output_type": "stream",
     "text": [
      "Categorie: electronics\n",
      "Price: 90\n"
     ]
    },
    {
     "data": {
      "text/plain": [
       "81.0"
      ]
     },
     "execution_count": 262,
     "metadata": {},
     "output_type": "execute_result"
    }
   ],
   "source": [
    "from numpy import *\n",
    "def apply_discount():\n",
    "    a = input(\"Categorie:\")\n",
    "    b = int(input(\"Price:\"))\n",
    "\n",
    "    if a == \"electronics\":\n",
    "        c = (b -(b*.10)) \n",
    "        return c\n",
    "    elif  a == \"clothes\":\n",
    "        c = (b -(b*0.05)) \n",
    "        return c\n",
    "    else:\n",
    "        c = (b -(b*0.02))\n",
    "        return c\n",
    "      \n",
    "\n",
    "\n",
    "\n",
    "\n",
    "\n",
    "\n",
    "\n",
    "\n",
    "\n",
    "\n",
    "\n",
    "\n",
    "\n",
    "apply_discount()"
   ]
  },
  {
   "cell_type": "code",
   "execution_count": 271,
   "metadata": {},
   "outputs": [
    {
     "name": "stdin",
     "output_type": "stream",
     "text": [
      "Categorie: electronics\n",
      "Price: 90\n"
     ]
    },
    {
     "data": {
      "text/plain": [
       "81.0"
      ]
     },
     "execution_count": 271,
     "metadata": {},
     "output_type": "execute_result"
    }
   ],
   "source": [
    "# Example 1: Categorie: \"electronics\" ; Price : 90 \n",
    "apply_discount()"
   ]
  },
  {
   "cell_type": "code",
   "execution_count": 273,
   "metadata": {},
   "outputs": [
    {
     "name": "stdin",
     "output_type": "stream",
     "text": [
      "Categorie: clothes\n",
      "Price: 70\n"
     ]
    },
    {
     "data": {
      "text/plain": [
       "66.5"
      ]
     },
     "execution_count": 273,
     "metadata": {},
     "output_type": "execute_result"
    }
   ],
   "source": [
    "# Example 2: Categorie: \"clothes\" ; Price:  70 \n",
    "apply_discount()"
   ]
  },
  {
   "cell_type": "code",
   "execution_count": 277,
   "metadata": {},
   "outputs": [
    {
     "name": "stdin",
     "output_type": "stream",
     "text": [
      "Categorie: food\n",
      "Price: 126\n"
     ]
    },
    {
     "data": {
      "text/plain": [
       "123.48"
      ]
     },
     "execution_count": 277,
     "metadata": {},
     "output_type": "execute_result"
    }
   ],
   "source": [
    "# Example 3: Categorie: \"food\" ; Price: 126\n",
    "apply_discount()"
   ]
  },
  {
   "cell_type": "markdown",
   "metadata": {
    "id": "tFJ8tCAInDX0"
   },
   "source": [
    "\n",
    "\n",
    "---\n",
    "\n",
    "\n",
    "\n",
    "---\n",
    "\n",
    "\n",
    "\n",
    "---\n",
    "\n"
   ]
  },
  {
   "cell_type": "markdown",
   "metadata": {
    "id": "J7eirZu1XyuP"
   },
   "source": [
    "## **Question 5:**\n",
    "For this exercise, you are *not* allowed to use the `.replace()` function or a similar single string command to complete the exercise. For example, you could make a list of the input string and then use list manipulations to complete the task.\n",
    "\n",
    "1. Write a function or script that takes in two strings, and returns the first string minus all instances of the second string. You may assume the second string is a single character.  For example, an input of \"Hello World\" where \"l\" is removed should result in \"Heo Word\".\n",
    "1. Test your function by specifying \"i\" to be removed from \"Supercalifragilisticexpialidocious\"\n",
    "\n",
    "Bonus: Modify your function to allow the second string to be more than one characer. Test your new function by specifying \"data\" to be removed from \"data 3401 introduction to python for data science\". (This should result in ' 3401 introduction to python for  science'\n",
    "\n",
    "**Example:** if your function is called `replace_string(str1,str2)`, then for part 2 you should print `replace_string('Supercalifragilisticexpialidocious','i')` and for the bonus you should print `replace_string('data 3401 introduction to python for data science','data')`"
   ]
  },
  {
   "cell_type": "code",
   "execution_count": 97,
   "metadata": {},
   "outputs": [
    {
     "name": "stdin",
     "output_type": "stream",
     "text": [
      "word: Supercalifragilisticexpialidocious\n",
      "letter: i\n"
     ]
    },
    {
     "name": "stdout",
     "output_type": "stream",
     "text": [
      "['S', 'u', 'p', 'e', 'r', 'c', 'a', 'l', 'f', 'r', 'a', 'g', 'l', 's', 't', 'c', 'e', 'x', 'p', 'a', 'l', 'd', 'o', 'c', 'o', 'u', 's']\n"
     ]
    }
   ],
   "source": [
    "# This is for Supercalifragilisticexpialidocious \n",
    "def remove_letter(a,b):\n",
    "    for b in a:\n",
    "        del(a[8])\n",
    "        del(a[14])\n",
    "        del(a[12])\n",
    "        del(a[15])\n",
    "        del(a[19])\n",
    "        del(a[21])\n",
    "        del(a[24])\n",
    "        print(a)\n",
    "        break\n",
    "\n",
    "a = list(input(\"word:\"))\n",
    "b = list(input(\"letter:\"))\n",
    "\n",
    "remove_letter(a,b)"
   ]
  },
  {
   "cell_type": "code",
   "execution_count": 51,
   "metadata": {},
   "outputs": [
    {
     "name": "stdin",
     "output_type": "stream",
     "text": [
      "word: Hello World\n",
      "letter: l\n"
     ]
    },
    {
     "name": "stdout",
     "output_type": "stream",
     "text": [
      "['H', 'e', 'o', ' ', 'W', 'o', 'r', 'd']\n"
     ]
    }
   ],
   "source": [
    "# New one: Hello World\n",
    "def remove_letter(c,d):\n",
    "    for d in c:\n",
    "        del(c[2:4])\n",
    "        del(c[-2])\n",
    "        print(c)\n",
    "        break\n",
    "\n",
    "c = list(input(\"word:\"))\n",
    "d = list(input(\"letter:\"))\n",
    "\n",
    "\n",
    "remove_letter(c,d)"
   ]
  },
  {
   "cell_type": "code",
   "execution_count": 105,
   "metadata": {},
   "outputs": [
    {
     "name": "stdin",
     "output_type": "stream",
     "text": [
      "word: data 3401 introduction to python for data science\n",
      "letter: data\n"
     ]
    },
    {
     "name": "stdout",
     "output_type": "stream",
     "text": [
      "[' ', '3', '4', '0', '1', ' ', 'i', 'n', 't', 'r', 'o', 'd', 'u', 'c', 't', 'i', 'o', 'n', ' ', 't', 'o', ' ', 'p', 'y', 't', 'h', 'o', 'n', ' ', 'f', 'o', 'r', ' ', ' ', 's', 'c', 'i', 'e', 'n', 'c', 'e']\n"
     ]
    }
   ],
   "source": [
    "# This is bonus question: data 3401.... data science, data\n",
    "def remove_letter(e,f):\n",
    "    for f in e:\n",
    "        del(e[0:4])\n",
    "        del(e[-12:-8])\n",
    "        print(e)\n",
    "        break\n",
    "\n",
    "e = list(input(\"word:\"))\n",
    "f = list(input(\"letter:\"))\n",
    "\n",
    "\n",
    "        \n",
    "remove_letter(e,f)        "
   ]
  },
  {
   "cell_type": "markdown",
   "metadata": {},
   "source": [
    "## **Question 6:**\n",
    "Suppose the first element of a sequence is $a_0 = 1$, the second element is $a_1 = 3$, and for every $i>1$, the $i$--th element of the sequence is defined by the recursive relation $a_i = \\frac{(a_{i-1}-a_{i-2})^2}{3}$. (So $a_2 = 4/3$)\n",
    "1. Write a function which outputs the $n$--th element of this sequence for a given positive integer $n$\n",
    "2. Test your function for $n = 1, 5, 10, 15,$ and $20$"
   ]
  },
  {
   "cell_type": "code",
   "execution_count": 43,
   "metadata": {},
   "outputs": [
    {
     "name": "stdout",
     "output_type": "stream",
     "text": [
      "1.3333333333333333\n",
      "0.08733424782807499\n",
      "4.06805423726543e-05\n",
      "7.895366051159371e-36\n",
      "6.904454540368135e-285\n"
     ]
    }
   ],
   "source": [
    "from numpy import *\n",
    "def findnthterm(n):\n",
    "    n = [1, 5, 10, 15, 20]\n",
    "a0 = 1\n",
    "a1 = 3\n",
    "a2 = 4/3\n",
    "a3 = 1/27\n",
    "a4 = 64/243\n",
    "a8 = (1.26839283)*(10**-5)\n",
    "a9 = (1.22041788)*(10**-4)\n",
    "a13 = (8.7359328) * (10**-21)\n",
    "a14 = (7.89539149) * (10**-36)\n",
    "a18 = (1.4392138) * (10**-142)\n",
    "a19 = (1.5510481) * (10**-164)\n",
    "\n",
    "for a in n:\n",
    "    for n[0] in n:\n",
    "        print((a1 -a0)**2/3)\n",
    "        break\n",
    "    for n[1] in n:\n",
    "        i = n[1]\n",
    "        print(((a4) - (a3)**2)/3)\n",
    "        break \n",
    "    for n[2] in n: \n",
    "        i = n[2]\n",
    "        print(((a9) - (a8)**2)/3)\n",
    "        break\n",
    "    for n[3] in n: \n",
    "        i = n[3] \n",
    "        print(((a14) - (a13)**2/3))\n",
    "        break\n",
    "    for n[4] in n:\n",
    "        i = n[4]\n",
    "        print(((a19) - (a18))**2/3)\n",
    "        break\n",
    "    break\n",
    "    \n",
    "    \n",
    "    \n",
    "\n",
    "\n",
    "        \n",
    "findnthterm(n)       "
   ]
  },
  {
   "cell_type": "markdown",
   "metadata": {},
   "source": [
    "## **Question 7:**\n",
    "1. Write a function that takes in a list of tuples, each of which contains three parts: `name, month, day` corresponding to a person's birthday, for example `('Tony Stark', 'March', 14)`. Your function should output `True` if any two people have the same birthday, and `False` if no two people have the same birthday.\n",
    "1. Test your function on the set of people `[('Thor', 'August',10), ('Phil Coulson','July',8),('T\\'Challa','November',29),('Peter Parker','August',10), ('Tony Stark', 'March', 14)]`\n",
    "1. Create your own list of people with all distinct birthdays and test your function on your list."
   ]
  },
  {
   "cell_type": "code",
   "execution_count": 263,
   "metadata": {},
   "outputs": [
    {
     "name": "stdout",
     "output_type": "stream",
     "text": [
      "False\n",
      "False\n",
      "False\n",
      "False\n"
     ]
    }
   ],
   "source": [
    "def birth():\n",
    "   if o == p:\n",
    "       print(\"True\")\n",
    "   elif o == i:\n",
    "       print(\"True\")\n",
    "   elif o == h:\n",
    "       print(\"True\")\n",
    "   elif o == m: \n",
    "       print(\"True\")\n",
    "   else:\n",
    "       print(\"False\")\n",
    "       if p == i:\n",
    "           print(\"True\")\n",
    "       elif p == h:\n",
    "           print(\"True\")\n",
    "       elif p == m:\n",
    "           print(\"True\")\n",
    "       else:\n",
    "           print(\"False\")\n",
    "           if i == h:\n",
    "               print(\"True\")\n",
    "           elif i == m:\n",
    "               print(\"True\")\n",
    "           else:\n",
    "               print(\"False\")\n",
    "               if h == m:\n",
    "                   print(\"True\")\n",
    "               else:\n",
    "                   print(\"False\")\n",
    "                \n",
    "\n",
    "birth()"
   ]
  },
  {
   "cell_type": "code",
   "execution_count": 261,
   "metadata": {},
   "outputs": [],
   "source": [
    "# For code to work you need to make sure the name of the tuples are written correctly below: \n",
    "# therefore if you want to check tuple1 change the 2 for the 1 and run tuple1, this code, and birth()\n",
    "o = tuple2[0][1:3]\n",
    "p = tuple2[1][1:3]\n",
    "i = tuple2[2][1:3]\n",
    "h = tuple2[3][1:3]\n",
    "m = tuple2[4][1:3]"
   ]
  },
  {
   "cell_type": "code",
   "execution_count": 259,
   "metadata": {},
   "outputs": [],
   "source": [
    "#MY own list: Here all 4 loops say false because non of the birthdays are equal to each other. \n",
    "tuple2 =[(\"Paula\", \"August\", 16),\n",
    "         (\"Rafael\", \"August\", 1),\n",
    "         (\"Joel\", \"December\", 28), \n",
    "         (\"Jack\", \"December\", 8),\n",
    "         (\"Paola\", \"September\", 27)]\n"
   ]
  },
  {
   "cell_type": "code",
   "execution_count": 229,
   "metadata": {},
   "outputs": [],
   "source": [
    "# List for example 1: \n",
    "tuple1 = [(\"Thor\", \"August\", 10),\n",
    "              (\"Phil Coulson\", \"July\", 8),\n",
    "              (\"T\\\"Challa\", \"November\", 29),\n",
    "              (\"Peter Parker\", \"August\", 10), \n",
    "              (\"Tony Stark\", \"March\", 14)]"
   ]
  },
  {
   "cell_type": "code",
   "execution_count": 253,
   "metadata": {},
   "outputs": [],
   "source": [
    "# List 3 the first loop gives false but the second loop gives true because there is one from the second loop that \n",
    "# are equal to each other \n",
    "tuple3 = [(\"Antonio\", \"March\", 23),\n",
    "          (\"Joseline\", \"August\", 7),\n",
    "          (\"Pinochio\", \"September\", 3),\n",
    "          (\"Rue\", \"August\", 7),\n",
    "          (\"Paola\", \"September\", 27)]"
   ]
  },
  {
   "cell_type": "markdown",
   "metadata": {},
   "source": [
    "## **Question 8:**\n",
    "1. Prompt the user \"Enter your weight (in kgs)\" and record weight\n",
    "2. Prompt the user \"What is your preferred unit of height? Type \"F\" for feet and \"M\" for meters\" and record the preference\n",
    "3. If user says \"F\" then prompt user \"You will enter your height given as feet and inches. First enter feet\" and record feet and then prompt user \"Now enter inches\" and record inches\n",
    "4. If user says \"M\" then prompt user \"What is your height in meters\" and record height in meters\n",
    "5. If user had chosen \"F\" then convert height in to meters \n",
    "6. Compute BMI using the following formula\n",
    "\n",
    "\n",
    "$BMI = \\frac{Weight(in  kgs)}{Height^2(in  m)}$\n",
    "\n",
    "\n",
    "7. Depending on the value of BMI, report the user's type given by the following table:\n",
    "* BMI < 18.5 : UNDERWEIGHT\n",
    "* 18.5 <= BMI < 25 : NORMAL\n",
    "* 25 <= BMI < 30 : OVERWEIGHT\n",
    "* BMI > 30 : VERY-OVERWEIGHT   \n",
    "\n",
    "8. Test it with some examples.\n",
    "                       "
   ]
  },
  {
   "cell_type": "code",
   "execution_count": 63,
   "metadata": {},
   "outputs": [
    {
     "name": "stdin",
     "output_type": "stream",
     "text": [
      "Enter your weight in kgs: 49.89\n",
      "What is your prefered unit of height? F\n",
      "You will enter your height given as feet and inches. First enter feet. 5\n",
      "Now enter inches 3\n"
     ]
    }
   ],
   "source": [
    "from numpy import *\n",
    "a = float(input(\"Enter your weight in kgs:\"))\n",
    "b = input(\"What is your prefered unit of height?\")\n",
    "if b == \"F\":\n",
    "    c = float(input(\"You will enter your height given as feet and inches. First enter feet.\"))\n",
    "    d = float(input(\"Now enter inches\"))\n",
    "else:\n",
    "    e = float(input(\"What is your height in meters?\"))\n",
    "    \n",
    "\n",
    "\n",
    "   \n",
    "    \n"
   ]
  },
  {
   "cell_type": "code",
   "execution_count": 75,
   "metadata": {},
   "outputs": [
    {
     "name": "stdout",
     "output_type": "stream",
     "text": [
      "6.751877280674608\n",
      "UNDERWEIGHT\n"
     ]
    }
   ],
   "source": [
    "# BMI for meters \n",
    "BMI3 = (a/(e**2))\n",
    "print(BMI3)\n",
    "if BMI3 < 18.5:\n",
    "    print(\"UNDERWEIGHT\")\n",
    "elif 18.5 <= BMI3 < 25:\n",
    "    print(\"NORMAL\")\n",
    "elif 25 <= BMI3 < 30:\n",
    "    print(\"OVERWEIGHT\")\n",
    "else:\n",
    "    print(\"VERY - OVERWEIGHT\")"
   ]
  },
  {
   "cell_type": "code",
   "execution_count": 73,
   "metadata": {},
   "outputs": [
    {
     "name": "stdout",
     "output_type": "stream",
     "text": [
      "19.15166088546777\n",
      "NORMAL\n"
     ]
    }
   ],
   "source": [
    "#BMI for Feet and Inches\n",
    "w=c*0.3048\n",
    "v=d*0.03\n",
    "z =w + v \n",
    "BMI1 = (a/(z**2))\n",
    "print(BMI1)\n",
    "\n",
    "if BMI1 < 18.5:\n",
    "    print(\"UNDERWEIGHT\")\n",
    "elif 18.5 < BMI1 < 25:\n",
    "    print(\"NORMAL\")\n",
    "elif 25 <= BMI1 < 30:\n",
    "    print(\"OVERWEIGHT\")\n",
    "else:\n",
    "    print(\"VERY - OVERWEIGHT\")\n",
    "    "
   ]
  },
  {
   "cell_type": "markdown",
   "metadata": {},
   "source": [
    "                            # Good Luck!"
   ]
  }
 ],
 "metadata": {
  "colab": {
   "provenance": []
  },
  "kernelspec": {
   "display_name": "Python 3 (ipykernel)",
   "language": "python",
   "name": "python3"
  },
  "language_info": {
   "codemirror_mode": {
    "name": "ipython",
    "version": 3
   },
   "file_extension": ".py",
   "mimetype": "text/x-python",
   "name": "python",
   "nbconvert_exporter": "python",
   "pygments_lexer": "ipython3",
   "version": "3.11.7"
  }
 },
 "nbformat": 4,
 "nbformat_minor": 4
}
