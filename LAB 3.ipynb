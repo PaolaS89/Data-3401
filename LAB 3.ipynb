{
 "cells": [
  {
   "cell_type": "markdown",
   "id": "7df667fa",
   "metadata": {},
   "source": [
    "### STUDENT NAME : Paola Santos Perez\n",
    "\n",
    "### STUDENT ID :1001810057"
   ]
  },
  {
   "cell_type": "markdown",
   "id": "d00cfbaf",
   "metadata": {},
   "source": [
    "#### Question 1 (10 POINTS)\n",
    "\n",
    "Write a function named power that takes two numbers, base and exponent, as input and returns the result of raising base to the power of exponent."
   ]
  },
  {
   "cell_type": "code",
   "execution_count": 28,
   "id": "782a405e",
   "metadata": {},
   "outputs": [
    {
     "name": "stdin",
     "output_type": "stream",
     "text": [
      "base: 8\n",
      "exponent: 3\n"
     ]
    },
    {
     "data": {
      "text/plain": [
       "512"
      ]
     },
     "execution_count": 28,
     "metadata": {},
     "output_type": "execute_result"
    }
   ],
   "source": [
    "def power(base, exponent):\n",
    "       return base**exponent\n",
    "\n",
    "\n",
    "base = int(input(\"base:\"))\n",
    "exponent = int(input(\"exponent:\"))\n",
    "power(base, exponent)"
   ]
  },
  {
   "cell_type": "markdown",
   "id": "ed8de905",
   "metadata": {},
   "source": [
    "#### Question 2 (10 POINTS)\n",
    "\n",
    "Write a function called `calculate_average` that takes a list of numbers as a parameter and returns the average of those numbers."
   ]
  },
  {
   "cell_type": "code",
   "execution_count": 35,
   "id": "ed51cc63-8a60-456e-82cf-fd757dd5be62",
   "metadata": {},
   "outputs": [
    {
     "data": {
      "text/plain": [
       "7.4"
      ]
     },
     "execution_count": 35,
     "metadata": {},
     "output_type": "execute_result"
    }
   ],
   "source": [
    "from numpy import *\n",
    "def calculate_average():\n",
    "    return average(c)\n",
    "\n",
    "\n",
    "\n",
    "c = [1, 12, 9, 7, 8]\n",
    "calculate_average()"
   ]
  },
  {
   "cell_type": "markdown",
   "id": "b009a626",
   "metadata": {},
   "source": [
    "#### Question 3 (20 POINTS)\n",
    "\n",
    "You are working on an application for a movie theater. The application needs a feature where users can specify preferences for their movie experience.\n",
    "\n",
    "**Write a Python function named movie_preferences that:**\n",
    "\n",
    "- Accepts an arbitrary number of keyword arguments.\n",
    "- Processes these keyword arguments to set preferences for the movie-goer.\n",
    "- Returns a dictionary with the preferences.\n",
    "\n",
    "For example, if the function is called with the arguments seat=\"Front Row\", snack=\"Popcorn\", and drink=\"Soda\", the function should return the dictionary:"
   ]
  },
  {
   "cell_type": "code",
   "execution_count": 87,
   "id": "b90afae7",
   "metadata": {},
   "outputs": [
    {
     "data": {
      "text/plain": [
       "{'genre': 'Fantasy',\n",
       " 'seat': 'last row',\n",
       " 'sound design': 'immersive',\n",
       " 'snacks': 'Nachos',\n",
       " 'drinks': 'Pink Lemonade'}"
      ]
     },
     "execution_count": 87,
     "metadata": {},
     "output_type": "execute_result"
    }
   ],
   "source": [
    "def movie_preferences():\n",
    "    dict = {\"genre\": \"Fantasy\",\n",
    "             \"seat\": \"last row\",\n",
    "             \"sound design\": \"immersive\",\n",
    "             \"snacks\": \"Nachos\", \n",
    "             \"drinks\": \"Pink Lemonade\"}\n",
    "    return dict\n",
    "\n",
    "movie_preferences()"
   ]
  },
  {
   "cell_type": "code",
   "execution_count": null,
   "id": "cd339b4a-96c5-4a8c-99f2-f1d2cc06513e",
   "metadata": {},
   "outputs": [],
   "source": [
    "# How to make it input wise? "
   ]
  },
  {
   "cell_type": "markdown",
   "id": "5a609a40",
   "metadata": {},
   "source": [
    "#### Question 4 (10 POINTS)\n",
    "\n",
    "Create two 2D NumPy arrays with shape (2, 2). Perform matrix multiplication."
   ]
  },
  {
   "cell_type": "code",
   "execution_count": 71,
   "id": "7e438f3c",
   "metadata": {},
   "outputs": [
    {
     "data": {
      "text/plain": [
       "array([[ 9, 12],\n",
       "       [33, 48]])"
      ]
     },
     "execution_count": 71,
     "metadata": {},
     "output_type": "execute_result"
    }
   ],
   "source": [
    "from numpy import *\n",
    "\n",
    "o = arange(4).reshape(2,2)\n",
    "d = array([3,6,9,12]).reshape(2,2)\n",
    "\n",
    "\n",
    "# below we use @ for matrix multiplication after importing everything from numpy.\n",
    "o @ d"
   ]
  },
  {
   "cell_type": "markdown",
   "id": "cfbabf62",
   "metadata": {},
   "source": [
    "#### Question 5 (10 POINTS)\n",
    "\n",
    "Create a 2D NumPy array with shape (3, 3). Calculate its determinant and inverse."
   ]
  },
  {
   "cell_type": "code",
   "execution_count": 33,
   "id": "8b0de681",
   "metadata": {},
   "outputs": [
    {
     "name": "stdout",
     "output_type": "stream",
     "text": [
      "0.0\n"
     ]
    }
   ],
   "source": [
    "from numpy import *\n",
    "y = arange(9).reshape(3,3)\n",
    "y\n",
    "\n",
    "# Hence the determinant is zero for this matrix there is no inverse\n",
    "\n",
    "det = linalg.det(y)\n",
    "print(det)\n"
   ]
  },
  {
   "cell_type": "code",
   "execution_count": 29,
   "id": "090dec69-49dc-44e6-a3ac-da2e57e21d9f",
   "metadata": {},
   "outputs": [
    {
     "name": "stdout",
     "output_type": "stream",
     "text": [
      "546.0000000000006\n"
     ]
    },
    {
     "data": {
      "text/plain": [
       "array([[-0.71245421,  0.03479853,  0.53113553],\n",
       "       [ 0.8992674 , -0.05677656, -0.4981685 ],\n",
       "       [-0.11904762,  0.02380952,  0.04761905]])"
      ]
     },
     "execution_count": 29,
     "metadata": {},
     "output_type": "execute_result"
    }
   ],
   "source": [
    "from numpy import *\n",
    "r = array([[5, 6, 7],\n",
    "          [9, 16, 67],\n",
    "          [8, 7, 5]])\n",
    "det = linalg.det(r)\n",
    "print(det)\n",
    "\n",
    "# because the det is not 0 it has an inverse \n",
    "\n",
    "linalg.inv(r)"
   ]
  },
  {
   "cell_type": "markdown",
   "id": "5edaa992",
   "metadata": {},
   "source": [
    "#### Question 6 (20 POINTS)\n",
    "\n",
    "Given an integer array nums, sort the array in ascending order and remove the duplicates in-place such that each unique element appears only once. Return the number of unique elements in nums and the intial sorted list.\n",
    "\n",
    "\n",
    "\n",
    "Example 1:\n",
    "\n",
    "\n",
    "Input: nums = [3,3,2,2,1,5,6,7,7,8]\n",
    "\n",
    "Output: 7, nums = [1,2,2,3,3,5,6,7,7,8]\n"
   ]
  },
  {
   "cell_type": "code",
   "execution_count": 3,
   "id": "e3a5d914",
   "metadata": {},
   "outputs": [],
   "source": [
    "from numpy import *\n",
    "\n",
    "b = array([8, 8, 0, 9, 6, 5, 4, 3, 2, 6])\n",
    "\n",
    "mask= array([1, 0, 1, 1, 1, 1, 1, 1, 1, 0], \n",
    "             dtype = bool)\n"
   ]
  },
  {
   "cell_type": "code",
   "execution_count": 5,
   "id": "50e6f818-9f21-43c9-9da1-cdeb4d2d2caa",
   "metadata": {},
   "outputs": [
    {
     "name": "stdout",
     "output_type": "stream",
     "text": [
      "[8 0 9 6 5 4 3 2]\n"
     ]
    }
   ],
   "source": [
    "u = b[mask]\n",
    "print(u)"
   ]
  },
  {
   "cell_type": "code",
   "execution_count": 7,
   "id": "71d79b5d-f71c-4f8e-921c-7be94aa9aa1a",
   "metadata": {},
   "outputs": [
    {
     "name": "stdout",
     "output_type": "stream",
     "text": [
      "[0 2 3 4 5 6 8 9]\n"
     ]
    }
   ],
   "source": [
    "u.sort()\n",
    "print(u)"
   ]
  },
  {
   "cell_type": "code",
   "execution_count": 17,
   "id": "5698cf9d-a5b9-4b32-b2cd-262379ddca51",
   "metadata": {},
   "outputs": [
    {
     "data": {
      "text/plain": [
       "8"
      ]
     },
     "execution_count": 17,
     "metadata": {},
     "output_type": "execute_result"
    }
   ],
   "source": [
    "len(u)"
   ]
  },
  {
   "cell_type": "markdown",
   "id": "6387b9cc",
   "metadata": {},
   "source": [
    "#### Question 7 (20 POINTS)\n",
    "\n",
    "Write a Python function, **HoursMinutes_to_Seconds**, that converts given hours  and minutes into total seconds"
   ]
  },
  {
   "cell_type": "code",
   "execution_count": 144,
   "id": "5b64bd63-06c0-4769-a06b-8f39685dd3de",
   "metadata": {},
   "outputs": [
    {
     "name": "stdin",
     "output_type": "stream",
     "text": [
      "Hours: 2\n",
      "Minutes: 1\n"
     ]
    },
    {
     "data": {
      "text/plain": [
       "7260"
      ]
     },
     "execution_count": 144,
     "metadata": {},
     "output_type": "execute_result"
    }
   ],
   "source": [
    "from numpy import * \n",
    "def HoursMinutes_to_Seconds():\n",
    "    # 1 hour = 60 minutes\n",
    "   return (hour * 60 + minutes)*60\n",
    "\n",
    "\n",
    "\n",
    "\n",
    "\n",
    "hour = int(input(\"Hours:\"))\n",
    "minutes = int(input(\"Minutes:\"))\n",
    "HoursMinutes_to_Seconds()\n",
    "# standard time not military time. Thank you.\n",
    "\n",
    "\n"
   ]
  },
  {
   "cell_type": "code",
   "execution_count": null,
   "id": "75a1232e-146d-4f0d-8159-a7bcacc32988",
   "metadata": {},
   "outputs": [],
   "source": []
  }
 ],
 "metadata": {
  "kernelspec": {
   "display_name": "Python 3 (ipykernel)",
   "language": "python",
   "name": "python3"
  },
  "language_info": {
   "codemirror_mode": {
    "name": "ipython",
    "version": 3
   },
   "file_extension": ".py",
   "mimetype": "text/x-python",
   "name": "python",
   "nbconvert_exporter": "python",
   "pygments_lexer": "ipython3",
   "version": "3.11.7"
  }
 },
 "nbformat": 4,
 "nbformat_minor": 5
}
