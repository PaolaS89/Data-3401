{
 "cells": [
  {
   "cell_type": "markdown",
   "id": "2607e460-dca4-4503-9e65-6fb87c94c40b",
   "metadata": {},
   "source": [
    "## Pandas Review Lecture 9"
   ]
  },
  {
   "cell_type": "code",
   "execution_count": null,
   "id": "28a6b0e5-22bb-462c-b3ac-4e4f20c5a763",
   "metadata": {},
   "outputs": [],
   "source": [
    "# Pandas is a library that makes the analysis of complex, tabular datser easy."
   ]
  },
  {
   "cell_type": "markdown",
   "id": "fbde2070-e07f-469d-ad68-4a9acef8badd",
   "metadata": {},
   "source": [
    "### Features"
   ]
  },
  {
   "cell_type": "code",
   "execution_count": null,
   "id": "b1f87156-62fa-4893-9d9c-76080e81baf6",
   "metadata": {},
   "outputs": [],
   "source": [
    "# Defines tabular data types: database like tables with laveled rows and columsn \n",
    "\n",
    "# Data consolidation and data integration: remove the duplicates, cleaning the data, manage missing values,\n",
    "# automatically align tables by index.\n",
    "\n",
    "#Summarization: Create \"pivot\" tables\n",
    "\n",
    "# In-memory, SQL like operations : join, aggregate(groub by)\n",
    "\n",
    "# Very flexible import/export data\n",
    "\n",
    "# Date and time handling built-in, including timezones\n",
    "\n",
    "# Easy visualization based on Matplotlib"
   ]
  },
  {
   "cell_type": "markdown",
   "id": "b1baf7f1-2944-458b-acf3-f9ab8f22709e",
   "metadata": {},
   "source": [
    "## New Data Structures"
   ]
  },
  {
   "cell_type": "code",
   "execution_count": null,
   "id": "33b9f2c2-747d-4121-9495-b2f4c96bc17a",
   "metadata": {},
   "outputs": [],
   "source": [
    "PANDA = PANel DAta = multi-dimensional data in stats & econometrics.\n",
    "\n",
    "# A series is a 1-D data structure \n",
    "\n",
    "# A DataFrame is a 2-D data structure that can be viewed as a dictionary of Series\n",
    "\n",
    "#A Panel is a 3-D data structure that can be viewed as a dictionary of DataFrames. "
   ]
  },
  {
   "cell_type": "markdown",
   "id": "aaa33740-07c6-42e7-95ae-b318d31ef0d4",
   "metadata": {},
   "source": [
    "## Series"
   ]
  },
  {
   "cell_type": "code",
   "execution_count": null,
   "id": "e26dee95-6a4d-4097-b44e-ec84eab671f1",
   "metadata": {},
   "outputs": [],
   "source": [
    "#pandas.Series are indexed arrays "
   ]
  },
  {
   "cell_type": "code",
   "execution_count": 5,
   "id": "324d1565-c0c2-4eaa-bba9-e6374c972f02",
   "metadata": {},
   "outputs": [
    {
     "name": "stdout",
     "output_type": "stream",
     "text": [
      "Requirement already satisfied: pandas in c:\\users\\draco\\anaconda3\\lib\\site-packages (2.1.4)Note: you may need to restart the kernel to use updated packages.\n",
      "\n",
      "Requirement already satisfied: numpy<2,>=1.23.2 in c:\\users\\draco\\anaconda3\\lib\\site-packages (from pandas) (1.26.4)\n",
      "Requirement already satisfied: python-dateutil>=2.8.2 in c:\\users\\draco\\anaconda3\\lib\\site-packages (from pandas) (2.8.2)\n",
      "Requirement already satisfied: pytz>=2020.1 in c:\\users\\draco\\anaconda3\\lib\\site-packages (from pandas) (2023.3.post1)\n",
      "Requirement already satisfied: tzdata>=2022.1 in c:\\users\\draco\\anaconda3\\lib\\site-packages (from pandas) (2023.3)\n",
      "Requirement already satisfied: six>=1.5 in c:\\users\\draco\\anaconda3\\lib\\site-packages (from python-dateutil>=2.8.2->pandas) (1.16.0)\n"
     ]
    }
   ],
   "source": [
    "pip install pandas"
   ]
  },
  {
   "cell_type": "code",
   "execution_count": 7,
   "id": "d075c036-34f8-4ee9-ad7a-0528666f96c8",
   "metadata": {},
   "outputs": [],
   "source": [
    "import pandas as pd"
   ]
  },
  {
   "cell_type": "code",
   "execution_count": 9,
   "id": "02125d91-4b6e-4898-bdb2-aa708b45246c",
   "metadata": {},
   "outputs": [],
   "source": [
    "from pandas import *"
   ]
  },
  {
   "cell_type": "code",
   "execution_count": 11,
   "id": "4a5c80f2-b204-4b8e-973b-a7ef669c0fbd",
   "metadata": {},
   "outputs": [],
   "source": [
    "s = Series({ 'a' : 1, \n",
    "             'b' : 2, \n",
    "             'c' : 3\n",
    "           })"
   ]
  },
  {
   "cell_type": "code",
   "execution_count": 13,
   "id": "43f7eead-094a-4067-9d31-525c2ef7ff1c",
   "metadata": {},
   "outputs": [
    {
     "data": {
      "text/plain": [
       "a    1\n",
       "b    2\n",
       "c    3\n",
       "dtype: int64"
      ]
     },
     "execution_count": 13,
     "metadata": {},
     "output_type": "execute_result"
    }
   ],
   "source": [
    "s"
   ]
  },
  {
   "cell_type": "code",
   "execution_count": 15,
   "id": "3f0ef7bd-d986-4cbc-bc4e-5128c162c9ca",
   "metadata": {},
   "outputs": [
    {
     "data": {
      "text/plain": [
       "2"
      ]
     },
     "execution_count": 15,
     "metadata": {},
     "output_type": "execute_result"
    }
   ],
   "source": [
    "# indexing s \n",
    "s['b']"
   ]
  },
  {
   "cell_type": "code",
   "execution_count": 17,
   "id": "1ade2361-06b9-41c1-8092-96c7f78faaf6",
   "metadata": {},
   "outputs": [
    {
     "data": {
      "text/plain": [
       "Index(['a', 'b', 'c'], dtype='object')"
      ]
     },
     "execution_count": 17,
     "metadata": {},
     "output_type": "execute_result"
    }
   ],
   "source": [
    "s.index"
   ]
  },
  {
   "cell_type": "code",
   "execution_count": null,
   "id": "73c23f2b-428e-445a-b0d7-fcfad4a9dad2",
   "metadata": {},
   "outputs": [],
   "source": [
    "# From the series the index part is the right part while the values are the numbers on the right hand. "
   ]
  },
  {
   "cell_type": "code",
   "execution_count": 19,
   "id": "199e813a-aca7-41f7-b492-95a396c46ed5",
   "metadata": {},
   "outputs": [
    {
     "data": {
      "text/plain": [
       "array([1, 2, 3], dtype=int64)"
      ]
     },
     "execution_count": 19,
     "metadata": {},
     "output_type": "execute_result"
    }
   ],
   "source": [
    "s.values"
   ]
  },
  {
   "cell_type": "code",
   "execution_count": 21,
   "id": "dda95e1c-458d-4f7a-9a2e-5c9637350faa",
   "metadata": {},
   "outputs": [],
   "source": [
    "# Creating Series"
   ]
  },
  {
   "cell_type": "code",
   "execution_count": 23,
   "id": "618cbb8f-a18c-4343-a671-36a79a6d80ca",
   "metadata": {},
   "outputs": [],
   "source": [
    "# From list and dictionary"
   ]
  },
  {
   "cell_type": "code",
   "execution_count": 25,
   "id": "b30a52e7-c907-4036-8108-90a6b42b3d18",
   "metadata": {},
   "outputs": [
    {
     "data": {
      "text/plain": [
       "a    0\n",
       "b    1\n",
       "c    2\n",
       "d    3\n",
       "Name: first series, dtype: int64"
      ]
     },
     "execution_count": 25,
     "metadata": {},
     "output_type": "execute_result"
    }
   ],
   "source": [
    "my_index = ['a', 'b', 'c', 'd']\n",
    "Series(range(4),\n",
    "        index = my_index,\n",
    "        name = 'first series')"
   ]
  },
  {
   "cell_type": "code",
   "execution_count": 27,
   "id": "acc6f883-2f11-4d7a-9284-1002cb2b72e4",
   "metadata": {},
   "outputs": [
    {
     "data": {
      "text/plain": [
       "a    1\n",
       "b    2\n",
       "c    3\n",
       "d    4\n",
       "Name: second series, dtype: int64"
      ]
     },
     "execution_count": 27,
     "metadata": {},
     "output_type": "execute_result"
    }
   ],
   "source": [
    "# data + indices in a dict \n",
    "\n",
    "d = { 'a' : 1, \n",
    "      'b' : 2,\n",
    "      'c' : 3, \n",
    "      'd' : 4\n",
    "    }\n",
    "s = Series(d, name = 'second series') \n",
    "s"
   ]
  },
  {
   "cell_type": "code",
   "execution_count": 31,
   "id": "c990a13b-7359-4a99-8cd9-9b1717bf5410",
   "metadata": {},
   "outputs": [],
   "source": [
    "# From a Numpy Array \n",
    "# the random function in order to random samples in numpy.\n",
    "from numpy.random import randn"
   ]
  },
  {
   "cell_type": "code",
   "execution_count": 33,
   "id": "864b2d2c-0562-4f23-a679-c95aba6d2e77",
   "metadata": {},
   "outputs": [
    {
     "data": {
      "text/plain": [
       "a   -0.526069\n",
       "b   -0.480281\n",
       "c    0.153000\n",
       "d    0.313357\n",
       "dtype: float64"
      ]
     },
     "execution_count": 33,
     "metadata": {},
     "output_type": "execute_result"
    }
   ],
   "source": [
    "Series(randn(4), index = my_index)"
   ]
  },
  {
   "cell_type": "code",
   "execution_count": 37,
   "id": "1a657433-66cb-4c75-a8f7-04266b17c4b8",
   "metadata": {},
   "outputs": [
    {
     "data": {
      "text/plain": [
       "a   -1.109354\n",
       "b    0.873122\n",
       "c   -0.289885\n",
       "d    0.336132\n",
       "dtype: float64"
      ]
     },
     "execution_count": 37,
     "metadata": {},
     "output_type": "execute_result"
    }
   ],
   "source": [
    "Series(randn(4), index = my_index)"
   ]
  },
  {
   "cell_type": "markdown",
   "id": "a7818833-0e33-4677-94a0-74a8623b8888",
   "metadata": {},
   "source": [
    "## DataFrames"
   ]
  },
  {
   "cell_type": "code",
   "execution_count": 44,
   "id": "70c71ade-ace0-49c7-be55-a26516e59acd",
   "metadata": {},
   "outputs": [],
   "source": [
    "# Dataframes have both row(index) and columns indices \n",
    "# Each column may have a different datatype\n",
    "# Adding a columns is 'cheap'"
   ]
  },
  {
   "cell_type": "code",
   "execution_count": 46,
   "id": "f10b2e5f-e94a-4dab-b126-67fe0bc26971",
   "metadata": {},
   "outputs": [],
   "source": [
    "s1 = Series({'a' : 1, 'b' : 2, 'c' : 3})\n",
    "s2 = Series({ 'a' : True, 'b' : False, 'c' : True})\n",
    "df = DataFrame({'col1' :s1, \n",
    "                 'col2' :s2})"
   ]
  },
  {
   "cell_type": "code",
   "execution_count": 48,
   "id": "6b517554-3f21-4570-8d19-c805080581d9",
   "metadata": {},
   "outputs": [
    {
     "data": {
      "text/html": [
       "<div>\n",
       "<style scoped>\n",
       "    .dataframe tbody tr th:only-of-type {\n",
       "        vertical-align: middle;\n",
       "    }\n",
       "\n",
       "    .dataframe tbody tr th {\n",
       "        vertical-align: top;\n",
       "    }\n",
       "\n",
       "    .dataframe thead th {\n",
       "        text-align: right;\n",
       "    }\n",
       "</style>\n",
       "<table border=\"1\" class=\"dataframe\">\n",
       "  <thead>\n",
       "    <tr style=\"text-align: right;\">\n",
       "      <th></th>\n",
       "      <th>col1</th>\n",
       "      <th>col2</th>\n",
       "    </tr>\n",
       "  </thead>\n",
       "  <tbody>\n",
       "    <tr>\n",
       "      <th>a</th>\n",
       "      <td>1</td>\n",
       "      <td>True</td>\n",
       "    </tr>\n",
       "    <tr>\n",
       "      <th>b</th>\n",
       "      <td>2</td>\n",
       "      <td>False</td>\n",
       "    </tr>\n",
       "    <tr>\n",
       "      <th>c</th>\n",
       "      <td>3</td>\n",
       "      <td>True</td>\n",
       "    </tr>\n",
       "  </tbody>\n",
       "</table>\n",
       "</div>"
      ],
      "text/plain": [
       "   col1   col2\n",
       "a     1   True\n",
       "b     2  False\n",
       "c     3   True"
      ]
     },
     "execution_count": 48,
     "metadata": {},
     "output_type": "execute_result"
    }
   ],
   "source": [
    "df"
   ]
  },
  {
   "cell_type": "code",
   "execution_count": 50,
   "id": "c425b904-c547-4daf-849c-0e4a867663c7",
   "metadata": {},
   "outputs": [
    {
     "data": {
      "text/plain": [
       "a    1\n",
       "b    2\n",
       "c    3\n",
       "dtype: int64"
      ]
     },
     "execution_count": 50,
     "metadata": {},
     "output_type": "execute_result"
    }
   ],
   "source": [
    "# Above we can see that when we create a dataframe and by convining series and giving them columns names."
   ]
  },
  {
   "cell_type": "code",
   "execution_count": 52,
   "id": "bd1f289c-2bc2-453c-96ab-3f6bcd084866",
   "metadata": {},
   "outputs": [
    {
     "data": {
      "text/plain": [
       "a    1\n",
       "b    2\n",
       "c    3\n",
       "Name: col1, dtype: int64"
      ]
     },
     "execution_count": 52,
     "metadata": {},
     "output_type": "execute_result"
    }
   ],
   "source": [
    "df['col1']"
   ]
  },
  {
   "cell_type": "code",
   "execution_count": 54,
   "id": "ee695dc3-1c6d-4650-b71d-43a08d1aadcb",
   "metadata": {},
   "outputs": [
    {
     "ename": "KeyError",
     "evalue": "'a'",
     "output_type": "error",
     "traceback": [
      "\u001b[1;31m---------------------------------------------------------------------------\u001b[0m",
      "\u001b[1;31mKeyError\u001b[0m                                  Traceback (most recent call last)",
      "File \u001b[1;32m~\\anaconda3\\Lib\\site-packages\\pandas\\core\\indexes\\base.py:3791\u001b[0m, in \u001b[0;36mIndex.get_loc\u001b[1;34m(self, key)\u001b[0m\n\u001b[0;32m   3790\u001b[0m \u001b[38;5;28;01mtry\u001b[39;00m:\n\u001b[1;32m-> 3791\u001b[0m     \u001b[38;5;28;01mreturn\u001b[39;00m \u001b[38;5;28mself\u001b[39m\u001b[38;5;241m.\u001b[39m_engine\u001b[38;5;241m.\u001b[39mget_loc(casted_key)\n\u001b[0;32m   3792\u001b[0m \u001b[38;5;28;01mexcept\u001b[39;00m \u001b[38;5;167;01mKeyError\u001b[39;00m \u001b[38;5;28;01mas\u001b[39;00m err:\n",
      "File \u001b[1;32mindex.pyx:152\u001b[0m, in \u001b[0;36mpandas._libs.index.IndexEngine.get_loc\u001b[1;34m()\u001b[0m\n",
      "File \u001b[1;32mindex.pyx:181\u001b[0m, in \u001b[0;36mpandas._libs.index.IndexEngine.get_loc\u001b[1;34m()\u001b[0m\n",
      "File \u001b[1;32mpandas\\_libs\\hashtable_class_helper.pxi:7080\u001b[0m, in \u001b[0;36mpandas._libs.hashtable.PyObjectHashTable.get_item\u001b[1;34m()\u001b[0m\n",
      "File \u001b[1;32mpandas\\_libs\\hashtable_class_helper.pxi:7088\u001b[0m, in \u001b[0;36mpandas._libs.hashtable.PyObjectHashTable.get_item\u001b[1;34m()\u001b[0m\n",
      "\u001b[1;31mKeyError\u001b[0m: 'a'",
      "\nThe above exception was the direct cause of the following exception:\n",
      "\u001b[1;31mKeyError\u001b[0m                                  Traceback (most recent call last)",
      "Cell \u001b[1;32mIn[54], line 1\u001b[0m\n\u001b[1;32m----> 1\u001b[0m df[\u001b[38;5;124m'\u001b[39m\u001b[38;5;124ma\u001b[39m\u001b[38;5;124m'\u001b[39m]\n",
      "File \u001b[1;32m~\\anaconda3\\Lib\\site-packages\\pandas\\core\\frame.py:3893\u001b[0m, in \u001b[0;36mDataFrame.__getitem__\u001b[1;34m(self, key)\u001b[0m\n\u001b[0;32m   3891\u001b[0m \u001b[38;5;28;01mif\u001b[39;00m \u001b[38;5;28mself\u001b[39m\u001b[38;5;241m.\u001b[39mcolumns\u001b[38;5;241m.\u001b[39mnlevels \u001b[38;5;241m>\u001b[39m \u001b[38;5;241m1\u001b[39m:\n\u001b[0;32m   3892\u001b[0m     \u001b[38;5;28;01mreturn\u001b[39;00m \u001b[38;5;28mself\u001b[39m\u001b[38;5;241m.\u001b[39m_getitem_multilevel(key)\n\u001b[1;32m-> 3893\u001b[0m indexer \u001b[38;5;241m=\u001b[39m \u001b[38;5;28mself\u001b[39m\u001b[38;5;241m.\u001b[39mcolumns\u001b[38;5;241m.\u001b[39mget_loc(key)\n\u001b[0;32m   3894\u001b[0m \u001b[38;5;28;01mif\u001b[39;00m is_integer(indexer):\n\u001b[0;32m   3895\u001b[0m     indexer \u001b[38;5;241m=\u001b[39m [indexer]\n",
      "File \u001b[1;32m~\\anaconda3\\Lib\\site-packages\\pandas\\core\\indexes\\base.py:3798\u001b[0m, in \u001b[0;36mIndex.get_loc\u001b[1;34m(self, key)\u001b[0m\n\u001b[0;32m   3793\u001b[0m     \u001b[38;5;28;01mif\u001b[39;00m \u001b[38;5;28misinstance\u001b[39m(casted_key, \u001b[38;5;28mslice\u001b[39m) \u001b[38;5;129;01mor\u001b[39;00m (\n\u001b[0;32m   3794\u001b[0m         \u001b[38;5;28misinstance\u001b[39m(casted_key, abc\u001b[38;5;241m.\u001b[39mIterable)\n\u001b[0;32m   3795\u001b[0m         \u001b[38;5;129;01mand\u001b[39;00m \u001b[38;5;28many\u001b[39m(\u001b[38;5;28misinstance\u001b[39m(x, \u001b[38;5;28mslice\u001b[39m) \u001b[38;5;28;01mfor\u001b[39;00m x \u001b[38;5;129;01min\u001b[39;00m casted_key)\n\u001b[0;32m   3796\u001b[0m     ):\n\u001b[0;32m   3797\u001b[0m         \u001b[38;5;28;01mraise\u001b[39;00m InvalidIndexError(key)\n\u001b[1;32m-> 3798\u001b[0m     \u001b[38;5;28;01mraise\u001b[39;00m \u001b[38;5;167;01mKeyError\u001b[39;00m(key) \u001b[38;5;28;01mfrom\u001b[39;00m \u001b[38;5;21;01merr\u001b[39;00m\n\u001b[0;32m   3799\u001b[0m \u001b[38;5;28;01mexcept\u001b[39;00m \u001b[38;5;167;01mTypeError\u001b[39;00m:\n\u001b[0;32m   3800\u001b[0m     \u001b[38;5;66;03m# If we have a listlike key, _check_indexing_error will raise\u001b[39;00m\n\u001b[0;32m   3801\u001b[0m     \u001b[38;5;66;03m#  InvalidIndexError. Otherwise we fall through and re-raise\u001b[39;00m\n\u001b[0;32m   3802\u001b[0m     \u001b[38;5;66;03m#  the TypeError.\u001b[39;00m\n\u001b[0;32m   3803\u001b[0m     \u001b[38;5;28mself\u001b[39m\u001b[38;5;241m.\u001b[39m_check_indexing_error(key)\n",
      "\u001b[1;31mKeyError\u001b[0m: 'a'"
     ]
    }
   ],
   "source": [
    "df['a']"
   ]
  },
  {
   "cell_type": "code",
   "execution_count": null,
   "id": "d2a1f794-3531-4f14-bc59-3a7dd589ee54",
   "metadata": {},
   "outputs": [],
   "source": [
    "# Creating DataFrames from a dict of series"
   ]
  },
  {
   "cell_type": "code",
   "execution_count": 62,
   "id": "fa5aaab7-e75c-42c1-967e-922d85d9e1be",
   "metadata": {},
   "outputs": [],
   "source": [
    "s2 = Series([-0.9, -1.7, 1.1],\n",
    "            index = my_index[1:])"
   ]
  },
  {
   "cell_type": "code",
   "execution_count": 58,
   "id": "d4fc1a5a-bcd4-4cab-a587-106d52e2765a",
   "metadata": {},
   "outputs": [
    {
     "data": {
      "text/plain": [
       "b   -0.9\n",
       "c   -1.7\n",
       "d    1.1\n",
       "dtype: float64"
      ]
     },
     "execution_count": 58,
     "metadata": {},
     "output_type": "execute_result"
    }
   ],
   "source": [
    "s2"
   ]
  },
  {
   "cell_type": "code",
   "execution_count": 64,
   "id": "44211089-bbf5-4e5f-9d22-402bc7d19fe8",
   "metadata": {},
   "outputs": [],
   "source": [
    "d = {'A' : s, \n",
    "     'B' : s2}"
   ]
  },
  {
   "cell_type": "code",
   "execution_count": 66,
   "id": "7936095d-ae2e-4c6c-a861-d32ca1d41a7d",
   "metadata": {},
   "outputs": [],
   "source": [
    "df = DataFrame(d)"
   ]
  },
  {
   "cell_type": "code",
   "execution_count": 68,
   "id": "4b24d9e9-a06e-4314-8b55-3758962865b9",
   "metadata": {},
   "outputs": [
    {
     "data": {
      "text/html": [
       "<div>\n",
       "<style scoped>\n",
       "    .dataframe tbody tr th:only-of-type {\n",
       "        vertical-align: middle;\n",
       "    }\n",
       "\n",
       "    .dataframe tbody tr th {\n",
       "        vertical-align: top;\n",
       "    }\n",
       "\n",
       "    .dataframe thead th {\n",
       "        text-align: right;\n",
       "    }\n",
       "</style>\n",
       "<table border=\"1\" class=\"dataframe\">\n",
       "  <thead>\n",
       "    <tr style=\"text-align: right;\">\n",
       "      <th></th>\n",
       "      <th>A</th>\n",
       "      <th>B</th>\n",
       "    </tr>\n",
       "  </thead>\n",
       "  <tbody>\n",
       "    <tr>\n",
       "      <th>a</th>\n",
       "      <td>1</td>\n",
       "      <td>NaN</td>\n",
       "    </tr>\n",
       "    <tr>\n",
       "      <th>b</th>\n",
       "      <td>2</td>\n",
       "      <td>-0.9</td>\n",
       "    </tr>\n",
       "    <tr>\n",
       "      <th>c</th>\n",
       "      <td>3</td>\n",
       "      <td>-1.7</td>\n",
       "    </tr>\n",
       "    <tr>\n",
       "      <th>d</th>\n",
       "      <td>4</td>\n",
       "      <td>1.1</td>\n",
       "    </tr>\n",
       "  </tbody>\n",
       "</table>\n",
       "</div>"
      ],
      "text/plain": [
       "   A    B\n",
       "a  1  NaN\n",
       "b  2 -0.9\n",
       "c  3 -1.7\n",
       "d  4  1.1"
      ]
     },
     "execution_count": 68,
     "metadata": {},
     "output_type": "execute_result"
    }
   ],
   "source": [
    "df"
   ]
  },
  {
   "cell_type": "code",
   "execution_count": 70,
   "id": "1edc12b9-0036-42bc-b998-60fd8f6fa3de",
   "metadata": {},
   "outputs": [
    {
     "data": {
      "text/plain": [
       "Index(['A', 'B'], dtype='object')"
      ]
     },
     "execution_count": 70,
     "metadata": {},
     "output_type": "execute_result"
    }
   ],
   "source": [
    "df.columns"
   ]
  },
  {
   "cell_type": "code",
   "execution_count": 74,
   "id": "75dbf474-4cf1-418b-a5d4-b264b1666978",
   "metadata": {},
   "outputs": [
    {
     "data": {
      "text/plain": [
       "(4, 2)"
      ]
     },
     "execution_count": 74,
     "metadata": {},
     "output_type": "execute_result"
    }
   ],
   "source": [
    "df.shape"
   ]
  },
  {
   "cell_type": "code",
   "execution_count": 76,
   "id": "85fb8f68-dd50-4ab7-b953-14433625660f",
   "metadata": {},
   "outputs": [
    {
     "data": {
      "text/plain": [
       "A      int64\n",
       "B    float64\n",
       "dtype: object"
      ]
     },
     "execution_count": 76,
     "metadata": {},
     "output_type": "execute_result"
    }
   ],
   "source": [
    "df.dtypes"
   ]
  },
  {
   "cell_type": "code",
   "execution_count": 78,
   "id": "a3209ab7-6b44-46a4-ad50-6d0dff8e7194",
   "metadata": {},
   "outputs": [
    {
     "name": "stdout",
     "output_type": "stream",
     "text": [
      "<class 'pandas.core.frame.DataFrame'>\n",
      "Index: 4 entries, a to d\n",
      "Data columns (total 2 columns):\n",
      " #   Column  Non-Null Count  Dtype  \n",
      "---  ------  --------------  -----  \n",
      " 0   A       4 non-null      int64  \n",
      " 1   B       3 non-null      float64\n",
      "dtypes: float64(1), int64(1)\n",
      "memory usage: 96.0+ bytes\n"
     ]
    }
   ],
   "source": [
    "df.info()"
   ]
  },
  {
   "cell_type": "code",
   "execution_count": 82,
   "id": "74101784-46de-4c94-9ae4-032bccbccbbd",
   "metadata": {},
   "outputs": [
    {
     "data": {
      "text/html": [
       "<div>\n",
       "<style scoped>\n",
       "    .dataframe tbody tr th:only-of-type {\n",
       "        vertical-align: middle;\n",
       "    }\n",
       "\n",
       "    .dataframe tbody tr th {\n",
       "        vertical-align: top;\n",
       "    }\n",
       "\n",
       "    .dataframe thead th {\n",
       "        text-align: right;\n",
       "    }\n",
       "</style>\n",
       "<table border=\"1\" class=\"dataframe\">\n",
       "  <thead>\n",
       "    <tr style=\"text-align: right;\">\n",
       "      <th></th>\n",
       "      <th>A</th>\n",
       "      <th>B</th>\n",
       "    </tr>\n",
       "  </thead>\n",
       "  <tbody>\n",
       "    <tr>\n",
       "      <th>a</th>\n",
       "      <td>1</td>\n",
       "      <td>NaN</td>\n",
       "    </tr>\n",
       "    <tr>\n",
       "      <th>b</th>\n",
       "      <td>2</td>\n",
       "      <td>-0.9</td>\n",
       "    </tr>\n",
       "  </tbody>\n",
       "</table>\n",
       "</div>"
      ],
      "text/plain": [
       "   A    B\n",
       "a  1  NaN\n",
       "b  2 -0.9"
      ]
     },
     "execution_count": 82,
     "metadata": {},
     "output_type": "execute_result"
    }
   ],
   "source": [
    "df.head(2)"
   ]
  },
  {
   "cell_type": "code",
   "execution_count": 84,
   "id": "f6bb70ca-5397-465f-9e7b-dfd3a97c9a08",
   "metadata": {},
   "outputs": [
    {
     "data": {
      "text/html": [
       "<div>\n",
       "<style scoped>\n",
       "    .dataframe tbody tr th:only-of-type {\n",
       "        vertical-align: middle;\n",
       "    }\n",
       "\n",
       "    .dataframe tbody tr th {\n",
       "        vertical-align: top;\n",
       "    }\n",
       "\n",
       "    .dataframe thead th {\n",
       "        text-align: right;\n",
       "    }\n",
       "</style>\n",
       "<table border=\"1\" class=\"dataframe\">\n",
       "  <thead>\n",
       "    <tr style=\"text-align: right;\">\n",
       "      <th></th>\n",
       "      <th>A</th>\n",
       "      <th>B</th>\n",
       "    </tr>\n",
       "  </thead>\n",
       "  <tbody>\n",
       "    <tr>\n",
       "      <th>count</th>\n",
       "      <td>4.000000</td>\n",
       "      <td>3.000000</td>\n",
       "    </tr>\n",
       "    <tr>\n",
       "      <th>mean</th>\n",
       "      <td>2.500000</td>\n",
       "      <td>-0.500000</td>\n",
       "    </tr>\n",
       "    <tr>\n",
       "      <th>std</th>\n",
       "      <td>1.290994</td>\n",
       "      <td>1.442221</td>\n",
       "    </tr>\n",
       "    <tr>\n",
       "      <th>min</th>\n",
       "      <td>1.000000</td>\n",
       "      <td>-1.700000</td>\n",
       "    </tr>\n",
       "    <tr>\n",
       "      <th>25%</th>\n",
       "      <td>1.750000</td>\n",
       "      <td>-1.300000</td>\n",
       "    </tr>\n",
       "    <tr>\n",
       "      <th>50%</th>\n",
       "      <td>2.500000</td>\n",
       "      <td>-0.900000</td>\n",
       "    </tr>\n",
       "    <tr>\n",
       "      <th>75%</th>\n",
       "      <td>3.250000</td>\n",
       "      <td>0.100000</td>\n",
       "    </tr>\n",
       "    <tr>\n",
       "      <th>max</th>\n",
       "      <td>4.000000</td>\n",
       "      <td>1.100000</td>\n",
       "    </tr>\n",
       "  </tbody>\n",
       "</table>\n",
       "</div>"
      ],
      "text/plain": [
       "              A         B\n",
       "count  4.000000  3.000000\n",
       "mean   2.500000 -0.500000\n",
       "std    1.290994  1.442221\n",
       "min    1.000000 -1.700000\n",
       "25%    1.750000 -1.300000\n",
       "50%    2.500000 -0.900000\n",
       "75%    3.250000  0.100000\n",
       "max    4.000000  1.100000"
      ]
     },
     "execution_count": 84,
     "metadata": {},
     "output_type": "execute_result"
    }
   ],
   "source": [
    "df.describe()"
   ]
  },
  {
   "cell_type": "code",
   "execution_count": 86,
   "id": "c544758c-788c-4bee-95dc-56f8e80bb938",
   "metadata": {},
   "outputs": [
    {
     "data": {
      "text/html": [
       "<div>\n",
       "<style scoped>\n",
       "    .dataframe tbody tr th:only-of-type {\n",
       "        vertical-align: middle;\n",
       "    }\n",
       "\n",
       "    .dataframe tbody tr th {\n",
       "        vertical-align: top;\n",
       "    }\n",
       "\n",
       "    .dataframe thead th {\n",
       "        text-align: right;\n",
       "    }\n",
       "</style>\n",
       "<table border=\"1\" class=\"dataframe\">\n",
       "  <thead>\n",
       "    <tr style=\"text-align: right;\">\n",
       "      <th></th>\n",
       "      <th>A</th>\n",
       "      <th>B</th>\n",
       "    </tr>\n",
       "  </thead>\n",
       "  <tbody>\n",
       "    <tr>\n",
       "      <th>b</th>\n",
       "      <td>2</td>\n",
       "      <td>-0.9</td>\n",
       "    </tr>\n",
       "    <tr>\n",
       "      <th>d</th>\n",
       "      <td>4</td>\n",
       "      <td>1.1</td>\n",
       "    </tr>\n",
       "  </tbody>\n",
       "</table>\n",
       "</div>"
      ],
      "text/plain": [
       "   A    B\n",
       "b  2 -0.9\n",
       "d  4  1.1"
      ]
     },
     "execution_count": 86,
     "metadata": {},
     "output_type": "execute_result"
    }
   ],
   "source": [
    "df.sample(2)"
   ]
  },
  {
   "cell_type": "code",
   "execution_count": null,
   "id": "40260597-890d-44b4-b233-3097ba045750",
   "metadata": {},
   "outputs": [],
   "source": [
    "# From a Numpy Array "
   ]
  },
  {
   "cell_type": "code",
   "execution_count": null,
   "id": "ec0c58a0-988c-4406-9f41-ba8d741b9df6",
   "metadata": {},
   "outputs": [],
   "source": []
  },
  {
   "cell_type": "code",
   "execution_count": null,
   "id": "57dd913d-d279-4f97-92ef-b1fa7aa6f1b2",
   "metadata": {},
   "outputs": [],
   "source": []
  },
  {
   "cell_type": "code",
   "execution_count": null,
   "id": "2c228d48-29ef-4e64-a546-2049a9fd57bf",
   "metadata": {},
   "outputs": [],
   "source": []
  },
  {
   "cell_type": "code",
   "execution_count": null,
   "id": "1618353a-0286-4624-b6c6-d1e2387c37cc",
   "metadata": {},
   "outputs": [],
   "source": []
  },
  {
   "cell_type": "code",
   "execution_count": null,
   "id": "6dc0289e-b857-4b58-9240-496233a8a24e",
   "metadata": {},
   "outputs": [],
   "source": []
  },
  {
   "cell_type": "code",
   "execution_count": null,
   "id": "5d2ec78c-eb66-4648-a1ae-c5c72fbe8a9d",
   "metadata": {},
   "outputs": [],
   "source": []
  },
  {
   "cell_type": "code",
   "execution_count": null,
   "id": "7d91fbd5-880d-4427-a597-2d82330e1608",
   "metadata": {},
   "outputs": [],
   "source": []
  }
 ],
 "metadata": {
  "kernelspec": {
   "display_name": "Python 3 (ipykernel)",
   "language": "python",
   "name": "python3"
  },
  "language_info": {
   "codemirror_mode": {
    "name": "ipython",
    "version": 3
   },
   "file_extension": ".py",
   "mimetype": "text/x-python",
   "name": "python",
   "nbconvert_exporter": "python",
   "pygments_lexer": "ipython3",
   "version": "3.11.7"
  }
 },
 "nbformat": 4,
 "nbformat_minor": 5
}
