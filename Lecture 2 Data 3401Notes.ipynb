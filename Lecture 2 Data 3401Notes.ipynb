{
 "cells": [
  {
   "cell_type": "markdown",
   "id": "7d1714f5-075e-40da-b87e-87df23189b36",
   "metadata": {},
   "source": [
    "## Lecture 2 Data 3401"
   ]
  },
  {
   "cell_type": "markdown",
   "id": "cb67e28b-741a-48ff-9396-4651f64a593e",
   "metadata": {},
   "source": [
    "## Strings"
   ]
  },
  {
   "cell_type": "code",
   "execution_count": 1,
   "id": "cfb946fc-8cbc-4c2a-a14f-727f141c330b",
   "metadata": {},
   "outputs": [
    {
     "name": "stdout",
     "output_type": "stream",
     "text": [
      "hello world\n"
     ]
    }
   ],
   "source": [
    "s = 'hello world' \n",
    "print(s)"
   ]
  },
  {
   "cell_type": "code",
   "execution_count": 2,
   "id": "e643c48e-85fe-4de7-a7a2-acb2c718778a",
   "metadata": {},
   "outputs": [
    {
     "data": {
      "text/plain": [
       "'hello world'"
      ]
     },
     "execution_count": 2,
     "metadata": {},
     "output_type": "execute_result"
    }
   ],
   "source": [
    "#String Operations \n",
    "# Combine two Strings\n",
    "\"hello\" +' '+ \"world\""
   ]
  },
  {
   "cell_type": "code",
   "execution_count": 3,
   "id": "f90b2ba8-1482-4151-be2d-651416d83ad2",
   "metadata": {},
   "outputs": [
    {
     "data": {
      "text/plain": [
       "'hello hello hello '"
      ]
     },
     "execution_count": 3,
     "metadata": {},
     "output_type": "execute_result"
    }
   ],
   "source": [
    "#repeating a string\n",
    "\"hello \"*3"
   ]
  },
  {
   "cell_type": "code",
   "execution_count": 4,
   "id": "3602c8c6-d1ad-4129-8a7a-e6988c3dbe55",
   "metadata": {},
   "outputs": [],
   "source": [
    "# length of the string \n",
    "# because of the quotation marks it makes it a string\n",
    "s = '12345'"
   ]
  },
  {
   "cell_type": "code",
   "execution_count": 5,
   "id": "7a1144e9-b4bf-482d-85bc-f5c6e8a1364f",
   "metadata": {},
   "outputs": [
    {
     "data": {
      "text/plain": [
       "'1234512345'"
      ]
     },
     "execution_count": 5,
     "metadata": {},
     "output_type": "execute_result"
    }
   ],
   "source": [
    "# dublicatess the string \n",
    "s*2"
   ]
  },
  {
   "cell_type": "code",
   "execution_count": 6,
   "id": "8fdbad2c-3520-49d2-8710-2f6dec8a52ed",
   "metadata": {},
   "outputs": [
    {
     "data": {
      "text/plain": [
       "5"
      ]
     },
     "execution_count": 6,
     "metadata": {},
     "output_type": "execute_result"
    }
   ],
   "source": [
    "#len functions gives us lenght\n",
    "len(s)"
   ]
  },
  {
   "cell_type": "code",
   "execution_count": 7,
   "id": "6f7a86a5-77d7-41b2-9a0c-aa2a6d8d48d6",
   "metadata": {},
   "outputs": [
    {
     "data": {
      "text/plain": [
       "7"
      ]
     },
     "execution_count": 7,
     "metadata": {},
     "output_type": "execute_result"
    }
   ],
   "source": [
    "s1 = ' 12345 ' \n",
    "len(s1)\n",
    "# because of the spaces the length will be seven. "
   ]
  },
  {
   "cell_type": "code",
   "execution_count": 8,
   "id": "a49a3500-2fa4-45e9-997f-c908782aab86",
   "metadata": {},
   "outputs": [
    {
     "data": {
      "text/plain": [
       "['hello', 'world']"
      ]
     },
     "execution_count": 8,
     "metadata": {},
     "output_type": "execute_result"
    }
   ],
   "source": [
    "#Split/Join String \n",
    "#split space-delimited word\n",
    "S = \"hello world\" \n",
    "S.split()"
   ]
  },
  {
   "cell_type": "code",
   "execution_count": null,
   "id": "a0615644-693c-4249-aa3c-4421a04422da",
   "metadata": {},
   "outputs": [],
   "source": [
    "#The square brackets are a list in Python, above. "
   ]
  },
  {
   "cell_type": "code",
   "execution_count": 10,
   "id": "732ca473-aba6-46ce-8c47-24d18bac80df",
   "metadata": {},
   "outputs": [
    {
     "data": {
      "text/plain": [
       "['hello', 'world']"
      ]
     },
     "execution_count": 10,
     "metadata": {},
     "output_type": "execute_result"
    }
   ],
   "source": [
    "S = \"hello,world\"\n",
    "S.split(sep=',')\n",
    "# sep = separation "
   ]
  },
  {
   "cell_type": "code",
   "execution_count": 11,
   "id": "18c662f3-ac25-4d88-b364-9114cd3d0fbd",
   "metadata": {},
   "outputs": [
    {
     "data": {
      "text/plain": [
       "['hello', 'world']"
      ]
     },
     "execution_count": 11,
     "metadata": {},
     "output_type": "execute_result"
    }
   ],
   "source": [
    "S = \"hello-world\"\n",
    "S.split(sep='-')"
   ]
  },
  {
   "cell_type": "code",
   "execution_count": 12,
   "id": "b3387ca6-163b-4f17-a692-f125f986c172",
   "metadata": {},
   "outputs": [
    {
     "data": {
      "text/plain": [
       "['hello', 'world']"
      ]
     },
     "execution_count": 12,
     "metadata": {},
     "output_type": "execute_result"
    }
   ],
   "source": [
    "# The separation above, no matter what separates it will always gives the same thing. \n",
    "S = \"hello-world\"\n",
    "S.split('-')"
   ]
  },
  {
   "cell_type": "code",
   "execution_count": null,
   "id": "1f74f1c5-507a-416a-9353-2f5e9818cd04",
   "metadata": {},
   "outputs": [],
   "source": [
    "# Even if the word sep is not in the () it will understand that it is the first argument \n",
    "# Therefore it will understand it is the separator. "
   ]
  },
  {
   "cell_type": "code",
   "execution_count": 14,
   "id": "f43ed057-b019-4b4e-ab04-b28a92d0ff89",
   "metadata": {},
   "outputs": [
    {
     "name": "stdout",
     "output_type": "stream",
     "text": [
      "hello\n",
      "world\n",
      "\n"
     ]
    }
   ],
   "source": [
    "#Multi-Line strings \n",
    "# Triple Quotes \n",
    "a = \"\"\"hello\n",
    "world\n",
    "\"\"\"\n",
    "print(a)"
   ]
  },
  {
   "cell_type": "code",
   "execution_count": null,
   "id": "172b575d-8f9d-40a5-97d7-f2501d27706d",
   "metadata": {},
   "outputs": [],
   "source": [
    "# You have to use the triple quotes in order for the string to look like it is above. "
   ]
  },
  {
   "cell_type": "code",
   "execution_count": 23,
   "id": "f792c01a-69ec-4177-9928-cce47ff88707",
   "metadata": {},
   "outputs": [
    {
     "name": "stdout",
     "output_type": "stream",
     "text": [
      "hello\n",
      "world\n"
     ]
    }
   ],
   "source": [
    "#New Line Character \n",
    "# the \\n means that you will go to the other line\n",
    "# use print(a) for it to understand it because it won't the other way.\n",
    "a = \"hello\\nworld\"\n",
    "print(a)"
   ]
  },
  {
   "cell_type": "code",
   "execution_count": 24,
   "id": "e3b43061-9074-4ce0-892f-225ed140544d",
   "metadata": {},
   "outputs": [
    {
     "data": {
      "text/plain": [
       "'hello\\nworld'"
      ]
     },
     "execution_count": 24,
     "metadata": {},
     "output_type": "execute_result"
    }
   ],
   "source": [
    "a"
   ]
  },
  {
   "cell_type": "code",
   "execution_count": 5,
   "id": "c91b5db4-54fb-44a2-887f-603dbac24fb8",
   "metadata": {},
   "outputs": [
    {
     "data": {
      "text/plain": [
       "'Hello World'"
      ]
     },
     "execution_count": 5,
     "metadata": {},
     "output_type": "execute_result"
    }
   ],
   "source": [
    "# A few string methods andfunction \n",
    "#Replace the text \n",
    "s = 'Hello World'\n",
    "s.replace('world', 'Mars')"
   ]
  },
  {
   "cell_type": "code",
   "execution_count": 6,
   "id": "4a808f6a-2edf-45c2-afa8-80d2ec611bc4",
   "metadata": {},
   "outputs": [
    {
     "data": {
      "text/plain": [
       "'Hello Mars'"
      ]
     },
     "execution_count": 6,
     "metadata": {},
     "output_type": "execute_result"
    }
   ],
   "source": [
    "# If it doesn't find the exact word it returns to the same thing like above. \n",
    "# If it finds the same exact world then it replaces it. \n",
    "s.replace('World', 'Mars')"
   ]
  },
  {
   "cell_type": "code",
   "execution_count": 7,
   "id": "5bf390e6-c289-4e27-a8c4-432522230870",
   "metadata": {},
   "outputs": [
    {
     "data": {
      "text/plain": [
       "'Hello World'"
      ]
     },
     "execution_count": 7,
     "metadata": {},
     "output_type": "execute_result"
    }
   ],
   "source": [
    "# when using s because it is not assingned it will give you back Hello World\n",
    "s"
   ]
  },
  {
   "cell_type": "code",
   "execution_count": 8,
   "id": "21b86173-b95e-4c58-8d42-4b96f55b427e",
   "metadata": {},
   "outputs": [
    {
     "data": {
      "text/plain": [
       "'Hello Mars'"
      ]
     },
     "execution_count": 8,
     "metadata": {},
     "output_type": "execute_result"
    }
   ],
   "source": [
    "#If you assing it then it will replace it\n",
    "s = s.replace('World', 'Mars')\n",
    "s"
   ]
  },
  {
   "cell_type": "code",
   "execution_count": 9,
   "id": "87ed8d2c-9ea1-4fe8-823b-2e5af7b031e6",
   "metadata": {},
   "outputs": [
    {
     "name": "stdout",
     "output_type": "stream",
     "text": [
      "HELLO MARS\n",
      "hello mars\n"
     ]
    }
   ],
   "source": [
    "# Convert to Upper Case and Lower Case \n",
    "print(s.upper())\n",
    "print(s.lower())"
   ]
  },
  {
   "cell_type": "code",
   "execution_count": 34,
   "id": "752418f7-6a41-47d7-9498-70932b134da8",
   "metadata": {},
   "outputs": [
    {
     "name": "stdout",
     "output_type": "stream",
     "text": [
      " hello \n"
     ]
    }
   ],
   "source": [
    "# Remove the whitespace\n",
    "s = \" hello \"\n",
    "print(s)"
   ]
  },
  {
   "cell_type": "code",
   "execution_count": 35,
   "id": "e2dc66ec-e2c1-4675-95b1-a6cce824b014",
   "metadata": {},
   "outputs": [
    {
     "data": {
      "text/plain": [
       "'hello'"
      ]
     },
     "execution_count": 35,
     "metadata": {},
     "output_type": "execute_result"
    }
   ],
   "source": [
    "s.strip()"
   ]
  },
  {
   "cell_type": "code",
   "execution_count": null,
   "id": "7f89c812-3e18-46f6-bb0a-d8f903bab76a",
   "metadata": {},
   "outputs": [],
   "source": [
    "#The strip function removes the whitespace. "
   ]
  },
  {
   "cell_type": "code",
   "execution_count": 36,
   "id": "44bee05c-3da4-4a8f-a8b6-941b458e4f3b",
   "metadata": {},
   "outputs": [
    {
     "data": {
      "text/plain": [
       "3.3000000000000003"
      ]
     },
     "execution_count": 36,
     "metadata": {},
     "output_type": "execute_result"
    }
   ],
   "source": [
    "#Numbers to String \n",
    "1.1 + 2.2 "
   ]
  },
  {
   "cell_type": "code",
   "execution_count": 37,
   "id": "943d1424-0d5a-42df-a3ac-23261c0560ce",
   "metadata": {},
   "outputs": [
    {
     "data": {
      "text/plain": [
       "'3.3000000000000003'"
      ]
     },
     "execution_count": 37,
     "metadata": {},
     "output_type": "execute_result"
    }
   ],
   "source": [
    "#str helps us convert things to strings \n",
    "# sense it is a string function \n",
    "str(1.1 + 2.2)"
   ]
  },
  {
   "cell_type": "code",
   "execution_count": 38,
   "id": "dd9e5461-55d3-40d1-91fc-23bd31161762",
   "metadata": {},
   "outputs": [
    {
     "data": {
      "text/plain": [
       "'1'"
      ]
     },
     "execution_count": 38,
     "metadata": {},
     "output_type": "execute_result"
    }
   ],
   "source": [
    "str(1)"
   ]
  },
  {
   "cell_type": "code",
   "execution_count": 39,
   "id": "a0866656-5b17-4416-9ccd-0132c0eff99e",
   "metadata": {},
   "outputs": [
    {
     "data": {
      "text/plain": [
       "23"
      ]
     },
     "execution_count": 39,
     "metadata": {},
     "output_type": "execute_result"
    }
   ],
   "source": [
    "#String to Numbers \n",
    "int('23')"
   ]
  },
  {
   "cell_type": "code",
   "execution_count": 40,
   "id": "923bf7af-29dd-412e-908a-aff2af94c8e1",
   "metadata": {},
   "outputs": [
    {
     "data": {
      "text/plain": [
       "int"
      ]
     },
     "execution_count": 40,
     "metadata": {},
     "output_type": "execute_result"
    }
   ],
   "source": [
    "type(int('23'))"
   ]
  },
  {
   "cell_type": "code",
   "execution_count": 41,
   "id": "d32ed7f0-fa0c-4a94-ae50-1bbdf55beeb7",
   "metadata": {},
   "outputs": [
    {
     "data": {
      "text/plain": [
       "255"
      ]
     },
     "execution_count": 41,
     "metadata": {},
     "output_type": "execute_result"
    }
   ],
   "source": [
    "#Research Question\n",
    "int('FF', 16)"
   ]
  },
  {
   "cell_type": "code",
   "execution_count": 44,
   "id": "0adc0e80-4294-4855-8227-73f6843d3a9c",
   "metadata": {},
   "outputs": [
    {
     "data": {
      "text/plain": [
       "255"
      ]
     },
     "execution_count": 44,
     "metadata": {},
     "output_type": "execute_result"
    }
   ],
   "source": [
    "int('ff', 16)"
   ]
  },
  {
   "cell_type": "code",
   "execution_count": 45,
   "id": "7636c51d-2f51-4495-a114-570fb7d616c5",
   "metadata": {},
   "outputs": [
    {
     "data": {
      "text/plain": [
       "170"
      ]
     },
     "execution_count": 45,
     "metadata": {},
     "output_type": "execute_result"
    }
   ],
   "source": [
    "int('aa',16)"
   ]
  },
  {
   "cell_type": "code",
   "execution_count": null,
   "id": "9ae81ada-2582-40b0-8d61-f4162d7b3434",
   "metadata": {},
   "outputs": [],
   "source": [
    "#Above is a hex-string, but why do different letters are a different base of 16. \n",
    "#They are what you call hexadecimal. \n",
    "#They use 16 symbols to represent numbers from 0 to 9, from a to f. \n",
    "# It uses the ASCII chart \n",
    "# Keep researching this. "
   ]
  },
  {
   "cell_type": "code",
   "execution_count": 46,
   "id": "1d135e73-0a28-4b77-9aa8-717124cf469c",
   "metadata": {},
   "outputs": [
    {
     "data": {
      "text/plain": [
       "23.0"
      ]
     },
     "execution_count": 46,
     "metadata": {},
     "output_type": "execute_result"
    }
   ],
   "source": [
    "float('23')"
   ]
  },
  {
   "cell_type": "code",
   "execution_count": 47,
   "id": "9ea8e9cc-4ab2-4720-b00c-cc925b942437",
   "metadata": {},
   "outputs": [
    {
     "data": {
      "text/plain": [
       "'100 is greater than 50'"
      ]
     },
     "execution_count": 47,
     "metadata": {},
     "output_type": "execute_result"
    }
   ],
   "source": [
    "# String Formatting \n",
    "\n",
    "#The format(0 method replace any replacement fields \n",
    "#in the string with the values given as arguments. \n",
    "# it equates the 100 to the 0 and the 50 to the 1\n",
    "'{0} is greater than {1}'.format(100, 50)"
   ]
  },
  {
   "cell_type": "code",
   "execution_count": 49,
   "id": "6649fa1c-2dfb-40c9-9b51-ac79f2e0c0b0",
   "metadata": {},
   "outputs": [
    {
     "data": {
      "text/plain": [
       "'McCarble, Jon'"
      ]
     },
     "execution_count": 49,
     "metadata": {},
     "output_type": "execute_result"
    }
   ],
   "source": [
    "'{last}, {first}'.format(first = 'Jon', last = 'McCarble')\n",
    "# same thing as above but with names\n",
    "# in this part we just defined them inside the brackets."
   ]
  },
  {
   "cell_type": "markdown",
   "id": "12f7e4d6-d4af-43e5-9c5a-8ff78b6fb212",
   "metadata": {},
   "source": [
    "## List Objects"
   ]
  },
  {
   "cell_type": "code",
   "execution_count": 51,
   "id": "1094fc72-d2e8-488e-b349-cea98943d7f4",
   "metadata": {},
   "outputs": [
    {
     "data": {
      "text/plain": [
       "[10, 11, 12, 13, 14]"
      ]
     },
     "execution_count": 51,
     "metadata": {},
     "output_type": "execute_result"
    }
   ],
   "source": [
    "# List creation with brackets [] \n",
    "a = [10, 11, 12, 13, 14]\n",
    "a"
   ]
  },
  {
   "cell_type": "code",
   "execution_count": 52,
   "id": "b9ccc0f2-d96b-4b4d-98c6-fdc20de7ed62",
   "metadata": {},
   "outputs": [
    {
     "data": {
      "text/plain": [
       "list"
      ]
     },
     "execution_count": 52,
     "metadata": {},
     "output_type": "execute_result"
    }
   ],
   "source": [
    "type(a)"
   ]
  },
  {
   "cell_type": "code",
   "execution_count": null,
   "id": "d8c3de16-c68a-4022-b07e-74df493cd574",
   "metadata": {},
   "outputs": [],
   "source": [
    "## Remeber to go to canvas to get the things you missed!!!!!!!!!!!!!!!!!!!!!!"
   ]
  },
  {
   "cell_type": "code",
   "execution_count": 53,
   "id": "daa95a82-bfaf-47ec-b842-337a7d1d88c5",
   "metadata": {},
   "outputs": [
    {
     "data": {
      "text/plain": [
       "[1, 2, 3.4]"
      ]
     },
     "execution_count": 53,
     "metadata": {},
     "output_type": "execute_result"
    }
   ],
   "source": [
    "# Concatenate List\n",
    "a = [1,2]\n",
    "b = [3.4]\n",
    "a + b"
   ]
  },
  {
   "cell_type": "code",
   "execution_count": 56,
   "id": "6980da42-80bd-463e-bee4-5ed794e14324",
   "metadata": {},
   "outputs": [
    {
     "data": {
      "text/plain": [
       "[1, 2, 1, 2, 1, 2, 1, 2, 1, 2]"
      ]
     },
     "execution_count": 56,
     "metadata": {},
     "output_type": "execute_result"
    }
   ],
   "source": [
    "# Repeat the elements in a list \n",
    "a = [1,2]\n",
    "a*5"
   ]
  },
  {
   "cell_type": "code",
   "execution_count": 1,
   "id": "0aa20923-6905-487c-951e-c04b9ea74c6e",
   "metadata": {},
   "outputs": [
    {
     "name": "stdout",
     "output_type": "stream",
     "text": [
      "[0, 1, 2, 3, 4]\n"
     ]
    }
   ],
   "source": [
    "# range function \n",
    "# range(start, stop, step) These are the three arguments that the range takes. \n",
    "# The range function helps create a sequence \n",
    "# python index starts from 0 (Keep this in mind)\n",
    "a = list(range(5))\n",
    "print(a)"
   ]
  },
  {
   "cell_type": "code",
   "execution_count": 60,
   "id": "4c5d298f-ba84-46b3-bd3a-c547413012f1",
   "metadata": {},
   "outputs": [
    {
     "data": {
      "text/plain": [
       "range(0, 5)"
      ]
     },
     "execution_count": 60,
     "metadata": {},
     "output_type": "execute_result"
    }
   ],
   "source": [
    "# In order for it to gives us from 0 to 5 use the list function \n",
    "# and put the range function with the intended number inside. \n",
    "#because when using range(#), the step would increase by 1\n",
    "range(5)"
   ]
  },
  {
   "cell_type": "code",
   "execution_count": 61,
   "id": "7b15ede9-399a-4f35-ae8b-bc8345120808",
   "metadata": {},
   "outputs": [
    {
     "data": {
      "text/plain": [
       "[2, 3, 4, 5, 6]"
      ]
     },
     "execution_count": 61,
     "metadata": {},
     "output_type": "execute_result"
    }
   ],
   "source": [
    "list(range(2,7))\n",
    "# 2 is our start and our stop is 6 because the last argument is exclusive"
   ]
  },
  {
   "cell_type": "code",
   "execution_count": 62,
   "id": "ba7017be-17cd-4253-863d-ae0a01009d9c",
   "metadata": {},
   "outputs": [
    {
     "data": {
      "text/plain": [
       "[2, 4, 6]"
      ]
     },
     "execution_count": 62,
     "metadata": {},
     "output_type": "execute_result"
    }
   ],
   "source": [
    "# specifying the step side as well\n",
    "# start is 2, stop is 7, step is the last 2 \n",
    "# gives you only the even numbers\n",
    "list(range(2, 7, 2))"
   ]
  },
  {
   "cell_type": "markdown",
   "id": "9d6a977e-ff8f-4c14-8d71-8c1e6bdac493",
   "metadata": {},
   "source": [
    "## Indexing"
   ]
  },
  {
   "cell_type": "code",
   "execution_count": 63,
   "id": "569cf574-03b6-4fa8-ba2e-8c7d26daa869",
   "metadata": {},
   "outputs": [
    {
     "data": {
      "text/plain": [
       "10"
      ]
     },
     "execution_count": 63,
     "metadata": {},
     "output_type": "execute_result"
    }
   ],
   "source": [
    "# It goes by elements \n",
    "a = [ 10,11,12,13,14]\n",
    "a[0]\n",
    "# Above you want to get the 0 element which is ten. "
   ]
  },
  {
   "cell_type": "code",
   "execution_count": 64,
   "id": "a35ae7b8-0550-4dd6-9e92-217db3563ad3",
   "metadata": {},
   "outputs": [
    {
     "ename": "IndexError",
     "evalue": "list index out of range",
     "output_type": "error",
     "traceback": [
      "\u001b[1;31m---------------------------------------------------------------------------\u001b[0m",
      "\u001b[1;31mIndexError\u001b[0m                                Traceback (most recent call last)",
      "Cell \u001b[1;32mIn[64], line 1\u001b[0m\n\u001b[1;32m----> 1\u001b[0m a[\u001b[38;5;241m5\u001b[39m]\n",
      "\u001b[1;31mIndexError\u001b[0m: list index out of range"
     ]
    }
   ],
   "source": [
    "a[5]"
   ]
  },
  {
   "cell_type": "code",
   "execution_count": null,
   "id": "4050ddd1-4c52-4fb5-935c-c43d56ff593a",
   "metadata": {},
   "outputs": [],
   "source": [
    "#Above we have an error becuase we have no index 5. Hence list of index is out of range. "
   ]
  },
  {
   "cell_type": "code",
   "execution_count": 66,
   "id": "eb6a0f15-02b4-4a4b-a5e4-6baebbb8851f",
   "metadata": {},
   "outputs": [
    {
     "name": "stdout",
     "output_type": "stream",
     "text": [
      "[10, 21, 12, 13, 14]\n"
     ]
    }
   ],
   "source": [
    "#Setting an element\n",
    "# This is a replacement\n",
    "a[1] = 21\n",
    "print(a)"
   ]
  },
  {
   "cell_type": "code",
   "execution_count": null,
   "id": "1aaf4f80-e999-44b2-8e3e-c7caba92c3ce",
   "metadata": {},
   "outputs": [],
   "source": [
    "# We also have negative indexes and they start at the end of the list as -1 towards -# \n",
    "# a[0] = a[-5], a[2] = a[-3]"
   ]
  },
  {
   "cell_type": "code",
   "execution_count": null,
   "id": "5396ff3a-57ac-4e77-8d60-81f0fb141f68",
   "metadata": {},
   "outputs": [],
   "source": [
    "#Negatice Indices\n",
    "#negative indices count backward from the end of the list"
   ]
  },
  {
   "cell_type": "code",
   "execution_count": 68,
   "id": "44d8a31b-b362-4c58-a36c-e1e899f6b586",
   "metadata": {},
   "outputs": [
    {
     "data": {
      "text/plain": [
       "14"
      ]
     },
     "execution_count": 68,
     "metadata": {},
     "output_type": "execute_result"
    }
   ],
   "source": [
    "a[-1]"
   ]
  },
  {
   "cell_type": "code",
   "execution_count": 69,
   "id": "84dcb02d-0794-49ed-b558-c9769533cd68",
   "metadata": {},
   "outputs": [
    {
     "data": {
      "text/plain": [
       "13"
      ]
     },
     "execution_count": 69,
     "metadata": {},
     "output_type": "execute_result"
    }
   ],
   "source": [
    "a[-2]"
   ]
  },
  {
   "cell_type": "markdown",
   "id": "23873155-1e0b-4c5c-b7c9-096f94c82b57",
   "metadata": {},
   "source": [
    "## More on List objects"
   ]
  },
  {
   "cell_type": "code",
   "execution_count": 76,
   "id": "6621e5e1-2436-4a34-a913-b88f8aa3c54b",
   "metadata": {},
   "outputs": [],
   "source": [
    "# List can containg multiple types. \n",
    "\n",
    "c = [10, 'eleve', [12,13]]"
   ]
  },
  {
   "cell_type": "code",
   "execution_count": 79,
   "id": "e292ed6c-b9d6-42ca-8815-26afdd040a02",
   "metadata": {},
   "outputs": [
    {
     "data": {
      "text/plain": [
       "[10, 'eleve', [12, 13]]"
      ]
     },
     "execution_count": 79,
     "metadata": {},
     "output_type": "execute_result"
    }
   ],
   "source": [
    "c"
   ]
  },
  {
   "cell_type": "code",
   "execution_count": 80,
   "id": "a61e8d8e-4bd1-4b5a-a54a-89e7ad002e7b",
   "metadata": {},
   "outputs": [
    {
     "data": {
      "text/plain": [
       "'eleve'"
      ]
     },
     "execution_count": 80,
     "metadata": {},
     "output_type": "execute_result"
    }
   ],
   "source": [
    "c[1]"
   ]
  },
  {
   "cell_type": "code",
   "execution_count": 81,
   "id": "e259b9e8-b79f-4190-acfe-4e9f418e9de1",
   "metadata": {},
   "outputs": [
    {
     "data": {
      "text/plain": [
       "[12, 13]"
      ]
     },
     "execution_count": 81,
     "metadata": {},
     "output_type": "execute_result"
    }
   ],
   "source": [
    "c[2]"
   ]
  },
  {
   "cell_type": "code",
   "execution_count": 83,
   "id": "408f4009-802d-4699-a0d0-9b08e1b161c9",
   "metadata": {},
   "outputs": [
    {
     "data": {
      "text/plain": [
       "[12, 13]"
      ]
     },
     "execution_count": 83,
     "metadata": {},
     "output_type": "execute_result"
    }
   ],
   "source": [
    "# use multiple indices to get elements from nested list\n",
    "# a nested list is a list inside another list\n",
    "# a[2] = returns to the list inside while [0] that follows to the first item on the nested list\n",
    "c[2]"
   ]
  },
  {
   "cell_type": "code",
   "execution_count": 84,
   "id": "e14bc208-f8b1-4946-adab-d668447b562f",
   "metadata": {},
   "outputs": [
    {
     "data": {
      "text/plain": [
       "12"
      ]
     },
     "execution_count": 84,
     "metadata": {},
     "output_type": "execute_result"
    }
   ],
   "source": [
    "c[2][0]"
   ]
  },
  {
   "cell_type": "code",
   "execution_count": 85,
   "id": "5a54dabd-55a9-40bf-a726-dae8ac5218eb",
   "metadata": {},
   "outputs": [
    {
     "data": {
      "text/plain": [
       "13"
      ]
     },
     "execution_count": 85,
     "metadata": {},
     "output_type": "execute_result"
    }
   ],
   "source": [
    "c[2][1]"
   ]
  },
  {
   "cell_type": "code",
   "execution_count": 86,
   "id": "4acc44c7-7132-4857-b590-d0fb15656637",
   "metadata": {},
   "outputs": [
    {
     "ename": "IndexError",
     "evalue": "list index out of range",
     "output_type": "error",
     "traceback": [
      "\u001b[1;31m---------------------------------------------------------------------------\u001b[0m",
      "\u001b[1;31mIndexError\u001b[0m                                Traceback (most recent call last)",
      "Cell \u001b[1;32mIn[86], line 1\u001b[0m\n\u001b[1;32m----> 1\u001b[0m c[\u001b[38;5;241m2\u001b[39m][\u001b[38;5;241m2\u001b[39m]\n",
      "\u001b[1;31mIndexError\u001b[0m: list index out of range"
     ]
    }
   ],
   "source": [
    "c[2][2]"
   ]
  },
  {
   "cell_type": "code",
   "execution_count": 88,
   "id": "2a0ee220-2de3-46b7-97c7-86058929e9fd",
   "metadata": {},
   "outputs": [
    {
     "data": {
      "text/plain": [
       "2"
      ]
     },
     "execution_count": 88,
     "metadata": {},
     "output_type": "execute_result"
    }
   ],
   "source": [
    "len(c[2])\n",
    "#?"
   ]
  },
  {
   "cell_type": "code",
   "execution_count": null,
   "id": "813418d8-3150-4e33-8b75-1bd12c723065",
   "metadata": {},
   "outputs": [],
   "source": [
    "# Does the list contain the element x? "
   ]
  },
  {
   "cell_type": "code",
   "execution_count": null,
   "id": "0375e65a-6d71-424d-9aa3-370e5a72bdf6",
   "metadata": {},
   "outputs": [],
   "source": [
    "a =  [10, 11, 12, 13, 14]"
   ]
  },
  {
   "cell_type": "code",
   "execution_count": 89,
   "id": "82e57d02-c137-439a-b588-0990e72db938",
   "metadata": {},
   "outputs": [
    {
     "data": {
      "text/plain": [
       "True"
      ]
     },
     "execution_count": 89,
     "metadata": {},
     "output_type": "execute_result"
    }
   ],
   "source": [
    "13 in a "
   ]
  },
  {
   "cell_type": "code",
   "execution_count": 90,
   "id": "8c5f8982-e086-4d4d-9f11-fc6973b80f94",
   "metadata": {},
   "outputs": [
    {
     "data": {
      "text/plain": [
       "False"
      ]
     },
     "execution_count": 90,
     "metadata": {},
     "output_type": "execute_result"
    }
   ],
   "source": [
    "13 not in a"
   ]
  },
  {
   "cell_type": "markdown",
   "id": "442bf752-481b-4204-9849-0d930e1a9be2",
   "metadata": {},
   "source": [
    "## Slicing "
   ]
  },
  {
   "cell_type": "code",
   "execution_count": null,
   "id": "bcbc94c3-c25e-47f0-ade4-61bd27e1f1ce",
   "metadata": {},
   "outputs": [],
   "source": [
    "# var[lower : upper : step]\n",
    "# slicing the lists "
   ]
  },
  {
   "cell_type": "code",
   "execution_count": 91,
   "id": "9c19ae51-0b84-4adf-900b-366458d95ede",
   "metadata": {},
   "outputs": [
    {
     "data": {
      "text/plain": [
       "[11, 12]"
      ]
     },
     "execution_count": 91,
     "metadata": {},
     "output_type": "execute_result"
    }
   ],
   "source": [
    "a = [10, 11, 12, 13, 14] \n",
    "a[1:3]\n",
    "#Remeber that the last one is not included that is why 13 is not there. "
   ]
  },
  {
   "cell_type": "code",
   "execution_count": 92,
   "id": "7aaadd9d-eaa4-4dde-b1ad-ef120bccb967",
   "metadata": {},
   "outputs": [
    {
     "ename": "TypeError",
     "evalue": "list indices must be integers or slices, not tuple",
     "output_type": "error",
     "traceback": [
      "\u001b[1;31m---------------------------------------------------------------------------\u001b[0m",
      "\u001b[1;31mTypeError\u001b[0m                                 Traceback (most recent call last)",
      "Cell \u001b[1;32mIn[92], line 2\u001b[0m\n\u001b[0;32m      1\u001b[0m \u001b[38;5;66;03m# negative indices \u001b[39;00m\n\u001b[1;32m----> 2\u001b[0m a[\u001b[38;5;241m1\u001b[39m , \u001b[38;5;241m-\u001b[39m\u001b[38;5;241m2\u001b[39m]\n",
      "\u001b[1;31mTypeError\u001b[0m: list indices must be integers or slices, not tuple"
     ]
    }
   ],
   "source": [
    "# negative indices \n",
    "# there's a comma instead of a column \n",
    "a[1 , -2]"
   ]
  },
  {
   "cell_type": "code",
   "execution_count": 96,
   "id": "add03638-9bbb-4558-9f36-44e2d43b444c",
   "metadata": {},
   "outputs": [
    {
     "data": {
      "text/plain": [
       "[11, 12]"
      ]
     },
     "execution_count": 96,
     "metadata": {},
     "output_type": "execute_result"
    }
   ],
   "source": [
    "a[1:-2]"
   ]
  },
  {
   "cell_type": "code",
   "execution_count": 94,
   "id": "59149a4a-9048-4e43-8ae8-e88a5691a9e7",
   "metadata": {},
   "outputs": [
    {
     "data": {
      "text/plain": [
       "[11, 12]"
      ]
     },
     "execution_count": 94,
     "metadata": {},
     "output_type": "execute_result"
    }
   ],
   "source": [
    "a[-4:3]"
   ]
  },
  {
   "cell_type": "code",
   "execution_count": null,
   "id": "d6739465-1aac-4da2-a596-1dd15b2abf00",
   "metadata": {},
   "outputs": [],
   "source": [
    "# Above is just different ways to find out what is on the list. "
   ]
  },
  {
   "cell_type": "code",
   "execution_count": 97,
   "id": "ceefad1f-1278-47b9-8904-17a29bdf13b6",
   "metadata": {},
   "outputs": [
    {
     "data": {
      "text/plain": [
       "[10, 11, 12]"
      ]
     },
     "execution_count": 97,
     "metadata": {},
     "output_type": "execute_result"
    }
   ],
   "source": [
    "# Omitting indices \n",
    "# grab first 3 elements \n",
    "a[0:3]"
   ]
  },
  {
   "cell_type": "code",
   "execution_count": 99,
   "id": "906c96dc-c390-46b3-9e68-6d23c61dc6e2",
   "metadata": {},
   "outputs": [
    {
     "data": {
      "text/plain": [
       "[10, 11, 12]"
      ]
     },
     "execution_count": 99,
     "metadata": {},
     "output_type": "execute_result"
    }
   ],
   "source": [
    "a[:3]\n",
    "# Because it always starts from 0. "
   ]
  },
  {
   "cell_type": "code",
   "execution_count": 100,
   "id": "fcc78db3-2d72-4517-9e09-89d0fb41fe3c",
   "metadata": {},
   "outputs": [
    {
     "data": {
      "text/plain": [
       "[12, 13]"
      ]
     },
     "execution_count": 100,
     "metadata": {},
     "output_type": "execute_result"
    }
   ],
   "source": [
    "#grab the last two elements\n",
    "a[-3:-1]"
   ]
  },
  {
   "cell_type": "code",
   "execution_count": 101,
   "id": "db1ccf10-4412-48f3-8bfa-2c007a67aecd",
   "metadata": {},
   "outputs": [
    {
     "data": {
      "text/plain": [
       "[13, 14]"
      ]
     },
     "execution_count": 101,
     "metadata": {},
     "output_type": "execute_result"
    }
   ],
   "source": [
    "a[-2:]"
   ]
  },
  {
   "cell_type": "code",
   "execution_count": 103,
   "id": "0b1d5993-d44d-479a-9b26-0fecc3ca9966",
   "metadata": {},
   "outputs": [
    {
     "data": {
      "text/plain": [
       "[10, 12, 14]"
      ]
     },
     "execution_count": 103,
     "metadata": {},
     "output_type": "execute_result"
    }
   ],
   "source": [
    "# get every other element\n",
    "# you have to define the step side from var[lower : upper : step]\n",
    "a[0:5:2]"
   ]
  },
  {
   "cell_type": "code",
   "execution_count": 104,
   "id": "406d3cfa-036a-4496-9913-f1e7e50ee5be",
   "metadata": {},
   "outputs": [
    {
     "data": {
      "text/plain": [
       "[10, 12, 14]"
      ]
     },
     "execution_count": 104,
     "metadata": {},
     "output_type": "execute_result"
    }
   ],
   "source": [
    "# we can do the same thing above just by using the step side \n",
    "a[::2]"
   ]
  },
  {
   "cell_type": "code",
   "execution_count": 105,
   "id": "31d3bfe0-1365-4009-9dd4-e2eaf169aa81",
   "metadata": {},
   "outputs": [
    {
     "data": {
      "text/plain": [
       "[10, 11, 12, 13, 14]"
      ]
     },
     "execution_count": 105,
     "metadata": {},
     "output_type": "execute_result"
    }
   ],
   "source": [
    "# List in action\n",
    "# add an element to the list \n",
    "a"
   ]
  },
  {
   "cell_type": "code",
   "execution_count": 106,
   "id": "088649ee-cee0-4cb2-9c10-e96a516a50a0",
   "metadata": {},
   "outputs": [],
   "source": [
    "# append function\n",
    "# try to add an element \n",
    "a.append(11)"
   ]
  },
  {
   "cell_type": "code",
   "execution_count": 107,
   "id": "9bc011f4-b014-4cb6-9343-f019d71db749",
   "metadata": {},
   "outputs": [
    {
     "data": {
      "text/plain": [
       "[10, 11, 12, 13, 14, 11]"
      ]
     },
     "execution_count": 107,
     "metadata": {},
     "output_type": "execute_result"
    }
   ],
   "source": [
    "a"
   ]
  },
  {
   "cell_type": "code",
   "execution_count": 109,
   "id": "c6f19948-a109-4741-baa8-688d0893bb5c",
   "metadata": {},
   "outputs": [
    {
     "data": {
      "text/plain": [
       "2"
      ]
     },
     "execution_count": 109,
     "metadata": {},
     "output_type": "execute_result"
    }
   ],
   "source": [
    "# to find how many of a certain # there are on the list \n",
    "# use the command count\n",
    "a.count(11)"
   ]
  },
  {
   "cell_type": "code",
   "execution_count": 110,
   "id": "186bec85-e32e-4302-9019-63256250d800",
   "metadata": {},
   "outputs": [
    {
     "data": {
      "text/plain": [
       "0"
      ]
     },
     "execution_count": 110,
     "metadata": {},
     "output_type": "execute_result"
    }
   ],
   "source": [
    "a.count('11')\n",
    "# This is because '11' is a string. "
   ]
  },
  {
   "cell_type": "code",
   "execution_count": 111,
   "id": "8e4ac9d8-df52-494d-a8b4-24f9035e54c7",
   "metadata": {},
   "outputs": [],
   "source": [
    "# extend with another list\n",
    "# if the append is used it adds a list into a list becoming a nested list\n",
    "a.extend([3,5])"
   ]
  },
  {
   "cell_type": "code",
   "execution_count": 112,
   "id": "8cd0eba0-5580-4e3b-9897-8f4947437103",
   "metadata": {},
   "outputs": [
    {
     "data": {
      "text/plain": [
       "[10, 11, 12, 13, 14, 11, 3, 5]"
      ]
     },
     "execution_count": 112,
     "metadata": {},
     "output_type": "execute_result"
    }
   ],
   "source": [
    "a"
   ]
  },
  {
   "cell_type": "code",
   "execution_count": 113,
   "id": "fe513844-4b41-4887-9736-ed5f33b7c8da",
   "metadata": {},
   "outputs": [],
   "source": [
    "a.append([3,5])"
   ]
  },
  {
   "cell_type": "code",
   "execution_count": 114,
   "id": "29002baf-6cb9-4e79-a77a-975226b780fb",
   "metadata": {},
   "outputs": [
    {
     "data": {
      "text/plain": [
       "[10, 11, 12, 13, 14, 11, 3, 5, [3, 5]]"
      ]
     },
     "execution_count": 114,
     "metadata": {},
     "output_type": "execute_result"
    }
   ],
   "source": [
    "a"
   ]
  },
  {
   "cell_type": "code",
   "execution_count": null,
   "id": "1bbaa277-949b-4bfc-8de8-78d019841408",
   "metadata": {},
   "outputs": [],
   "source": [
    "# Above is because we used append therefore a nested list"
   ]
  },
  {
   "cell_type": "code",
   "execution_count": 115,
   "id": "524859a6-2195-408e-9449-90c8b8f4e366",
   "metadata": {},
   "outputs": [
    {
     "data": {
      "text/plain": [
       "1"
      ]
     },
     "execution_count": 115,
     "metadata": {},
     "output_type": "execute_result"
    }
   ],
   "source": [
    "# where does 11 first occur?\n",
    "# tells you the first position that the number you are searching for is at. \n",
    "a.index(11)"
   ]
  },
  {
   "cell_type": "code",
   "execution_count": 116,
   "id": "6f036ce8-9bf9-4525-b46f-ba86b701d9cb",
   "metadata": {},
   "outputs": [],
   "source": [
    "# insert 100 at index 2?\n",
    "# in this it puts 100 in position 2.\n",
    "a.insert(2, 100)"
   ]
  },
  {
   "cell_type": "code",
   "execution_count": 117,
   "id": "216972d5-fadb-4bcb-bee8-9725fc527447",
   "metadata": {},
   "outputs": [
    {
     "data": {
      "text/plain": [
       "[10, 11, 100, 12, 13, 14, 11, 3, 5, [3, 5]]"
      ]
     },
     "execution_count": 117,
     "metadata": {},
     "output_type": "execute_result"
    }
   ],
   "source": [
    "a"
   ]
  },
  {
   "cell_type": "code",
   "execution_count": 118,
   "id": "b3b39883-96d0-442f-a5cf-de2266fd459b",
   "metadata": {},
   "outputs": [],
   "source": [
    "a.insert(100,100)"
   ]
  },
  {
   "cell_type": "code",
   "execution_count": 119,
   "id": "ce641ffa-552d-4b4d-8c24-8a8214fc96df",
   "metadata": {},
   "outputs": [
    {
     "data": {
      "text/plain": [
       "[10, 11, 100, 12, 13, 14, 11, 3, 5, [3, 5], 100]"
      ]
     },
     "execution_count": 119,
     "metadata": {},
     "output_type": "execute_result"
    }
   ],
   "source": [
    "a"
   ]
  },
  {
   "cell_type": "code",
   "execution_count": null,
   "id": "1536f801-fe5c-47ec-8847-30dd5d96f5db",
   "metadata": {},
   "outputs": [],
   "source": [
    "# above it puts the 100 on the last postion because the list is limited. "
   ]
  },
  {
   "cell_type": "markdown",
   "id": "65892b47-ba44-4f92-9b6d-f2100bce8901",
   "metadata": {},
   "source": [
    "## Logical Expression, bool data type"
   ]
  },
  {
   "cell_type": "code",
   "execution_count": 1,
   "id": "18dae1ed-14f1-422e-85b7-a2ce6725320e",
   "metadata": {},
   "outputs": [
    {
     "data": {
      "text/plain": [
       "False"
      ]
     },
     "execution_count": 1,
     "metadata": {},
     "output_type": "execute_result"
    }
   ],
   "source": [
    "# Comparison Operators\n",
    "# >, <, >=, <=, ==, !=\n",
    "1 >= 2 "
   ]
  },
  {
   "cell_type": "code",
   "execution_count": 2,
   "id": "eae4afe2-143d-4d21-8b86-fbed343a7711",
   "metadata": {},
   "outputs": [
    {
     "data": {
      "text/plain": [
       "bool"
      ]
     },
     "execution_count": 2,
     "metadata": {},
     "output_type": "execute_result"
    }
   ],
   "source": [
    "type( 1>= 2)\n",
    "# giving us the type of command that the operation above was. "
   ]
  },
  {
   "cell_type": "code",
   "execution_count": 3,
   "id": "0ddf9d3d-1b6c-4fdd-a157-983fe1026e59",
   "metadata": {},
   "outputs": [
    {
     "data": {
      "text/plain": [
       "True"
      ]
     },
     "execution_count": 3,
     "metadata": {},
     "output_type": "execute_result"
    }
   ],
   "source": [
    "1 + 1 == 2"
   ]
  },
  {
   "cell_type": "code",
   "execution_count": 4,
   "id": "39256beb-d223-45d1-83b1-c6bfbef061f2",
   "metadata": {},
   "outputs": [
    {
     "data": {
      "text/plain": [
       "True"
      ]
     },
     "execution_count": 4,
     "metadata": {},
     "output_type": "execute_result"
    }
   ],
   "source": [
    "2**3 != 3**2"
   ]
  },
  {
   "cell_type": "code",
   "execution_count": 5,
   "id": "696fecdf-1b2f-4201-befe-9a2d7dd1311b",
   "metadata": {},
   "outputs": [
    {
     "data": {
      "text/plain": [
       "True"
      ]
     },
     "execution_count": 5,
     "metadata": {},
     "output_type": "execute_result"
    }
   ],
   "source": [
    "# Chained Comparison \n",
    "1 < 2 < 10"
   ]
  },
  {
   "cell_type": "code",
   "execution_count": 6,
   "id": "a79f233c-636d-4417-b1eb-1c568ab0ed95",
   "metadata": {},
   "outputs": [
    {
     "name": "stdout",
     "output_type": "stream",
     "text": [
      "True\n",
      "<class 'bool'>\n"
     ]
    }
   ],
   "source": [
    "# bool data type \n",
    "\n",
    "q = 1 > 0 \n",
    "print(q)\n",
    "print(type(q))"
   ]
  },
  {
   "cell_type": "code",
   "execution_count": 7,
   "id": "a822f1f4-97b7-4df9-8d1e-a0f0bee11a88",
   "metadata": {},
   "outputs": [
    {
     "data": {
      "text/plain": [
       "bool"
      ]
     },
     "execution_count": 7,
     "metadata": {},
     "output_type": "execute_result"
    }
   ],
   "source": [
    "c = 2 < 3\n",
    "c \n",
    "type(c)\n",
    "# If we do it like this it overwrites printing c if it does not have \n",
    "# the print(c) command. "
   ]
  },
  {
   "cell_type": "code",
   "execution_count": 9,
   "id": "39814bdb-4fb7-4be9-8c81-69c442c953ad",
   "metadata": {},
   "outputs": [
    {
     "data": {
      "text/plain": [
       "True"
      ]
     },
     "execution_count": 9,
     "metadata": {},
     "output_type": "execute_result"
    }
   ],
   "source": [
    "# and OPERATOR \n",
    "\n",
    "1 > 0 and 5 == 5"
   ]
  },
  {
   "cell_type": "code",
   "execution_count": 10,
   "id": "2e4c4e10-066c-42f3-a2b2-befd47a8c284",
   "metadata": {},
   "outputs": [
    {
     "data": {
      "text/plain": [
       "True"
      ]
     },
     "execution_count": 10,
     "metadata": {},
     "output_type": "execute_result"
    }
   ],
   "source": [
    "( 1 > 0 ) & ( 5 == 5) "
   ]
  },
  {
   "cell_type": "code",
   "execution_count": 12,
   "id": "74dcef52-0d82-4de7-986f-aecea90e43ec",
   "metadata": {},
   "outputs": [
    {
     "data": {
      "text/plain": [
       "False"
      ]
     },
     "execution_count": 12,
     "metadata": {},
     "output_type": "execute_result"
    }
   ],
   "source": [
    "# or Operator \n",
    "\n",
    "a = 50 \n",
    "a < 10 or a > 90 "
   ]
  },
  {
   "cell_type": "code",
   "execution_count": 13,
   "id": "b082d80d-0b9c-4d57-8c86-3c352b51d774",
   "metadata": {},
   "outputs": [
    {
     "data": {
      "text/plain": [
       "False"
      ]
     },
     "execution_count": 13,
     "metadata": {},
     "output_type": "execute_result"
    }
   ],
   "source": [
    "(a < 10) | (a > 90)"
   ]
  },
  {
   "cell_type": "code",
   "execution_count": 14,
   "id": "9128f1c6-355e-4672-8a2c-5bf94dfea86e",
   "metadata": {},
   "outputs": [
    {
     "data": {
      "text/plain": [
       "True"
      ]
     },
     "execution_count": 14,
     "metadata": {},
     "output_type": "execute_result"
    }
   ],
   "source": [
    "(a > 10) | (a > 90) "
   ]
  },
  {
   "cell_type": "code",
   "execution_count": 15,
   "id": "c7217ab6-768f-488f-a522-3a0f0c773701",
   "metadata": {},
   "outputs": [
    {
     "data": {
      "text/plain": [
       "True"
      ]
     },
     "execution_count": 15,
     "metadata": {},
     "output_type": "execute_result"
    }
   ],
   "source": [
    "(a < 10) | (a < 90)"
   ]
  },
  {
   "cell_type": "code",
   "execution_count": 16,
   "id": "368e7d81-0b3b-4c24-a018-8c2a4abc2612",
   "metadata": {},
   "outputs": [
    {
     "data": {
      "text/plain": [
       "True"
      ]
     },
     "execution_count": 16,
     "metadata": {},
     "output_type": "execute_result"
    }
   ],
   "source": [
    "(a > 40) | (a < 30)"
   ]
  },
  {
   "cell_type": "code",
   "execution_count": 17,
   "id": "1dc371a8-a2fb-4d9f-a977-6948f022ee84",
   "metadata": {},
   "outputs": [
    {
     "data": {
      "text/plain": [
       "False"
      ]
     },
     "execution_count": 17,
     "metadata": {},
     "output_type": "execute_result"
    }
   ],
   "source": [
    "# not OPERATOR \n",
    "not 10 <= a <=90 "
   ]
  },
  {
   "cell_type": "code",
   "execution_count": 18,
   "id": "ff35375e-b46a-45ed-8e8b-8eef0108d4d5",
   "metadata": {},
   "outputs": [
    {
     "data": {
      "text/plain": [
       "-2"
      ]
     },
     "execution_count": 18,
     "metadata": {},
     "output_type": "execute_result"
    }
   ],
   "source": [
    "~ (10 <= a <=90) # CHECK THIS "
   ]
  },
  {
   "cell_type": "code",
   "execution_count": 19,
   "id": "3d07b7d3-d625-43d3-99e0-3b74d3fc35d7",
   "metadata": {},
   "outputs": [
    {
     "data": {
      "text/plain": [
       "-51"
      ]
     },
     "execution_count": 19,
     "metadata": {},
     "output_type": "execute_result"
    }
   ],
   "source": [
    "~ 50"
   ]
  },
  {
   "cell_type": "code",
   "execution_count": 20,
   "id": "3d3f3fdb-23c8-4b37-ad82-ef73c3ac52e9",
   "metadata": {},
   "outputs": [
    {
     "data": {
      "text/plain": [
       "-91"
      ]
     },
     "execution_count": 20,
     "metadata": {},
     "output_type": "execute_result"
    }
   ],
   "source": [
    "~ 90"
   ]
  },
  {
   "cell_type": "code",
   "execution_count": 21,
   "id": "a0b68883-c30a-4969-aab2-6c028e0aea35",
   "metadata": {},
   "outputs": [
    {
     "data": {
      "text/plain": [
       "-11"
      ]
     },
     "execution_count": 21,
     "metadata": {},
     "output_type": "execute_result"
    }
   ],
   "source": [
    "~ 10"
   ]
  },
  {
   "cell_type": "code",
   "execution_count": 22,
   "id": "aa9008bf-2035-4293-8547-3e6a18727518",
   "metadata": {},
   "outputs": [
    {
     "data": {
      "text/plain": [
       "-2"
      ]
     },
     "execution_count": 22,
     "metadata": {},
     "output_type": "execute_result"
    }
   ],
   "source": [
    "~ (10 < a < 90)"
   ]
  },
  {
   "cell_type": "code",
   "execution_count": 24,
   "id": "b30c7f56-0f2c-4d90-8f2d-0303ca002d5c",
   "metadata": {},
   "outputs": [
    {
     "data": {
      "text/plain": [
       "-1"
      ]
     },
     "execution_count": 24,
     "metadata": {},
     "output_type": "execute_result"
    }
   ],
   "source": [
    "~ (10 == a == 90)"
   ]
  },
  {
   "cell_type": "markdown",
   "id": "994b0c81-b5ba-4290-b1ac-ef3cfbfef021",
   "metadata": {},
   "source": [
    "## Strings "
   ]
  },
  {
   "cell_type": "code",
   "execution_count": 25,
   "id": "554a28b0-c1b4-47d9-8bfc-1db2b3e2ae60",
   "metadata": {},
   "outputs": [
    {
     "name": "stdout",
     "output_type": "stream",
     "text": [
      "hello world\n"
     ]
    }
   ],
   "source": [
    "# Creating a string \n",
    "\n",
    "# using double quotes also using single quotes\n",
    "\n",
    "s = \"hello world\" \n",
    "print(s)"
   ]
  },
  {
   "cell_type": "code",
   "execution_count": 26,
   "id": "634f8f88-2c3e-4e96-80d1-dc9259598c3a",
   "metadata": {},
   "outputs": [
    {
     "name": "stdout",
     "output_type": "stream",
     "text": [
      "hello world\n"
     ]
    }
   ],
   "source": [
    "# using single quotes\n",
    "\n",
    "s = 'hello world' \n",
    "print(s)"
   ]
  }
 ],
 "metadata": {
  "kernelspec": {
   "display_name": "Python 3 (ipykernel)",
   "language": "python",
   "name": "python3"
  },
  "language_info": {
   "codemirror_mode": {
    "name": "ipython",
    "version": 3
   },
   "file_extension": ".py",
   "mimetype": "text/x-python",
   "name": "python",
   "nbconvert_exporter": "python",
   "pygments_lexer": "ipython3",
   "version": "3.11.7"
  }
 },
 "nbformat": 4,
 "nbformat_minor": 5
}
